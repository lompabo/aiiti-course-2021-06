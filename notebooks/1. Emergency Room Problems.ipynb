{
 "cells": [
  {
   "cell_type": "code",
   "execution_count": 1,
   "metadata": {
    "slideshow": {
     "slide_type": "skip"
    }
   },
   "outputs": [],
   "source": [
    "# ============================================================\n",
    "# Notebook setup\n",
    "# ============================================================\n",
    "\n",
    "%load_ext autoreload\n",
    "%autoreload 2\n",
    "\n",
    "# Control figure size\n",
    "interactive_figures = True\n",
    "if interactive_figures:\n",
    "    # Normal behavior\n",
    "    %matplotlib widget\n",
    "    figsize=(9, 3)\n",
    "else:\n",
    "    # PDF export behavior\n",
    "    figsize=(14, 5)\n",
    "\n",
    "from util import er\n",
    "import numpy as np\n",
    "from matplotlib import pyplot as plt\n",
    "import pandas as pd\n",
    "from tensorflow import keras\n",
    "from tensorflow.keras import layers, callbacks\n",
    "import tensorflow_probability as tfp\n",
    "from scipy import stats\n",
    "from sklearn import metrics\n",
    "\n",
    "data_folder = '/app/data'"
   ]
  },
  {
   "cell_type": "markdown",
   "metadata": {
    "slideshow": {
     "slide_type": "slide"
    }
   },
   "source": [
    "# Emergency Room Management Problems"
   ]
  },
  {
   "cell_type": "markdown",
   "metadata": {
    "slideshow": {
     "slide_type": "subslide"
    }
   },
   "source": [
    "## Emergency Room @ Maggiore Hospital\n",
    "\n",
    "**We will now consider a couple of Emergency Room management problems**\n",
    "\n",
    "We will use a dataset for the \"Maggiore\" hospital in Bologna\n",
    "\n",
    "<center><img src=\"assets/maggiore.jpg\" width=\"800px\"/></center>\n",
    "\n",
    "We will consider two main use cases:\n",
    "\n",
    "* Predicting future arrivals (a Machine Learning problem)\n",
    "* Managing the ER center resources (a Combinatorial Optimization problem)"
   ]
  },
  {
   "cell_type": "markdown",
   "metadata": {
    "slideshow": {
     "slide_type": "subslide"
    }
   },
   "source": [
    "## A Look at the Dataset\n",
    "\n",
    "**We will start as usual by having a look at the dataset**"
   ]
  },
  {
   "cell_type": "code",
   "execution_count": 2,
   "metadata": {},
   "outputs": [
    {
     "data": {
      "text/html": [
       "<div>\n",
       "<style scoped>\n",
       "    .dataframe tbody tr th:only-of-type {\n",
       "        vertical-align: middle;\n",
       "    }\n",
       "\n",
       "    .dataframe tbody tr th {\n",
       "        vertical-align: top;\n",
       "    }\n",
       "\n",
       "    .dataframe thead th {\n",
       "        text-align: right;\n",
       "    }\n",
       "</style>\n",
       "<table border=\"1\" class=\"dataframe\">\n",
       "  <thead>\n",
       "    <tr style=\"text-align: right;\">\n",
       "      <th></th>\n",
       "      <th>year</th>\n",
       "      <th>ID</th>\n",
       "      <th>Triage</th>\n",
       "      <th>TkCharge</th>\n",
       "      <th>Code</th>\n",
       "      <th>Outcome</th>\n",
       "      <th>Flow</th>\n",
       "    </tr>\n",
       "  </thead>\n",
       "  <tbody>\n",
       "    <tr>\n",
       "      <th>0</th>\n",
       "      <td>2018</td>\n",
       "      <td>1</td>\n",
       "      <td>2018-01-01 00:17:33</td>\n",
       "      <td>2018-01-01 04:15:36</td>\n",
       "      <td>green</td>\n",
       "      <td>admitted</td>\n",
       "      <td>[triage,visit,RX,visit]</td>\n",
       "    </tr>\n",
       "    <tr>\n",
       "      <th>1</th>\n",
       "      <td>2018</td>\n",
       "      <td>2</td>\n",
       "      <td>2018-01-01 00:20:33</td>\n",
       "      <td>2018-01-01 03:14:19</td>\n",
       "      <td>green</td>\n",
       "      <td>admitted</td>\n",
       "      <td>[triage,visit,lab,visit]</td>\n",
       "    </tr>\n",
       "    <tr>\n",
       "      <th>2</th>\n",
       "      <td>2018</td>\n",
       "      <td>3</td>\n",
       "      <td>2018-01-01 00:47:59</td>\n",
       "      <td>2018-01-01 04:32:30</td>\n",
       "      <td>white</td>\n",
       "      <td>admitted</td>\n",
       "      <td>[triage,visit,otolaryngological visit,visit]</td>\n",
       "    </tr>\n",
       "    <tr>\n",
       "      <th>51238</th>\n",
       "      <td>2018</td>\n",
       "      <td>51239</td>\n",
       "      <td>2018-01-01 00:49:51</td>\n",
       "      <td>NaT</td>\n",
       "      <td>white</td>\n",
       "      <td>abandoned</td>\n",
       "      <td>[]</td>\n",
       "    </tr>\n",
       "    <tr>\n",
       "      <th>51240</th>\n",
       "      <td>2018</td>\n",
       "      <td>51241</td>\n",
       "      <td>2018-01-01 01:00:40</td>\n",
       "      <td>NaT</td>\n",
       "      <td>green</td>\n",
       "      <td>abandoned</td>\n",
       "      <td>[]</td>\n",
       "    </tr>\n",
       "    <tr>\n",
       "      <th>...</th>\n",
       "      <td>...</td>\n",
       "      <td>...</td>\n",
       "      <td>...</td>\n",
       "      <td>...</td>\n",
       "      <td>...</td>\n",
       "      <td>...</td>\n",
       "      <td>...</td>\n",
       "    </tr>\n",
       "    <tr>\n",
       "      <th>95665</th>\n",
       "      <td>2019</td>\n",
       "      <td>95666</td>\n",
       "      <td>2019-10-31 23:26:54</td>\n",
       "      <td>2019-10-31 23:41:13</td>\n",
       "      <td>yellow</td>\n",
       "      <td>admitted</td>\n",
       "      <td>[triage,visit,RX,visit]</td>\n",
       "    </tr>\n",
       "    <tr>\n",
       "      <th>95666</th>\n",
       "      <td>2019</td>\n",
       "      <td>95667</td>\n",
       "      <td>2019-10-31 23:46:43</td>\n",
       "      <td>2019-11-01 09:30:25</td>\n",
       "      <td>green</td>\n",
       "      <td>admitted</td>\n",
       "      <td>[triage,visit]</td>\n",
       "    </tr>\n",
       "    <tr>\n",
       "      <th>108622</th>\n",
       "      <td>2019</td>\n",
       "      <td>108623</td>\n",
       "      <td>2019-10-31 23:54:05</td>\n",
       "      <td>NaT</td>\n",
       "      <td>green</td>\n",
       "      <td>abandoned</td>\n",
       "      <td>[]</td>\n",
       "    </tr>\n",
       "    <tr>\n",
       "      <th>95667</th>\n",
       "      <td>2019</td>\n",
       "      <td>95668</td>\n",
       "      <td>2019-10-31 23:55:32</td>\n",
       "      <td>2019-11-01 00:18:46</td>\n",
       "      <td>yellow</td>\n",
       "      <td>admitted</td>\n",
       "      <td>[triage,visit]</td>\n",
       "    </tr>\n",
       "    <tr>\n",
       "      <th>108623</th>\n",
       "      <td>2019</td>\n",
       "      <td>108624</td>\n",
       "      <td>2019-10-31 23:59:21</td>\n",
       "      <td>NaT</td>\n",
       "      <td>green</td>\n",
       "      <td>abandoned</td>\n",
       "      <td>[]</td>\n",
       "    </tr>\n",
       "  </tbody>\n",
       "</table>\n",
       "<p>108625 rows × 7 columns</p>\n",
       "</div>"
      ],
      "text/plain": [
       "        year      ID              Triage            TkCharge    Code  \\\n",
       "0       2018       1 2018-01-01 00:17:33 2018-01-01 04:15:36   green   \n",
       "1       2018       2 2018-01-01 00:20:33 2018-01-01 03:14:19   green   \n",
       "2       2018       3 2018-01-01 00:47:59 2018-01-01 04:32:30   white   \n",
       "51238   2018   51239 2018-01-01 00:49:51                 NaT   white   \n",
       "51240   2018   51241 2018-01-01 01:00:40                 NaT   green   \n",
       "...      ...     ...                 ...                 ...     ...   \n",
       "95665   2019   95666 2019-10-31 23:26:54 2019-10-31 23:41:13  yellow   \n",
       "95666   2019   95667 2019-10-31 23:46:43 2019-11-01 09:30:25   green   \n",
       "108622  2019  108623 2019-10-31 23:54:05                 NaT   green   \n",
       "95667   2019   95668 2019-10-31 23:55:32 2019-11-01 00:18:46  yellow   \n",
       "108623  2019  108624 2019-10-31 23:59:21                 NaT   green   \n",
       "\n",
       "          Outcome                                          Flow  \n",
       "0        admitted                       [triage,visit,RX,visit]  \n",
       "1        admitted                      [triage,visit,lab,visit]  \n",
       "2        admitted  [triage,visit,otolaryngological visit,visit]  \n",
       "51238   abandoned                                            []  \n",
       "51240   abandoned                                            []  \n",
       "...           ...                                           ...  \n",
       "95665    admitted                       [triage,visit,RX,visit]  \n",
       "95666    admitted                                [triage,visit]  \n",
       "108622  abandoned                                            []  \n",
       "95667    admitted                                [triage,visit]  \n",
       "108623  abandoned                                            []  \n",
       "\n",
       "[108625 rows x 7 columns]"
      ]
     },
     "execution_count": 2,
     "metadata": {},
     "output_type": "execute_result"
    }
   ],
   "source": [
    "data = er.load_data(data_folder)\n",
    "data"
   ]
  },
  {
   "cell_type": "markdown",
   "metadata": {
    "slideshow": {
     "slide_type": "subslide"
    }
   },
   "source": [
    "## A Look at the Dataset"
   ]
  },
  {
   "cell_type": "code",
   "execution_count": 4,
   "metadata": {},
   "outputs": [
    {
     "data": {
      "text/html": [
       "<div>\n",
       "<style scoped>\n",
       "    .dataframe tbody tr th:only-of-type {\n",
       "        vertical-align: middle;\n",
       "    }\n",
       "\n",
       "    .dataframe tbody tr th {\n",
       "        vertical-align: top;\n",
       "    }\n",
       "\n",
       "    .dataframe thead th {\n",
       "        text-align: right;\n",
       "    }\n",
       "</style>\n",
       "<table border=\"1\" class=\"dataframe\">\n",
       "  <thead>\n",
       "    <tr style=\"text-align: right;\">\n",
       "      <th></th>\n",
       "      <th>year</th>\n",
       "      <th>ID</th>\n",
       "      <th>Triage</th>\n",
       "      <th>TkCharge</th>\n",
       "      <th>Code</th>\n",
       "      <th>Outcome</th>\n",
       "      <th>Flow</th>\n",
       "    </tr>\n",
       "  </thead>\n",
       "  <tbody>\n",
       "    <tr>\n",
       "      <th>0</th>\n",
       "      <td>2018</td>\n",
       "      <td>1</td>\n",
       "      <td>2018-01-01 00:17:33</td>\n",
       "      <td>2018-01-01 04:15:36</td>\n",
       "      <td>green</td>\n",
       "      <td>admitted</td>\n",
       "      <td>[triage,visit,RX,visit]</td>\n",
       "    </tr>\n",
       "    <tr>\n",
       "      <th>1</th>\n",
       "      <td>2018</td>\n",
       "      <td>2</td>\n",
       "      <td>2018-01-01 00:20:33</td>\n",
       "      <td>2018-01-01 03:14:19</td>\n",
       "      <td>green</td>\n",
       "      <td>admitted</td>\n",
       "      <td>[triage,visit,lab,visit]</td>\n",
       "    </tr>\n",
       "    <tr>\n",
       "      <th>2</th>\n",
       "      <td>2018</td>\n",
       "      <td>3</td>\n",
       "      <td>2018-01-01 00:47:59</td>\n",
       "      <td>2018-01-01 04:32:30</td>\n",
       "      <td>white</td>\n",
       "      <td>admitted</td>\n",
       "      <td>[triage,visit,otolaryngological visit,visit]</td>\n",
       "    </tr>\n",
       "  </tbody>\n",
       "</table>\n",
       "</div>"
      ],
      "text/plain": [
       "   year  ID              Triage            TkCharge   Code   Outcome  \\\n",
       "0  2018   1 2018-01-01 00:17:33 2018-01-01 04:15:36  green  admitted   \n",
       "1  2018   2 2018-01-01 00:20:33 2018-01-01 03:14:19  green  admitted   \n",
       "2  2018   3 2018-01-01 00:47:59 2018-01-01 04:32:30  white  admitted   \n",
       "\n",
       "                                           Flow  \n",
       "0                       [triage,visit,RX,visit]  \n",
       "1                      [triage,visit,lab,visit]  \n",
       "2  [triage,visit,otolaryngological visit,visit]  "
      ]
     },
     "execution_count": 4,
     "metadata": {},
     "output_type": "execute_result"
    }
   ],
   "source": [
    "data.iloc[:3]"
   ]
  },
  {
   "cell_type": "markdown",
   "metadata": {},
   "source": [
    "* Each row refers to a single patient\n",
    "* `Triage` is the arrival time of each patient\n",
    "* `TKCharge` is the time when a patient starts the first visit\n",
    "* `Code` refers to the estimated priority (white < green < yellow < red)\n",
    "* `Outcome` discriminates some special conditios (people quitting, fast tracks)\n",
    "* `Flow` is the sequence of treatments that actually took place"
   ]
  },
  {
   "cell_type": "markdown",
   "metadata": {
    "slideshow": {
     "slide_type": "subslide"
    }
   },
   "source": [
    "## A Look at the Dataset\n",
    "\n",
    "**Let's also have a look at the data types**"
   ]
  },
  {
   "cell_type": "code",
   "execution_count": 5,
   "metadata": {},
   "outputs": [
    {
     "data": {
      "text/plain": [
       "year                 int64\n",
       "ID                   int64\n",
       "Triage      datetime64[ns]\n",
       "TkCharge    datetime64[ns]\n",
       "Code              category\n",
       "Outcome           category\n",
       "Flow                object\n",
       "dtype: object"
      ]
     },
     "execution_count": 5,
     "metadata": {},
     "output_type": "execute_result"
    }
   ],
   "source": [
    "data.dtypes"
   ]
  },
  {
   "cell_type": "markdown",
   "metadata": {},
   "source": [
    "* `Flow` is actually a string\n",
    "\n",
    "**We will initially focus for now on _predicting arrivals_**\n",
    "\n",
    "...Hence, it makes sense to sort rows by increasing triage time:"
   ]
  },
  {
   "cell_type": "code",
   "execution_count": 8,
   "metadata": {},
   "outputs": [],
   "source": [
    "data.sort_values(by='Triage', inplace=True)"
   ]
  },
  {
   "cell_type": "markdown",
   "metadata": {
    "slideshow": {
     "slide_type": "subslide"
    }
   },
   "source": [
    "## Inter-Arrival Times\n",
    "\n",
    "**Let's check empirically the distribution of the inter-arrival times**"
   ]
  },
  {
   "cell_type": "code",
   "execution_count": 6,
   "metadata": {},
   "outputs": [
    {
     "data": {
      "image/png": "[encoded data removed]",
      "text/plain": [
       "<Figure size 1008x360 with 1 Axes>"
      ]
     },
     "metadata": {
      "needs_background": "light"
     },
     "output_type": "display_data"
    }
   ],
   "source": [
    "f = '2min'\n",
    "delta = data['Triage'].iloc[1:].round(f) - data['Triage'].iloc[:-1].round(f).values\n",
    "er.plot_bars(delta.value_counts().sort_index(), tick_gap=10, figsize=figsize)"
   ]
  },
  {
   "cell_type": "markdown",
   "metadata": {},
   "source": [
    "* There is a number of very low inter-arrival times\n",
    "* It may be due to how triage is performed (bursts, rather than a steady flow)"
   ]
  },
  {
   "cell_type": "markdown",
   "metadata": {
    "slideshow": {
     "slide_type": "subslide"
    }
   },
   "source": [
    "## Waiting Time\n",
    "\n",
    "**Here is the distribution of the waiting times**"
   ]
  },
  {
   "cell_type": "code",
   "execution_count": 7,
   "metadata": {},
   "outputs": [
    {
     "data": {
      "image/png": "[encoded data removed]",
      "text/plain": [
       "<Figure size 1008x360 with 1 Axes>"
      ]
     },
     "metadata": {
      "needs_background": "light"
     },
     "output_type": "display_data"
    }
   ],
   "source": [
    "tmp = data[~data['TkCharge'].isnull()]\n",
    "wait_time = tmp['TkCharge'].round('10min') - tmp['Triage'].round('10min')\n",
    "er.plot_bars(wait_time.value_counts().sort_index(), tick_gap=10, figsize=figsize)"
   ]
  },
  {
   "cell_type": "markdown",
   "metadata": {},
   "source": [
    "* The distritbution is _heavy-tailed_\n",
    "* I.e. the probability of very long waiting times is non-negligible"
   ]
  },
  {
   "cell_type": "markdown",
   "metadata": {
    "slideshow": {
     "slide_type": "subslide"
    }
   },
   "source": [
    "## Code Distribution\n",
    "\n",
    "**The distribution of the priority codes**"
   ]
  },
  {
   "cell_type": "code",
   "execution_count": 8,
   "metadata": {},
   "outputs": [
    {
     "data": {
      "image/png": "[encoded data removed]",
      "text/plain": [
       "<Figure size 1008x360 with 1 Axes>"
      ]
     },
     "metadata": {
      "needs_background": "light"
     },
     "output_type": "display_data"
    }
   ],
   "source": [
    "er.plot_bars(data['Code'].value_counts(), figsize=figsize)"
   ]
  },
  {
   "cell_type": "markdown",
   "metadata": {},
   "source": [
    "* Green code (low severity) form the majority of arrivals\n",
    "* Yello and red codes (mid and high severity) are in smaller numbers\n",
    "* White codes (lowest priority) are also not very frequent"
   ]
  },
  {
   "cell_type": "markdown",
   "metadata": {
    "slideshow": {
     "slide_type": "subslide"
    }
   },
   "source": [
    "## Outcome Distribution"
   ]
  },
  {
   "cell_type": "code",
   "execution_count": 9,
   "metadata": {},
   "outputs": [
    {
     "data": {
      "image/png": "[encoded data removed]",
      "text/plain": [
       "<Figure size 1008x360 with 1 Axes>"
      ]
     },
     "metadata": {
      "needs_background": "light"
     },
     "output_type": "display_data"
    }
   ],
   "source": [
    "er.plot_bars(data['Outcome'].value_counts(), figsize=figsize)"
   ]
  },
  {
   "cell_type": "markdown",
   "metadata": {},
   "source": [
    "* Abandons are infrequent, as are \"fast track\" patients"
   ]
  },
  {
   "cell_type": "markdown",
   "metadata": {
    "slideshow": {
     "slide_type": "subslide"
    }
   },
   "source": [
    "## Arrival Distribution over Months\n",
    "\n",
    "**Let's look at the arrival distribution over months**"
   ]
  },
  {
   "cell_type": "code",
   "execution_count": 10,
   "metadata": {},
   "outputs": [
    {
     "data": {
      "image/png": "[encoded data removed]",
      "text/plain": [
       "<Figure size 1008x360 with 1 Axes>"
      ]
     },
     "metadata": {
      "needs_background": "light"
     },
     "output_type": "display_data"
    }
   ],
   "source": [
    "months = data['Triage'].dt.month\n",
    "er.plot_bars(months.value_counts().sort_index(), figsize=figsize)"
   ]
  },
  {
   "cell_type": "markdown",
   "metadata": {},
   "source": [
    "* The low values for Nov. and Dec. are due to the 2019 series ending in October\n",
    "* The distribution seems stable (but we are not plotting standard deviations!)"
   ]
  },
  {
   "cell_type": "markdown",
   "metadata": {
    "slideshow": {
     "slide_type": "subslide"
    }
   },
   "source": [
    "## Arrival Distribution over Weekdays\n",
    "\n",
    "**Let's look at the distribution over weekdays**"
   ]
  },
  {
   "cell_type": "code",
   "execution_count": 11,
   "metadata": {},
   "outputs": [
    {
     "data": {
      "image/png": "[encoded data removed]",
      "text/plain": [
       "<Figure size 1008x360 with 1 Axes>"
      ]
     },
     "metadata": {
      "needs_background": "light"
     },
     "output_type": "display_data"
    }
   ],
   "source": [
    "weekdays = data['Triage'].dt.weekday\n",
    "er.plot_bars(weekdays.value_counts().sort_index(), figsize=figsize)"
   ]
  },
  {
   "cell_type": "markdown",
   "metadata": {},
   "source": [
    "* Similarly to months, weekdays are likelly to have little predictive power\n",
    "* ...But it's better not to rush conclusions (we still are not plotting the stddev!)"
   ]
  },
  {
   "cell_type": "markdown",
   "metadata": {
    "slideshow": {
     "slide_type": "subslide"
    }
   },
   "source": [
    "## Arrival Distribution over Hours\n",
    "\n",
    "**Let's see now the arrival distribution over the hours of the day**"
   ]
  },
  {
   "cell_type": "code",
   "execution_count": 12,
   "metadata": {},
   "outputs": [
    {
     "data": {
      "image/png": "[encoded data removed]",
      "text/plain": [
       "<Figure size 1008x360 with 1 Axes>"
      ]
     },
     "metadata": {
      "needs_background": "light"
     },
     "output_type": "display_data"
    }
   ],
   "source": [
    "hours = data['Triage'].dt.hour\n",
    "er.plot_bars(hours.value_counts().sort_index(), figsize=figsize)"
   ]
  },
  {
   "cell_type": "markdown",
   "metadata": {},
   "source": [
    "* There is _a clear pattern_: the hour of the day will have strong predictive power\n",
    "* Again, analyzing the standard deviation may provide better insights"
   ]
  },
  {
   "cell_type": "markdown",
   "metadata": {
    "slideshow": {
     "slide_type": "slide"
    }
   },
   "source": [
    "# Data Preparation"
   ]
  },
  {
   "cell_type": "markdown",
   "metadata": {
    "slideshow": {
     "slide_type": "subslide"
    }
   },
   "source": [
    "## Binning\n",
    "\n",
    "**In our two considered problems:**\n",
    "\n",
    "* We are not going to revise our decisions continuosly\n",
    "* We are not interested in predicting the next arrival\n",
    "\n",
    "Rather:\n",
    "\n",
    "* We will take decisions _at fixed intervals_\n",
    "* We care about the expected arrivals _in a given horizon_\n",
    "\n",
    "**Overall, we need to choose _a meaningful time unit_**\n",
    "\n",
    "In other words, we need to perform some kind of binning\n",
    "\n",
    "* We used binning to downsample high-frequency data\n",
    "* ...We will use binning to _aggregate events with a variable frequency_"
   ]
  },
  {
   "cell_type": "markdown",
   "metadata": {
    "slideshow": {
     "slide_type": "subslide"
    }
   },
   "source": [
    "## Code-Based Counts\n",
    "\n",
    "**We will prepare the data to track counts for all priority codes**"
   ]
  },
  {
   "cell_type": "code",
   "execution_count": 13,
   "metadata": {},
   "outputs": [
    {
     "name": "stdout",
     "output_type": "stream",
     "text": [
      "Number of examples: 108625\n"
     ]
    },
    {
     "data": {
      "text/html": [
       "<div>\n",
       "<style scoped>\n",
       "    .dataframe tbody tr th:only-of-type {\n",
       "        vertical-align: middle;\n",
       "    }\n",
       "\n",
       "    .dataframe tbody tr th {\n",
       "        vertical-align: top;\n",
       "    }\n",
       "\n",
       "    .dataframe thead th {\n",
       "        text-align: right;\n",
       "    }\n",
       "</style>\n",
       "<table border=\"1\" class=\"dataframe\">\n",
       "  <thead>\n",
       "    <tr style=\"text-align: right;\">\n",
       "      <th></th>\n",
       "      <th>green</th>\n",
       "      <th>red</th>\n",
       "      <th>white</th>\n",
       "      <th>yellow</th>\n",
       "    </tr>\n",
       "    <tr>\n",
       "      <th>Triage</th>\n",
       "      <th></th>\n",
       "      <th></th>\n",
       "      <th></th>\n",
       "      <th></th>\n",
       "    </tr>\n",
       "  </thead>\n",
       "  <tbody>\n",
       "    <tr>\n",
       "      <th>2018-01-01 00:17:33</th>\n",
       "      <td>1</td>\n",
       "      <td>0</td>\n",
       "      <td>0</td>\n",
       "      <td>0</td>\n",
       "    </tr>\n",
       "    <tr>\n",
       "      <th>2018-01-01 00:20:33</th>\n",
       "      <td>1</td>\n",
       "      <td>0</td>\n",
       "      <td>0</td>\n",
       "      <td>0</td>\n",
       "    </tr>\n",
       "    <tr>\n",
       "      <th>2018-01-01 00:47:59</th>\n",
       "      <td>0</td>\n",
       "      <td>0</td>\n",
       "      <td>1</td>\n",
       "      <td>0</td>\n",
       "    </tr>\n",
       "    <tr>\n",
       "      <th>2018-01-01 00:49:51</th>\n",
       "      <td>0</td>\n",
       "      <td>0</td>\n",
       "      <td>1</td>\n",
       "      <td>0</td>\n",
       "    </tr>\n",
       "    <tr>\n",
       "      <th>2018-01-01 01:00:40</th>\n",
       "      <td>1</td>\n",
       "      <td>0</td>\n",
       "      <td>0</td>\n",
       "      <td>0</td>\n",
       "    </tr>\n",
       "  </tbody>\n",
       "</table>\n",
       "</div>"
      ],
      "text/plain": [
       "                     green  red  white  yellow\n",
       "Triage                                        \n",
       "2018-01-01 00:17:33      1    0      0       0\n",
       "2018-01-01 00:20:33      1    0      0       0\n",
       "2018-01-01 00:47:59      0    0      1       0\n",
       "2018-01-01 00:49:51      0    0      1       0\n",
       "2018-01-01 01:00:40      1    0      0       0"
      ]
     },
     "execution_count": 13,
     "metadata": {},
     "output_type": "execute_result"
    }
   ],
   "source": [
    "codes = pd.get_dummies(data['Code'])\n",
    "codes.set_index(data['Triage'], inplace=True)\n",
    "codes.columns = codes.columns.to_list()\n",
    "print(f'Number of examples: {len(codes)}')\n",
    "codes.head()"
   ]
  },
  {
   "cell_type": "markdown",
   "metadata": {},
   "source": [
    "* The `get_dummies` function applies a one-hot encoding to categorical value\n",
    "* The method generates a categorial column index (then converted to list)"
   ]
  },
  {
   "cell_type": "markdown",
   "metadata": {
    "slideshow": {
     "slide_type": "subslide"
    }
   },
   "source": [
    "## Resampling\n",
    "\n",
    "**Then, we need to aggregate data with a specified frequency**"
   ]
  },
  {
   "cell_type": "code",
   "execution_count": 16,
   "metadata": {},
   "outputs": [
    {
     "name": "stdout",
     "output_type": "stream",
     "text": [
      "Number of examples: 16056\n"
     ]
    },
    {
     "data": {
      "text/html": [
       "<div>\n",
       "<style scoped>\n",
       "    .dataframe tbody tr th:only-of-type {\n",
       "        vertical-align: middle;\n",
       "    }\n",
       "\n",
       "    .dataframe tbody tr th {\n",
       "        vertical-align: top;\n",
       "    }\n",
       "\n",
       "    .dataframe thead th {\n",
       "        text-align: right;\n",
       "    }\n",
       "</style>\n",
       "<table border=\"1\" class=\"dataframe\">\n",
       "  <thead>\n",
       "    <tr style=\"text-align: right;\">\n",
       "      <th></th>\n",
       "      <th>green</th>\n",
       "      <th>red</th>\n",
       "      <th>white</th>\n",
       "      <th>yellow</th>\n",
       "    </tr>\n",
       "    <tr>\n",
       "      <th>Triage</th>\n",
       "      <th></th>\n",
       "      <th></th>\n",
       "      <th></th>\n",
       "      <th></th>\n",
       "    </tr>\n",
       "  </thead>\n",
       "  <tbody>\n",
       "    <tr>\n",
       "      <th>2018-01-01 00:00:00</th>\n",
       "      <td>2</td>\n",
       "      <td>0</td>\n",
       "      <td>2</td>\n",
       "      <td>0</td>\n",
       "    </tr>\n",
       "    <tr>\n",
       "      <th>2018-01-01 01:00:00</th>\n",
       "      <td>7</td>\n",
       "      <td>1</td>\n",
       "      <td>1</td>\n",
       "      <td>1</td>\n",
       "    </tr>\n",
       "    <tr>\n",
       "      <th>2018-01-01 02:00:00</th>\n",
       "      <td>4</td>\n",
       "      <td>1</td>\n",
       "      <td>4</td>\n",
       "      <td>3</td>\n",
       "    </tr>\n",
       "    <tr>\n",
       "      <th>2018-01-01 03:00:00</th>\n",
       "      <td>7</td>\n",
       "      <td>0</td>\n",
       "      <td>1</td>\n",
       "      <td>1</td>\n",
       "    </tr>\n",
       "    <tr>\n",
       "      <th>2018-01-01 04:00:00</th>\n",
       "      <td>3</td>\n",
       "      <td>0</td>\n",
       "      <td>2</td>\n",
       "      <td>0</td>\n",
       "    </tr>\n",
       "  </tbody>\n",
       "</table>\n",
       "</div>"
      ],
      "text/plain": [
       "                     green  red  white  yellow\n",
       "Triage                                        \n",
       "2018-01-01 00:00:00      2    0      2       0\n",
       "2018-01-01 01:00:00      7    1      1       1\n",
       "2018-01-01 02:00:00      4    1      4       3\n",
       "2018-01-01 03:00:00      7    0      1       1\n",
       "2018-01-01 04:00:00      3    0      2       0"
      ]
     },
     "execution_count": 16,
     "metadata": {},
     "output_type": "execute_result"
    }
   ],
   "source": [
    "codes_b = codes.resample('H').sum()\n",
    "print(f'Number of examples: {len(codes_b)}')\n",
    "codes_b.head()"
   ]
  },
  {
   "cell_type": "markdown",
   "metadata": {},
   "source": [
    "* We used the `resample` iterator\n",
    "* `resample` generater a dataframe with a _dense_ index\n",
    "* We chose 1 hours are our time unit"
   ]
  },
  {
   "cell_type": "markdown",
   "metadata": {
    "slideshow": {
     "slide_type": "subslide"
    }
   },
   "source": [
    "## Computing Totals\n",
    "\n",
    "**We also compute the total number of arrivals for each interval**"
   ]
  },
  {
   "cell_type": "code",
   "execution_count": 18,
   "metadata": {},
   "outputs": [
    {
     "data": {
      "text/html": [
       "<div>\n",
       "<style scoped>\n",
       "    .dataframe tbody tr th:only-of-type {\n",
       "        vertical-align: middle;\n",
       "    }\n",
       "\n",
       "    .dataframe tbody tr th {\n",
       "        vertical-align: top;\n",
       "    }\n",
       "\n",
       "    .dataframe thead th {\n",
       "        text-align: right;\n",
       "    }\n",
       "</style>\n",
       "<table border=\"1\" class=\"dataframe\">\n",
       "  <thead>\n",
       "    <tr style=\"text-align: right;\">\n",
       "      <th></th>\n",
       "      <th>green</th>\n",
       "      <th>red</th>\n",
       "      <th>white</th>\n",
       "      <th>yellow</th>\n",
       "      <th>total</th>\n",
       "    </tr>\n",
       "    <tr>\n",
       "      <th>Triage</th>\n",
       "      <th></th>\n",
       "      <th></th>\n",
       "      <th></th>\n",
       "      <th></th>\n",
       "      <th></th>\n",
       "    </tr>\n",
       "  </thead>\n",
       "  <tbody>\n",
       "    <tr>\n",
       "      <th>2018-01-01 00:00:00</th>\n",
       "      <td>2</td>\n",
       "      <td>0</td>\n",
       "      <td>2</td>\n",
       "      <td>0</td>\n",
       "      <td>4</td>\n",
       "    </tr>\n",
       "    <tr>\n",
       "      <th>2018-01-01 01:00:00</th>\n",
       "      <td>7</td>\n",
       "      <td>1</td>\n",
       "      <td>1</td>\n",
       "      <td>1</td>\n",
       "      <td>10</td>\n",
       "    </tr>\n",
       "    <tr>\n",
       "      <th>2018-01-01 02:00:00</th>\n",
       "      <td>4</td>\n",
       "      <td>1</td>\n",
       "      <td>4</td>\n",
       "      <td>3</td>\n",
       "      <td>12</td>\n",
       "    </tr>\n",
       "    <tr>\n",
       "      <th>2018-01-01 03:00:00</th>\n",
       "      <td>7</td>\n",
       "      <td>0</td>\n",
       "      <td>1</td>\n",
       "      <td>1</td>\n",
       "      <td>9</td>\n",
       "    </tr>\n",
       "    <tr>\n",
       "      <th>2018-01-01 04:00:00</th>\n",
       "      <td>3</td>\n",
       "      <td>0</td>\n",
       "      <td>2</td>\n",
       "      <td>0</td>\n",
       "      <td>5</td>\n",
       "    </tr>\n",
       "  </tbody>\n",
       "</table>\n",
       "</div>"
      ],
      "text/plain": [
       "                     green  red  white  yellow  total\n",
       "Triage                                               \n",
       "2018-01-01 00:00:00      2    0      2       0      4\n",
       "2018-01-01 01:00:00      7    1      1       1     10\n",
       "2018-01-01 02:00:00      4    1      4       3     12\n",
       "2018-01-01 03:00:00      7    0      1       1      9\n",
       "2018-01-01 04:00:00      3    0      2       0      5"
      ]
     },
     "execution_count": 18,
     "metadata": {},
     "output_type": "execute_result"
    }
   ],
   "source": [
    "cols = ['white', 'green', 'yellow', 'red']\n",
    "codes_b['total'] = codes_b[cols].sum(axis=1)\n",
    "codes_b.head()"
   ]
  },
  {
   "cell_type": "markdown",
   "metadata": {},
   "source": [
    "* We use a fixed column list to obtain the same result for multiple executions\n",
    "* The total count will be less noisy, if the individual terms are independent"
   ]
  },
  {
   "cell_type": "markdown",
   "metadata": {
    "slideshow": {
     "slide_type": "subslide"
    }
   },
   "source": [
    "## Counts over Time\n",
    "\n",
    "**Our resampled series can be plotted easily over time**\n",
    "\n",
    "Let's see the total counts as an example:"
   ]
  },
  {
   "cell_type": "code",
   "execution_count": 19,
   "metadata": {
    "scrolled": true
   },
   "outputs": [
    {
     "data": {
      "image/png": "[encoded data removed]",
      "text/plain": [
       "<Figure size 1008x360 with 1 Axes>"
      ]
     },
     "metadata": {
      "needs_background": "light"
     },
     "output_type": "display_data"
    }
   ],
   "source": [
    "er.plot_series(codes_b['total'], figsize=figsize)"
   ]
  },
  {
   "cell_type": "markdown",
   "metadata": {
    "slideshow": {
     "slide_type": "subslide"
    }
   },
   "source": [
    "## Counts over Time\n",
    "\n",
    "**Our resampled series can be plotted easily over time**\n",
    "\n",
    "The same plot, for the red codes (the counts are significanly lower):"
   ]
  },
  {
   "cell_type": "code",
   "execution_count": 20,
   "metadata": {
    "scrolled": true
   },
   "outputs": [
    {
     "data": {
      "image/png": "[encoded data removed]",
      "text/plain": [
       "<Figure size 1008x360 with 1 Axes>"
      ]
     },
     "metadata": {
      "needs_background": "light"
     },
     "output_type": "display_data"
    }
   ],
   "source": [
    "er.plot_series(codes_b['red'], figsize=figsize)"
   ]
  },
  {
   "cell_type": "markdown",
   "metadata": {},
   "source": [
    "**We are now ready to tackle the first of our ER management problems**"
   ]
  },
  {
   "cell_type": "markdown",
   "metadata": {
    "slideshow": {
     "slide_type": "subslide"
    }
   },
   "source": [
    "## Variability\n",
    "\n",
    "**With our binned series, we can compute standard deviations**\n",
    "\n",
    "Let's check it over different months:"
   ]
  },
  {
   "cell_type": "code",
   "execution_count": 21,
   "metadata": {},
   "outputs": [
    {
     "data": {
      "image/png": "[encoded data removed]",
      "text/plain": [
       "<Figure size 1008x360 with 1 Axes>"
      ]
     },
     "metadata": {
      "needs_background": "light"
     },
     "output_type": "display_data"
    }
   ],
   "source": [
    "means = codes_b.groupby(codes_b.index.month).mean()\n",
    "stds = codes_b.groupby(codes_b.index.month).std()\n",
    "er.plot_series(means['total'], std=stds['total'], figsize=figsize)"
   ]
  },
  {
   "cell_type": "markdown",
   "metadata": {},
   "source": [
    "* The variability does not change much over different months"
   ]
  },
  {
   "cell_type": "markdown",
   "metadata": {
    "slideshow": {
     "slide_type": "subslide"
    }
   },
   "source": [
    "## Variability\n",
    "\n",
    "**Here is the standard deviation over weekdays**"
   ]
  },
  {
   "cell_type": "code",
   "execution_count": 22,
   "metadata": {
    "scrolled": false
   },
   "outputs": [
    {
     "data": {
      "image/png": "[encoded data removed]",
      "text/plain": [
       "<Figure size 1008x360 with 1 Axes>"
      ]
     },
     "metadata": {
      "needs_background": "light"
     },
     "output_type": "display_data"
    }
   ],
   "source": [
    "means = codes_b.groupby(codes_b.index.weekday).mean()\n",
    "stds = codes_b.groupby(codes_b.index.weekday).std()\n",
    "er.plot_series(means['total'], std=stds['total'], figsize=figsize)"
   ]
  },
  {
   "cell_type": "markdown",
   "metadata": {},
   "source": [
    "* A decreasing trend, but rather weak"
   ]
  },
  {
   "cell_type": "markdown",
   "metadata": {
    "slideshow": {
     "slide_type": "subslide"
    }
   },
   "source": [
    "## Variability\n",
    "\n",
    "**...And finally over hours**"
   ]
  },
  {
   "cell_type": "code",
   "execution_count": 25,
   "metadata": {
    "scrolled": false
   },
   "outputs": [
    {
     "data": {
      "image/png": "[encoded data removed]",
      "text/plain": [
       "<Figure size 1008x360 with 1 Axes>"
      ]
     },
     "metadata": {
      "needs_background": "light"
     },
     "output_type": "display_data"
    }
   ],
   "source": [
    "means = codes_b.groupby(codes_b.index.hour).mean()\n",
    "stds = codes_b.groupby(codes_b.index.hour).std()\n",
    "er.plot_series(means['total'], std=stds['total'], figsize=figsize)"
   ]
  },
  {
   "cell_type": "markdown",
   "metadata": {},
   "source": [
    "* Again, unlike the mean, the stdev is similar over the hours of a day"
   ]
  }
 ],
 "metadata": {
  "celltoolbar": "Slideshow",
  "kernelspec": {
   "display_name": "Python 3",
   "language": "python",
   "name": "python3"
  },
  "language_info": {
   "codemirror_mode": {
    "name": "ipython",
    "version": 3
   },
   "file_extension": ".py",
   "mimetype": "text/x-python",
   "name": "python",
   "nbconvert_exporter": "python",
   "pygments_lexer": "ipython3",
   "version": "3.6.9"
  },
  "rise": {
   "center": false,
   "transition": "fade"
  }
 },
 "nbformat": 4,
 "nbformat_minor": 4
}
