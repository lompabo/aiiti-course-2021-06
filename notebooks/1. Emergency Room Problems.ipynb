{
 "cells": [
  {
   "cell_type": "code",
   "execution_count": 1,
   "metadata": {
    "slideshow": {
     "slide_type": "skip"
    }
   },
   "outputs": [],
   "source": [
    "# ============================================================\n",
    "# Notebook setup\n",
    "# ============================================================\n",
    "\n",
    "%load_ext autoreload\n",
    "%autoreload 2\n",
    "\n",
    "# Control figure size\n",
    "interactive_figures = True\n",
    "if interactive_figures:\n",
    "    # Normal behavior\n",
    "    %matplotlib widget\n",
    "    figsize=(9, 3)\n",
    "else:\n",
    "    # PDF export behavior\n",
    "    figsize=(14, 5)\n",
    "\n",
    "from util import er\n",
    "import numpy as np\n",
    "from matplotlib import pyplot as plt\n",
    "import pandas as pd\n",
    "from tensorflow import keras\n",
    "from tensorflow.keras import layers, callbacks\n",
    "import tensorflow_probability as tfp\n",
    "from scipy import stats\n",
    "from sklearn import metrics\n",
    "\n",
    "data_folder = '/app/data'"
   ]
  },
  {
   "cell_type": "markdown",
   "metadata": {
    "slideshow": {
     "slide_type": "slide"
    }
   },
   "source": [
    "# Emergency Room Management Problems"
   ]
  },
  {
   "cell_type": "markdown",
   "metadata": {
    "slideshow": {
     "slide_type": "subslide"
    }
   },
   "source": [
    "## Emergency Room @ Maggiore Hospital\n",
    "\n",
    "**We will now consider a couple of Emergency Room management problems**\n",
    "\n",
    "We will use a dataset for the \"Maggiore\" hospital in Bologna\n",
    "\n",
    "<center><img src=\"assets/maggiore.jpg\" width=\"800px\"/></center>\n",
    "\n",
    "We will consider two main use cases:\n",
    "\n",
    "* Predicting future arrivals (a Machine Learning problem)\n",
    "* Managing the ER center resources (a Combinatorial Optimization problem)"
   ]
  },
  {
   "cell_type": "markdown",
   "metadata": {
    "slideshow": {
     "slide_type": "subslide"
    }
   },
   "source": [
    "## A Look at the Dataset\n",
    "\n",
    "**We will start as usual by having a look at the dataset**"
   ]
  },
  {
   "cell_type": "code",
   "execution_count": 15,
   "metadata": {},
   "outputs": [
    {
     "data": {
      "text/html": [
       "<div>\n",
       "<style scoped>\n",
       "    .dataframe tbody tr th:only-of-type {\n",
       "        vertical-align: middle;\n",
       "    }\n",
       "\n",
       "    .dataframe tbody tr th {\n",
       "        vertical-align: top;\n",
       "    }\n",
       "\n",
       "    .dataframe thead th {\n",
       "        text-align: right;\n",
       "    }\n",
       "</style>\n",
       "<table border=\"1\" class=\"dataframe\">\n",
       "  <thead>\n",
       "    <tr style=\"text-align: right;\">\n",
       "      <th></th>\n",
       "      <th>year</th>\n",
       "      <th>ID</th>\n",
       "      <th>Triage</th>\n",
       "      <th>TkCharge</th>\n",
       "      <th>Code</th>\n",
       "      <th>Outcome</th>\n",
       "      <th>Flow</th>\n",
       "    </tr>\n",
       "  </thead>\n",
       "  <tbody>\n",
       "    <tr>\n",
       "      <th>0</th>\n",
       "      <td>2018</td>\n",
       "      <td>1</td>\n",
       "      <td>2018-01-01 00:17:33</td>\n",
       "      <td>2018-01-01 04:15:36</td>\n",
       "      <td>green</td>\n",
       "      <td>admitted</td>\n",
       "      <td>[triage,visit,RX,visit]</td>\n",
       "    </tr>\n",
       "    <tr>\n",
       "      <th>1</th>\n",
       "      <td>2018</td>\n",
       "      <td>2</td>\n",
       "      <td>2018-01-01 00:20:33</td>\n",
       "      <td>2018-01-01 03:14:19</td>\n",
       "      <td>green</td>\n",
       "      <td>admitted</td>\n",
       "      <td>[triage,visit,lab,visit]</td>\n",
       "    </tr>\n",
       "    <tr>\n",
       "      <th>2</th>\n",
       "      <td>2018</td>\n",
       "      <td>3</td>\n",
       "      <td>2018-01-01 00:47:59</td>\n",
       "      <td>2018-01-01 04:32:30</td>\n",
       "      <td>white</td>\n",
       "      <td>admitted</td>\n",
       "      <td>[triage,visit,otolaryngological visit,visit]</td>\n",
       "    </tr>\n",
       "    <tr>\n",
       "      <th>51238</th>\n",
       "      <td>2018</td>\n",
       "      <td>51239</td>\n",
       "      <td>2018-01-01 00:49:51</td>\n",
       "      <td>NaT</td>\n",
       "      <td>white</td>\n",
       "      <td>abandoned</td>\n",
       "      <td>[]</td>\n",
       "    </tr>\n",
       "    <tr>\n",
       "      <th>51240</th>\n",
       "      <td>2018</td>\n",
       "      <td>51241</td>\n",
       "      <td>2018-01-01 01:00:40</td>\n",
       "      <td>NaT</td>\n",
       "      <td>green</td>\n",
       "      <td>abandoned</td>\n",
       "      <td>[]</td>\n",
       "    </tr>\n",
       "    <tr>\n",
       "      <th>...</th>\n",
       "      <td>...</td>\n",
       "      <td>...</td>\n",
       "      <td>...</td>\n",
       "      <td>...</td>\n",
       "      <td>...</td>\n",
       "      <td>...</td>\n",
       "      <td>...</td>\n",
       "    </tr>\n",
       "    <tr>\n",
       "      <th>95665</th>\n",
       "      <td>2019</td>\n",
       "      <td>95666</td>\n",
       "      <td>2019-10-31 23:26:54</td>\n",
       "      <td>2019-10-31 23:41:13</td>\n",
       "      <td>yellow</td>\n",
       "      <td>admitted</td>\n",
       "      <td>[triage,visit,RX,visit]</td>\n",
       "    </tr>\n",
       "    <tr>\n",
       "      <th>95666</th>\n",
       "      <td>2019</td>\n",
       "      <td>95667</td>\n",
       "      <td>2019-10-31 23:46:43</td>\n",
       "      <td>2019-11-01 09:30:25</td>\n",
       "      <td>green</td>\n",
       "      <td>admitted</td>\n",
       "      <td>[triage,visit]</td>\n",
       "    </tr>\n",
       "    <tr>\n",
       "      <th>108622</th>\n",
       "      <td>2019</td>\n",
       "      <td>108623</td>\n",
       "      <td>2019-10-31 23:54:05</td>\n",
       "      <td>NaT</td>\n",
       "      <td>green</td>\n",
       "      <td>abandoned</td>\n",
       "      <td>[]</td>\n",
       "    </tr>\n",
       "    <tr>\n",
       "      <th>95667</th>\n",
       "      <td>2019</td>\n",
       "      <td>95668</td>\n",
       "      <td>2019-10-31 23:55:32</td>\n",
       "      <td>2019-11-01 00:18:46</td>\n",
       "      <td>yellow</td>\n",
       "      <td>admitted</td>\n",
       "      <td>[triage,visit]</td>\n",
       "    </tr>\n",
       "    <tr>\n",
       "      <th>108623</th>\n",
       "      <td>2019</td>\n",
       "      <td>108624</td>\n",
       "      <td>2019-10-31 23:59:21</td>\n",
       "      <td>NaT</td>\n",
       "      <td>green</td>\n",
       "      <td>abandoned</td>\n",
       "      <td>[]</td>\n",
       "    </tr>\n",
       "  </tbody>\n",
       "</table>\n",
       "<p>108625 rows × 7 columns</p>\n",
       "</div>"
      ],
      "text/plain": [
       "        year      ID              Triage            TkCharge    Code  \\\n",
       "0       2018       1 2018-01-01 00:17:33 2018-01-01 04:15:36   green   \n",
       "1       2018       2 2018-01-01 00:20:33 2018-01-01 03:14:19   green   \n",
       "2       2018       3 2018-01-01 00:47:59 2018-01-01 04:32:30   white   \n",
       "51238   2018   51239 2018-01-01 00:49:51                 NaT   white   \n",
       "51240   2018   51241 2018-01-01 01:00:40                 NaT   green   \n",
       "...      ...     ...                 ...                 ...     ...   \n",
       "95665   2019   95666 2019-10-31 23:26:54 2019-10-31 23:41:13  yellow   \n",
       "95666   2019   95667 2019-10-31 23:46:43 2019-11-01 09:30:25   green   \n",
       "108622  2019  108623 2019-10-31 23:54:05                 NaT   green   \n",
       "95667   2019   95668 2019-10-31 23:55:32 2019-11-01 00:18:46  yellow   \n",
       "108623  2019  108624 2019-10-31 23:59:21                 NaT   green   \n",
       "\n",
       "          Outcome                                          Flow  \n",
       "0        admitted                       [triage,visit,RX,visit]  \n",
       "1        admitted                      [triage,visit,lab,visit]  \n",
       "2        admitted  [triage,visit,otolaryngological visit,visit]  \n",
       "51238   abandoned                                            []  \n",
       "51240   abandoned                                            []  \n",
       "...           ...                                           ...  \n",
       "95665    admitted                       [triage,visit,RX,visit]  \n",
       "95666    admitted                                [triage,visit]  \n",
       "108622  abandoned                                            []  \n",
       "95667    admitted                                [triage,visit]  \n",
       "108623  abandoned                                            []  \n",
       "\n",
       "[108625 rows x 7 columns]"
      ]
     },
     "execution_count": 15,
     "metadata": {},
     "output_type": "execute_result"
    }
   ],
   "source": [
    "data = er.load_data(data_folder)\n",
    "data"
   ]
  },
  {
   "cell_type": "markdown",
   "metadata": {
    "slideshow": {
     "slide_type": "subslide"
    }
   },
   "source": [
    "## A Look at the Dataset"
   ]
  },
  {
   "cell_type": "code",
   "execution_count": 16,
   "metadata": {},
   "outputs": [
    {
     "data": {
      "text/html": [
       "<div>\n",
       "<style scoped>\n",
       "    .dataframe tbody tr th:only-of-type {\n",
       "        vertical-align: middle;\n",
       "    }\n",
       "\n",
       "    .dataframe tbody tr th {\n",
       "        vertical-align: top;\n",
       "    }\n",
       "\n",
       "    .dataframe thead th {\n",
       "        text-align: right;\n",
       "    }\n",
       "</style>\n",
       "<table border=\"1\" class=\"dataframe\">\n",
       "  <thead>\n",
       "    <tr style=\"text-align: right;\">\n",
       "      <th></th>\n",
       "      <th>year</th>\n",
       "      <th>ID</th>\n",
       "      <th>Triage</th>\n",
       "      <th>TkCharge</th>\n",
       "      <th>Code</th>\n",
       "      <th>Outcome</th>\n",
       "      <th>Flow</th>\n",
       "    </tr>\n",
       "  </thead>\n",
       "  <tbody>\n",
       "    <tr>\n",
       "      <th>0</th>\n",
       "      <td>2018</td>\n",
       "      <td>1</td>\n",
       "      <td>2018-01-01 00:17:33</td>\n",
       "      <td>2018-01-01 04:15:36</td>\n",
       "      <td>green</td>\n",
       "      <td>admitted</td>\n",
       "      <td>[triage,visit,RX,visit]</td>\n",
       "    </tr>\n",
       "    <tr>\n",
       "      <th>1</th>\n",
       "      <td>2018</td>\n",
       "      <td>2</td>\n",
       "      <td>2018-01-01 00:20:33</td>\n",
       "      <td>2018-01-01 03:14:19</td>\n",
       "      <td>green</td>\n",
       "      <td>admitted</td>\n",
       "      <td>[triage,visit,lab,visit]</td>\n",
       "    </tr>\n",
       "    <tr>\n",
       "      <th>2</th>\n",
       "      <td>2018</td>\n",
       "      <td>3</td>\n",
       "      <td>2018-01-01 00:47:59</td>\n",
       "      <td>2018-01-01 04:32:30</td>\n",
       "      <td>white</td>\n",
       "      <td>admitted</td>\n",
       "      <td>[triage,visit,otolaryngological visit,visit]</td>\n",
       "    </tr>\n",
       "  </tbody>\n",
       "</table>\n",
       "</div>"
      ],
      "text/plain": [
       "   year  ID              Triage            TkCharge   Code   Outcome  \\\n",
       "0  2018   1 2018-01-01 00:17:33 2018-01-01 04:15:36  green  admitted   \n",
       "1  2018   2 2018-01-01 00:20:33 2018-01-01 03:14:19  green  admitted   \n",
       "2  2018   3 2018-01-01 00:47:59 2018-01-01 04:32:30  white  admitted   \n",
       "\n",
       "                                           Flow  \n",
       "0                       [triage,visit,RX,visit]  \n",
       "1                      [triage,visit,lab,visit]  \n",
       "2  [triage,visit,otolaryngological visit,visit]  "
      ]
     },
     "execution_count": 16,
     "metadata": {},
     "output_type": "execute_result"
    }
   ],
   "source": [
    "data.iloc[:3]"
   ]
  },
  {
   "cell_type": "markdown",
   "metadata": {},
   "source": [
    "* Each row refers to a single patient\n",
    "* `Triage` is the arrival time of each patient\n",
    "* `TKCharge` is the time when a patient starts the first visit\n",
    "* `Code` refers to the estimated priority (white < green < yellow < red)\n",
    "* `Outcome` discriminates some special conditios (people quitting, fast tracks)\n",
    "* `Flow` is the sequence of treatments that actually took place"
   ]
  },
  {
   "cell_type": "markdown",
   "metadata": {
    "slideshow": {
     "slide_type": "subslide"
    }
   },
   "source": [
    "## A Look at the Dataset\n",
    "\n",
    "**Let's also have a look at the data types**"
   ]
  },
  {
   "cell_type": "code",
   "execution_count": 17,
   "metadata": {},
   "outputs": [
    {
     "data": {
      "text/plain": [
       "year                 int64\n",
       "ID                   int64\n",
       "Triage      datetime64[ns]\n",
       "TkCharge    datetime64[ns]\n",
       "Code              category\n",
       "Outcome           category\n",
       "Flow                object\n",
       "dtype: object"
      ]
     },
     "execution_count": 17,
     "metadata": {},
     "output_type": "execute_result"
    }
   ],
   "source": [
    "data.dtypes"
   ]
  },
  {
   "cell_type": "markdown",
   "metadata": {},
   "source": [
    "* `Flow` is actually a string\n",
    "\n",
    "**We will initially focus for now on _predicting arrivals_**\n",
    "\n",
    "...Hence, it makes sense to sort rows by increasing triage time:"
   ]
  },
  {
   "cell_type": "code",
   "execution_count": 18,
   "metadata": {},
   "outputs": [],
   "source": [
    "data.sort_values(by='Triage', inplace=True)"
   ]
  },
  {
   "cell_type": "markdown",
   "metadata": {
    "slideshow": {
     "slide_type": "subslide"
    }
   },
   "source": [
    "## Inter-Arrival Times\n",
    "\n",
    "**Let's check empirically the distribution of the inter-arrival times**"
   ]
  },
  {
   "cell_type": "code",
   "execution_count": 31,
   "metadata": {},
   "outputs": [
    {
     "data": {
      "application/vnd.jupyter.widget-view+json": {
       "model_id": "18402dd1ed6044cba2d66c8bc3306c9e",
       "version_major": 2,
       "version_minor": 0
      },
      "text/html": [
       "\n",
       "            <div style=\"display: inline-block;\">\n",
       "                <div class=\"jupyter-widgets widget-label\" style=\"text-align: center;\">\n",
       "                    Figure\n",
       "                </div>\n",
       "                <img src='data:image/png;base64,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' width=900.0/>\n",
       "            </div>\n",
       "        "
      ],
      "text/plain": [
       "Canvas(toolbar=Toolbar(toolitems=[('Home', 'Reset original view', 'home', 'home'), ('Back', 'Back to previous …"
      ]
     },
     "metadata": {},
     "output_type": "display_data"
    }
   ],
   "source": [
    "f = '2min'\n",
    "delta = data['Triage'].iloc[1:].round(f) - data['Triage'].iloc[:-1].round(f).values\n",
    "tmp = delta.value_counts().sort_index().values\n",
    "tmp = pd.Series(index=np.arange(len(tmp)), data=tmp)\n",
    "er.plot_bars(tmp, tick_gap=10, figsize=figsize)"
   ]
  },
  {
   "cell_type": "markdown",
   "metadata": {},
   "source": [
    "* There is a number of very low inter-arrival times\n",
    "* It may be due to how triage is performed (bursts, rather than a steady flow)"
   ]
  },
  {
   "cell_type": "markdown",
   "metadata": {
    "slideshow": {
     "slide_type": "subslide"
    }
   },
   "source": [
    "## Waiting Time\n",
    "\n",
    "**Here is the distribution of the waiting times**"
   ]
  },
  {
   "cell_type": "code",
   "execution_count": 35,
   "metadata": {},
   "outputs": [
    {
     "data": {
      "application/vnd.jupyter.widget-view+json": {
       "model_id": "394eca3e48c14694915c43ef024015c4",
       "version_major": 2,
       "version_minor": 0
      },
      "text/html": [
       "\n",
       "            <div style=\"display: inline-block;\">\n",
       "                <div class=\"jupyter-widgets widget-label\" style=\"text-align: center;\">\n",
       "                    Figure\n",
       "                </div>\n",
       "                <img src='data:image/png;base64,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' width=900.0/>\n",
       "            </div>\n",
       "        "
      ],
      "text/plain": [
       "Canvas(toolbar=Toolbar(toolitems=[('Home', 'Reset original view', 'home', 'home'), ('Back', 'Back to previous …"
      ]
     },
     "metadata": {},
     "output_type": "display_data"
    }
   ],
   "source": [
    "tmp = data[~data['TkCharge'].isnull()]\n",
    "wait_time = tmp['TkCharge'].round('10min') - tmp['Triage'].round('10min')\n",
    "tmp = wait_time.value_counts().sort_index().values\n",
    "tmp = pd.Series(index=np.arange(len(tmp)), data=tmp)\n",
    "er.plot_bars(tmp, tick_gap=10, figsize=figsize)"
   ]
  },
  {
   "cell_type": "markdown",
   "metadata": {},
   "source": [
    "* The distritbution is _heavy-tailed_\n",
    "* I.e. the probability of very long waiting times is non-negligible"
   ]
  },
  {
   "cell_type": "markdown",
   "metadata": {
    "slideshow": {
     "slide_type": "subslide"
    }
   },
   "source": [
    "## Code Distribution\n",
    "\n",
    "**The distribution of the priority codes**"
   ]
  },
  {
   "cell_type": "code",
   "execution_count": 36,
   "metadata": {},
   "outputs": [
    {
     "data": {
      "application/vnd.jupyter.widget-view+json": {
       "model_id": "a88ae060493c420f9017cd9e779e47e3",
       "version_major": 2,
       "version_minor": 0
      },
      "text/html": [
       "\n",
       "            <div style=\"display: inline-block;\">\n",
       "                <div class=\"jupyter-widgets widget-label\" style=\"text-align: center;\">\n",
       "                    Figure\n",
       "                </div>\n",
       "                <img src='data:image/png;base64,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' width=900.0/>\n",
       "            </div>\n",
       "        "
      ],
      "text/plain": [
       "Canvas(toolbar=Toolbar(toolitems=[('Home', 'Reset original view', 'home', 'home'), ('Back', 'Back to previous …"
      ]
     },
     "metadata": {},
     "output_type": "display_data"
    }
   ],
   "source": [
    "er.plot_bars(data['Code'].value_counts(), figsize=figsize)"
   ]
  },
  {
   "cell_type": "markdown",
   "metadata": {},
   "source": [
    "* Green code (low severity) form the majority of arrivals\n",
    "* Yello and red codes (mid and high severity) are in smaller numbers\n",
    "* White codes (lowest priority) are also not very frequent"
   ]
  },
  {
   "cell_type": "markdown",
   "metadata": {
    "slideshow": {
     "slide_type": "subslide"
    }
   },
   "source": [
    "## Outcome Distribution"
   ]
  },
  {
   "cell_type": "code",
   "execution_count": 37,
   "metadata": {},
   "outputs": [
    {
     "data": {
      "application/vnd.jupyter.widget-view+json": {
       "model_id": "48c512f2eca1406cbe854647634ab778",
       "version_major": 2,
       "version_minor": 0
      },
      "text/html": [
       "\n",
       "            <div style=\"display: inline-block;\">\n",
       "                <div class=\"jupyter-widgets widget-label\" style=\"text-align: center;\">\n",
       "                    Figure\n",
       "                </div>\n",
       "                <img src='data:image/png;base64,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' width=900.0/>\n",
       "            </div>\n",
       "        "
      ],
      "text/plain": [
       "Canvas(toolbar=Toolbar(toolitems=[('Home', 'Reset original view', 'home', 'home'), ('Back', 'Back to previous …"
      ]
     },
     "metadata": {},
     "output_type": "display_data"
    }
   ],
   "source": [
    "er.plot_bars(data['Outcome'].value_counts(), figsize=figsize)"
   ]
  },
  {
   "cell_type": "markdown",
   "metadata": {},
   "source": [
    "* Abandons are infrequent, as are \"fast track\" patients"
   ]
  },
  {
   "cell_type": "markdown",
   "metadata": {
    "slideshow": {
     "slide_type": "subslide"
    }
   },
   "source": [
    "## Arrival Distribution over Months\n",
    "\n",
    "**Let's look at the arrival distribution over months**"
   ]
  },
  {
   "cell_type": "code",
   "execution_count": 38,
   "metadata": {},
   "outputs": [
    {
     "data": {
      "application/vnd.jupyter.widget-view+json": {
       "model_id": "21dc09446d0e46c9b906cd99509acda8",
       "version_major": 2,
       "version_minor": 0
      },
      "text/html": [
       "\n",
       "            <div style=\"display: inline-block;\">\n",
       "                <div class=\"jupyter-widgets widget-label\" style=\"text-align: center;\">\n",
       "                    Figure\n",
       "                </div>\n",
       "                <img src='data:image/png;base64,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' width=900.0/>\n",
       "            </div>\n",
       "        "
      ],
      "text/plain": [
       "Canvas(toolbar=Toolbar(toolitems=[('Home', 'Reset original view', 'home', 'home'), ('Back', 'Back to previous …"
      ]
     },
     "metadata": {},
     "output_type": "display_data"
    }
   ],
   "source": [
    "months = data['Triage'].dt.month\n",
    "er.plot_bars(months.value_counts().sort_index(), figsize=figsize)"
   ]
  },
  {
   "cell_type": "markdown",
   "metadata": {},
   "source": [
    "* The low values for Nov. and Dec. are due to the 2019 series ending in October\n",
    "* The distribution seems stable (but we are not plotting standard deviations!)"
   ]
  },
  {
   "cell_type": "markdown",
   "metadata": {
    "slideshow": {
     "slide_type": "subslide"
    }
   },
   "source": [
    "## Arrival Distribution over Weekdays\n",
    "\n",
    "**Let's look at the distribution over weekdays**"
   ]
  },
  {
   "cell_type": "code",
   "execution_count": 39,
   "metadata": {},
   "outputs": [
    {
     "data": {
      "application/vnd.jupyter.widget-view+json": {
       "model_id": "eff874707375454f95d7549f77bb25a0",
       "version_major": 2,
       "version_minor": 0
      },
      "text/html": [
       "\n",
       "            <div style=\"display: inline-block;\">\n",
       "                <div class=\"jupyter-widgets widget-label\" style=\"text-align: center;\">\n",
       "                    Figure\n",
       "                </div>\n",
       "                <img src='data:image/png;base64,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' width=900.0/>\n",
       "            </div>\n",
       "        "
      ],
      "text/plain": [
       "Canvas(toolbar=Toolbar(toolitems=[('Home', 'Reset original view', 'home', 'home'), ('Back', 'Back to previous …"
      ]
     },
     "metadata": {},
     "output_type": "display_data"
    }
   ],
   "source": [
    "weekdays = data['Triage'].dt.weekday\n",
    "er.plot_bars(weekdays.value_counts().sort_index(), figsize=figsize)"
   ]
  },
  {
   "cell_type": "markdown",
   "metadata": {},
   "source": [
    "* Similarly to months, weekdays are likelly to have little predictive power\n",
    "* ...But it's better not to rush conclusions (we still are not plotting the stddev!)"
   ]
  },
  {
   "cell_type": "markdown",
   "metadata": {
    "slideshow": {
     "slide_type": "subslide"
    }
   },
   "source": [
    "## Arrival Distribution over Hours\n",
    "\n",
    "**Let's see now the arrival distribution over the hours of the day**"
   ]
  },
  {
   "cell_type": "code",
   "execution_count": 40,
   "metadata": {},
   "outputs": [
    {
     "data": {
      "application/vnd.jupyter.widget-view+json": {
       "model_id": "3f575716d0254c328b17172ae20f75f1",
       "version_major": 2,
       "version_minor": 0
      },
      "text/html": [
       "\n",
       "            <div style=\"display: inline-block;\">\n",
       "                <div class=\"jupyter-widgets widget-label\" style=\"text-align: center;\">\n",
       "                    Figure\n",
       "                </div>\n",
       "                <img src='data:image/png;base64,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' width=900.0/>\n",
       "            </div>\n",
       "        "
      ],
      "text/plain": [
       "Canvas(toolbar=Toolbar(toolitems=[('Home', 'Reset original view', 'home', 'home'), ('Back', 'Back to previous …"
      ]
     },
     "metadata": {},
     "output_type": "display_data"
    }
   ],
   "source": [
    "hours = data['Triage'].dt.hour\n",
    "er.plot_bars(hours.value_counts().sort_index(), figsize=figsize)"
   ]
  },
  {
   "cell_type": "markdown",
   "metadata": {},
   "source": [
    "* There is _a clear pattern_: the hour of the day will have strong predictive power\n",
    "* Again, analyzing the standard deviation may provide better insights"
   ]
  },
  {
   "cell_type": "markdown",
   "metadata": {
    "slideshow": {
     "slide_type": "slide"
    }
   },
   "source": [
    "# Data Preparation"
   ]
  },
  {
   "cell_type": "markdown",
   "metadata": {
    "slideshow": {
     "slide_type": "subslide"
    }
   },
   "source": [
    "## Binning\n",
    "\n",
    "**In our two considered problems:**\n",
    "\n",
    "* We are not going to revise our decisions continuosly\n",
    "* We are not interested in predicting the next arrival\n",
    "\n",
    "Rather:\n",
    "\n",
    "* We will take decisions _at fixed intervals_\n",
    "* We care about the expected arrivals _in a given horizon_\n",
    "\n",
    "**Overall, we need to choose _a meaningful time unit_**\n",
    "\n",
    "In other words, we need to perform some kind of binning\n",
    "\n",
    "* We used binning to downsample high-frequency data\n",
    "* ...We will use binning to _aggregate events with a variable frequency_"
   ]
  },
  {
   "cell_type": "markdown",
   "metadata": {
    "slideshow": {
     "slide_type": "subslide"
    }
   },
   "source": [
    "## Code-Based Counts\n",
    "\n",
    "**We will prepare the data to track counts for all priority codes**"
   ]
  },
  {
   "cell_type": "code",
   "execution_count": 42,
   "metadata": {},
   "outputs": [
    {
     "name": "stdout",
     "output_type": "stream",
     "text": [
      "Number of examples: 108625\n"
     ]
    },
    {
     "data": {
      "text/html": [
       "<div>\n",
       "<style scoped>\n",
       "    .dataframe tbody tr th:only-of-type {\n",
       "        vertical-align: middle;\n",
       "    }\n",
       "\n",
       "    .dataframe tbody tr th {\n",
       "        vertical-align: top;\n",
       "    }\n",
       "\n",
       "    .dataframe thead th {\n",
       "        text-align: right;\n",
       "    }\n",
       "</style>\n",
       "<table border=\"1\" class=\"dataframe\">\n",
       "  <thead>\n",
       "    <tr style=\"text-align: right;\">\n",
       "      <th></th>\n",
       "      <th>green</th>\n",
       "      <th>red</th>\n",
       "      <th>white</th>\n",
       "      <th>yellow</th>\n",
       "    </tr>\n",
       "    <tr>\n",
       "      <th>Triage</th>\n",
       "      <th></th>\n",
       "      <th></th>\n",
       "      <th></th>\n",
       "      <th></th>\n",
       "    </tr>\n",
       "  </thead>\n",
       "  <tbody>\n",
       "    <tr>\n",
       "      <th>2018-01-01 00:17:33</th>\n",
       "      <td>1</td>\n",
       "      <td>0</td>\n",
       "      <td>0</td>\n",
       "      <td>0</td>\n",
       "    </tr>\n",
       "    <tr>\n",
       "      <th>2018-01-01 00:20:33</th>\n",
       "      <td>1</td>\n",
       "      <td>0</td>\n",
       "      <td>0</td>\n",
       "      <td>0</td>\n",
       "    </tr>\n",
       "    <tr>\n",
       "      <th>2018-01-01 00:47:59</th>\n",
       "      <td>0</td>\n",
       "      <td>0</td>\n",
       "      <td>1</td>\n",
       "      <td>0</td>\n",
       "    </tr>\n",
       "    <tr>\n",
       "      <th>2018-01-01 00:49:51</th>\n",
       "      <td>0</td>\n",
       "      <td>0</td>\n",
       "      <td>1</td>\n",
       "      <td>0</td>\n",
       "    </tr>\n",
       "    <tr>\n",
       "      <th>2018-01-01 01:00:40</th>\n",
       "      <td>1</td>\n",
       "      <td>0</td>\n",
       "      <td>0</td>\n",
       "      <td>0</td>\n",
       "    </tr>\n",
       "  </tbody>\n",
       "</table>\n",
       "</div>"
      ],
      "text/plain": [
       "                     green  red  white  yellow\n",
       "Triage                                        \n",
       "2018-01-01 00:17:33      1    0      0       0\n",
       "2018-01-01 00:20:33      1    0      0       0\n",
       "2018-01-01 00:47:59      0    0      1       0\n",
       "2018-01-01 00:49:51      0    0      1       0\n",
       "2018-01-01 01:00:40      1    0      0       0"
      ]
     },
     "execution_count": 42,
     "metadata": {},
     "output_type": "execute_result"
    }
   ],
   "source": [
    "codes = pd.get_dummies(data['Code'])\n",
    "codes.set_index(data['Triage'], inplace=True)\n",
    "codes.columns = codes.columns.to_list()\n",
    "print(f'Number of examples: {len(codes)}')\n",
    "codes.head()"
   ]
  },
  {
   "cell_type": "markdown",
   "metadata": {},
   "source": [
    "* The `get_dummies` function applies a one-hot encoding to categorical value\n",
    "* The method generates a categorial column index (then converted to list)"
   ]
  },
  {
   "cell_type": "markdown",
   "metadata": {
    "slideshow": {
     "slide_type": "subslide"
    }
   },
   "source": [
    "## Resampling\n",
    "\n",
    "**Then, we need to aggregate data with a specified frequency**"
   ]
  },
  {
   "cell_type": "code",
   "execution_count": 44,
   "metadata": {},
   "outputs": [
    {
     "name": "stdout",
     "output_type": "stream",
     "text": [
      "Number of examples: 16056\n"
     ]
    },
    {
     "data": {
      "text/html": [
       "<div>\n",
       "<style scoped>\n",
       "    .dataframe tbody tr th:only-of-type {\n",
       "        vertical-align: middle;\n",
       "    }\n",
       "\n",
       "    .dataframe tbody tr th {\n",
       "        vertical-align: top;\n",
       "    }\n",
       "\n",
       "    .dataframe thead th {\n",
       "        text-align: right;\n",
       "    }\n",
       "</style>\n",
       "<table border=\"1\" class=\"dataframe\">\n",
       "  <thead>\n",
       "    <tr style=\"text-align: right;\">\n",
       "      <th></th>\n",
       "      <th>green</th>\n",
       "      <th>red</th>\n",
       "      <th>white</th>\n",
       "      <th>yellow</th>\n",
       "    </tr>\n",
       "    <tr>\n",
       "      <th>Triage</th>\n",
       "      <th></th>\n",
       "      <th></th>\n",
       "      <th></th>\n",
       "      <th></th>\n",
       "    </tr>\n",
       "  </thead>\n",
       "  <tbody>\n",
       "    <tr>\n",
       "      <th>2018-01-01 00:00:00</th>\n",
       "      <td>2</td>\n",
       "      <td>0</td>\n",
       "      <td>2</td>\n",
       "      <td>0</td>\n",
       "    </tr>\n",
       "    <tr>\n",
       "      <th>2018-01-01 01:00:00</th>\n",
       "      <td>7</td>\n",
       "      <td>1</td>\n",
       "      <td>1</td>\n",
       "      <td>1</td>\n",
       "    </tr>\n",
       "    <tr>\n",
       "      <th>2018-01-01 02:00:00</th>\n",
       "      <td>4</td>\n",
       "      <td>1</td>\n",
       "      <td>4</td>\n",
       "      <td>3</td>\n",
       "    </tr>\n",
       "    <tr>\n",
       "      <th>2018-01-01 03:00:00</th>\n",
       "      <td>7</td>\n",
       "      <td>0</td>\n",
       "      <td>1</td>\n",
       "      <td>1</td>\n",
       "    </tr>\n",
       "    <tr>\n",
       "      <th>2018-01-01 04:00:00</th>\n",
       "      <td>3</td>\n",
       "      <td>0</td>\n",
       "      <td>2</td>\n",
       "      <td>0</td>\n",
       "    </tr>\n",
       "  </tbody>\n",
       "</table>\n",
       "</div>"
      ],
      "text/plain": [
       "                     green  red  white  yellow\n",
       "Triage                                        \n",
       "2018-01-01 00:00:00      2    0      2       0\n",
       "2018-01-01 01:00:00      7    1      1       1\n",
       "2018-01-01 02:00:00      4    1      4       3\n",
       "2018-01-01 03:00:00      7    0      1       1\n",
       "2018-01-01 04:00:00      3    0      2       0"
      ]
     },
     "execution_count": 44,
     "metadata": {},
     "output_type": "execute_result"
    }
   ],
   "source": [
    "codes_b = codes.resample('H').sum()\n",
    "print(f'Number of examples: {len(codes_b)}')\n",
    "codes_b.head()"
   ]
  },
  {
   "cell_type": "markdown",
   "metadata": {},
   "source": [
    "* We used the `resample` iterator\n",
    "* `resample` generater a dataframe with a _dense_ index\n",
    "* We chose 1 hours are our time unit"
   ]
  },
  {
   "cell_type": "markdown",
   "metadata": {
    "slideshow": {
     "slide_type": "subslide"
    }
   },
   "source": [
    "## Computing Totals\n",
    "\n",
    "**We also compute the total number of arrivals for each interval**"
   ]
  },
  {
   "cell_type": "code",
   "execution_count": 47,
   "metadata": {},
   "outputs": [
    {
     "data": {
      "text/html": [
       "<div>\n",
       "<style scoped>\n",
       "    .dataframe tbody tr th:only-of-type {\n",
       "        vertical-align: middle;\n",
       "    }\n",
       "\n",
       "    .dataframe tbody tr th {\n",
       "        vertical-align: top;\n",
       "    }\n",
       "\n",
       "    .dataframe thead th {\n",
       "        text-align: right;\n",
       "    }\n",
       "</style>\n",
       "<table border=\"1\" class=\"dataframe\">\n",
       "  <thead>\n",
       "    <tr style=\"text-align: right;\">\n",
       "      <th></th>\n",
       "      <th>green</th>\n",
       "      <th>red</th>\n",
       "      <th>white</th>\n",
       "      <th>yellow</th>\n",
       "      <th>total</th>\n",
       "    </tr>\n",
       "    <tr>\n",
       "      <th>Triage</th>\n",
       "      <th></th>\n",
       "      <th></th>\n",
       "      <th></th>\n",
       "      <th></th>\n",
       "      <th></th>\n",
       "    </tr>\n",
       "  </thead>\n",
       "  <tbody>\n",
       "    <tr>\n",
       "      <th>2018-01-01 00:00:00</th>\n",
       "      <td>2</td>\n",
       "      <td>0</td>\n",
       "      <td>2</td>\n",
       "      <td>0</td>\n",
       "      <td>4</td>\n",
       "    </tr>\n",
       "    <tr>\n",
       "      <th>2018-01-01 01:00:00</th>\n",
       "      <td>7</td>\n",
       "      <td>1</td>\n",
       "      <td>1</td>\n",
       "      <td>1</td>\n",
       "      <td>10</td>\n",
       "    </tr>\n",
       "    <tr>\n",
       "      <th>2018-01-01 02:00:00</th>\n",
       "      <td>4</td>\n",
       "      <td>1</td>\n",
       "      <td>4</td>\n",
       "      <td>3</td>\n",
       "      <td>12</td>\n",
       "    </tr>\n",
       "    <tr>\n",
       "      <th>2018-01-01 03:00:00</th>\n",
       "      <td>7</td>\n",
       "      <td>0</td>\n",
       "      <td>1</td>\n",
       "      <td>1</td>\n",
       "      <td>9</td>\n",
       "    </tr>\n",
       "    <tr>\n",
       "      <th>2018-01-01 04:00:00</th>\n",
       "      <td>3</td>\n",
       "      <td>0</td>\n",
       "      <td>2</td>\n",
       "      <td>0</td>\n",
       "      <td>5</td>\n",
       "    </tr>\n",
       "  </tbody>\n",
       "</table>\n",
       "</div>"
      ],
      "text/plain": [
       "                     green  red  white  yellow  total\n",
       "Triage                                               \n",
       "2018-01-01 00:00:00      2    0      2       0      4\n",
       "2018-01-01 01:00:00      7    1      1       1     10\n",
       "2018-01-01 02:00:00      4    1      4       3     12\n",
       "2018-01-01 03:00:00      7    0      1       1      9\n",
       "2018-01-01 04:00:00      3    0      2       0      5"
      ]
     },
     "execution_count": 47,
     "metadata": {},
     "output_type": "execute_result"
    }
   ],
   "source": [
    "cols = ['white', 'green', 'yellow', 'red']\n",
    "codes_b['total'] = codes_b[cols].sum(axis=1)\n",
    "codes_b.head()"
   ]
  },
  {
   "cell_type": "markdown",
   "metadata": {},
   "source": [
    "* We use a fixed column list to obtain the same result for multiple executions\n",
    "* The total count will be less noisy, if the individual terms are independent"
   ]
  },
  {
   "cell_type": "markdown",
   "metadata": {
    "slideshow": {
     "slide_type": "subslide"
    }
   },
   "source": [
    "## Counts over Time\n",
    "\n",
    "**Our resampled series can be plotted easily over time**\n",
    "\n",
    "Let's see the total counts as an example:"
   ]
  },
  {
   "cell_type": "code",
   "execution_count": 48,
   "metadata": {
    "scrolled": true
   },
   "outputs": [
    {
     "data": {
      "application/vnd.jupyter.widget-view+json": {
       "model_id": "156ff3e3e6a9413bbc90f76cf4998d81",
       "version_major": 2,
       "version_minor": 0
      },
      "text/html": [
       "\n",
       "            <div style=\"display: inline-block;\">\n",
       "                <div class=\"jupyter-widgets widget-label\" style=\"text-align: center;\">\n",
       "                    Figure\n",
       "                </div>\n",
       "                <img src='data:image/png;base64,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' width=900.0/>\n",
       "            </div>\n",
       "        "
      ],
      "text/plain": [
       "Canvas(toolbar=Toolbar(toolitems=[('Home', 'Reset original view', 'home', 'home'), ('Back', 'Back to previous …"
      ]
     },
     "metadata": {},
     "output_type": "display_data"
    }
   ],
   "source": [
    "er.plot_series(codes_b['total'], figsize=figsize)"
   ]
  },
  {
   "cell_type": "markdown",
   "metadata": {
    "slideshow": {
     "slide_type": "subslide"
    }
   },
   "source": [
    "## Counts over Time\n",
    "\n",
    "**Our resampled series can be plotted easily over time**\n",
    "\n",
    "The same plot, for the red codes (the counts are significanly lower):"
   ]
  },
  {
   "cell_type": "code",
   "execution_count": 51,
   "metadata": {
    "scrolled": true
   },
   "outputs": [
    {
     "data": {
      "application/vnd.jupyter.widget-view+json": {
       "model_id": "eebae692c3bb4f7f88964a23bc9d85d2",
       "version_major": 2,
       "version_minor": 0
      },
      "text/html": [
       "\n",
       "            <div style=\"display: inline-block;\">\n",
       "                <div class=\"jupyter-widgets widget-label\" style=\"text-align: center;\">\n",
       "                    Figure\n",
       "                </div>\n",
       "                <img src='data:image/png;base64,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' width=900.0/>\n",
       "            </div>\n",
       "        "
      ],
      "text/plain": [
       "Canvas(toolbar=Toolbar(toolitems=[('Home', 'Reset original view', 'home', 'home'), ('Back', 'Back to previous …"
      ]
     },
     "metadata": {},
     "output_type": "display_data"
    }
   ],
   "source": [
    "er.plot_series(codes_b['red'], figsize=figsize)"
   ]
  },
  {
   "cell_type": "markdown",
   "metadata": {},
   "source": [
    "**We are now ready to tackle the first of our ER management problems**"
   ]
  },
  {
   "cell_type": "markdown",
   "metadata": {
    "slideshow": {
     "slide_type": "subslide"
    }
   },
   "source": [
    "## Variability\n",
    "\n",
    "**With our binned series, we can compute standard deviations**\n",
    "\n",
    "Let's check it over different months:"
   ]
  },
  {
   "cell_type": "code",
   "execution_count": 52,
   "metadata": {},
   "outputs": [
    {
     "data": {
      "application/vnd.jupyter.widget-view+json": {
       "model_id": "2ca9944f05d9474395b2e21c017677f9",
       "version_major": 2,
       "version_minor": 0
      },
      "text/html": [
       "\n",
       "            <div style=\"display: inline-block;\">\n",
       "                <div class=\"jupyter-widgets widget-label\" style=\"text-align: center;\">\n",
       "                    Figure\n",
       "                </div>\n",
       "                <img src='data:image/png;base64,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' width=900.0/>\n",
       "            </div>\n",
       "        "
      ],
      "text/plain": [
       "Canvas(toolbar=Toolbar(toolitems=[('Home', 'Reset original view', 'home', 'home'), ('Back', 'Back to previous …"
      ]
     },
     "metadata": {},
     "output_type": "display_data"
    }
   ],
   "source": [
    "means = codes_b.groupby(codes_b.index.month).mean()\n",
    "stds = codes_b.groupby(codes_b.index.month).std()\n",
    "er.plot_series(means['total'], std=stds['total'], figsize=figsize)"
   ]
  },
  {
   "cell_type": "markdown",
   "metadata": {},
   "source": [
    "* The variability does not change much over different months"
   ]
  },
  {
   "cell_type": "markdown",
   "metadata": {
    "slideshow": {
     "slide_type": "subslide"
    }
   },
   "source": [
    "## Variability\n",
    "\n",
    "**Here is the standard deviation over weekdays**"
   ]
  },
  {
   "cell_type": "code",
   "execution_count": 53,
   "metadata": {
    "scrolled": false
   },
   "outputs": [
    {
     "data": {
      "application/vnd.jupyter.widget-view+json": {
       "model_id": "c6e97263626243149795b84b1c9a465d",
       "version_major": 2,
       "version_minor": 0
      },
      "text/html": [
       "\n",
       "            <div style=\"display: inline-block;\">\n",
       "                <div class=\"jupyter-widgets widget-label\" style=\"text-align: center;\">\n",
       "                    Figure\n",
       "                </div>\n",
       "                <img src='data:image/png;base64,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' width=900.0/>\n",
       "            </div>\n",
       "        "
      ],
      "text/plain": [
       "Canvas(toolbar=Toolbar(toolitems=[('Home', 'Reset original view', 'home', 'home'), ('Back', 'Back to previous …"
      ]
     },
     "metadata": {},
     "output_type": "display_data"
    }
   ],
   "source": [
    "means = codes_b.groupby(codes_b.index.weekday).mean()\n",
    "stds = codes_b.groupby(codes_b.index.weekday).std()\n",
    "er.plot_series(means['total'], std=stds['total'], figsize=figsize)"
   ]
  },
  {
   "cell_type": "markdown",
   "metadata": {},
   "source": [
    "* A decreasing trend, but rather weak"
   ]
  },
  {
   "cell_type": "markdown",
   "metadata": {
    "slideshow": {
     "slide_type": "subslide"
    }
   },
   "source": [
    "## Variability\n",
    "\n",
    "**...And finally over hours**"
   ]
  },
  {
   "cell_type": "code",
   "execution_count": 54,
   "metadata": {
    "scrolled": false
   },
   "outputs": [
    {
     "data": {
      "application/vnd.jupyter.widget-view+json": {
       "model_id": "1579c43122774e678cb45acd943900da",
       "version_major": 2,
       "version_minor": 0
      },
      "text/html": [
       "\n",
       "            <div style=\"display: inline-block;\">\n",
       "                <div class=\"jupyter-widgets widget-label\" style=\"text-align: center;\">\n",
       "                    Figure\n",
       "                </div>\n",
       "                <img src='data:image/png;base64,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' width=900.0/>\n",
       "            </div>\n",
       "        "
      ],
      "text/plain": [
       "Canvas(toolbar=Toolbar(toolitems=[('Home', 'Reset original view', 'home', 'home'), ('Back', 'Back to previous …"
      ]
     },
     "metadata": {},
     "output_type": "display_data"
    }
   ],
   "source": [
    "means = codes_b.groupby(codes_b.index.hour).mean()\n",
    "stds = codes_b.groupby(codes_b.index.hour).std()\n",
    "er.plot_series(means['total'], std=stds['total'], figsize=figsize)"
   ]
  },
  {
   "cell_type": "markdown",
   "metadata": {},
   "source": [
    "* Again, unlike the mean, the stdev is similar over the hours of a day"
   ]
  }
 ],
 "metadata": {
  "celltoolbar": "Slideshow",
  "kernelspec": {
   "display_name": "Python 3",
   "language": "python",
   "name": "python3"
  },
  "language_info": {
   "codemirror_mode": {
    "name": "ipython",
    "version": 3
   },
   "file_extension": ".py",
   "mimetype": "text/x-python",
   "name": "python",
   "nbconvert_exporter": "python",
   "pygments_lexer": "ipython3",
   "version": "3.6.9"
  },
  "rise": {
   "center": false,
   "transition": "fade"
  }
 },
 "nbformat": 4,
 "nbformat_minor": 4
}
