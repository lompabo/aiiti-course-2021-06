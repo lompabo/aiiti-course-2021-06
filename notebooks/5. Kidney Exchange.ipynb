{
 "cells": [
  {
   "cell_type": "code",
   "execution_count": 1,
   "metadata": {
    "slideshow": {
     "slide_type": "skip"
    }
   },
   "outputs": [],
   "source": [
    "# ============================================================\n",
    "# Notebook setup\n",
    "# ============================================================\n",
    "\n",
    "%load_ext autoreload\n",
    "%autoreload 2\n",
    "\n",
    "# Control figure size\n",
    "interactive_figures = True\n",
    "if interactive_figures:\n",
    "    # Normal behavior\n",
    "    %matplotlib widget\n",
    "    figsize=(9, 3)\n",
    "else:\n",
    "    # PDF export behavior\n",
    "    figsize=(14, 5)\n",
    "\n",
    "from util import er\n",
    "import numpy as np\n",
    "from matplotlib import pyplot as plt\n",
    "import pandas as pd\n",
    "from ortools.sat.python import cp_model\n",
    "import copy"
   ]
  },
  {
   "cell_type": "markdown",
   "metadata": {
    "slideshow": {
     "slide_type": "slide"
    }
   },
   "source": [
    "# Kidney Exchange Problem"
   ]
  },
  {
   "cell_type": "markdown",
   "metadata": {
    "slideshow": {
     "slide_type": "subslide"
    }
   },
   "source": [
    "## Kidney Exchange\n",
    "\n",
    "**Let's consider now a problem from a different (medical domain)**\n",
    "\n",
    "We consider organ transplantation from living donors (e.g. kidney)\n",
    "\n",
    "* Incompatibility issues are major bottleneck\n",
    "* ...But sometimes we are in this kind of situation:\n",
    "\n",
    "<center><img src=\"assets/paired-donation.jpg\" width=\"500px\"/></center>\n",
    "\n",
    "* There are two willing donor, with incompatible recipients\n",
    "* ...But an exchange can be performed!"
   ]
  },
  {
   "cell_type": "markdown",
   "metadata": {
    "slideshow": {
     "slide_type": "subslide"
    }
   },
   "source": [
    "## Kidney Exchange\n",
    "\n",
    "**Operationally, it works as follows:**\n",
    "\n",
    "* Recipient-donor pairs enter a _kidney exchange program_\n",
    "* Periodically, the pairs must be matched so as to enable transplantation\n",
    "  - Matches can be simple (2 pairs) or more complex (3 or more pairs)\n",
    "* Surgery is performed within a short time time frame\n",
    "  - Usually this sets a limit on the size of each chain\n",
    "\n",
    "**The matching problem is know as _Kidney Exchange Problem (KEP)_**\n",
    "\n",
    "* Consists in assigning donor to recipients so as to form closed chains\n",
    "* ...And so as to maximize (typically) the number of transplants\n",
    "* It is an _online problem_, but we will tackle in its offline version"
   ]
  },
  {
   "cell_type": "markdown",
   "metadata": {
    "slideshow": {
     "slide_type": "subslide"
    }
   },
   "source": [
    "## Problem Formulation\n",
    "\n",
    "**The KEP admits a graph-based formulation**\n",
    "\n",
    "* Recipient-donor _pairs_ $(r_i, d_i)$ in the programs can be seen as _nodes in a graph_\n",
    "* The graph contains an arc from pair $i$ to pair $j$ iff the $d_i$ is compatible with $r_j$\n",
    "\n",
    "<center><img src=\"assets/cgraph.png\" width=\"250px\"/></center> \n",
    "\n",
    "* In the example there are four pairs\n",
    "* The donor in pair 1 is compatible with the recipient in pair 2, and so on"
   ]
  },
  {
   "cell_type": "markdown",
   "metadata": {
    "slideshow": {
     "slide_type": "subslide"
    }
   },
   "source": [
    "## Problem Formulation\n",
    "\n",
    "**From this perspective, the KEP consists in _selecting cycles_ in the graph**\n",
    "\n",
    "* Only cycles up to a maximum length are considered\n",
    "* The weight of a cycle is given by its number of nodes/arcs\n",
    "* The objective is to maximize the weight of the selected cycles\n",
    "* Cycles are mutually exclusive if they share at least one node\n",
    "\n",
    "**The key ideas are clear, but translating them to a model is another story**\n",
    "\n",
    "* Defining a combinatorial model for _building cycles_ can be complicated\n",
    "  - E.g. Traveling Salesaman Problem, all Vehicle Routing Problem variants...\n",
    "* But what if we had access to a _precomputed set of cycles_?\n",
    "\n",
    "**This is the key idea in the so-called _cycle formulation_**"
   ]
  },
  {
   "cell_type": "markdown",
   "metadata": {
    "slideshow": {
     "slide_type": "subslide"
    }
   },
   "source": [
    "## Cycle Formulation\n",
    "\n",
    "**The _cycle formulation_ consists in the following Integer Program**\n",
    "\n",
    "$$\\begin{align}\n",
    "\\max z & = \\sum_{i=j}^n w_j x_j \\\\\n",
    "\\text{s.t. } & \\sum_{j=1}^n a_{ij} x_j \\leq 1 & \\forall i = 1..m \\\\\n",
    "& x_j \\in \\{0, 1\\} & \\forall j = 1..n\n",
    "\\end{align}$$\n",
    "\n",
    "* $m$ is the number of pairs, $n$ of cycles\n",
    "* $w_j$ is the weight of cycle $j$ (i.e. its number of nodes)\n",
    "* $a_{ij} = 1$ iff node $i$ belongs to cycle $j$ (and $a_{ij} = 0$ otherwise)\n",
    "* The maximum length constraint is handle when generating the set of cycles"
   ]
  },
  {
   "cell_type": "markdown",
   "metadata": {
    "slideshow": {
     "slide_type": "subslide"
    }
   },
   "source": [
    "## Generating the Benchmark\n",
    "\n",
    "**We will try to build a cycle formulation approach**\n",
    "\n",
    "...But first we need to obtain a benchmark (a dataset)\n",
    "\n",
    "* We will use synthetic data, obtain via the following function:"
   ]
  },
  {
   "cell_type": "code",
   "execution_count": 2,
   "metadata": {},
   "outputs": [],
   "source": [
    "pairs, arcs, aplus = er.generate_compatibility_graph(size=12, seed=2)"
   ]
  },
  {
   "cell_type": "markdown",
   "metadata": {},
   "source": [
    "* The function generates a fixed number of pairs\n",
    "* ...And their compatibility graphs\n",
    "\n",
    "The approach is designed to be reasonably realistic"
   ]
  },
  {
   "cell_type": "markdown",
   "metadata": {
    "slideshow": {
     "slide_type": "subslide"
    }
   },
   "source": [
    "## Generating the Benchmark \n",
    "\n",
    "**The generated pairs are associated to incompatible _blood types_**"
   ]
  },
  {
   "cell_type": "code",
   "execution_count": 4,
   "metadata": {
    "scrolled": true
   },
   "outputs": [
    {
     "data": {
      "text/plain": [
       "{0: pair(recipient='B+', donor='A+'),\n",
       " 1: pair(recipient='B+', donor='A+'),\n",
       " 2: pair(recipient='O+', donor='B+'),\n",
       " 3: pair(recipient='A+', donor='B+'),\n",
       " 4: pair(recipient='O+', donor='A+'),\n",
       " 5: pair(recipient='O+', donor='A-'),\n",
       " 6: pair(recipient='A-', donor='O+'),\n",
       " 7: pair(recipient='A+', donor='B+'),\n",
       " 8: pair(recipient='B+', donor='A+'),\n",
       " 9: pair(recipient='O+', donor='A+'),\n",
       " 10: pair(recipient='O+', donor='A+'),\n",
       " 11: pair(recipient='A-', donor='A+')}"
      ]
     },
     "execution_count": 4,
     "metadata": {},
     "output_type": "execute_result"
    }
   ],
   "source": [
    "pairs"
   ]
  },
  {
   "cell_type": "markdown",
   "metadata": {},
   "source": [
    "* The blood type prevalence reflects the Italian distribution\n",
    "* Incompatibility is mainly due to blood type\n",
    "* ...Plus a number of more complex, but less impacting, factors"
   ]
  },
  {
   "cell_type": "markdown",
   "metadata": {
    "slideshow": {
     "slide_type": "subslide"
    }
   },
   "source": [
    "## Generating the Benchmark\n",
    "\n",
    "**Arcs are first determined based on blood type compatibility**\n",
    "\n",
    "* Then a small (random) fraction of them (5%) is removed\n",
    "* ...So as to simulate the other compatibility factors"
   ]
  },
  {
   "cell_type": "code",
   "execution_count": 5,
   "metadata": {},
   "outputs": [
    {
     "data": {
      "text/plain": [
       "{0: [3, 7],\n",
       " 1: [3, 7],\n",
       " 2: [0, 1, 8],\n",
       " 3: [0, 1, 8],\n",
       " 4: [3, 7],\n",
       " 5: [3, 6, 7, 11],\n",
       " 6: [0, 1, 2, 3, 4, 5, 7, 8, 9, 10],\n",
       " 7: [0, 1, 8],\n",
       " 8: [3, 7],\n",
       " 9: [3, 7],\n",
       " 10: [3, 7],\n",
       " 11: [3, 7]}"
      ]
     },
     "execution_count": 5,
     "metadata": {},
     "output_type": "execute_result"
    }
   ],
   "source": [
    "aplus"
   ]
  },
  {
   "cell_type": "markdown",
   "metadata": {
    "slideshow": {
     "slide_type": "subslide"
    }
   },
   "source": [
    "## Enumerating Cycles\n",
    "\n",
    "**We enumerate cycles using simple Depth First Search with limited depth**\n",
    "\n",
    "```python\n",
    "def cycle_next(seq, nsteps, aplus, cycles, cap=None):\n",
    "    node = seq[-1]\n",
    "    successors = np.array(aplus[node]) # Consider all possible successors\n",
    "    np.random.shuffle(successors) # ...in randomized order\n",
    "    for dst in successors:\n",
    "        # Early exit if the capacity has been exceeded\n",
    "        if cap is not None and len(cycles) >= cap: return\n",
    "        if dst == seq[0] and dst == min(seq): # close the cycle\n",
    "            cycles.add(tuple(seq))\n",
    "        elif nsteps > 0 and dst not in seq:\n",
    "            cycle_next(seq+[dst], nsteps-1, aplus, cycles, cap) # recursive call\n",
    "```\n",
    "\n",
    "* Cycles are stored as tuples, which mean that the node ordering matters\n",
    "* ...So we take only the ordering that starts with the minimum index\n",
    "* There is a capacity parameter to limit the number of enumerated cycles"
   ]
  },
  {
   "cell_type": "markdown",
   "metadata": {
    "slideshow": {
     "slide_type": "subslide"
    }
   },
   "source": [
    "## Enumerating Cycles\n",
    "\n",
    "**We use a second function to start the enumeration from all possible sources**\n",
    "\n",
    "```python\n",
    "def find_all_cycles(aplus, max_length, cap=None, seed=42):\n",
    "    cycles = set()\n",
    "    roots = np.array(list(aplus.keys()))\n",
    "    np.random.seed(seed)\n",
    "    np.random.shuffle(roots)\n",
    "    for node in roots:\n",
    "        if cap is None or len(cycles) < cap:\n",
    "            cycle_next([node], max_length-1, aplus, cycles, cap)\n",
    "    return list(cycles)\n",
    "```\n",
    "\n",
    "**We can now enumerate the cycles for our graph (HP: max length of 4)**"
   ]
  },
  {
   "cell_type": "code",
   "execution_count": 6,
   "metadata": {},
   "outputs": [
    {
     "name": "stdout",
     "output_type": "stream",
     "text": [
      "[(0, 3), (0, 3, 1, 7), (0, 3, 8, 7), (0, 7), (0, 7, 1, 3), (0, 7, 8, 3), (1, 3), (1, 3, 8, 7), (1, 7), (1, 7, 8, 3), (3, 8), (5, 6), (7, 8)]\n"
     ]
    }
   ],
   "source": [
    "cycles = er.find_all_cycles(aplus, max_length=4, cap=None)\n",
    "print(sorted(cycles))"
   ]
  },
  {
   "cell_type": "markdown",
   "metadata": {
    "slideshow": {
     "slide_type": "subslide"
    }
   },
   "source": [
    "## Cycle Formulation - Implementation\n",
    "\n",
    "**Once we have all cycles, we can build the Cycle Formulation model**\n",
    "\n",
    "```python\n",
    "def cycle_formulation(pairs, cycles, tlim=None, verbose=1):\n",
    "    infinity, ncycles, npairs = slv.infinity(), len(cycles), len(pairs)\n",
    "    slv = pywraplp.Solver.CreateSolver('CBC') # Build the solver\n",
    "    cpp = {i:[] for i in range(npairs)} # group cycles by pair\n",
    "    for j, cycle in enumerate(cycles):\n",
    "        for i in cycle: cpp[i].append(j)\n",
    "    x = [slv.IntVar(0, 1, f'x_{j}') for j in range(ncycles)] # variables\n",
    "    for i in range(npairs): # constraints\n",
    "        slv.Add(sum(x[j] for j in cpp[i]) <= 1)\n",
    "    slv.Maximize(sum(len(c) * x[j] for j, c in enumerate(cycles))) # objective\n",
    "    if tlim is not None: # time limit\n",
    "        slv.SetTimeLimit(1000*tlim)\n",
    "    status = slv.Solve() # solve\n",
    "    # Extract results and return\n",
    "    ...\n",
    "```"
   ]
  },
  {
   "cell_type": "markdown",
   "metadata": {
    "slideshow": {
     "slide_type": "subslide"
    }
   },
   "source": [
    "## Cycle Formulation - Implementation\n",
    "\n",
    "**We use [the CBC solver](https://github.com/coin-or/Cbc)**\n",
    "\n",
    "```python\n",
    "def cycle_formulation(pairs, cycles, tlim=None, verbose=1):\n",
    "    infinity, ncycles, npairs = slv.infinity(), len(cycles), len(pairs)\n",
    "    slv = pywraplp.Solver.CreateSolver('CBC') # Build the solver\n",
    "    ...\n",
    "```\n",
    "\n",
    "* It's the fastest MIP solver with a fully permissive license\n",
    "\n",
    "**Variables are build with `IntVar`, constraints posted with `Add`**\n",
    "\n",
    "```python\n",
    "def cycle_formulation(pairs, cycles, tlim=None, verbose=1):\n",
    "    ...\n",
    "    x = [slv.IntVar(0, 1, f'x_{j}') for j in range(ncycles)] # variables\n",
    "    for i in range(npairs): # constraints\n",
    "        slv.Add(sum(x[j] for j in cpp[i]) <= 1)\n",
    "    ...\n",
    "```\n",
    "\n",
    "* The `cpp` dictionary contains cycles, grouped by the pair/node they use"
   ]
  },
  {
   "cell_type": "markdown",
   "metadata": {
    "slideshow": {
     "slide_type": "subslide"
    }
   },
   "source": [
    "## Cycle Formulation - Implementation\n",
    "\n",
    "**We set the objective with `Maximize` or `Minimize`**\n",
    "\n",
    "```python\n",
    "def cycle_formulation(pairs, cycles, tlim=None, verbose=1):\n",
    "    ...\n",
    "    slv.Maximize(sum(len(c) * x[j] for j, c in enumerate(cycles))) # objective\n",
    "    if tlim is not None: # time limit\n",
    "        slv.SetTimeLimit(1000*tlim)\n",
    "    ...\n",
    "```\n",
    "\n",
    "* Time limits are enforced with `SetTimeLimit`\n",
    "\n",
    "**We can now solve the cycle formulation:**"
   ]
  },
  {
   "cell_type": "code",
   "execution_count": 7,
   "metadata": {},
   "outputs": [
    {
     "name": "stdout",
     "output_type": "stream",
     "text": [
      "Solution time: 0.013, objective value: 6.0 (optimal)\n",
      "{'x_2', 'x_1', 'x_6'}\n"
     ]
    }
   ],
   "source": [
    "pairs, arcs, aplus = er.generate_compatibility_graph(size=12, seed=2)\n",
    "cycles = er.find_all_cycles(aplus, max_length=4, cap=None)\n",
    "sol, tme, _ = er.cycle_formulation(pairs, cycles, tlim=10, verbose=1)\n",
    "print({k for k, v in sol.items() if v != 0 and k != 'objective'})"
   ]
  },
  {
   "cell_type": "markdown",
   "metadata": {
    "slideshow": {
     "slide_type": "subslide"
    }
   },
   "source": [
    "## Scalability Issue\n",
    "\n",
    "**The main drawback of the cycle formulation is the limited scalability**\n",
    "\n",
    "* The number of cycles grows with the graph size\n",
    "* ...with a high-degree polynomial law, i.e. $O(n^{\\text{max length}})$\n",
    "* The enumeration becomes _more expensive_ and the model becomes _larger_\n",
    "\n",
    "**Both can quickly become major bottlenecks**"
   ]
  },
  {
   "cell_type": "code",
   "execution_count": 8,
   "metadata": {},
   "outputs": [
    {
     "name": "stdout",
     "output_type": "stream",
     "text": [
      ">>> Size 150, enumeration time\n",
      "CPU times: user 10.4 s, sys: 0 ns, total: 10.4 s\n",
      "Wall time: 10.4 s\n",
      "Number of cycles: 43206\n",
      ">>> Size 150, solution time\n",
      "CPU times: user 3.43 s, sys: 23.2 ms, total: 3.45 s\n",
      "Wall time: 3.46 s\n"
     ]
    }
   ],
   "source": [
    "pairs2, arcs2, aplus2 = er.generate_compatibility_graph(size=150, seed=2)\n",
    "print('>>> Size 150, enumeration time')\n",
    "%time cycles2 = er.find_all_cycles(aplus2, max_length=4, cap=None)\n",
    "print(f'Number of cycles: {len(cycles2)}')\n",
    "print('>>> Size 150, solution time')\n",
    "%time _, _, _ = er.cycle_formulation(pairs2, cycles2, tlim=10, verbose=0)"
   ]
  },
  {
   "cell_type": "markdown",
   "metadata": {},
   "source": [
    "Apparently, this will completely kill our scalability: is there a way around?"
   ]
  },
  {
   "cell_type": "markdown",
   "metadata": {
    "slideshow": {
     "slide_type": "subslide"
    }
   },
   "source": [
    "# Column Generation"
   ]
  },
  {
   "cell_type": "markdown",
   "metadata": {
    "slideshow": {
     "slide_type": "subslide"
    }
   },
   "source": [
    "## Column Generation and Dual Multipliers\n",
    "\n",
    "**_Column Generation_ is a technique for solving problems with many variables**\n",
    "\n",
    "* Main idea: dynamically generate only the variables that are _needed_\n",
    "* I.e. that have a chance of being part of an optimal solution\n",
    "\n",
    "The technique is mainly designed for Linear Programs\n",
    "\n",
    "**How is this achieved?**\n",
    "\n",
    "Say we have a Linear Program  in the form:\n",
    "$$\\min \\{cx \\mid Ax \\geq b, x\\geq 0\\}$$\n",
    "\n",
    "* This can be solved in polynomial time with Interior Point algorithm\n",
    "* ...Or in pseudo-polynomial time with the Simplex algorithm\n",
    "* Both provide optimal values $x^*$ for the _primal variables_\n",
    "* ...But also a vector of optimal _dual multipliers $\\lambda$_ (or _dual variables_)"
   ]
  },
  {
   "cell_type": "markdown",
   "metadata": {
    "slideshow": {
     "slide_type": "subslide"
    }
   },
   "source": [
    "## Column Generation and Dual Multipliers\n",
    "\n",
    "**The multipliers stem from an alternative problem formulation**\n",
    "\n",
    "...Where we minimize a cost that includes _penalties_ for violating the constraints:\n",
    "\n",
    "$$\n",
    "cx + \\lambda^T (b - Ax)\n",
    "$$\n",
    "\n",
    "* $\\lambda$ is a vector of multipliers (a.k.a. dual variables)\n",
    "* ...Each one is associated to a problem constraint\n",
    "\n",
    "**Remember we are supposed to have $Ax \\geq b$. Therefore:**\n",
    "\n",
    "* If $b_i - A_ix \\geq 0$ it means we have a _constraint violation_\n",
    "  - ...And we receive a _penalty_ given by $\\lambda_i \\times$ the violation\n",
    "* If $b_i - A_ix < 0$ the constraint is _satisfied with a slack_\n",
    "  - ...And we receive a _reward_ given by $\\lambda_i \\times$ the violation\n",
    "\n",
    "\n"
   ]
  },
  {
   "cell_type": "markdown",
   "metadata": {
    "slideshow": {
     "slide_type": "subslide"
    }
   },
   "source": [
    "## Column Generation and Dual Multipliers\n",
    "\n",
    "**When an LP solves problem, it also solves its _dual version_**\n",
    "\n",
    "* The goal is to set the dual multipliers _just right_\n",
    "* ...So that they discourage violating the constraints\n",
    "* ...And so that we accumulate no unnecessary reward\n",
    "\n",
    "**Without getting into the details...**\n",
    "\n",
    "...For any optimal solution $x^*$ we have that:\n",
    "\n",
    "* If a constraint $i$ is _satisfied with a slack_, then $\\lambda_i = 0$\n",
    "  - In the alternative formulation, we receive no reward for the slack\n",
    "  - ...Since we need to incentive for satisfying the constraint\n",
    "* If a constraint $i$ is _tight_, then $\\lambda_i \\geq 0$:\n",
    "  - Any violation would incur a penalty proportional to $\\lambda_i$\n",
    "  - ...So there is an incentive for not violating the constraints"
   ]
  },
  {
   "cell_type": "markdown",
   "metadata": {
    "slideshow": {
     "slide_type": "subslide"
    }
   },
   "source": [
    "## Cycle Formulation LP\n",
    "\n",
    "**Let's see this in action on our problem**\n",
    "\n",
    "* First, we need to consider the LP relaxation of our integer program\n",
    "* ...And we need to rewrite it in standard form:\n",
    "\n",
    "$$\\begin{align}\n",
    "\\min z & = \\sum_{i=j}^n -w_j x_j \\\\\n",
    "\\text{s.t. } & \\sum_{j=1}^n -a_{ij} x_j \\geq -1 & \\forall i = 1..m \\\\\n",
    "& x_j \\geq 0 & \\forall j = 1..n\n",
    "\\end{align}$$\n",
    "\n",
    "Besides removing the integrality constraints, we:\n",
    "\n",
    "* ...Switched the optimization direction (from max to min)\n",
    "* ...Switched the direction of the constraints"
   ]
  },
  {
   "cell_type": "markdown",
   "metadata": {
    "slideshow": {
     "slide_type": "subslide"
    }
   },
   "source": [
    "## Cycle Formulation LP\n",
    "\n",
    "**We can now modify our model-building function**\n",
    "\n",
    "The function should build a Linear Program in the expected format:\n",
    "\n",
    "```python\n",
    "def cycle_formulation(pairs, cycles, tlim=None, relaxation=False, verbose=1):\n",
    "    if relaxation: # Build the solver\n",
    "        slv = pywraplp.Solver.CreateSolver('CLP')\n",
    "    else:\n",
    "        slv = pywraplp.Solver.CreateSolver('CBC')\n",
    "    ...\n",
    "```\n",
    "\n",
    "* We have added an optional `relaxation` parameter\n",
    "* We use [the CLP solver](https://github.com/coin-or/Clp) (the fastest with a fully permissive license)"
   ]
  },
  {
   "cell_type": "markdown",
   "metadata": {
    "slideshow": {
     "slide_type": "subslide"
    }
   },
   "source": [
    "## Cycle Formulation LP\n",
    "\n",
    "**We need to build continuous, rather than integer, variables**\n",
    "\n",
    "```python\n",
    "def cycle_formulation(pairs, cycles, tlim=None, relaxation=False, verbose=1):\n",
    "    ...\n",
    "    if relaxation: # variables\n",
    "        x = [slv.NumVar(0, infinity, f'x_{j}') for j in range(ncycles)]\n",
    "    else:\n",
    "        x = [slv.IntVar(0, 1, f'x_{j}') for j in range(ncycles)]\n",
    "```\n",
    "\n",
    "**We also post the constraints in the format used in our theoretical arguments:**\n",
    "\n",
    "```python\n",
    "def cycle_formulation(pairs, cycles, tlim=None, relaxation=False, verbose=1):\n",
    "    ...\n",
    "    for i in range(npairs): # constraints\n",
    "        if relaxation:\n",
    "            slv.Add(-sum(x[j] for j in cpp[i]) >= -1)\n",
    "        else:\n",
    "            slv.Add(sum(x[j] for j in cpp[i]) <= 1)\n",
    "```"
   ]
  },
  {
   "cell_type": "markdown",
   "metadata": {
    "slideshow": {
     "slide_type": "subslide"
    }
   },
   "source": [
    "## Cycle Formulation LP\n",
    "\n",
    "**The same goes for the problem objective**\n",
    "\n",
    "```python\n",
    "def cycle_formulation(pairs, cycles, tlim=None, relaxation=False, verbose=1):\n",
    "    obj = sum(len(c) * x[j] for j, c in enumerate(cycles))\n",
    "    if relaxation: # objective\n",
    "        slv.Minimize(-obj)\n",
    "    else:\n",
    "        slv.Maximize(obj)\n",
    "```\n",
    "\n",
    "**Once we have a solution, we can obtain the dual multipliers from the solver**\n",
    "\n",
    "```python\n",
    "def cycle_formulation(pairs, cycles, tlim=None, relaxation=False, verbose=1):\n",
    "    ...\n",
    "    duals = None\n",
    "    if status in (slv.OPTIMAL, slv.FEASIBLE):\n",
    "        ...\n",
    "        if relaxation:\n",
    "            duals = np.array([c.dual_value() for c in slv.constraints()])\n",
    "    ...\n",
    "```"
   ]
  },
  {
   "cell_type": "markdown",
   "metadata": {
    "slideshow": {
     "slide_type": "subslide"
    }
   },
   "source": [
    "## Cycle Formulation LP\n",
    "\n",
    "**Now, let's try to solve the LP**"
   ]
  },
  {
   "cell_type": "code",
   "execution_count": 8,
   "metadata": {},
   "outputs": [
    {
     "name": "stdout",
     "output_type": "stream",
     "text": [
      "Solution time: 0.001, objective value: -6.0 (optimal)\n",
      "(7, 8)\n",
      "(5, 6)\n",
      "(0, 3)\n",
      "Dual multipliers: [0. 0. 0. 2. 0. 2. 0. 2. 0. 0. 0. 0.]\n"
     ]
    }
   ],
   "source": [
    "pairs, arcs, aplus = er.generate_compatibility_graph(size=12, seed=2)\n",
    "cycles = er.find_all_cycles(aplus, max_length=4, cap=None)\n",
    "sol, tme, duals = er.cycle_formulation(pairs, cycles, tlim=10, verbose=1, relaxation=True)\n",
    "for i, c in enumerate(cycles):\n",
    "    if sol[f'x_{i}'] == 1: print(c)\n",
    "print(f'Dual multipliers: {duals}')"
   ]
  },
  {
   "cell_type": "markdown",
   "metadata": {},
   "source": [
    "* We have one multiplier per constraint, i.e. one per graph node in our case\n",
    "* The non-zero $\\lambda$ are associated to nodes used by the selected cycles\n",
    "  - ...Meaning that their associated constraints are tight\n",
    "* The cost is negative, since we have negated the original objective formula"
   ]
  },
  {
   "cell_type": "markdown",
   "metadata": {
    "slideshow": {
     "slide_type": "subslide"
    }
   },
   "source": [
    "## Reduced Costs\n",
    "\n",
    "**Now, let $x$ be a feasible LP solution, and $\\lambda$ its dual multiplier vector**\n",
    "\n",
    "The multipliers can be used to compute the \"gradient of the constrained problem\"\n",
    "\n",
    "* Technically, we will use the _gradient of the Lagrangian relaxation_\n",
    "* Such gradient comes as a _closed-form_ formula, given by:\n",
    "\n",
    "$$\n",
    "\\nabla_x\\left(cx + \\lambda (b - Ax)\\right)\n",
    "$$\n",
    "\n",
    "* The expression $b - Ax$ represent the violation/slack for constraints $Ax \\geq b$\n",
    "\n",
    "\n",
    "**The gradient can be rewritten as:**\n",
    "$$\n",
    "c - \\lambda A\n",
    "$$\n",
    "\n",
    "* Each component this gradient is known as _reduced cost_\n",
    "* If $x^*$ is optimal, the gradient (i.e. the reduced costs) will be null"
   ]
  },
  {
   "cell_type": "markdown",
   "metadata": {
    "slideshow": {
     "slide_type": "subslide"
    }
   },
   "source": [
    "## Reduced Costs\n",
    "\n",
    "**Now, for a _suboptimal_ solution $x$, the gradient will be _non null_**\n",
    "\n",
    "I.e. there will be negative components (reduced costs) in:\n",
    "$$\n",
    "c - \\lambda A\n",
    "$$\n",
    "\n",
    "Actually, this is just a _necessary condition_:\n",
    "\n",
    "* Moving in the gradient direction may improve the cost or keep it unaltered\n",
    "  - ...It will never make it worse\n",
    "* Overall, there is a chance for improving $x$ _only if some reduced cost is negative_\n",
    "\n",
    "**The reduced costs come in closed-form**\n",
    "\n",
    "* Given $\\lambda$, for computing the reduced costs we just need the the coefficients in $A$\n",
    "* This mean we can compute the reduced costs\n",
    "* ...Also for _variables that are not yet in the problem_"
   ]
  },
  {
   "cell_type": "markdown",
   "metadata": {
    "slideshow": {
     "slide_type": "subslide"
    }
   },
   "source": [
    "## Reduced Costs and Column Generation\n",
    "\n",
    "**This observation suggest as criterion for dynamically adding variables**\n",
    "\n",
    "<center><img src=\"assets/cg.png\" width=\"900px\"/></center>\n",
    "\n",
    "* We start by solving an LP with a _subset of the variables_\n",
    "  - Its solution will be _feasible_, but _not necessarily optimal_\n",
    "* We consider the remaining variables (with their coefficients in $A$)\n",
    "  - ...And we compute their _reduced costs_ (pricing problem)\n",
    "* If there are no _variables with negative r.c._, we know our LP solution is optimal\n",
    "* Otherwise, we repeat add such variables and repeat the process\n"
   ]
  },
  {
   "cell_type": "markdown",
   "metadata": {
    "slideshow": {
     "slide_type": "subslide"
    }
   },
   "source": [
    "## Pricing Problem\n",
    "\n",
    "**In our case the pricing problem should consider (in principle) all cycles**\n",
    "\n",
    "This is an issue, since enumeration can be very expensive\n",
    "\n",
    "* But we _do not need to enumerate_!\n",
    "* ...We can focus on _the most negative red. costs_\n",
    "\n",
    "This is enough to check whether there is any negative reduced cost\n",
    "\n",
    "**Let's have a look at our specific reduced costs structure:**\n",
    "\n",
    "$$c - \\lambda^* A = \\left(\\begin{array}{c}\n",
    "\\vdots \\\\\n",
    "-w_j - \\sum_{i=1}^m -a_{ij} \\lambda_i\\\\\n",
    "\\vdots\n",
    "\\end{array}\\right) = \\left(\\begin{array}{c}\n",
    "\\vdots \\\\\n",
    "\\sum_{i=1}^m a_{ij} (-1 + \\lambda_i)\\\\\n",
    "\\vdots\n",
    "\\end{array}\\right)$$\n",
    "\n",
    "* The equivalence holds since $w_j = \\sum_{i=1}^m a_{ij}$ (num. nodes in the cycle)"
   ]
  },
  {
   "cell_type": "markdown",
   "metadata": {
    "slideshow": {
     "slide_type": "subslide"
    }
   },
   "source": [
    "## Pricing Problem\n",
    "\n",
    "**Let's try to understand this a bit better**\n",
    "\n",
    "$$\\left(\\begin{array}{c}\n",
    "\\vdots \\\\\n",
    "\\sum_{i=1}^m a_{ij} (-1 + \\lambda^*_i)\\\\\n",
    "\\vdots\n",
    "\\end{array}\\right)$$\n",
    "\n",
    "* If we include node $i$ in a cycle $j$, then $a_{ij} = 1$\n",
    "* Therefore, we incur a cost of $-1 + \\lambda^*_i$\n",
    "\n",
    "**So, searching for the most negative reduced costs...**\n",
    "\n",
    "* ...Is equivalent to searching for _minimum weight cycles_\n",
    "* ...With weights given by: $-1 + \\lambda^*_i$\n",
    "\n",
    "We also have a constraint on the maximum number of nodes per cycles"
   ]
  },
  {
   "cell_type": "markdown",
   "metadata": {
    "slideshow": {
     "slide_type": "subslide"
    }
   },
   "source": [
    "## Constrained Minimum Cycle Weight \n",
    "\n",
    "**We will base our pricing algorithm on a Time Unfolded version of our graph**\n",
    "\n",
    "* An unfolded graph contains one copy of each original node per time unit\n",
    "* In our case, time units correspond to possible cycle lengths \n",
    "\n",
    "For our example graph, we get:\n",
    "\n",
    "<center><img src=\"assets/tug0.png\" width=\"500px\"/></center>\n",
    "\n",
    "Since the maximum length is 4, there is no need to unfold beyond that"
   ]
  },
  {
   "cell_type": "markdown",
   "metadata": {
    "slideshow": {
     "slide_type": "subslide"
    }
   },
   "source": [
    "## Constrained Minimum Cycle Weight \n",
    "\n",
    "**The time-unfolded graph is _layered_**\n",
    "\n",
    "* There are no arcs between nodes associated to the same time unit\n",
    "* Arcs connect node associated to contiguous time units\n",
    "\n",
    "<center><img src=\"assets/tug1.png\" width=\"500px\"/></center>\n",
    "\n",
    "Since the graph is acyclic, shortest paths can be found using _Dijkstra's algorithm_"
   ]
  },
  {
   "cell_type": "markdown",
   "metadata": {
    "slideshow": {
     "slide_type": "subslide"
    }
   },
   "source": [
    "## Constrained Minimum Cycle Weight \n",
    "\n",
    "**We can process _one layer at a time_**\n",
    "\n",
    "* We start at layer 1, from a given _root node_ (1, in the figure)\n",
    "* We consider all outgoing arcs\n",
    "\n",
    "<center><img src=\"assets/tug2.png\" width=\"500px\"/></center>\n",
    "\n",
    "We _update the shortest path_ to the destination nodes as usual in Dijkstra's "
   ]
  },
  {
   "cell_type": "markdown",
   "metadata": {
    "slideshow": {
     "slide_type": "subslide"
    }
   },
   "source": [
    "## Constrained Minimum Cycle Weight \n",
    "\n",
    "**We then start from all visited nodes, and proceed as before**\n",
    "\n",
    "* If we end up _visiting the root node again_, we have found a cycle\n",
    "* This is a shortest cycle including the root node, for the current length\n",
    "\n",
    "<center><img src=\"assets/tug3.png\" width=\"500px\"/></center>\n",
    "\n",
    "We _store_ all these cycles (in this case, we store the cycle 1-4 for the path 1-4-1)"
   ]
  },
  {
   "cell_type": "markdown",
   "metadata": {
    "slideshow": {
     "slide_type": "subslide"
    }
   },
   "source": [
    "## Constrained Minimum Cycle Weight \n",
    "\n",
    "**Nodes that close a cycle count as non-visited**\n",
    "\n",
    "* If we end up visiting a non-root node that is on the shortest path\n",
    "* ...Then we have found a path with a sub-cycles\n",
    "\n",
    "<center><img src=\"assets/tug4.png\" width=\"500px\"/></center>\n",
    "\n",
    "We _do not store_ such paths (e.g., we store a cycle for 1-2-3-1, but not 1-2-3-2)"
   ]
  },
  {
   "cell_type": "markdown",
   "metadata": {
    "slideshow": {
     "slide_type": "subslide"
    }
   },
   "source": [
    "## Constrained Minimum Cycle Weight \n",
    "\n",
    "**We proceed until that maximum length is reached**\n",
    "\n",
    "* ...Or until a given layer contains no visited nodes\n",
    "* Then we can restart from another root node\n",
    "\n",
    "<center><img src=\"assets/tug4.png\" width=\"500px\"/></center>\n",
    "\n",
    "In the next restart, we can _ignore all arcs pointing to already considered roots_\n",
    "\n",
    "* Since all shortest cycles containing those nodes have already been found"
   ]
  },
  {
   "cell_type": "markdown",
   "metadata": {
    "slideshow": {
     "slide_type": "subslide"
    }
   },
   "source": [
    "## Constrained Minimum Cycle Weight - Implementation\n",
    "\n",
    "**The bulk of the computation is done by this function**\n",
    "\n",
    "```python\n",
    "def shortest_cycles_from_root(root, aplus, weights, max_len):\n",
    "    spt = {root: {root}} # initial shortest paths\n",
    "    dst = {root: weights[root]} # shortest path distances\n",
    "    cycles, ccosts = [], []\n",
    "    for k in range(max_len): # loop over the possible cycle lengths\n",
    "        ndst, nspt = {}, {}\n",
    "        for i in dst: # process all visited nodes\n",
    "            for j in aplus[i]: # loop over outgoing arcs\n",
    "                if j == root: # detect cycles\n",
    "                    cycles.append(spt[i])\n",
    "                    ccosts.append(dst[i])\n",
    "                elif j in spt[i]: # skip subcycles\n",
    "                    continue \n",
    "                elif j not in ndst or dst[i] + weights[j] < ndst[j]: # Dijkstra update\n",
    "                    ndst[j] = dst[i] + weights[j]\n",
    "                    nspt[j] = spt[i] | {j}\n",
    "        dst, spt = ndst, nspt\n",
    "    return cycles, ccosts\n",
    "```"
   ]
  },
  {
   "cell_type": "markdown",
   "metadata": {
    "slideshow": {
     "slide_type": "subslide"
    }
   },
   "source": [
    "## Constrained Minimum Cycle Weight - Implementation\n",
    "\n",
    "**Initially, the only shortest path include the root alone**\n",
    "\n",
    "```python\n",
    "def shortest_cycles_from_root(root, aplus, weights, max_len):\n",
    "    spt = {root: {root}} # initial shortest paths\n",
    "    dst = {root: weights[root]} # shortest path distances\n",
    "```\n",
    "\n",
    "**We process one layer at a time:**\n",
    "\n",
    "```python\n",
    "def shortest_cycles_from_root(root, aplus, weights, max_len):\n",
    "    ...\n",
    "    cycles, ccosts = [], []\n",
    "    for k in range(max_len): # loop over the possible cycle lengths\n",
    "        ...\n",
    "    return cycles, ccosts\n",
    "```\n",
    "\n",
    "* At the end of the computation we return the shortest paths\n",
    "* ...And their costs/weights"
   ]
  },
  {
   "cell_type": "markdown",
   "metadata": {
    "slideshow": {
     "slide_type": "subslide"
    }
   },
   "source": [
    "## Constrained Minimum Cycle Weight - Implementation\n",
    "\n",
    "**At each layer, we build the shortest paths to the next layer**\n",
    "\n",
    "```python\n",
    "def shortest_cycles_from_root(root, aplus, weights, max_len):\n",
    "    ...\n",
    "    for k in range(max_len): # loop over the possible cycle lengths\n",
    "        ndst, nspt = {}, {}\n",
    "        for i in dst: # process all visited nodes\n",
    "            for j in aplus[i]: # loop over outgoing arcs\n",
    "                ...\n",
    "        dst, spt = ndst, nspt\n",
    "    ...\n",
    "```\n",
    "\n",
    "* We process all \"visited\" nodes, which are in `dst`\n",
    "* I.e. those having a valid shortest path for the current length\n",
    "* Then we loop over all their outgoing arcs"
   ]
  },
  {
   "cell_type": "markdown",
   "metadata": {
    "slideshow": {
     "slide_type": "subslide"
    }
   },
   "source": [
    "## Constrained Minimum Cycle Weight - Implementation\n",
    "\n",
    "**How we deal with each outgoing arc depends on the current situation**\n",
    "\n",
    "```python\n",
    "def shortest_cycles_from_root(root, aplus, weights, max_len):\n",
    "            ...\n",
    "            for j in aplus[i]: # loop over outgoing arcs\n",
    "                if j == root: # detect cycles\n",
    "                    cycles.append(spt[i])\n",
    "                    ccosts.append(dst[i])\n",
    "                elif j in spt[i]: # skip subcycles\n",
    "                    continue \n",
    "                elif j not in ndst or dst[i] + weights[j] < ndst[j]: # Dijkstra update\n",
    "                    ndst[j] = dst[i] + weights[j]\n",
    "                    nspt[j] = spt[i] | {j}\n",
    "            ...\n",
    "```\n",
    "\n",
    "* If we detect a cycle to the root, we store it\n",
    "* If we detect a sub-cycle, we disregard it\n",
    "* Otherwise, we keep building the shortest path using Dijkstra's method"
   ]
  },
  {
   "cell_type": "markdown",
   "metadata": {
    "slideshow": {
     "slide_type": "subslide"
    }
   },
   "source": [
    "## Constrained Minimum Cycle Weight - Implementation\n",
    "\n",
    "**The previous function is called for each possible root**\n",
    "\n",
    "```python\n",
    "def shortest_cycles(aplus, weights, max_len):\n",
    "    aminus = {i:[] for i in aplus} # graph in backward star format\n",
    "    for i, alist in aplus.items():\n",
    "        for j in alist: aminus[j].append(i)\n",
    "    aplus = copy.deepcopy(aplus) # copy of the forward star\n",
    "    cycles, ccosts = [], []\n",
    "    for root in range(len(weights)): # loop over possible roots\n",
    "        # Collect shortest paths from this root\n",
    "        tcl, tct = shortest_cycles_from_root(root, aplus, weights, max_len)\n",
    "        cycles += tcl\n",
    "        ccosts += tct\n",
    "        for i in aminus[root]: # remove all forward arcs twd the processed root\n",
    "            aplus[i].remove(root)\n",
    "    return cycles, ccosts\n",
    "```\n",
    "\n",
    "* After a root is processed, we have all shortest cycles involving that node\n",
    "* ...Therefore we can disregard it in all future iterations"
   ]
  },
  {
   "cell_type": "markdown",
   "metadata": {
    "slideshow": {
     "slide_type": "subslide"
    }
   },
   "source": [
    "## Constrained Minimum Cycle Weight\n",
    "\n",
    "**The process returns (at most) one cycle per root node and per valid weight**\n",
    "\n",
    "For our example graph, we have:"
   ]
  },
  {
   "cell_type": "code",
   "execution_count": 9,
   "metadata": {},
   "outputs": [
    {
     "name": "stdout",
     "output_type": "stream",
     "text": [
      "[{0, 3}, {0, 7}, {0, 1, 3, 7}, {1, 3}, {1, 7}, {8, 1, 3, 7}, {8, 3}, {5, 6}, {8, 7}]\n",
      "[0.0, 0.0, 0.0, 0.0, 0.0, 0.0, 0.0, 0.0, 0.0]\n"
     ]
    }
   ],
   "source": [
    "weights = -np.ones(len(pairs)) + duals\n",
    "scl, sct = er.shortest_cycles(aplus, weights, max_len=4)\n",
    "print(scl)\n",
    "print(sct)"
   ]
  },
  {
   "cell_type": "markdown",
   "metadata": {},
   "source": [
    "* All shortest cycles have non-negative reduced costs\n",
    "* This is expected since the dual multiplier refer to an optimal solution\n",
    "\n",
    "**Focusing on minimum weight cycles gives a _massive speed improvement_:**"
   ]
  },
  {
   "cell_type": "code",
   "execution_count": 10,
   "metadata": {},
   "outputs": [
    {
     "name": "stdout",
     "output_type": "stream",
     "text": [
      "CPU times: user 92.5 ms, sys: 0 ns, total: 92.5 ms\n",
      "Wall time: 92.3 ms\n"
     ]
    }
   ],
   "source": [
    "pairs2, arcs2, aplus2 = er.generate_compatibility_graph(size=150, seed=2)\n",
    "%time cycles2, _ = er.shortest_cycles(aplus2, weights=-np.ones(len(pairs2)), max_len=4)"
   ]
  },
  {
   "cell_type": "markdown",
   "metadata": {
    "slideshow": {
     "slide_type": "subslide"
    }
   },
   "source": [
    "## Column Generation\n",
    "\n",
    "**We can now inspect the column generation method itself**\n",
    "\n",
    "```python\n",
    "def cycle_formulation_cg(pairs, aplus, max_len, itcap=10, tol=1e-3, verbose=1):\n",
    "    weights = -np.ones(len(pairs)) # initial cycle pool\n",
    "    cycles, _ = er.shortest_cycles(aplus, weights, max_len=max_len)\n",
    "    converged = False # main loop\n",
    "    for itn in range(itcap):\n",
    "        sol, stime, duals = er.cycle_formulation(pairs, cycles, verbose=0, relaxation=True)\n",
    "        if verbose > 0: ...\n",
    "        weights = -np.ones(len(pairs)) + duals # shortest paths\n",
    "        scl, sct = er.shortest_cycles(aplus, weights, max_len=max_len)\n",
    "        nrc_cycles = [scl[i] for i, c in enumerate(sct) if c < -tol] # negative r.c.\n",
    "        if verbose > 0: ...\n",
    "        if len(nrc_cycles) == 0: # no improvement possible\n",
    "            converged = True\n",
    "            break\n",
    "        else: cycles += nrc_cycles # add new arcs\n",
    "    return cycles, converged\n",
    "```"
   ]
  },
  {
   "cell_type": "markdown",
   "metadata": {
    "slideshow": {
     "slide_type": "subslide"
    }
   },
   "source": [
    "## Column Generation\n",
    "\n",
    "**The initial pool of variables corresponds to all shortest cycles**\n",
    "\n",
    "```python\n",
    "def cycle_formulation_cg(pairs, aplus, max_len, itcap=10, tol=1e-3, verbose=1):\n",
    "    weights = -np.ones(len(pairs)) # initial cycle pool\n",
    "    cycles, _ = er.shortest_cycles(aplus, weights, max_len=max_len)\n",
    "```\n",
    "\n",
    "* The cycle weight is just the number of nodes\n",
    "\n",
    "**Then we start the main loop**\n",
    "\n",
    "```python\n",
    "def cycle_formulation_cg(pairs, aplus, max_len, itcap=10, tol=1e-3, verbose=1):\n",
    "    ...\n",
    "    converged = False # main loop\n",
    "    for itn in range(itcap):\n",
    "        ...\n",
    "    return cycles, converged\n",
    "```\n",
    "\n",
    "* At the end we return the optimized cycle pool, plus convergence flag"
   ]
  },
  {
   "cell_type": "markdown",
   "metadata": {
    "slideshow": {
     "slide_type": "subslide"
    }
   },
   "source": [
    "## Column Generation\n",
    "\n",
    "**At each iteration, we solve the LP relaxation**\n",
    "\n",
    "```python\n",
    "def cycle_formulation_cg(pairs, aplus, max_len, itcap=10, tol=1e-3, verbose=1):\n",
    "    ...\n",
    "    for itn in range(itcap):\n",
    "        sol, stime, duals = er.cycle_formulation(pairs, cycles, verbose=0, relaxation=True)\n",
    "        if verbose > 0: ...\n",
    "```\n",
    "\n",
    "**Then we find all shortest cycles**\n",
    "\n",
    "```python\n",
    "def cycle_formulation_cg(pairs, aplus, max_len, itcap=10, tol=1e-3, verbose=1):\n",
    "    ...\n",
    "    for itn in range(itcap):\n",
    "        ...\n",
    "        weights = -np.ones(len(pairs)) + duals # shortest paths\n",
    "        scl, sct = er.shortest_cycles(aplus, weights, max_len=max_len)\n",
    "        ...\n",
    "```"
   ]
  },
  {
   "cell_type": "markdown",
   "metadata": {
    "slideshow": {
     "slide_type": "subslide"
    }
   },
   "source": [
    "## Column Generation\n",
    "\n",
    "**Then we detect the cycles with negative reduced costs**\n",
    "\n",
    "```python\n",
    "def cycle_formulation_cg(pairs, aplus, max_len, itcap=10, tol=1e-3, verbose=1):\n",
    "    ...\n",
    "    for itn in range(itcap):\n",
    "        ...\n",
    "        nrc_cycles = [scl[i] for i, c in enumerate(sct) if c < -tol] # negative r.c.\n",
    "        if verbose > 0: ...\n",
    "        if len(nrc_cycles) == 0: # no improvement possible\n",
    "            converged = True\n",
    "            break\n",
    "        else: cycles += nrc_cycles # add new arcs\n",
    "```\n",
    "\n",
    "* LP solvers operate withing tolerances, so it's a good idea to use one\n",
    "* If there are not cycles with negative r.c. we have converged\n",
    "* Otherwise, we add all arcs with negative r.c. to the problem\n",
    "\n",
    "Adding multiple arcs is usually a good idea in Column Generation"
   ]
  },
  {
   "cell_type": "markdown",
   "metadata": {
    "slideshow": {
     "slide_type": "subslide"
    }
   },
   "source": [
    "## Column Generation - Correctness\n",
    "\n",
    "**It's time to test the approach. We will initially focus on correctness**\n",
    "\n",
    "We generate a graph:"
   ]
  },
  {
   "cell_type": "code",
   "execution_count": 26,
   "metadata": {},
   "outputs": [],
   "source": [
    "pairs, arcs, aplus = er.generate_compatibility_graph(size=100, seed=2)"
   ]
  },
  {
   "cell_type": "markdown",
   "metadata": {},
   "source": [
    "Then we solve the GC formulation:"
   ]
  },
  {
   "cell_type": "code",
   "execution_count": 27,
   "metadata": {},
   "outputs": [
    {
     "name": "stdout",
     "output_type": "stream",
     "text": [
      "(CG, it. 0), #cycles: 839, time: 0.038, relaxation objective: -36.00\n",
      "(CG, it. 0), #cycles with negative reduced cost: 0\n"
     ]
    }
   ],
   "source": [
    "cycles_cg, _  = er.cycle_formulation_cg(pairs, aplus, max_len=4, itcap=10)"
   ]
  },
  {
   "cell_type": "markdown",
   "metadata": {},
   "source": [
    "And we compare it with the approach based on full enumeration:"
   ]
  },
  {
   "cell_type": "code",
   "execution_count": 28,
   "metadata": {},
   "outputs": [
    {
     "name": "stdout",
     "output_type": "stream",
     "text": [
      "(Full formulation) #cycles: 9890, time: 1.29, relaxation objective: -36.00\n"
     ]
    }
   ],
   "source": [
    "cycles_cf = er.find_all_cycles(aplus, max_length=4, cap=None)\n",
    "sol, stime, duals = er.cycle_formulation(pairs, cycles_cf, tlim=10, verbose=0, relaxation=True)\n",
    "print(f'(Full formulation) #cycles: {len(cycles_cf)}, time: {stime}, relaxation objective: {sol[\"objective\"]:.2f}')"
   ]
  },
  {
   "cell_type": "markdown",
   "metadata": {
    "slideshow": {
     "slide_type": "subslide"
    }
   },
   "source": [
    "## Column Generation - Downstream IP\n",
    "\n",
    "**After we solve the CG formulation, we still don't have an actual solution**\n",
    "\n",
    "* We have an optimal solution _of the LP relaxation_\n",
    "* ...Which may violate the integrality constraints\n",
    "\n",
    "**A simple strategy: keep the set of variables and solve the original problem**"
   ]
  },
  {
   "cell_type": "code",
   "execution_count": 29,
   "metadata": {},
   "outputs": [
    {
     "name": "stdout",
     "output_type": "stream",
     "text": [
      "Solution time: 0.048, objective value: 36.0 (optimal)\n"
     ]
    }
   ],
   "source": [
    "sol, tme, _ = er.cycle_formulation(pairs, cycles_cg, tlim=30, verbose=1)"
   ]
  },
  {
   "cell_type": "markdown",
   "metadata": {},
   "source": [
    "This one is guarantee optimal _only if the LP-IP gap is zero_ (as in our case)\n",
    "\n",
    "* Otherwise, we should start branching (leading to Branch & Price approaches)\n",
    "* In practice, if the master problem formulation has a good LP bound\n",
    "* ...Then even this simple sequential approach will lead good results"
   ]
  },
  {
   "cell_type": "markdown",
   "metadata": {
    "slideshow": {
     "slide_type": "subslide"
    }
   },
   "source": [
    "## Column Generation - Scalability\n",
    "\n",
    "**Now we will quickly test the method scalability**\n",
    "\n",
    "Let's try with 300 and 600 pairs:"
   ]
  },
  {
   "cell_type": "code",
   "execution_count": 30,
   "metadata": {},
   "outputs": [
    {
     "name": "stdout",
     "output_type": "stream",
     "text": [
      "(CG, it. 0), #cycles: 8906, time: 0.547, relaxation objective: -122.00\n",
      "(CG, it. 0), #cycles with negative reduced cost: 0\n",
      "Solution time: 0.721, objective value: 122.0 (optimal)\n",
      "CPU times: user 2.72 s, sys: 6.82 ms, total: 2.73 s\n",
      "Wall time: 2.73 s\n"
     ]
    }
   ],
   "source": [
    "%%time\n",
    "pairs2, arcs2, aplus2 = er.generate_compatibility_graph(size=300, seed=2)\n",
    "cycles_cg2, _  = er.cycle_formulation_cg(pairs2, aplus2, max_len=4, itcap=10)\n",
    "_, _, _ = er.cycle_formulation(pairs2, cycles_cg2, tlim=30, verbose=1)"
   ]
  },
  {
   "cell_type": "code",
   "execution_count": 31,
   "metadata": {},
   "outputs": [
    {
     "name": "stdout",
     "output_type": "stream",
     "text": [
      "(CG, it. 0), #cycles: 31010, time: 1.891, relaxation objective: -229.00\n",
      "(CG, it. 0), #cycles with negative reduced cost: 0\n",
      "Solution time: 2.349, objective value: 229.0 (optimal)\n",
      "CPU times: user 13.4 s, sys: 85.6 ms, total: 13.4 s\n",
      "Wall time: 13.5 s\n"
     ]
    }
   ],
   "source": [
    "%%time\n",
    "pairs3, arcs3, aplus3 = er.generate_compatibility_graph(size=600, seed=2)\n",
    "cycles_cg3, _  = er.cycle_formulation_cg(pairs3, aplus3, max_len=4, itcap=10)\n",
    "_, _, _ = er.cycle_formulation(pairs3, cycles_cg3, tlim=30, verbose=1)"
   ]
  },
  {
   "cell_type": "markdown",
   "metadata": {
    "slideshow": {
     "slide_type": "subslide"
    }
   },
   "source": [
    "## Considerations\n",
    "\n",
    "**Column Generation can be a very useful technique**\n",
    "\n",
    "* It is little known outside the Combinatorial Optimization community\n",
    "* ...But it can provide massive scalability improvements\n",
    "* ...And it can lead to simpler problem formulations\n",
    "\n",
    "**The key is a clean master problem**\n",
    "\n",
    "* The method works well if the master problem has a high-quality LP relaxation\n",
    "* Usually, this is the case if the master has a clean structure\n",
    "  - E.g. multi-knapsack, set covering, assignment problems...\n",
    "* The trick is packing the complexity _in the definition of the problem variables_\n",
    "\n",
    "**Combinatorial optimization can be used also in the pricing problem**\n",
    "\n",
    "* If pricing problem does not admit clean formulation...\n",
    "* ...You can still try and solve it using a combinatorial method (e.g. CP, SMT, MIP...) "
   ]
  }
 ],
 "metadata": {
  "celltoolbar": "Slideshow",
  "kernelspec": {
   "display_name": "Python 3",
   "language": "python",
   "name": "python3"
  },
  "language_info": {
   "codemirror_mode": {
    "name": "ipython",
    "version": 3
   },
   "file_extension": ".py",
   "mimetype": "text/x-python",
   "name": "python",
   "nbconvert_exporter": "python",
   "pygments_lexer": "ipython3",
   "version": "3.6.9"
  },
  "rise": {
   "center": false,
   "transition": "fade"
  }
 },
 "nbformat": 4,
 "nbformat_minor": 4
}
