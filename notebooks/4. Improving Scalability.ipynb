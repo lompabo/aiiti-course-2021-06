{
 "cells": [
  {
   "cell_type": "code",
   "execution_count": 1,
   "metadata": {
    "slideshow": {
     "slide_type": "subslide"
    }
   },
   "outputs": [],
   "source": [
    "# ============================================================\n",
    "# Notebook setup\n",
    "# ============================================================\n",
    "\n",
    "%load_ext autoreload\n",
    "%autoreload 2\n",
    "\n",
    "# Control figure size\n",
    "interactive_figures = True\n",
    "if interactive_figures:\n",
    "    # Normal behavior\n",
    "    %matplotlib widget\n",
    "    figsize=(9, 3)\n",
    "else:\n",
    "    # PDF export behavior\n",
    "    figsize=(14, 5)\n",
    "\n",
    "from util import er\n",
    "import numpy as np\n",
    "from matplotlib import pyplot as plt\n",
    "import pandas as pd\n",
    "from tensorflow import keras\n",
    "from tensorflow.keras import layers, callbacks\n",
    "import tensorflow_probability as tfp\n",
    "from scipy import stats\n",
    "from sklearn import metrics\n",
    "from ortools.sat.python import cp_model\n",
    "import copy\n",
    "\n",
    "# Configuration\n",
    "data_folder = '/app/data'\n",
    "\n",
    "# Load data\n",
    "data = er.load_data(data_folder)\n",
    "data.sort_values(by='Triage', inplace=True);\n",
    "data.reset_index(inplace=True);\n",
    "data.drop(columns='index', inplace=True);\n",
    "\n",
    "# Discard abandons\n",
    "fdata = data[~data['TkCharge'].isnull()]\n",
    "\n",
    "# Fixed problem data\n",
    "capacities = {'visit': 3, 'ultrasound': 2, 'RX': 2}"
   ]
  },
  {
   "cell_type": "markdown",
   "metadata": {
    "slideshow": {
     "slide_type": "slide"
    }
   },
   "source": [
    "# Waiting Time"
   ]
  },
  {
   "cell_type": "markdown",
   "metadata": {
    "slideshow": {
     "slide_type": "subslide"
    }
   },
   "source": [
    "## Waiting Time\n",
    "\n",
    "**So far, we have assumed the makespan as our cost metric**\n",
    "\n",
    "In an ER center, we are likely more interested in the _waiting time_\n",
    "\n",
    "* This can be defined simply as the sum of the start times of the initial tasks\n",
    "\n",
    "$$\n",
    "w = \\sum_{i=1}^n s^{\\mathit{first}}_i\n",
    "$$\n",
    "\n",
    "* Where $s^{\\mathit{first}}_i$ is the start time of the first task of patient $i$\n",
    "\n",
    "**Patients are color-coded: it makes sense to _track different waiting times_**\n",
    "\n",
    "* Ideally, we should also accord priority to the more severe cases\n",
    "* ...But let's do one step at a time"
   ]
  },
  {
   "cell_type": "markdown",
   "metadata": {
    "slideshow": {
     "slide_type": "subslide"
    }
   },
   "source": [
    "## Waiting Time\n",
    "\n",
    "**We can _build waiting time variables_, similar to what we did for the makespan**\n",
    "\n",
    "```python\n",
    "def add_waittime_variables(mdl, levels, codes_by_idx, tasks, eoh):\n",
    "    codes = ['red', 'yellow', 'green', 'white']\n",
    "    fbc = {c: [] for c in codes}\n",
    "    for idx in levels.keys():\n",
    "        fbc[codes_by_idx[idx]].append(tasks[idx, 0, 0])\n",
    "\n",
    "    obj_by_code = {}\n",
    "    for code in codes:\n",
    "        obj_by_code[code] = mdl.NewIntVar(0, len(codes_by_idx)*eoh, f'wt_{code}')\n",
    "        if len(fbc[code]) > 0:\n",
    "            mdl.Add(obj_by_code[code] == sum(t.start for t in fbc[code]))\n",
    "    obj_by_code['all'] = mdl.NewIntVar(0, len(codes_by_idx) * eoh, 'wt_global')\n",
    "    mdl.Add(obj_by_code['all'] ==  sum(obj_by_code[c] for c in codes))\n",
    "    return obj_by_code\n",
    "```"
   ]
  },
  {
   "cell_type": "markdown",
   "metadata": {
    "slideshow": {
     "slide_type": "subslide"
    }
   },
   "source": [
    "## Waiting Time\n",
    "\n",
    "**First, we _collect the first task_ for each patient, by code:**\n",
    "\n",
    "```python\n",
    "def add_waittime_variables(mdl, levels, codes_by_idx, tasks, eoh):\n",
    "    ...\n",
    "    fbc = {c: [] for c in codes}\n",
    "    for idx in levels.keys():\n",
    "        fbc[codes_by_idx[idx]].append(tasks[idx, 0, 0])\n",
    "    ...\n",
    "```\n",
    "\n",
    "**Then, we _build and constrain_ the waiting time variables**\n",
    "\n",
    "```python\n",
    "def add_waittime_variables(mdl, levels, codes_by_idx, tasks, eoh):\n",
    "    ...\n",
    "    obj_by_code = {}\n",
    "    for code in codes:\n",
    "        obj_by_code[code] = mdl.NewIntVar(0, len(codes_by_idx)*eoh, f'wt_{code}')\n",
    "        if len(fbc[code]) > 0:\n",
    "            mdl.Add(obj_by_code[code] == sum(t.start for t in fbc[code]))\n",
    "    obj_by_code['all'] = mdl.NewIntVar(0, len(codes_by_idx) * eoh, f'wt_globai')\n",
    "    mdl.Add(obj_by_code['all'] ==  sum(obj_by_code[c] for c in codes))\n",
    "    ...\n",
    "```"
   ]
  },
  {
   "cell_type": "markdown",
   "metadata": {
    "slideshow": {
     "slide_type": "subslide"
    }
   },
   "source": [
    "## Waiting Time\n",
    "\n",
    "**We can formulate an _updated problem model_:**"
   ]
  },
  {
   "cell_type": "code",
   "execution_count": 2,
   "metadata": {},
   "outputs": [
    {
     "name": "stdout",
     "output_type": "stream",
     "text": [
      "Solver status: optimal, time(CPU sec): 0.01, objective: 2.0\n",
      "\n",
      "0(green): visit(0-1), RX(1-3), visit(3-4)\n",
      "1(green): visit(0-1), lab(1-5), visit(5-6)\n",
      "2(white): visit(0-1), otolaryngological visit(1-5), visit(5-6)\n",
      "6(green): visit(1-2), ultrasound(2-4), RX(4-6), lab(6-10), CT scan(10-14), visit(14-15), CT scan(15-19), visit(19-20)\n",
      "7(green): visit(1-2)\n"
     ]
    }
   ],
   "source": [
    "npatients = 5\n",
    "mdl = cp_model.CpModel()\n",
    "levels, codes_by_idx = er.build_levels(fdata.iloc[:npatients])\n",
    "eoh = er.get_horizon(levels)\n",
    "rl, dl = {idx:0 for idx in levels}, {idx:eoh for idx in levels}\n",
    "tasks, last = er.add_all_vars(mdl, levels, rl, dl)\n",
    "er.add_all_precedences(mdl, levels, tasks)\n",
    "er.add_cumulatives(mdl, tasks, capacities)\n",
    "er.add_all_no_overlap(mdl, levels, tasks)\n",
    "obj_by_code = er.add_waittime_variables(mdl, levels, codes_by_idx, tasks, eoh)\n",
    "mdl.Minimize(obj_by_code['all'])\n",
    "slv = cp_model.CpSolver()\n",
    "slv.parameters.max_time_in_seconds = 10\n",
    "status = slv.Solve(mdl)\n",
    "er.print_outcome(slv, levels, tasks, codes_by_idx, status)"
   ]
  },
  {
   "cell_type": "markdown",
   "metadata": {
    "slideshow": {
     "slide_type": "subslide"
    }
   },
   "source": [
    "## Evaluation\n",
    "\n",
    "**We will now try to _compare the complexity_ with that of the previous one**"
   ]
  },
  {
   "cell_type": "code",
   "execution_count": 3,
   "metadata": {},
   "outputs": [],
   "source": [
    "def solve_basic_waittime_problem(npatients, capacities):\n",
    "    mdl = cp_model.CpModel()\n",
    "    levels, codes_by_idx = er.build_levels(fdata.iloc[:npatients])\n",
    "    eoh = er.get_horizon(levels)\n",
    "    rl, dl = {idx:0 for idx in levels}, {idx:eoh for idx in levels}\n",
    "    tasks, last = er.add_all_vars(mdl, levels, rl, dl)\n",
    "    er.add_all_precedences(mdl, levels, tasks)\n",
    "    er.add_cumulatives(mdl, tasks, capacities)\n",
    "    er.add_all_no_overlap(mdl, levels, tasks)\n",
    "    obj_by_code = er.add_waittime_variables(mdl, levels, codes_by_idx, tasks, eoh)\n",
    "    mdl.Minimize(obj_by_code['all'])\n",
    "    slv = cp_model.CpSolver()\n",
    "    slv.parameters.max_time_in_seconds = 10 # time limit\n",
    "    status = slv.Solve(mdl)\n",
    "    return status, slv.UserTime()"
   ]
  },
  {
   "cell_type": "markdown",
   "metadata": {
    "slideshow": {
     "slide_type": "subslide"
    }
   },
   "source": [
    "## Evaluation"
   ]
  },
  {
   "cell_type": "code",
   "execution_count": 4,
   "metadata": {},
   "outputs": [
    {
     "data": {
      "application/vnd.jupyter.widget-view+json": {
       "model_id": "e0ba170af97744d393a04bcff2967a90",
       "version_major": 2,
       "version_minor": 0
      },
      "text/html": [
       "\n",
       "            <div style=\"display: inline-block;\">\n",
       "                <div class=\"jupyter-widgets widget-label\" style=\"text-align: center;\">\n",
       "                    Figure\n",
       "                </div>\n",
       "                <img src='data:image/png;base64,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' width=900.0/>\n",
       "            </div>\n",
       "        "
      ],
      "text/plain": [
       "Canvas(toolbar=Toolbar(toolitems=[('Home', 'Reset original view', 'home', 'home'), ('Back', 'Back to previous …"
      ]
     },
     "metadata": {},
     "output_type": "display_data"
    }
   ],
   "source": [
    "tlist, plist = [], range(10, 20, 3)\n",
    "for npt in plist:\n",
    "    s, t = solve_basic_waittime_problem(npt, capacities)\n",
    "    tlist.append(t)\n",
    "er.plot_scalability_evalulation(plist, np.log10(tlist), figsize=figsize)"
   ]
  },
  {
   "cell_type": "markdown",
   "metadata": {
    "slideshow": {
     "slide_type": "fragment"
    }
   },
   "source": [
    "_Sum-based_ objectives are much harder in CP and _max-based_ objectives\n",
    "\n",
    "- A bound on a max-based objective immediately propagates to all its terms\n",
    "- ...For sum-based objectives, this is not the case"
   ]
  },
  {
   "cell_type": "markdown",
   "metadata": {
    "slideshow": {
     "slide_type": "slide"
    }
   },
   "source": [
    "# Goal Programming"
   ]
  },
  {
   "cell_type": "markdown",
   "metadata": {
    "slideshow": {
     "slide_type": "subslide"
    }
   },
   "source": [
    "## Goal Programming\n",
    "\n",
    "**Any practical application of our method faces _two big issues_**\n",
    "\n",
    "First, we have limited _scalability_\n",
    "\n",
    "* The problem is computationally challenging\n",
    "* Note that we may still be getting good solutions quite early\n",
    "* ...But we need to compare multiple solution approaches to know that\n",
    "\n",
    "Second, we need to handle _patient priorities_\n",
    "\n",
    "* We need to make sure that (e.g.) red-coded patients are handled first\n",
    "* ...Then yellow, green, and finally white patients\n",
    "\n",
    "**We can actually address both with a single technique!**\n",
    "\n",
    "(At least to some degree)"
   ]
  },
  {
   "cell_type": "markdown",
   "metadata": {
    "slideshow": {
     "slide_type": "subslide"
    }
   },
   "source": [
    "## Goal Programming\n",
    "\n",
    "**Goal Programming is a strategy for handling _lexicographic costs_**\n",
    "\n",
    "* Let's consider a problem with _multiple cost functions_ $f_0(x), f_1(x), \\ldots$\n",
    "* Let $f_i$ be _strictly more important_ than $f_j$ iff $i < j$\n",
    "\n",
    "**Then _Goal Programming_ refers to this simple algorithm:**\n",
    "\n",
    "* Optimize $f_0(x)$ to obtain its optimal value $z^*_0$\n",
    "* Post a new constraint in the model in the form $f_0(x) \\leq z^*_0$\n",
    "* Move to the next cost function and repeat\n",
    "\n",
    "**The approach is very simple, but it works well in practice**\n",
    "\n",
    "A typical example: the Capacitated Vehicle Routing Problem\n",
    "\n",
    "* $f_0(x) = $ number of vehicles, $f_1(x) = $ length of the routes\n",
    "* Thanks to GP, we get an upped bound on each cost at each step\n",
    "* ...Which may provide a computational advantage"
   ]
  },
  {
   "cell_type": "markdown",
   "metadata": {
    "slideshow": {
     "slide_type": "subslide"
    }
   },
   "source": [
    "## Implementing Goal Programming\n",
    "\n",
    "**As a first step, we need to handle _upper bounds_ on the waiting times**\n",
    "\n",
    "```python\n",
    "def solve_bounded_waittime_problem(levels, codes_by_idx, codes, capacities,\n",
    "        ub_by_code={}, tlim=None):\n",
    "    mdl = cp_model.CpModel()    \n",
    "    eoh = get_horizon(levels)\n",
    "    rl, dl = {idx:0 for idx in levels}, {idx:eoh for idx in levels}\n",
    "    tasks, last = add_all_vars(mdl, levels, rl, dl)\n",
    "    add_all_precedences(mdl, levels, tasks)\n",
    "    add_cumulatives(mdl, tasks, {'visit': 3, 'ultrasound': 2, 'RX': 2})\n",
    "    add_all_no_overlap(mdl, levels, tasks)\n",
    "    obj_by_code = add_waittime_variables(mdl, levels, codes_by_idx, tasks, eoh)\n",
    "    \n",
    "    for code in ub_by_code: # <-- Enforce upper bounds\n",
    "        mdl.Add(obj_by_code[code] <= ub_by_code[code])\n",
    "\n",
    "    mdl.Minimize(obj_by_code[codes[-1]]) # <-- Focus by default on the last code\n",
    "    slv = cp_model.CpSolver()\n",
    "    if tlim is not None: slv.parameters.max_time_in_seconds = tlim\n",
    "    status = slv.Solve(mdl)    \n",
    "    return status, slv, tasks\n",
    "```"
   ]
  },
  {
   "cell_type": "markdown",
   "metadata": {
    "slideshow": {
     "slide_type": "subslide"
    }
   },
   "source": [
    "## Implementing Goal Programming\n",
    "\n",
    "**Then we need to code the approach in a function**\n",
    "\n",
    "```python\n",
    "def goal_programming(levels, codes_by_idx, codes, capacities, tlim=None, verbose=1):\n",
    "    wt_by_code, ttime = {}, 0\n",
    "    for i, code in enumerate(codes):\n",
    "        l_tlim = None if tlim is None else (tlim-ttime) / (len(codes)-i)\n",
    "        status, slv, tasks = solve_bounded_waittime_problem(levels, codes_by_idx,\n",
    "                          codes[:i+1], capacities, ub_by_code=wt_by_code, tlim=l_tlim)\n",
    "        ttime += slv.UserTime()\n",
    "        if verbose:\n",
    "            print_outcome(slv, levels, tasks, codes_by_idx, status, (i == len(codes)-1))\n",
    "        if status in (cp_model.OPTIMAL, cp_model.FEASIBLE):\n",
    "            wt_by_code[code] = int(slv.ObjectiveValue())\n",
    "            starts = {tidx:slv.Value(tasks[tidx].start) for tidx in tasks}\n",
    "        else:\n",
    "            wt_by_code, starts = None, None\n",
    "            break\n",
    "    if wt_by_code is not None:\n",
    "        wt_by_code['all'] = sum(wt_by_code[code] for code in codes)\n",
    "    return ttime, wt_by_code, starts\n",
    "```"
   ]
  },
  {
   "cell_type": "markdown",
   "metadata": {
    "slideshow": {
     "slide_type": "subslide"
    }
   },
   "source": [
    "## Implementing Goal Programming\n",
    "\n",
    "**Finally, we can test the approach**\n",
    "\n",
    "We choose a _priority for our codes_, then we call the `goal_programming` function"
   ]
  },
  {
   "cell_type": "code",
   "execution_count": 4,
   "metadata": {},
   "outputs": [
    {
     "name": "stdout",
     "output_type": "stream",
     "text": [
      "Solver status: optimal, time(CPU sec): 0.01, objective: 0.0\n",
      "Solver status: optimal, time(CPU sec): 0.01, objective: 0.0\n",
      "Solver status: optimal, time(CPU sec): 0.02, objective: 9.0\n",
      "Solver status: optimal, time(CPU sec): 0.03, objective: 3.0\n",
      "\n",
      "0(green): visit(0-1), RX(1-3), visit(3-4)\n",
      "11(green): visit(0-1), ultrasound(1-3), lab(3-7), prescription(7-11), visit(11-12)\n",
      "12(red): visit(0-1), RX(5-7), visit(7-8)\n",
      "8(green): visit(1-2), RX(2-4), prescription(5-9), visit(9-10)\n",
      "9(green): visit(1-2)\n",
      "10(green): visit(1-2), lab(2-6), CT scan(6-10), visit(10-11)\n",
      "1(green): visit(2-3), lab(3-7), visit(7-8)\n",
      "6(green): visit(2-3), ultrasound(3-5), RX(5-7), lab(7-11), CT scan(11-15), visit(15-16), CT scan(16-20), visit(20-21)\n",
      "7(green): visit(2-3)\n",
      "2(white): visit(3-4), otolaryngological visit(4-8), visit(8-9)\n"
     ]
    }
   ],
   "source": [
    "codes = ['red', 'yellow', 'green', 'white']\n",
    "npatients = 10\n",
    "levels, codes_by_idx = er.build_levels(fdata.iloc[:npatients])\n",
    "_, _, _ = er.goal_programming(levels, codes_by_idx, codes, capacities, tlim=10)"
   ]
  },
  {
   "cell_type": "markdown",
   "metadata": {},
   "source": [
    "* The priority is given by the code order in the list"
   ]
  },
  {
   "cell_type": "markdown",
   "metadata": {
    "slideshow": {
     "slide_type": "subslide"
    }
   },
   "source": [
    "## Evaluation\n",
    "\n",
    "**We can now evaluate the scalability of the approach**"
   ]
  },
  {
   "cell_type": "code",
   "execution_count": 6,
   "metadata": {},
   "outputs": [
    {
     "data": {
      "application/vnd.jupyter.widget-view+json": {
       "model_id": "0eb470d7b87548bd950f337bb5e84c4b",
       "version_major": 2,
       "version_minor": 0
      },
      "text/html": [
       "\n",
       "            <div style=\"display: inline-block;\">\n",
       "                <div class=\"jupyter-widgets widget-label\" style=\"text-align: center;\">\n",
       "                    Figure\n",
       "                </div>\n",
       "                <img src='data:image/png;base64,iVBORw0KGgoAAAANSUhEUgAAA4QAAAEsCAYAAACbnn2RAAAAOXRFWHRTb2Z0d2FyZQBNYXRwbG90bGliIHZlcnNpb24zLjMuNCwgaHR0cHM6Ly9tYXRwbG90bGliLm9yZy8QVMy6AAAACXBIWXMAAA9hAAAPYQGoP6dpAAA3kklEQVR4nO3deXhU5cH//8/MJJlkksyEJJAw2dhJWAQFQagVKSjb15bWp8W2j1tdaltrEUTBrT9bEHep1pb2af1S2/rU9vtUH2sQRGSxFXFByhbCTiAhYQmZyTqZzJzfHwkDkRjWzJlk3q/r4opzcg75xOs4ycf7PvdtMQzDEAAAAAAg6ljNDgAAAAAAMAeFEAAAAACiFIUQAAAAAKIUhRAAAAAAohSFEAAAAACiFIUQAAAAAKIUhRAAAAAAohSFEAAAAACiFIUQAAAAAKIUhRAAAAAAohSFEAAAAACiFIUQAAAAAKIUhRAAAAAAolSM2QHCIRgMqqysTMnJybJYLGbHAQAAAICLwjAMVVdXy+12y2o99/G+qCiEZWVlysnJMTsGAAAAAHSIAwcOKDs7+5yvi4pCmJycLKn5X5LT6TQ5DQAAAABcHF6vVzk5OaHOc66iohCemCbqdDophAAAAAC6nPN9NI5FZQAAAAAgSlEIAQAAACBKUQgBAAAAIEpRCAEAAAAgSoW9EK5du1bXXXed3G63LBaL3njjjTNes3r1al122WWy2+3q16+flixZ0uE5AQAAAKCrC3shrK2t1bBhw/TSSy+d1fl79+7VtGnTNH78eG3cuFEzZ87U7bffruXLl3dwUgAAAADo2sK+7cSUKVM0ZcqUsz5/8eLF6t27t5599llJUkFBgf75z3/q+eef16RJkzoqJgAAAACcxjCM897iIRJF/D6E69at08SJE1sdmzRpkmbOnPmF1/h8Pvl8vtBrr9fbUfEAAAAAdFGHqxu0pdSjzQe92lzq0dYyj+ZOydfXhmeZHe2iifhCWF5eroyMjFbHMjIy5PV6VV9fr4SEhNOuWbhwoR577LFwRQQAAADQiRmGocPVPm0+6NHmUk9zCSz16HC177Rzt5R6KISRbt68eZo1a1botdfrVU5OjomJAAAAAEQCwzB0yNPQPOLXUvw2l3p1tOb08me1SH27J2lIlktDslwamuXSILfThNQdJ+ILYWZmpioqKlodq6iokNPpbHN0UJLsdrvsdns44gEAAACIUIZhqLSqPjTit6XUqy2lHh2rbTztXKtF6t8juaX8OUPlzxEX8ZXpgkT8dzdmzBgtXbq01bEVK1ZozJgxJiUCAAAAEGkMw9DB4/UtI37N0z63lHp0vM5/2rk2q0X9eyRpaJZLQ7NdGux2aVBPpxLibCYkN1fYC2FNTY127doVer13715t3LhRqampys3N1bx581RaWqpXXnlFknTXXXfpl7/8pe6//35973vf03vvvae//vWvKiwsDHd0AAAAABHAMAztP1anLWWnlj+vPPWnl78Yq0UDMpI1NMulIdnN0z7zM5MVHxt95a8tYS+En3zyicaPHx96feJZv5tvvllLlizRoUOHVFJSEvp87969VVhYqHvvvVe/+MUvlJ2drd/97ndsOQEAAABEgWDQ0L5jtS2rfHq1+aBHW8o8qm5oOu3cWJtF+ZlODclyhp75G5iZLHsM5e+LWAzDMMwO0dG8Xq9cLpc8Ho+czq71ECgAAADQVQSDhvYcrQ1N99xc6tG2Mq+qfaeXv7gYqwoyk1st+DIgI1lxMVYTkpvnQrtOxD9DCAAAAKDrCQQN7TlSE3rmb2upV1vLPKptDJx2rj3GqoKezQu9DM1yaXCWUwMykhVri67y1xEohAAAAAA6VFMgqF1HakKrfJ4Y+av3n17+4mOtGtRS/oa0LPrSr3uSYih/HYJCCAAAAOCi8QeC2llRoy1lJ6d9Fh3yqsEfPO1cR5xNg91ODXa7Qit+9u2eJJvVYkLy6EQhBAAAAHBeGpuC2lFR3fzMX1nzBu9Fh7xqbDq9/CXG2TS4ZcrniX3+eqdT/sxGIQQAAABwRr6mgHaU17Ta56+4vFqNgdPLX7I9RoOzTk77HJLlUu+0RFkpfxGHQggAAACglQZ/QMXl1aHit7nUox0V1fIHTt+gwBkfE1rl88TH3FQH5a+ToBACAAAAUazBH9C2Q15tbSl+m0u92llRrabg6eUvxRHbvMrniWf+slzKSU2QxUL566wohAAAAECUqG8MaNshjzYfbC5+W8s82nm4RoE2yl9qYlzLiJ9TQ9zNo3/Z3Sh/XQ2FEAAAAOiCan1N2nbIq80HPaFFX3YdrlEb3U/pSXGtpn0OyXLJ7Yqn/EUBCiEAAADQyVU3+LWtzNvqmb89R2tltFH+uifbWz3vNzTLpQynnfIXpSiEAAAAQCfibfBrS6lHW0tPFsC9x9ouf5nOeA3JcrYqfz2c8eEPjYhFIQQAAAAilKfO37K/X8u0z1KP9h2ra/Nctyv+tGmf3ZPtYU6MzoZCCAAAAESA47WNnyt/XpVUtl3+slISmkf8slvKn9uptCTKH84dhRAAAAAIs2M1Pm0p8zY/73ewuQSWVtW3eW5OakKrZ/4Gu11KTYwLc2J0VRRCAAAAoAMdqfaFpnueGP0r8zS0eW6vNEdouufQLJeGuF1yOWLDnBjRhEIIAAAAXCSHvQ0tm7s3T/ncUupRubft8tcnPfHkqF+WU4PdLrkSKH8ILwohAAAAcI4Mw1CF13dK+Wv+c7jad9q5Fktz+Tt1sZfBbqeS4yl/MB+FEAAAAGiHYRgq8zScNu3zaE3jaedaLVK/Hkka4m6Z9pntUkFPp5Ls/NqNyMSdCQAAALQwDEMHj9c3l78yjza3TPusrD29/NmsFvXvkaTBbpeGZjlD5c8Rx6/Y6Dy4WwEAABCVDMPQgcr60LTPrWXNI3/H6/ynnRtjtah/RrKGtmzyPiTLpYJMpxLibCYkBy4eCiEAAAC6vGDQUEllXWi654mP3oam086NtVk0ICO51TN/+ZnJio+l/KHroRACAACgSwkGDe09Vtvqmb+tZV5Vt1H+4mxWDcxMDq32OTTLpQGZSbLHUP4QHSiEAAAA6LQCQUN7j9aEtnnYXOrRtjKvanxtlL8Yqwp6OjXE7QyN/g3ISFZcjNWE5EBkoBACAACgUwgEDe0+UqPNB08+87e1zKu6xsBp59pjrBp0ovi1rPjZPyNJsTbKH3AqCiEAAAAiTlMgqF0t5e/EtM+iQ9Wq959e/hJibSfLX5ZLQ7Kc6tc9STGUP+CMKIQAAAAwlT8Q1M6KmlDxay5/Xvmagqed64izabDb2eqZvz7dk2SzWkxIDnR+FEIAAACETWNTUDsqqkOrfG4p9aiovFqNbZS/JHtMq/I3JMul3umJlD/gIqIQAgAAoEP4mgIqLj+1/HlVXF6txsDp5S85PkZD3C4NzXZpcMv0z15pibJS/oAORSEEAADABWvwB7T9RPlrWfRlR0W1moLGaee6EmI1JOuUkT+3S7mpDsofYAIKIQAAAM5JfWNA2w55tbXME1rxc+fhGgXaKH8pjtjQdM8Tz/xld0uQxUL5AyIBhRAAAABfqK6xSdvKvKF9/raUerTrSNvlLzUxrqX4nVzxMyuF8gdEMgohAAAAJEm1viZtbSl/W1tW+9x9pEZtdD+lJ9lDxW9wy8hfT1c85Q/oZCiEAAAAUai6wa+tZd7QVg9bSj3ac7RWRhvlr0eyvdW0zyFZLmU47ZQ/oAugEAIAAHRxnnq/tpZ6tKXMo80t0z73Hq1t89xMZ/zJ5/2ynRridqmHMz7MiQGEC4UQAACgC6mqa2x+1q/s5Mjf/mN1bZ6blZLQvNqn26Uh2c2rfXZPtoc5MQAzUQgBAAA6qeO1jdrcMuVza0sBPFBZ3+a52d0SQtM9h2S5NMTtVFoS5Q+IdqYVwpdeeklPP/20ysvLNWzYML344osaNWpUm+cuWbJEt956a6tjdrtdDQ0N4YgKAABguqM1vpbN3T2hFT9Lq9ouf7mpjlbP/A12O9UtMS7MiQF0BqYUwtdee02zZs3S4sWLNXr0aC1atEiTJk1ScXGxevTo0eY1TqdTxcXFodc8xAwAALqqw9UN2lrqDY3+bSn16JCn7f8R3ivN0WqPv8Ful1yO2DAnBtBZmVIIn3vuOd1xxx2hUb/FixersLBQL7/8subOndvmNRaLRZmZmeGMCQAA0OEqvA3afLB5wZcTo38VXt9p51ksUu/0RA1xn1zpc3CWU854yh+A8xf2QtjY2KhPP/1U8+bNCx2zWq2aOHGi1q1b94XX1dTUKC8vT8FgUJdddpkef/xxDR48OByRAQAALphhGCo/Uf5KPdrSst/fkeq2y1/f7kmh6Z4n9vpLsrP8A4CLK+zvKkePHlUgEFBGRkar4xkZGdq+fXub1wwcOFAvv/yyLrnkEnk8Hj3zzDMaO3astm7dquzs7NPO9/l88vlOvrl6vd6L+00AAAC0wzAMlXlOlr8Ti74crWk87VyrRerXI6nVHn+DejqVSPkDEAad4p1mzJgxGjNmTOj12LFjVVBQoN/85jf6+c9/ftr5Cxcu1GOPPRbOiAAAIIodrm7Qp/uOn7Lip1eVtaeXP5vVov6fK38FPZPliOsUv5IB6ILC/u6Tnp4um82mioqKVscrKirO+hnB2NhYXXrppdq1a1ebn583b55mzZoVeu31epWTk3P+oQEAANrgqfPrl6t2askH++QPGK0+F2O1aEBGsoZkOU8pf07Fx9pMSgsApwt7IYyLi9OIESO0cuVKTZ8+XZIUDAa1cuVK3X333Wf1dwQCAW3evFlTp05t8/N2u112O/vqAACAjuEPBPXnD/dr0cqdqqrzS5LyM5N1aW6KBrcs+jIwM5nyByDimTI/YdasWbr55ps1cuRIjRo1SosWLVJtbW1o1dGbbrpJWVlZWrhwoSTpZz/7ma644gr169dPVVVVevrpp7V//37dfvvtZsQHAABRyjAMrdhWoSfe3q49R2slSf17JOnBaQW6ekB3tsUC0OmYUghnzJihI0eO6NFHH1V5ebmGDx+uZcuWhRaaKSkpkdVqDZ1//Phx3XHHHSovL1e3bt00YsQIffDBBxo0aJAZ8QEAQBTaUurRz9/apvV7KyVJ6UlxuveaAZoxMkcxNusZrgaAyGQxDMM482mdm9frlcvlksfjkdPpNDsOAADoRA556vX08mK9/lmpDEOKi7Hq9it76wdX91UyewACMNmFdh2WtAIAAGhDra9Ji9fs1n+9v0cN/qAkafpwt+ZMzldWSoLJ6QDg4qAQAgAAnCIQNPS3Tw7omXd26GhN877Gl/fqpoenDdKwnBRzwwHARUYhBAAAaLF2xxE9vrRI28urJUl5aQ7Nm5KvSYMzWTAGQJdEIQQAAFFvR0W1FhQWac2OI5IkV0Ks7pnQXzdekae4GBaMAdB1UQgBAEDUOlLt0/Pv7tBfPipR0JBibRbdeEUv3TOhn1IccWbHA4AORyEEAABRp8Ef0O//uVe/Xr1bNb4mSdLkwZmaOyVfvdITTU4HAOFDIQQAAFEjGDT05r/L9NSy7SrzNEiSLsl26aGpBRrdJ83kdAAQfhRCAAAQFT7aW6kFhdv074MeSZLbFa85kwfqa8OyZLWyYAyA6EQhBAAAXdq+o7V64u3tWra1XJKUGGfTD8f3021X9lZ8rM3kdABgLgohAADokqrqGvXCyl3644f75A8YslqkGZfnatY1A9Q92W52PACICBRCAADQpTQ2BfXHD/frhZU75an3S5LGDeiuB6cWaGBmssnpACCyUAgBAECXYBiGlm+t0BNvF2nfsTpJ0sCMZD00rUBXDehucjoAiEwUQgAA0OltOlil+W8V6aN9lZKk9CS7Zl87QN8amSMbC8YAwBeiEAIAgE6rtKpeTy/brjc2lkmS4mOtuuPLffT9cX2VZOfXHAA4E94pAQBAp1Pja9KvV+/S797fK19TUJL0jUuzdN+kgXKnJJicDgA6DwohAADoNJoCQb32yQE9v2KHjtY0SpJG907Vw9MGaWi2y+R0AND5UAgBAECnsLr4sB5fWqQdFTWSpN7piZo7JV/XDsqQxcJzggBwPiiEAAAgom0v92pBYZHe33lUkpTiiNVPJvTXd0fnKS7GanI6AOjcKIQAACAiHa5u0HPv7NBfPzmgoCHF2iy6eUwv/fgr/eVyxJodDwC6BAohAACIKPWNAf3u/T369ZrdqmsMSJKmDs3UA5PzlZeWaHI6AOhaKIQAACAiBIOGXv+sVM+8U6xDngZJ0rCcFD08rUCX90o1OR0AdE0UQgAAYLoP9xzT/MJt2lLqlSRlpSTo/skDdd0lblnZWB4AOgyFEAAAmGbPkRotfHu7VmyrkCQl2WP0w/F99b0v9VZ8rM3kdADQ9VEIAQBA2B2vbdQvVu7Unz7cr6agIZvVom+PytHMiQOUnmQ3Ox4ARA0KIQAACBtfU0CvfLBfL763U96GJknSV/J7aN6UfPXPSDY5HQBEHwohAADocIZh6O0t5Xri7e0qqayTJOVnJuvhaYN0Zf90k9MBQPSiEAIAgA71WclxLSgs0if7j0uSuifbNefagbp+RLZsLBgDAKaiEAIAgA5x8HidnlpWrDf/XSZJio+16s6r+ur7V/VRop1fQQAgEvBuDAAALipvg1+/WrVbL/9rrxqbgrJYpOsvy9Z91w5Upive7HgAgFNQCAEAwEXRFAjqvz8+oEUrduhYbaMkaUyfND00rUBDslwmpwMAtIVCCAAALohhGFpVfFiPL92uXYdrJEl90hP14NQCTSjoIYuF5wQBIFJRCAEAwHnbVubVgqXb9K9dxyRJ3RyxmjlxgL4zOlexNqvJ6QAAZ0IhBAAA56zC26Bn3ynW3z49KMOQ4mxW3fqlXvrh+H5yJcSaHQ8AcJYohAAA4KzVNTbpt2v36Ddr9qjeH5AkTbukp+ZOzldOqsPkdACAc0UhBAAAZxQMGvqfDQf1zDvFqvD6JEmX5qbo4WmDNCKvm8npAADni0IIAADa9cGuo5pfWKRth7ySpOxuCXpgcr7+zyU9WTAGADo5CiEAAGjTrsM1euLtIr1bdFiSlGyP0d1f6aebx/ZSfKzN5HQAgIvBtOW/XnrpJfXq1Uvx8fEaPXq0Pvroo3bP/9vf/qb8/HzFx8dr6NChWrp0aZiSAgAQXSprG/Xo/27RpEVr9W7RYdmsFt00Jk+r51yt74/rSxkEgC7ElEL42muvadasWfrpT3+qDRs2aNiwYZo0aZIOHz7c5vkffPCBvv3tb+u2227TZ599punTp2v69OnasmVLmJMDANB1NfgD+s2a3Rr39Cq9sm6/AkFDEwt6aPnMq/Szrw1RWpLd7IgAgIvMYhiGEe4vOnr0aF1++eX65S9/KUkKBoPKycnRj3/8Y82dO/e082fMmKHa2lq99dZboWNXXHGFhg8frsWLF5/x63m9XrlcLnk8Hjmdzov3jQAA0AUYhqG3Nh3Sk8u26+DxeknSoJ5OPTytQGP7pZucDgDQngvtOmF/hrCxsVGffvqp5s2bFzpmtVo1ceJErVu3rs1r1q1bp1mzZrU6NmnSJL3xxhttnu/z+eTz+UKvvV7vhQcHAKAL+nT/cS0o3KYNJVWSpAynXfddO1DfuCxbNisLxgBAVxf2Qnj06FEFAgFlZGS0Op6RkaHt27e3eU15eXmb55eXl7d5/sKFC/XYY49dnMAAAHRBByrr9MSy7SrcdEiSlBBr013j+uqOq3rLEceacwAQLbrkO/68efNajSh6vV7l5OSYmAgAgMjgqffrV6t26f/+a58aA0FZLNI3R2Rr9rUDleGMNzseACDMwl4I09PTZbPZVFFR0ep4RUWFMjMz27wmMzPznM632+2y23nwHQCAE/yBoF5dX6JF7+7Q8Tq/JOlL/dL00NRBGuTm+XoAiFZhX2U0Li5OI0aM0MqVK0PHgsGgVq5cqTFjxrR5zZgxY1qdL0krVqz4wvMBAEAzwzC0YluFJi1aq5++uVXH6/zq2z1RL98yUn+6bTRlEACinClTRmfNmqWbb75ZI0eO1KhRo7Ro0SLV1tbq1ltvlSTddNNNysrK0sKFCyVJP/nJTzRu3Dg9++yzmjZtmv7yl7/ok08+0W9/+1sz4gMA0ClsKfVoQWGR1u05JklKTYzTvRP764ZRuYq1mbYVMQAggphSCGfMmKEjR47o0UcfVXl5uYYPH65ly5aFFo4pKSmR1XryB9XYsWP16quv6uGHH9aDDz6o/v3764033tCQIUPMiA8AQEQr9zTo6eXF+vtnB2UYUlyMVd/7Um/9cHxfOeNjzY4HAIggpuxDGG7sQwgAiAa1vib9Zu0e/XbtbjX4g5Kk64a5df+kgcpJdZicDgDQETrdPoQAAODiCgQN/c+nB/XMO8U6XN28D++IvG56eFqBLs3tZnI6AEAkoxACANCJ/XPnUc0v3Kbt5dWSpNxUh+ZOydeUIZmyWNhYHgDQPgohAACd0M6Kaj2+tEirio9IkpLjY3TPV/rrprF5ssfYTE4HAOgsKIQAAHQiR2t8WvTuDv33RwcUCBqKsVr0n1fk6ScT+qtbYpzZ8QAAnQyFEACATqDBH9DL/9qrX63arRpfkyTpmkEZmjclX326J5mcDgDQWVEIAQCIYIZh6M1/l+mpZcUqraqXJA3JcuqhqYM0pm+ayekAAJ0dhRAAgAj1yb5K/bywSP8+UCVJynTG6/7JAzV9eJasVhaMAQBcOAohAAARZv+xWj25bLuWbi6XJDnibPrBuL66/ct9lBDHgjEAgIuHQggAQITw1Pn14ns79Yd1++QPGLJapG+NzNGsawaohzPe7HgAgC6IQggAgMkam4L604f79cJ7O1VV55ckfbl/uh6aVqD8TKfJ6QAAXRmFEAAAkxiGoXe2VeiJt7dr79FaSVL/Hkl6cFqBrh7QnY3lAQAdjkIIAIAJNh/0aH7hNq3fWylJSk+K073XDNCMkTmKsVlNTgcAiBYUQgAAwqisql7PLC/W3z8rlSTZY6y67cre+sHVfZUcH2tyOgBAtKEQAgAQBjW+Jv1mzW79du0e+ZqCkqTpw92aMzlfWSkJJqcDAEQrCiEAAB0oEDT0108O6Nl3duhojU+SNKpXqh6aVqBhOSnmhgMARD0KIQAAHWTtjiNaUFik4opqSVJemkPzpuRr0uBMFowBAEQECiEAABfZjopqLSgs0podRyRJroRY3TOhv268Ik9xMSwYAwCIHBRCAAAukiPVPj23Yode+7hEQUOKtVl04xW9dM+EfkpxxJkdDwCA01AIAQC4QA3+gH7/z7361apdqm0MSJImD87U3Cn56pWeaHI6AAC+GIUQAIDzFAwa+t9/l+rpZcUq8zRIki7JdumhqQUa3SfN5HQAAJwZhRAAgPPw0d5KzS/cpk0HPZIktyte90/O11eHuWW1smAMAKBzoBACAHAO9h6t1RNvF2n51gpJUmKcTT8c30+3Xdlb8bE2k9MBAHBuKIQAAJyFqrpGvbByl/744T75A4asFumGUbm6d+IAdU+2mx0PAIDzQiEEAKAdjU1BvbJun158b5c89X5J0rgB3fXg1AINzEw2OR0AABeGQggAQBsMw9CyLeV6Ytl27T9WJ0kamJGsh6YV6KoB3U1OBwDAxUEhBADgc/59oErzC7fp433HJUnpSXbNvnaAvjUyRzYWjAEAdCEUQgAAWpRW1evpZdv1xsYySVJ8rFV3fLmPvj+ur5Ls/MgEAHQ9/HQDAES96ga/fr16t37/z73yNQUlSd+4NEv3TRood0qCyekAAOg4FEIAQNRqCgT12icH9PyKHTpa0yhJGt07VQ9PG6Sh2S6T0wEA0PEohACAqGMYhlbvOKLHC4u083CNJKl3eqLmTcnXNYMyZLHwnCAAIDpQCAEAUWV7uVcLCov0/s6jkqQUR6x+MqG/vjs6T3ExVpPTAQAQXhRCAEBUOFzdoOfe2aG/fnJAQUOKtVl0y9heunt8f7kcsWbHAwDAFBRCAECXVt8Y0H+9v0eL1+xWXWNAkjR1aKYemJyvvLREk9MBAGAuCiEAoEsKBg29/lmpnl5erHJvgyRpWE6KHplWoJG9Uk1OBwBAZKAQAgC6nHW7j2nB0m3aUuqVJGWlJOj+yQN13SVuWdlYHgCAEAohAKDL2HOkRgvf3q4V2yokSUn2GP1ofD/d+qVeio+1mZwOAIDIE/bl1CorK/Xd735XTqdTKSkpuu2221RTU9PuNVdffbUsFkurP3fddVeYEgMAIt3x2kb9f29u1bXPr9WKbRWyWS36zytytXrO1frB1X0pgwAAfIGwjxB+97vf1aFDh7RixQr5/X7deuutuvPOO/Xqq6+2e90dd9yhn/3sZ6HXDoejo6MCACKcrymgP3ywTy++t0vVDU2SpK/k99C8Kfnqn5FscjoAACJfWAthUVGRli1bpo8//lgjR46UJL344ouaOnWqnnnmGbnd7i+81uFwKDMzM1xRAQARzDAMLd1crieWFelAZb0kKT8zWQ9PG6Qr+6ebnA4AgM4jrFNG161bp5SUlFAZlKSJEyfKarVq/fr17V775z//Wenp6RoyZIjmzZunurq6jo4LAIhAn5Uc138sXqcfvbpBByrr1SPZrqeuv0SF93yZMggAwDkK6whheXm5evTo0TpATIxSU1NVXl7+hdd95zvfUV5entxutzZt2qQHHnhAxcXF+vvf/97m+T6fTz6fL/Ta6/VenG8AAGCaA5V1emp5sf7x7zJJUnysVXde1Vffv6qPEu2skQYAwPm4KD9B586dqyeffLLdc4qKis7777/zzjtD/zx06FD17NlTEyZM0O7du9W3b9/Tzl+4cKEee+yx8/56AIDI4W3w61erduvlf+1VY1NQFot0/WXZuu/agcp0xZsdDwCATu2iFMLZs2frlltuafecPn36KDMzU4cPH251vKmpSZWVlef0fODo0aMlSbt27WqzEM6bN0+zZs0KvfZ6vcrJyTnrvx8AYL6mQFD//VGJnn93pyprGyVJY/qk6aFpBRqS5TI5HQAAXcNFKYTdu3dX9+7dz3jemDFjVFVVpU8//VQjRoyQJL333nsKBoOhknc2Nm7cKEnq2bNnm5+32+2y2+1n/fcBACKHYRhaVXxYCwqLtPtIrSSpT/dEPTilQBMKeshiYWN5AAAuFothGEY4v+CUKVNUUVGhxYsXh7adGDlyZGjbidLSUk2YMEGvvPKKRo0apd27d+vVV1/V1KlTlZaWpk2bNunee+9Vdna21qxZc1Zf0+v1yuVyyePxyOl0duS3BwC4ANvKvFqwdJv+teuYJKmbI1b3XjNA3x6Vq1hb2LfOBQAg4l1o1wn7U/h//vOfdffdd2vChAmyWq26/vrr9cILL4Q+7/f7VVxcHFpFNC4uTu+++64WLVqk2tpa5eTk6Prrr9fDDz8c7ugAgA5S4W3QM8uL9f82HJRhSHE2q279Ui/9cHw/uRJizY4HAECXFfYRQjMwQggAkamusUm/XbtHv1mzR/X+gCRp2iU9NXdyvnJSHSanAwAg8nW6EUIAAAJBQ/+z4aCefadYFd7mbYIuzU3Rw9MGaUReN5PTAQAQPSiEAICw+mDXUc0vLNK2Q817xGZ3S9ADk/P1fy7pyYIxAACEGYUQABAWuw7XaOHSIq3c3rz9ULI9Rnd/pZ9uHttL8bE2k9MBABCdKIQAgA51rManRe/u1KsflSgQNGSzWvTd0bn6yYT+SktiiyAAAMxEIQQAdIgGf0BLPtinl97bpWpfkyRpYkEPzZ1SoH49kkxOBwAAJAohAOAiMwxDb206pCeXbdfB4/WSpEE9nXp4WoHG9ks3OR0AADgVhRAAcNF8uv+45hdu02clVZKkDKdd9107UN+4LFs2KwvGAAAQaSiEAIALdqCyTk8s267CTYckSQmxNt01rq/uuKq3HHH8qAEAIFLxUxoAcN489X69tGqXlvxrnxoDQVks0jdHZGv2tQOV4Yw3Ox4AADgDCiEA4Jz5A0G9ur5Ei97doeN1fknSl/ql6aGpgzTI7TQ5HQAAOFsUQgDAWTMMQ+8WHdbCt4u050itJKlfjyQ9ODVf4wf2YGN5AAA6GQohAOCsbCn1aH7hNn24p1KSlJoYp3uvGaBvX56jGJvV5HQAAOB8UAgBAO0q9zTo6eXF+vtnB2UYUlyMVd/7Um/9cHxfOeNjzY4HAAAuAIUQANCmWl+TfrNmt377/h41+IOSpK8Oc2vOpIHKSXWYnA4AAFwMFEIAQCuBoKH/9+kBPfPODh2p9kmSRuR108PTCnRpbjeT0wEAgIuJQggACHl/5xEtKCzS9vJqSVJuqkNzp+RrypBMFowBAKALohACALSzolqPLy3SquIjkiRnfIx+/JX+umlsnuwxNpPTAQCAjkIhBIAodrTGp+dX7NBfPj6gQNBQjNWi/7wiTz+Z0F/dEuPMjgcAADoYhRAAolCDP6Df/3Ovfr16t2p8TZKkawZlaN6UfPXpnmRyOgAAEC4UQgCIIsGgoX9sKtNTy4pVWlUvSRqS5dRDUwdpTN80k9MBAIBwoxACQJT4ZF+lfl5YpH8fqJIkZTrjdf/kgZo+PEtWKwvGAAAQjSiEANDF7T9Wqyfe3q63t5RLkhxxNv1gXF/d/uU+SohjwRgAAKIZhRAAuihPnV8vvrdTf1i3T/6AIatFmnF5ju69ZoB6JMebHQ8AAEQACiEAdDGNTUH96cP9euG9naqq80uSvtw/XQ9NK1B+ptPkdAAAIJJQCAGgizAMQ+9sq9DCpUXad6xOkjQgI0kPTi3Q1QN7mJwOAABEIgohAHQBmw5WaX5hkT7aWylJSk+K073XDNCMkTmKsVlNTgcAACIVhRAAOrGyqno9vbxYr39WKkmyx1h1+5d7665xfZUcH2tyOgAAEOkohADQCdX4mrR49W791/t75GsKSpKmD3drzuR8ZaUkmJwOAAB0FhRCAOhEmgJB/fWTg3puxQ4drfFJkkb1StVD0wo0LCfF3HAAAKDToRACQCexZscRPV5YpOKKaklSXppD86bka9LgTFksbCwPAADOHYUQACJccXm1Fiwt0todRyRJroRY3TOhv268Ik9xMSwYAwAAzh+FEAAi1OHqBj2/Yode+/iAgoYUa7Poxit66Z4J/ZTiiDM7HgAA6AIohAAQYRr8Af3u/T369erdqm0MSJImD87U3Cn56pWeaHI6AADQlVAIASBCBIOG/vffpXpqWbEOeRokSZdku/TwtEEa1TvV5HQAAKArohACQARYv+eYFiwt0qaDHkmS2xWv+yfn66vD3LJaWTAGAAB0DAohAJho79FaPfF2kZZvrZAkJcbZ9MPx/XTblb0VH2szOR0AAOjqwro83YIFCzR27Fg5HA6lpKSc1TWGYejRRx9Vz549lZCQoIkTJ2rnzp0dGxQAOlhVXaMe+8dWXfPcGi3fWiGrRfrO6FytnjNePxrfjzIIAADCIqyFsLGxUd/85jf1gx/84Kyveeqpp/TCCy9o8eLFWr9+vRITEzVp0iQ1NDR0YFIA6BiNTUH97v09uuqpVfq//9qnpqChcQO66+2fXKXHvz5U3ZPtZkcEAABRxGIYhhHuL7pkyRLNnDlTVVVV7Z5nGIbcbrdmz56t++67T5Lk8XiUkZGhJUuW6IYbbjirr+f1euVyueTxeOR0Oi80PgCcM8MwtGxLuZ5Ytl37j9VJkgZmJOuhaQW6akB3k9MBAIDO6kK7TkQ/Q7h3716Vl5dr4sSJoWMul0ujR4/WunXrzroQAoCZNh6o0oLCbfp433FJUnqSXbOvHaBvjcyRjQVjAACAiSK6EJaXl0uSMjIyWh3PyMgIfa4tPp9PPp8v9Nrr9XZMQABQ8+jf8Tq/9h+rVUllnUqO1Wl/6GOtKrzN70fxsVbd8eU++v64vkqyR/TbLwAAiBIX/BvJ3Llz9eSTT7Z7TlFRkfLz8y/0S521hQsX6rHHHgvb1wPQ9QWChsqq6lVSWaf9LUXvQMs/lxyrU7Wv6QuvtVikrw/P0n2TBsqdkhDG1AAAAO274EI4e/Zs3XLLLe2e06dPn/P6uzMzMyVJFRUV6tmzZ+h4RUWFhg8f/oXXzZs3T7NmzQq99nq9ysnJOa8MAKJHXWNTaITvZPGrU8mxWh08Xq+mYPuPXGc47cpLTVRumkN5qQ7lpjmUm+pQ7/REpTjiwvRdAAAAnL0LLoTdu3dX9+4dsyBC7969lZmZqZUrV4YKoNfr1fr169tdqdRut8tuZ6U+AK0ZhqFjtY3No3qVtaHRvZLK5uJ3pNrX7vVxNquyUxOUm3qi8CUqL9WhvDSHclIdbBUBAAA6nbA+xFJSUqLKykqVlJQoEAho48aNkqR+/fopKSlJkpSfn6+FCxfq61//uiwWi2bOnKn58+erf//+6t27tx555BG53W5Nnz49nNEBdBL+QFBlVfUtpe/ESF9z+TtQWafaxkC71zvjY5SXdnKU70TZy0tLVKYznkVgAABAlxLWQvjoo4/qD3/4Q+j1pZdeKklatWqVrr76aklScXGxPB5P6Jz7779ftbW1uvPOO1VVVaUrr7xSy5YtU3x8fDijA4ggNb6mlpG92tC0zhPP85VW1SvQztROi0Xq6YwPTefMS0ts+ehQXmqiXI7YMH4nAAAA5jJlH8JwYx9CoHMxDENHqn2nrNTZ/BzfidfHahvbvT4uxnrKtM4TI32Jykl1KLtbAlM7AQBAl9Gl9yEE0HU1NgVVWlUf2qohNMWz5WO9v/2pnd0csaFn+HI/V/x6JNtlZWonAADAGVEIAXQYb4O/eYQv9DxfyxTPY3U65KlXe4t2Wi1ST1dC81TONIdyUxNbPjaXP2c8UzsBAAAuFIUQwHkLBg0drvY1L9py6vTOlimex+v87V6fEGtrNbp36nN9WSkJiouxhuk7AQAAiE4UQgDt8jUFdKCyXiWVtac8z3dyIRdfU7Dd69OT4ppX6fzcNg25qQ51T7bLYmFqJwAAgFkohADkqfNr/4l9+T63TcMhb4PaW3rKZrUoKyXh5HTO1JNTPHPTHEqy8zYDAAAQqfhNDYgCgaChcm9D8wIup2zE3vx8X628DU3tXp8YZ1NuWqJyUxNabdOQm+qQOyVBsTamdgIAAHRGFEKgi2jwB0J78bXapqGyTgcr69UYaH9qZ/dk+ynbNCQqNy0htJBLWmIcUzsBAAC6IAoh0EkYhqHjdf7QNg2tn+erVYXX1+71sTaLsrs5Qs/z5Z2ygEtOaoIccbwdAAAARBt+AwQiSFMgqEOehtC+fPsrT07xLDlWp2pf+1M7k+0xzSN8J57h+9zUTht78wEAAOAUFEIgzOoam0KF7/NTPA8er1dTe5vzScp0xp/cnuHEFM+W1TtTHLFM7QQAAMBZoxACF5lhGDpa09hqI/ZT9+c7Ut3+1M44m1XZqQkt0zoTW63cmZPqUHysLUzfCQAAALo6CiFwHvyBoMqq6kOjewc+t1VDbWOg3etdCbGhgpd3yjYNeWkOZTjjmdoJAACAsKAQAl+gxtfU8vxe7SnTOptH+Uqr6hVoZ2qnxSL1bJnamdeyH19oEZfURLkcsWH8TgAAAIC2UQgRtQzD0JFqn/a3PMdXcupWDcfqdKy2sd3r7THWVlM5Q1M80xzK7pYgewxTOwEAABDZKITo0hqbgjp4vKXsnVjApWXUr6SyTg3+9vfm6+aIVW7Lgi2nbtOQm+pQj2S7rEztBAAAQCdGIUSn523wNy/a0rJNw4FTit8hT73aW7TTapHcKQltbtOQm+aQM56pnQAAAOi6KISIeMGgoYrqhs9txN48vbOksk7H6/ztXp8QawsVvNBIX8soX1ZKguJirGH6TgAAAIDIQiFERPA1BXSgsv7kNg2nFL8DlXXyNbU/tTM9KS40nbPVyp1pDnVPsrM3HwAAANAGCiHCpqqu8WTZ+9w2DYe8DTLamdpps1qU3S2h1Z58J6Z45qY5lGTnVgYAAADOFb9F46IJBA2Vexu0/1htq43Ym5/vq5W3oand6xPjbK0WcMlp+ZiXmih3SrxibEztBAAAAC4mCiHOSYM/0Go656nbNBw8Xq/GQPtTO3sk20/ZpiExNK0zL9Wh1MQ4pnYCAAAAYUQhRCuGYeh4nb95lK/V/nzNK3hWeH3tXh9rsyi7m6P1ap2nbNWQEMfefAAAAECkoBBGoaZAUIc8DSf35ausDW3bcKCyTtW+9qd2JsfHnFL2ElumdTaP9PV0JcjG3nwAAABAp0Ah7KLqGptOjvC1jPKdmOJ58Hi9mtrbnE9SpjO+zW0a8lIdSnHEMrUTAAAA6AIohJ2UYRg6WtOoksraVsXvxEIuR6rbn9oZF2NVTreE0FTOE1M889Icyu7mUHwsUzsBAACAro5CGMH8gaDKqupbpnWe3Ij9xNTO2sZAu9e7EmJDUztPrNZ5YuXOTGe8rEztBAAAAKIahdBkNb4m7T9WqwOh5/lOLuBSVtWgQDtTOy0Wye1KCBW+U7dpyE11yOWIDeN3AgAAAKCzoRCaZGdFtW747Yc6VtvY7nn2GGurjdhPbNOQm+pQdrcE2WOY2gkAAADg/FAITZKeZA+VwdTEuDa3achLc6h7kp2pnQAAAAA6BIXQJCmOWBXec6VyUx1KjmdqJwAAAIDwoxCaxGKxaLDbZXYMAAAAAFHManYAAAAAAIA5KIQAAAAAEKUohAAAAAAQpSiEAAAAABClKIQAAAAAEKUohAAAAAAQpSiEAAAAABClomIfQsMwJEler9fkJAAAAABw8ZzoOCc6z7mKikJYXV0tScrJyTE5CQAAAABcfNXV1XK5XOd8ncU43yrZiQSDQZWVlSk5OVkWi8XsOCFer1c5OTk6cOCAnE6n2XGAEO5NRCruTUQq7k1EKu7Nrs8wDFVXV8vtdstqPfcnAqNihNBqtSo7O9vsGF/I6XTyHygiEvcmIhX3JiIV9yYiFfdm13Y+I4MnsKgMAAAAAEQpCiEAAAAARCkKoYnsdrt++tOfym63mx0FaIV7E5GKexORinsTkYp7E2cSFYvKAAAAAABOxwghAAAAAEQpCiEAAAAARCkKIQAAAABEKQohAAAAAEQpCmEYrF27Vtddd53cbrcsFoveeOONVp83DEOPPvqoevbsqYSEBE2cOFE7d+40JyyiSnv3pt/v1wMPPKChQ4cqMTFRbrdbN910k8rKyswLjKhxpvfNU911112yWCxatGhR2PIhep3NvVlUVKSvfvWrcrlcSkxM1OWXX66SkpLwh0VUOdO9WVNTo7vvvlvZ2dlKSEjQoEGDtHjxYnPCIqJQCMOgtrZWw4YN00svvdTm55966im98MILWrx4sdavX6/ExERNmjRJDQ0NYU6KaNPevVlXV6cNGzbokUce0YYNG/T3v/9dxcXF+upXv2pCUkSbM71vnvD666/rww8/lNvtDlMyRLsz3Zu7d+/WlVdeqfz8fK1evVqbNm3SI488ovj4+DAnRbQ50705a9YsLVu2TH/6059UVFSkmTNn6u6779abb74Z5qSINGw7EWYWi0Wvv/66pk+fLql5dNDtdmv27Nm67777JEkej0cZGRlasmSJbrjhBhPTIpp8/t5sy8cff6xRo0Zp//79ys3NDV84RLUvujdLS0s1evRoLV++XNOmTdPMmTM1c+ZMUzIiOrV1b95www2KjY3VH//4R/OCIeq1dW8OGTJEM2bM0COPPBI6NmLECE2ZMkXz5883ISUiBSOEJtu7d6/Ky8s1ceLE0DGXy6XRo0dr3bp1JiYDTufxeGSxWJSSkmJ2FES5YDCoG2+8UXPmzNHgwYPNjgNIar4vCwsLNWDAAE2aNEk9evTQ6NGj253yDITL2LFj9eabb6q0tFSGYWjVqlXasWOHrr32WrOjwWQUQpOVl5dLkjIyMlodz8jICH0OiAQNDQ164IEH9O1vf1tOp9PsOIhyTz75pGJiYnTPPfeYHQUIOXz4sGpqavTEE09o8uTJeuedd/T1r39d3/jGN7RmzRqz4yHKvfjiixo0aJCys7MVFxenyZMn66WXXtJVV11ldjSYLMbsAAAin9/v17e+9S0ZhqFf//rXZsdBlPv000/1i1/8Qhs2bJDFYjE7DhASDAYlSV/72td07733SpKGDx+uDz74QIsXL9a4cePMjIco9+KLL+rDDz/Um2++qby8PK1du1Y/+tGP5Ha7W81UQ/RhhNBkmZmZkqSKiopWxysqKkKfA8x0ogzu379fK1asYHQQpnv//fd1+PBh5ebmKiYmRjExMdq/f79mz56tXr16mR0PUSw9PV0xMTEaNGhQq+MFBQWsMgpT1dfX68EHH9Rzzz2n6667TpdcconuvvtuzZgxQ88884zZ8WAyCqHJevfurczMTK1cuTJ0zOv1av369RozZoyJyYCTZXDnzp169913lZaWZnYkQDfeeKM2bdqkjRs3hv643W7NmTNHy5cvNzseolhcXJwuv/xyFRcXtzq+Y8cO5eXlmZQKaP557vf7ZbW2/tXfZrOFRrYRvZgyGgY1NTXatWtX6PXevXu1ceNGpaamKjc3VzNnztT8+fPVv39/9e7dW4888ojcbne7qz0CF0N792bPnj31H//xH9qwYYPeeustBQKB0HOtqampiouLMys2osCZ3jc//z8nYmNjlZmZqYEDB4Y7KqLMme7NOXPmaMaMGbrqqqs0fvx4LVu2TP/4xz+0evVq80IjKpzp3hw3bpzmzJmjhIQE5eXlac2aNXrllVf03HPPmZgaEcFAh1u1apUh6bQ/N998s2EYhhEMBo1HHnnEyMjIMOx2uzFhwgSjuLjY3NCICu3dm3v37m3zc5KMVatWmR0dXdyZ3jc/Ly8vz3j++efDmhHR6Wzuzd///vdGv379jPj4eGPYsGHGG2+8YV5gRI0z3ZuHDh0ybrnlFsPtdhvx8fHGwIEDjWeffdYIBoPmBofp2IcQAAAAAKIUzxACAAAAQJSiEAIAAABAlKIQAgAAAECUohACAAAAQJSiEAIAAABAlKIQAgAAAECUohACAAAAQJSiEAIAAABAlKIQAgAAAECUohACAAAAQJSiEAIAAABAlKIQAgAAAECUohACAAAAQJSiEAIAAABAlKIQAgAAAECUohACAAAAQJSiEAIAAABAlPr/AY8WBXTpyzZDAAAAAElFTkSuQmCC' width=900.0/>\n",
       "            </div>\n",
       "        "
      ],
      "text/plain": [
       "Canvas(toolbar=Toolbar(toolitems=[('Home', 'Reset original view', 'home', 'home'), ('Back', 'Back to previous …"
      ]
     },
     "metadata": {},
     "output_type": "display_data"
    }
   ],
   "source": [
    "tlist, olist, plist = [], [], range(10, 20, 3)\n",
    "for npt in plist:\n",
    "    levels, codes_by_idx = er.build_levels(fdata.iloc[:npt])\n",
    "    t, o, _ = er.goal_programming(levels, codes_by_idx, codes, capacities, tlim=10, verbose=0)\n",
    "    tlist.append(t)\n",
    "    olist.append(o['all'])\n",
    "er.plot_scalability_evalulation(plist, np.log10(tlist), figsize=figsize)"
   ]
  },
  {
   "cell_type": "markdown",
   "metadata": {},
   "source": [
    "* We will use these value as a reference for some comparisons later"
   ]
  },
  {
   "cell_type": "markdown",
   "metadata": {
    "slideshow": {
     "slide_type": "subslide"
    }
   },
   "source": [
    "## Warm Starting\n",
    "\n",
    "**A drawback of GP is that search restarts from scratch at each iteration**\n",
    "\n",
    "* In Google ortools, we can do this by providing \"hints\"\n",
    "* A \"hint\" is a suggested assignment for a variable\n",
    "\n",
    "**First, we update our function to accept hints:**\n",
    "\n",
    "```python\n",
    "def goal_programming(levels, codes_by_idx, codes, capacities,\n",
    "        tlim=None, verbose=1, hints=None):\n",
    "        ...\n",
    "        status, slv, tasks = solve_bounded_waittime_problem(levels, codes_by_idx,\n",
    "                codes[:i+1], capacities, ub_by_code=wt_by_code,\n",
    "                tlim=l_tlim, hints=hints) # <-- here we pass hints\n",
    "        ...\n",
    "        if status in (cp_model.OPTIMAL, cp_model.FEASIBLE):\n",
    "            ...\n",
    "            starts = {tidx:slv.Value(tasks[tidx].start) for tidx in tasks}\n",
    "            hints = starts # <-- hints are the start in the last solution\n",
    "        ...\n",
    "```"
   ]
  },
  {
   "cell_type": "markdown",
   "metadata": {
    "slideshow": {
     "slide_type": "subslide"
    }
   },
   "source": [
    "## Warm Starting\n",
    "\n",
    "**Then, we need to take into account the hints in the model:**\n",
    "\n",
    "```python\n",
    "def solve_bounded_waittime_problem(levels, codes_by_idx, codes, capacities,\n",
    "        ub_by_code={}, tlim=None, hints=None):\n",
    "    ...\n",
    "    # Add hints\n",
    "    if hints is not None:\n",
    "        for (idx, k, i), stval in hints.items():\n",
    "            mdl.AddHint(tasks[idx,k,i].start, stval)\n",
    "    ...\n",
    "```\n",
    "\n",
    "* The solver will _try to assign_ to each value the corresponding hint\n",
    "* In case this proves impossible, it will search as usual\n",
    "* If properly done, this guarantees that we start from a known feasible solution\n",
    "\n",
    "**This is usually referred to as _warm starting_ in the optimization field**"
   ]
  },
  {
   "cell_type": "markdown",
   "metadata": {
    "slideshow": {
     "slide_type": "subslide"
    }
   },
   "source": [
    "## Warm Starting\n",
    "\n",
    "**Let's test this updated implementation**"
   ]
  },
  {
   "cell_type": "code",
   "execution_count": 7,
   "metadata": {},
   "outputs": [
    {
     "data": {
      "application/vnd.jupyter.widget-view+json": {
       "model_id": "df534d9d0de145f1b160c9dae956ea1c",
       "version_major": 2,
       "version_minor": 0
      },
      "text/html": [
       "\n",
       "            <div style=\"display: inline-block;\">\n",
       "                <div class=\"jupyter-widgets widget-label\" style=\"text-align: center;\">\n",
       "                    Figure\n",
       "                </div>\n",
       "                <img src='data:image/png;base64,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' width=900.0/>\n",
       "            </div>\n",
       "        "
      ],
      "text/plain": [
       "Canvas(toolbar=Toolbar(toolitems=[('Home', 'Reset original view', 'home', 'home'), ('Back', 'Back to previous …"
      ]
     },
     "metadata": {},
     "output_type": "display_data"
    }
   ],
   "source": [
    "tlist2, plist2 = [], range(10, 23, 3)\n",
    "for npt in plist2:\n",
    "    levels, codes_by_idx = er.build_levels(fdata.iloc[:npt])\n",
    "    t, _, _ = er.goal_programming(levels, codes_by_idx, codes, capacities, tlim=10, verbose=0)\n",
    "    tlist2.append(t)\n",
    "er.plot_scalability_evalulation(plist2, np.log10(tlist2), figsize=figsize)"
   ]
  },
  {
   "cell_type": "markdown",
   "metadata": {},
   "source": [
    "It does not make much of a difference here, but _it will matter for larger problems_"
   ]
  },
  {
   "cell_type": "markdown",
   "metadata": {
    "slideshow": {
     "slide_type": "slide"
    }
   },
   "source": [
    "# Large Neighborhood Search"
   ]
  },
  {
   "cell_type": "markdown",
   "metadata": {
    "slideshow": {
     "slide_type": "subslide"
    }
   },
   "source": [
    "## Large Neighborhood Search\n",
    "\n",
    "**Exact optimization approaches (e.g. classical CP/SMT)...**\n",
    "\n",
    "* ...Enable _convenient modeling_ and are very effective on small problems\n",
    "* ...But have trouble dealing with large-scale optimization problems\n",
    "\n",
    "**Heuristic approaches (e.g. local search)...**\n",
    "\n",
    "* ...Can deal with large scale problems\n",
    "* ...But have trouble escaping local minima\n",
    "\n",
    "**The two approaches can be combined to obtain _Large Neighborhood Search_**\n",
    "\n",
    "* We operate by trying to improve an _incumbent solution_\n",
    "* Improving solutions are searched in a _large neighborhood_\n",
    "* Each neighborhood is explored via a complete search on a _restricted problem_\n",
    "* ...Typically: we fix all variables, except a small subset (_relaxed variables_)"
   ]
  },
  {
   "cell_type": "markdown",
   "metadata": {
    "slideshow": {
     "slide_type": "subslide"
    }
   },
   "source": [
    "## Large Neighborhood Search\n",
    "\n",
    "**Here's a visual scheme of how the approach works**\n",
    "\n",
    "<center><img src=\"assets/lns.png\" width=700px/></center>\n",
    "\n",
    "**LNS _combines the strengths_ of its component approaches**\n",
    "\n",
    "* It can efficiently handle large-scale problems (like local search)\n",
    "* It can escape local minima thanks to the use of large neighborhoods\n",
    "* It retains the modeling flexibility of CP, SMT, MILP, etc.\n",
    "\n",
    "**Choosing which variables to relax at each iteration...**\n",
    "\n",
    "* ...Can be a major design decision, and can be done using domain knowledge\n",
    "* ...But actually even a simple _random selection_ often works very well\n",
    "\n",
    "**LNS was covered in the first-year Combinatorial Optimization course**\n"
   ]
  },
  {
   "cell_type": "markdown",
   "metadata": {
    "slideshow": {
     "slide_type": "subslide"
    }
   },
   "source": [
    "## Variable Fixing in Scheduling\n",
    "\n",
    "**LNS can be very effective on _scheduling problems_...**\n",
    "\n",
    "* ...But it is not straightforward to implement\n",
    "* ...Since the classical \"variable\" fixing approach provides _too little flexibility_\n",
    "\n",
    "**Consider the following schedule for a resouce with capacity 2:**\n",
    "\n",
    "<center><img src=\"assets/pos_issue.png\" width=700px/></center>\n",
    "\n",
    "* Say the we relax the start of the green tasks, and keep the yellow ones _fixed_\n",
    "* ...Then we still _cannot_ make any improvement!\n",
    "\n",
    "**We need to retain some ability to _shift tasks in time_**\n",
    "\n",
    "* But we still need to keep them somewhat \"less free\"\n",
    "* ...Or there is no point in defining a neighborhood\n"
   ]
  },
  {
   "cell_type": "markdown",
   "metadata": {
    "slideshow": {
     "slide_type": "subslide"
    }
   },
   "source": [
    "## Partial Order Schedule\n",
    "\n",
    "**The solution is converting a fixed-start schedule into a _Partial Order Schedule_**\n",
    "\n",
    "A Partial Order Schedule is an _augmented task graph_\n",
    "\n",
    "<center><img src=\"assets/pos_example.png\" width=700px/></center>\n",
    "\n",
    "* The graph contains all the original precedence relations (in this case none)\n",
    "* ...Plus _additional precedences_, introduced to _prevent resource conflicts_\n",
    "\n",
    "**In the figure:**\n",
    "\n",
    "* As long as the black arcs (precedences) are respected\n",
    "* ...Tasks can be moved _without any resource conflict_"
   ]
  },
  {
   "cell_type": "markdown",
   "metadata": {
    "slideshow": {
     "slide_type": "subslide"
    }
   },
   "source": [
    "## Partial Order Scheduling\n",
    "\n",
    "**In general, a POS can be obtained by solving a _minimum flow problem_**\n",
    "\n",
    "<center><img src=\"assets/flow1.png\" width=700px/></center>\n",
    "\n",
    "* First, we introduce a fake \"source\" and \"sink\" task\n",
    "* Then, we build an arc for each pair of tasks such that $e_i \\leq s_j$\n",
    "  - The source can be connected only to the first tasks\n",
    "  - ...And the sink has an incoming arc for each last task\n",
    "* Then we say each task \"requires\" flow equal to its resource demand\n",
    "  - In this example, all requirements are 1"
   ]
  },
  {
   "cell_type": "markdown",
   "metadata": {
    "slideshow": {
     "slide_type": "subslide"
    }
   },
   "source": [
    "## Partial Order Scheduling\n",
    "\n",
    "**In general, a POS can be obtained by solving a _minimum flow problem_**\n",
    "\n",
    "<center><img src=\"assets/flow2.png\" width=700px/></center>\n",
    "\n",
    "* Finally, we route the minimum amount of flow that satisfies the requirements\n",
    "  - ...For example using some variant of the Ford-Fulkerson's method\n",
    "  - We will not look into details into this\n",
    "* The arcs with non-zero flow become part of the POS\n",
    "  - In the figure, these are the arcs in black\n",
    "  - You can check that the flow is actually minimum"
   ]
  },
  {
   "cell_type": "markdown",
   "metadata": {
    "slideshow": {
     "slide_type": "subslide"
    }
   },
   "source": [
    "## POS Conversion - Implementation\n",
    "\n",
    "**Since we have only unary demands, _our implementation can be simpler_**\n",
    "\n",
    "First, let's prepare a function to _collect and sort the tasks for each resource_:\n",
    "\n",
    "```python\n",
    "def sol_to_pos(levels, starts, capacities):\n",
    "    aplus, aminus = {}, {}\n",
    "    stasks = {r:[] for r in capacities}\n",
    "    for idx, k, i in starts:\n",
    "        ttype = levels[idx][k][i]\n",
    "        if ttype in capacities:\n",
    "            stasks[ttype].append((idx, k, i))\n",
    "            aplus[idx, k, i], aminus[idx, k, i] = [], []\n",
    "    for res in capacities:\n",
    "        stasks[res] = sorted(stasks[res], key=lambda t: starts[t]) # <-- sort by start\n",
    "    for res, cap in capacities.items():\n",
    "        for _ in range(cap):\n",
    "            stasks[res] = unit_flow(levels, stasks[res], starts, aplus, aminus)\n",
    "    return aplus, aminus\n",
    "```"
   ]
  },
  {
   "cell_type": "markdown",
   "metadata": {
    "slideshow": {
     "slide_type": "subslide"
    }
   },
   "source": [
    "## POS Conversion - Implementation\n",
    "\n",
    "**We store the POS as a collection of outgoing and ingoing arcs**\n",
    "\n",
    "This is a sparse representation for the _adjacency matrix_:\n",
    "\n",
    "```python\n",
    "def sol_to_pos(levels, starts, capacities):\n",
    "    aplus, aminus = {}, {}\n",
    "    ...\n",
    "    for idx, k, i in starts:\n",
    "        ...\n",
    "        if ttype in capacities:\n",
    "            ...\n",
    "            aplus[idx, k, i], aminus[idx, k, i] = [], []\n",
    "    ...\n",
    "    return aplus, aminus\n",
    "```\n",
    "\n",
    "* The chosen representation allows for efficient graph traversal\n",
    "* It also makes it easy to detect arcs implied via the transitive property"
   ]
  },
  {
   "cell_type": "markdown",
   "metadata": {
    "slideshow": {
     "slide_type": "subslide"
    }
   },
   "source": [
    "## POS Conversion - Implementation\n",
    "\n",
    "**Then, we collect the tasks for each resource:**\n",
    "\n",
    "```python\n",
    "def sol_to_pos(levels, starts, capacities):\n",
    "    ...\n",
    "    stasks = {r:[] for r in capacities}\n",
    "    for idx, k, i in starts:\n",
    "        ttype = levels[idx][k][i]\n",
    "        if ttype in capacities:\n",
    "            stasks[ttype].append((idx, k, i))\n",
    "            ...\n",
    "    for res in capacities:\n",
    "        stasks[res] = sorted(stasks[res], key=lambda t: starts[t])\n",
    "    ...\n",
    "```\n",
    "\n",
    "* We sort each collection by increasing start time"
   ]
  },
  {
   "cell_type": "markdown",
   "metadata": {
    "slideshow": {
     "slide_type": "subslide"
    }
   },
   "source": [
    "## POS Conversion - Implementation\n",
    "\n",
    "**Finally, we route _single units of flows_**\n",
    "\n",
    "```python\n",
    "def sol_to_pos(levels, starts, capacities):\n",
    "    ...\n",
    "    for res, cap in capacities.items():\n",
    "        for _ in range(cap):\n",
    "            stasks[res] = unit_flow(levels, stasks[res], starts, aplus, aminus)\n",
    "    return aplus, aminus\n",
    "```\n",
    "\n",
    "* Each unit corresponds to one unit of resource capacity\n",
    "* The flow represents how the resource is \"passed\" form one task to the next\n",
    "* We do not build explicitly the possible arcs\n",
    "* ...We just assume there is one whenever $\\mathit{start}_i + \\mathit{dur}_i \\leq \\mathit{start}_j$"
   ]
  },
  {
   "cell_type": "markdown",
   "metadata": {
    "slideshow": {
     "slide_type": "subslide"
    }
   },
   "source": [
    "## POS Conversion - Implementation\n",
    "\n",
    "**Here is the algorithm for routing each flow unit**\n",
    "\n",
    "```python\n",
    "def unit_flow(levels, stasks, starts, aplus, aminus):\n",
    "    nonprocessed = []\n",
    "    src, dur = None, 0\n",
    "    for dst in stasks:\n",
    "        if src is not None and starts[src] + dur <= starts[dst]:\n",
    "            aplus[src].append(dst) # Build an arc (forward star)\n",
    "            aminus[dst].append(src) # Build an arc (backward star)\n",
    "            src = None # Reset the source\n",
    "        if src is None:\n",
    "            src = dst # Set a new source\n",
    "            dur = get_dur(levels[src[0]][src[1]][src[2]])\n",
    "        else:\n",
    "            nonprocessed.append(dst) # Store as non-processed\n",
    "    return nonprocessed\n",
    "\n",
    "```"
   ]
  },
  {
   "cell_type": "markdown",
   "metadata": {
    "slideshow": {
     "slide_type": "subslide"
    }
   },
   "source": [
    "## POS Conversion - Implementation\n",
    "\n",
    "**Let's test the function**"
   ]
  },
  {
   "cell_type": "code",
   "execution_count": 5,
   "metadata": {},
   "outputs": [
    {
     "name": "stdout",
     "output_type": "stream",
     "text": [
      "Solver status: optimal, time(CPU sec): 0.00, objective: 0.0\n",
      "Solver status: optimal, time(CPU sec): 0.00, objective: 0.0\n",
      "Solver status: optimal, time(CPU sec): 0.00, objective: 0.0\n",
      "Solver status: optimal, time(CPU sec): 0.00, objective: 0.0\n",
      "\n",
      "0(green): visit(0-1), RX(1-3), visit(3-4)\n",
      "1(green): visit(0-1), lab(1-5), visit(5-6)\n",
      "2(white): visit(0-1), otolaryngological visit(1-5), visit(5-6)\n"
     ]
    },
    {
     "data": {
      "text/plain": [
       "{(0, 0, 0): [(0, 2, 0)],\n",
       " (0, 1, 0): [],\n",
       " (0, 2, 0): [(1, 2, 0)],\n",
       " (1, 0, 0): [(2, 2, 0)],\n",
       " (1, 2, 0): [],\n",
       " (2, 0, 0): [],\n",
       " (2, 2, 0): []}"
      ]
     },
     "execution_count": 5,
     "metadata": {},
     "output_type": "execute_result"
    }
   ],
   "source": [
    "codes = ['red', 'yellow', 'green', 'white']\n",
    "npatients = 3\n",
    "levels, codes_by_idx = er.build_levels(fdata.iloc[:npatients])\n",
    "_, _, starts = er.goal_programming(levels, codes_by_idx, codes, capacities, tlim=10)\n",
    "aplus, aminus = er.sol_to_pos(levels, starts, capacities)\n",
    "aplus"
   ]
  },
  {
   "cell_type": "markdown",
   "metadata": {
    "slideshow": {
     "slide_type": "subslide"
    }
   },
   "source": [
    "## POS Relaxation\n",
    "\n",
    "**A POS corresponds to a set of feasible schedules**\n",
    "\n",
    "Tasks can be freely shifted, and _no resource constraint is violated_\n",
    "\n",
    "* There are _no longer ordering decisions_ to be made\n",
    "* Typically, choosing one of the possible schedules becomes a poly-time problem\n",
    "\n",
    "However, this means that we cannot really make significant changes\n",
    "\n",
    "**How do we _relax_ a POS for LNS?**\n",
    "\n",
    "* We _disconnect_ a set of tasks from the precedence network\n",
    "* ...While preserving all transitive precedences\n",
    "\n",
    "**In Practice, for each relaxed task:**\n",
    "\n",
    "* First, we connect all task predecessors to the task successors\n",
    "* Then, we remove all the additional POS arcs linked to the relaxed tasks"
   ]
  },
  {
   "cell_type": "markdown",
   "metadata": {
    "slideshow": {
     "slide_type": "subslide"
    }
   },
   "source": [
    "## POS Relaxation - Implementation\n",
    "\n",
    "**Here's an implemented algorithm for removing/relaxing POS tasks**\n",
    "\n",
    "```python\n",
    "def remove_task_from_pos(aplus, aminus, task_key):\n",
    "    # Transfer transitive arcs\n",
    "    for src in aminus[task_key]:\n",
    "        for dst in aplus[task_key]:\n",
    "            aminus[dst].append(src)\n",
    "            aplus[src].append(dst)\n",
    "    # Remove ingoing arcs\n",
    "    for src in aminus[task_key]:\n",
    "        aplus[src].remove(task_key)\n",
    "    # Remove outgoing arcs\n",
    "    for dst in aplus[task_key]:\n",
    "        aminus[dst].remove(task_key)\n",
    "    # Remove the node from the arc\n",
    "    del aplus[task_key]\n",
    "    del aminus[task_key]\n",
    "```"
   ]
  },
  {
   "cell_type": "markdown",
   "metadata": {
    "slideshow": {
     "slide_type": "subslide"
    }
   },
   "source": [
    "## POS Relaxation - Implementation\n",
    "\n",
    "**In our LNS approach we will relax all tasks related to selected patients**\n",
    "\n",
    "```python\n",
    "def remove_patient_from_pos(aplus, aminus, target_idx):\n",
    "    aplus_res = copy.deepcopy(aplus)\n",
    "    aminus_res = copy.deepcopy(aminus)\n",
    "    for idx, k, i in aplus:\n",
    "        if idx == target_idx:\n",
    "            remove_task_from_pos(aplus_res, aminus_res, (idx, k, i))\n",
    "    return aplus_res, aminus_res\n",
    "```"
   ]
  },
  {
   "cell_type": "code",
   "execution_count": 11,
   "metadata": {},
   "outputs": [
    {
     "data": {
      "text/plain": [
       "{(0, 0, 0): [(0, 2, 0)],\n",
       " (0, 1, 0): [],\n",
       " (0, 2, 0): [(1, 2, 0)],\n",
       " (1, 0, 0): [],\n",
       " (1, 2, 0): []}"
      ]
     },
     "execution_count": 11,
     "metadata": {},
     "output_type": "execute_result"
    }
   ],
   "source": [
    "aplus2, aminus2 = er.remove_patient_from_pos(aplus, aminus, 2)\n",
    "aplus2"
   ]
  },
  {
   "cell_type": "markdown",
   "metadata": {
    "slideshow": {
     "slide_type": "subslide"
    }
   },
   "source": [
    "## Restricted Problem\n",
    "\n",
    "**We now need to take int account the additional precedences in the model**\n",
    "\n",
    "```python\n",
    "def solve_bounded_waittime_problem(levels, codes_by_idx, codes, capacities,\n",
    "        ub_by_code={}, tlim=None, hints=None, aplus=None):\n",
    "    ...\n",
    "    # Add extra precedences\n",
    "    if aplus is not None:\n",
    "        for (idx, k, i), out_arcs in aplus.items():\n",
    "            for idx2, k2, i2 in out_arcs:\n",
    "                mdl.Add(tasks[idx,k,i].end <= tasks[idx2,k2,i2].start)\n",
    "    ...\n",
    "```\n",
    "\n",
    "Even if we still need to assing _all the start times_...\n",
    "\n",
    "* Precedence constraints are efficient to propagate\n",
    "* They are effective at narrowing the variable domains\n",
    "* ...And in this case they prevent many resource conflicts\n",
    "\n",
    "**If many POS constraints are added, the problem is much easier to solve**"
   ]
  },
  {
   "cell_type": "markdown",
   "metadata": {
    "slideshow": {
     "slide_type": "subslide"
    }
   },
   "source": [
    "## LNS - Initial Solution\n",
    "\n",
    "**We are ready to define our LNS approach**\n",
    "\n",
    "First, we need an initial solution:"
   ]
  },
  {
   "cell_type": "code",
   "execution_count": 12,
   "metadata": {},
   "outputs": [
    {
     "name": "stdout",
     "output_type": "stream",
     "text": [
      "Initial solution in 4.01 sec, {'red': 15, 'yellow': 1429, 'green': 3986, 'white': 22, 'all': 5452}\n"
     ]
    }
   ],
   "source": [
    "init_time = 4 # Time limit for the initial solution\n",
    "codes = ['red', 'yellow', 'green', 'white']\n",
    "npatients = 150\n",
    "\n",
    "levels, codes_by_idx = er.build_levels(fdata.iloc[:npatients])\n",
    "\n",
    "ttime, wt_by_code, starts = er.goal_programming(levels, codes_by_idx, codes, capacities=capacities,\n",
    "                           tlim=init_time, verbose=0)\n",
    "print(f'Initial solution in {ttime:.2f} sec, {wt_by_code}')"
   ]
  },
  {
   "cell_type": "markdown",
   "metadata": {},
   "source": [
    "* We can obtain this one as usual\n",
    "* It's better if it's of decent quality\n",
    "* ...But we don't want to spend more than a few seconds on this"
   ]
  },
  {
   "cell_type": "markdown",
   "metadata": {
    "slideshow": {
     "slide_type": "subslide"
    }
   },
   "source": [
    "## LNS - Baseline\n",
    "\n",
    "**As a baseline, let's see the solution quality we can obtain in 25 seconds**"
   ]
  },
  {
   "cell_type": "code",
   "execution_count": 15,
   "metadata": {},
   "outputs": [
    {
     "name": "stdout",
     "output_type": "stream",
     "text": [
      "Baseline solution in 25.03 sec, {'red': 35, 'yellow': 3213, 'green': 5961, 'white': 29, 'all': 9238}\n"
     ]
    }
   ],
   "source": [
    "init_time = 25 # Time limit for the initial solution\n",
    "codes = ['red', 'yellow', 'green', 'white']\n",
    "npatients = 200\n",
    "\n",
    "levels, codes_by_idx = er.build_levels(fdata.iloc[:npatients])\n",
    "\n",
    "ttime, wt_by_code, starts = er.goal_programming(levels, codes_by_idx, codes, capacities=capacities,\n",
    "                           tlim=init_time, verbose=0)\n",
    "print(f'Baseline solution in {ttime:.2f} sec, {wt_by_code}')"
   ]
  },
  {
   "cell_type": "markdown",
   "metadata": {},
   "source": [
    "* We will focus on the _total weighting time_ for this evaluation\n",
    "* ...Since strictly keeping the code priorities with LNS would require further work\n",
    "* ...And things are already quite complicated as they are"
   ]
  },
  {
   "cell_type": "markdown",
   "metadata": {
    "slideshow": {
     "slide_type": "subslide"
    }
   },
   "source": [
    "## LNS - Upper bounds\n",
    "\n",
    "**In LNS we will repeatedly be seeking for an _improving_ solution**\n",
    "\n",
    "...So we need to modify our G.P. loop to take _upper bounds_ into account:\n",
    "\n",
    "```python\n",
    "def goal_programming(levels, codes_by_idx, codes, capacities,\n",
    "        tlim=None, verbose=1, hints=None, ub_by_code=None):\n",
    "    # Handle the upper bounds\n",
    "    if ub_by_code is None:\n",
    "        wt_by_code = {}\n",
    "    else:\n",
    "        wt_by_code = copy.deepcopy(ub_by_code)\n",
    "    ...\n",
    "    return ttime, wt_by_code, starts\n",
    "\n",
    "```\n",
    "\n",
    "* The bounds are then passed to the function that builds and solves the model\n",
    "* ...Which was already designed to deal with the bounds from Goal Programming"
   ]
  },
  {
   "cell_type": "markdown",
   "metadata": {
    "slideshow": {
     "slide_type": "subslide"
    }
   },
   "source": [
    "## LNS - Main Loop\n",
    "\n",
    "**Here is the main structure of our LNS implementation:**\n",
    "\n",
    "```python\n",
    "def scheduling_lns(levels, codes_by_idx, codes, capacities,\n",
    "        tlim, init_time, it_time, nb_size, verbose=1):\n",
    "    ... # Build initial solution\n",
    "    while tlim - ttime > 0:\n",
    "        aplus, aminus = sol_to_pos(levels, starts, capacities) # Obtain a POS\n",
    "        relaxed = np.random.choice(patients, nb_size, replace=False) # Relax patients\n",
    "        for idx in relaxed: aplus, aminus = remove_patient_from_pos(aplus, aminus, idx)\n",
    "        ub_by_code = copy.deepcopy(wt_by_code) \n",
    "        ub_by_code['all'] -= 1 # Require an improvement for the total waiting time\n",
    "        ... # Re-solve\n",
    "        ttime += max(itime, 0.1) # Update the time limit\n",
    "        ... # Update the best solution\n",
    "```\n",
    "\n",
    "The full implementation can be found in our support module"
   ]
  },
  {
   "cell_type": "markdown",
   "metadata": {
    "slideshow": {
     "slide_type": "subslide"
    }
   },
   "source": [
    "## Evaluation\n",
    "\n",
    "**Time to test! Waiting times are sorted by code, the last is the total**"
   ]
  },
  {
   "cell_type": "code",
   "execution_count": 16,
   "metadata": {
    "scrolled": true
   },
   "outputs": [
    {
     "name": "stdout",
     "output_type": "stream",
     "text": [
      "Initial solution in 3.44 sec, {'red': 636, 'yellow': 4354, 'green': 6681, 'white': 1, 'all': 11672}\n",
      "Total time: 4.13, neighborhood explored in 0.70 sec, waiting times 623,3953,6021,1,10598\n",
      "Total time: 4.97, neighborhood explored in 0.83 sec, waiting times 621,3892,6015,1,10529\n",
      "Total time: 5.94, neighborhood explored in 0.97 sec, waiting times 620,3882,5953,1,10456\n",
      "Total time: 6.73, neighborhood explored in 0.79 sec, waiting times 616,3831,5875,1,10323\n",
      "Total time: 8.56, neighborhood explored in 0.82 sec, waiting times 607,3781,5811,1,10200\n",
      "Total time: 9.53, neighborhood explored in 0.97 sec, waiting times 607,3693,5805,1,10106\n",
      "Total time: 10.43, neighborhood explored in 0.90 sec, waiting times 602,3669,5708,1,9980\n",
      "Total time: 12.29, neighborhood explored in 0.86 sec, waiting times 598,3650,5677,1,9926\n",
      "Total time: 13.55, neighborhood explored in 1.00 sec, waiting times 591,3627,5662,1,9881\n",
      "Total time: 15.58, neighborhood explored in 1.03 sec, waiting times 588,3595,5660,1,9844\n",
      "Total time: 16.53, neighborhood explored in 0.95 sec, waiting times 582,3573,5637,1,9793\n",
      "Total time: 17.55, neighborhood explored in 1.02 sec, waiting times 580,3573,5602,1,9756\n",
      "Total time: 18.41, neighborhood explored in 0.86 sec, waiting times 576,3547,5529,1,9653\n",
      "Total time: 19.35, neighborhood explored in 0.94 sec, waiting times 572,3470,5525,1,9568\n",
      "Total time: 20.41, neighborhood explored in 0.84 sec, waiting times 570,3447,5495,1,9513\n",
      "Total time: 21.44, neighborhood explored in 1.03 sec, waiting times 566,3392,5478,1,9437\n",
      "Total time: 24.24, neighborhood explored in 0.94 sec, waiting times 566,3365,5426,1,9358\n"
     ]
    }
   ],
   "source": [
    "# Configuration\n",
    "npatients, tlim, init_time, it_time, nb_size = 200, 25, 4, 1, 4\n",
    "codes = ['red', 'yellow', 'green', 'white']\n",
    "levels, codes_by_idx = er.build_levels(fdata.iloc[:npatients])\n",
    "er.scheduling_lns(levels, codes_by_idx, codes, capacities, tlim, init_time, it_time, nb_size);"
   ]
  },
  {
   "cell_type": "markdown",
   "metadata": {
    "slideshow": {
     "slide_type": "subslide"
    }
   },
   "source": [
    "## Considerations\n",
    "\n",
    "**LNS is the industrial optimizer's secret weapon**\n",
    "\n",
    "* It's flexible, robust, scalable, and not too difficult to implement\n",
    "  - Except for  scheduling problems, but you've now seen how to do it ;-)\n",
    "* It's usually possible to do better than LNS, but it's also considerably harder\n",
    "\n",
    "**Goal programming is not only about lexicographic costs**\n",
    "\n",
    "* It's about simplifying a problem via constraints\n",
    "* E.g. constraints may actually help in CP\n",
    "* Sometimes special optimization are possible:\n",
    "  - Include only some of the variables (e.g. red-codes only)\n",
    "  - Simplified problem formulation (e.g. fixed number of vehicles)\n",
    "\n",
    "**Do not underestimate warm starts**\n",
    "\n",
    "* Without our little trick at the beginning\n",
    "* ...The search for an initial solution with 100 patients would fail!"
   ]
  }
 ],
 "metadata": {
  "celltoolbar": "Slideshow",
  "kernelspec": {
   "display_name": "Python 3",
   "language": "python",
   "name": "python3"
  },
  "language_info": {
   "codemirror_mode": {
    "name": "ipython",
    "version": 3
   },
   "file_extension": ".py",
   "mimetype": "text/x-python",
   "name": "python",
   "nbconvert_exporter": "python",
   "pygments_lexer": "ipython3",
   "version": "3.6.9"
  },
  "rise": {
   "center": false,
   "transition": "fade"
  }
 },
 "nbformat": 4,
 "nbformat_minor": 4
}
