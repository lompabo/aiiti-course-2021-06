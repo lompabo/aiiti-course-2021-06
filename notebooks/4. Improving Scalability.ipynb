{
 "cells": [
  {
   "cell_type": "code",
   "execution_count": 1,
   "metadata": {
    "slideshow": {
     "slide_type": "skip"
    }
   },
   "outputs": [],
   "source": [
    "# ============================================================\n",
    "# Notebook setup\n",
    "# ============================================================\n",
    "\n",
    "%load_ext autoreload\n",
    "%autoreload 2\n",
    "\n",
    "# Control figure size\n",
    "interactive_figures = True\n",
    "if interactive_figures:\n",
    "    # Normal behavior\n",
    "    %matplotlib widget\n",
    "    figsize=(9, 3)\n",
    "else:\n",
    "    # PDF export behavior\n",
    "    figsize=(14, 5)\n",
    "\n",
    "from util import er\n",
    "import numpy as np\n",
    "from matplotlib import pyplot as plt\n",
    "import pandas as pd\n",
    "from tensorflow import keras\n",
    "from tensorflow.keras import layers, callbacks\n",
    "import tensorflow_probability as tfp\n",
    "from scipy import stats\n",
    "from sklearn import metrics\n",
    "from ortools.sat.python import cp_model\n",
    "import copy\n",
    "\n",
    "# Configuration\n",
    "data_folder = '/app/data'\n",
    "\n",
    "# Load data\n",
    "data = er.load_data(data_folder)\n",
    "data.sort_values(by='Triage', inplace=True);\n",
    "data.reset_index(inplace=True);\n",
    "data.drop(columns='index', inplace=True);\n",
    "\n",
    "# Discard abandons\n",
    "fdata = data[~data['TkCharge'].isnull()]\n",
    "\n",
    "# Fixed problem data\n",
    "capacities = {'visit': 3, 'ultrasound': 2, 'RX': 2}"
   ]
  },
  {
   "cell_type": "markdown",
   "metadata": {
    "slideshow": {
     "slide_type": "slide"
    }
   },
   "source": [
    "# Waiting Time"
   ]
  },
  {
   "cell_type": "markdown",
   "metadata": {
    "slideshow": {
     "slide_type": "subslide"
    }
   },
   "source": [
    "## Waiting Time\n",
    "\n",
    "**So far, we have assumed the makespan as our cost metric**\n",
    "\n",
    "In an ER center, we are likely more interested in the _waiting time_\n",
    "\n",
    "* This can be defined simply as the sum of the start times of the initial tasks\n",
    "\n",
    "$$\n",
    "w = \\sum_{i=1}^n s^{\\mathit{first}}_i\n",
    "$$\n",
    "\n",
    "* Where $s^{\\mathit{first}}_i$ is the start time of the first task of patient $i$\n",
    "\n",
    "**Patients are color-coded: it makes sense to _track different waiting times_**\n",
    "\n",
    "* Ideally, we should also accord priority to the more severe cases\n",
    "* ...But let's do one step at a time"
   ]
  },
  {
   "cell_type": "markdown",
   "metadata": {
    "slideshow": {
     "slide_type": "subslide"
    }
   },
   "source": [
    "## Waiting Time\n",
    "\n",
    "**We can _build waiting time variables_, similar to what we did for the makespan**\n",
    "\n",
    "```python\n",
    "def add_waittime_variables(mdl, levels, codes_by_idx, tasks, eoh):\n",
    "    codes = ['red', 'yellow', 'green', 'white']\n",
    "    fbc = {c: [] for c in codes}\n",
    "    for idx in levels.keys():\n",
    "        fbc[codes_by_idx[idx]].append(tasks[idx, 0, 0])\n",
    "\n",
    "    obj_by_code = {}\n",
    "    for code in codes:\n",
    "        obj_by_code[code] = mdl.NewIntVar(0, len(codes_by_idx)*eoh, f'wt_{code}')\n",
    "        if len(fbc[code]) > 0:\n",
    "            mdl.Add(obj_by_code[code] == sum(t.start for t in fbc[code]))\n",
    "    obj_by_code['all'] = mdl.NewIntVar(0, len(codes_by_idx) * eoh, 'wt_global')\n",
    "    mdl.Add(obj_by_code['all'] ==  sum(obj_by_code[c] for c in codes))\n",
    "    return obj_by_code\n",
    "```"
   ]
  },
  {
   "cell_type": "markdown",
   "metadata": {
    "slideshow": {
     "slide_type": "subslide"
    }
   },
   "source": [
    "## Waiting Time\n",
    "\n",
    "**First, we _collect the first task_ for each patient, by code:**\n",
    "\n",
    "```python\n",
    "def add_waittime_variables(mdl, levels, codes_by_idx, tasks, eoh):\n",
    "    ...\n",
    "    fbc = {c: [] for c in codes}\n",
    "    for idx in levels.keys():\n",
    "        fbc[codes_by_idx[idx]].append(tasks[idx, 0, 0])\n",
    "    ...\n",
    "```\n",
    "\n",
    "**Then, we _build and constrain_ the waiting time variables**\n",
    "\n",
    "```python\n",
    "def add_waittime_variables(mdl, levels, codes_by_idx, tasks, eoh):\n",
    "    ...\n",
    "    obj_by_code = {}\n",
    "    for code in codes:\n",
    "        obj_by_code[code] = mdl.NewIntVar(0, len(codes_by_idx)*eoh, f'wt_{code}')\n",
    "        if len(fbc[code]) > 0:\n",
    "            mdl.Add(obj_by_code[code] == sum(t.start for t in fbc[code]))\n",
    "    obj_by_code['all'] = mdl.NewIntVar(0, len(codes_by_idx) * eoh, f'wt_globai')\n",
    "    mdl.Add(obj_by_code['all'] ==  sum(obj_by_code[c] for c in codes))\n",
    "    ...\n",
    "```"
   ]
  },
  {
   "cell_type": "markdown",
   "metadata": {
    "slideshow": {
     "slide_type": "subslide"
    }
   },
   "source": [
    "## Waiting Time\n",
    "\n",
    "**We can formulate an _updated problem model_:**"
   ]
  },
  {
   "cell_type": "code",
   "execution_count": 2,
   "metadata": {},
   "outputs": [
    {
     "name": "stdout",
     "output_type": "stream",
     "text": [
      "Solver status: optimal, time(CPU sec): 0.03, objective: 2.0\n",
      "\n",
      "0(green): visit(0-1), RX(1-3), visit(3-4)\n",
      "6(green): visit(0-1), ultrasound(1-3), RX(3-5), lab(5-9), CT scan(9-13), visit(13-14), CT scan(14-18), visit(18-19)\n",
      "7(green): visit(0-1)\n",
      "1(green): visit(1-2), lab(2-6), visit(6-7)\n",
      "2(white): visit(1-2), otolaryngological visit(2-6), visit(6-7)\n"
     ]
    }
   ],
   "source": [
    "npatients = 5\n",
    "mdl = cp_model.CpModel()\n",
    "levels, codes_by_idx = er.build_levels(fdata.iloc[:npatients])\n",
    "eoh = er.get_horizon(levels)\n",
    "rl, dl = {idx:0 for idx in levels}, {idx:eoh for idx in levels}\n",
    "tasks, last = er.add_all_vars(mdl, levels, rl, dl)\n",
    "er.add_all_precedences(mdl, levels, tasks)\n",
    "er.add_cumulatives(mdl, tasks, capacities)\n",
    "er.add_all_no_overlap(mdl, levels, tasks)\n",
    "obj_by_code = er.add_waittime_variables(mdl, levels, codes_by_idx, tasks, eoh)\n",
    "mdl.Minimize(obj_by_code['all'])\n",
    "slv = cp_model.CpSolver()\n",
    "slv.parameters.max_time_in_seconds = 10\n",
    "status = slv.Solve(mdl)\n",
    "er.print_outcome(slv, levels, tasks, codes_by_idx, status)"
   ]
  },
  {
   "cell_type": "markdown",
   "metadata": {
    "slideshow": {
     "slide_type": "subslide"
    }
   },
   "source": [
    "## Evaluation\n",
    "\n",
    "**We will now try to _compare the complexity_ with that of the previous one**"
   ]
  },
  {
   "cell_type": "code",
   "execution_count": 4,
   "metadata": {},
   "outputs": [],
   "source": [
    "def solve_basic_waittime_problem(npatients, capacities):\n",
    "    mdl = cp_model.CpModel()\n",
    "    levels, codes_by_idx = er.build_levels(fdata.iloc[:npatients])\n",
    "    eoh = er.get_horizon(levels)\n",
    "    rl, dl = {idx:0 for idx in levels}, {idx:eoh for idx in levels}\n",
    "    tasks, last = er.add_all_vars(mdl, levels, rl, dl)\n",
    "    er.add_all_precedences(mdl, levels, tasks)\n",
    "    er.add_cumulatives(mdl, tasks, capacities)\n",
    "    er.add_all_no_overlap(mdl, levels, tasks)\n",
    "    obj_by_code = er.add_waittime_variables(mdl, levels, codes_by_idx, tasks, eoh)\n",
    "    mdl.Minimize(obj_by_code['all'])\n",
    "    slv = cp_model.CpSolver()\n",
    "    slv.parameters.max_time_in_seconds = 10 # time limit\n",
    "    status = slv.Solve(mdl)\n",
    "    return status, slv.UserTime()"
   ]
  },
  {
   "cell_type": "markdown",
   "metadata": {
    "slideshow": {
     "slide_type": "subslide"
    }
   },
   "source": [
    "## Evaluation"
   ]
  },
  {
   "cell_type": "code",
   "execution_count": 5,
   "metadata": {},
   "outputs": [
    {
     "data": {
      "application/vnd.jupyter.widget-view+json": {
       "model_id": "02ebb3f2412045508dbee7d59ba019af",
       "version_major": 2,
       "version_minor": 0
      },
      "text/html": [
       "\n",
       "            <div style=\"display: inline-block;\">\n",
       "                <div class=\"jupyter-widgets widget-label\" style=\"text-align: center;\">\n",
       "                    Figure\n",
       "                </div>\n",
       "                <img src='data:image/png;base64,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' width=900.0/>\n",
       "            </div>\n",
       "        "
      ],
      "text/plain": [
       "Canvas(toolbar=Toolbar(toolitems=[('Home', 'Reset original view', 'home', 'home'), ('Back', 'Back to previous …"
      ]
     },
     "metadata": {},
     "output_type": "display_data"
    }
   ],
   "source": [
    "tlist, plist = [], range(10, 20, 3)\n",
    "for npt in plist:\n",
    "    s, t = solve_basic_waittime_problem(npt, capacities)\n",
    "    tlist.append(t)\n",
    "er.plot_scalability_evalulation(plist, np.log10(tlist), figsize=figsize)"
   ]
  },
  {
   "cell_type": "markdown",
   "metadata": {
    "slideshow": {
     "slide_type": "fragment"
    }
   },
   "source": [
    "_Sum-based_ objectives are much harder in CP and _max-based_ objectives\n",
    "\n",
    "- A bound on a max-based objective immediately propagates to all its terms\n",
    "- ...For sum-based objectives, this is not the case"
   ]
  },
  {
   "cell_type": "markdown",
   "metadata": {
    "slideshow": {
     "slide_type": "slide"
    }
   },
   "source": [
    "# Goal Programming"
   ]
  },
  {
   "cell_type": "markdown",
   "metadata": {
    "slideshow": {
     "slide_type": "subslide"
    }
   },
   "source": [
    "## Goal Programming\n",
    "\n",
    "**Any practical application of our method faces _two big issues_**\n",
    "\n",
    "First, we have limited _scalability_\n",
    "\n",
    "* The problem is computationally challenging\n",
    "* Note that we may still be getting good solutions quite early\n",
    "* ...But we need to compare multiple solution approaches to know that\n",
    "\n",
    "Second, we need to handle _patient priorities_\n",
    "\n",
    "* We need to make sure that (e.g.) red-coded patients are handled first\n",
    "* ...Then yellow, green, and finally white patients\n",
    "\n",
    "**We can actually address both with a single technique!**\n",
    "\n",
    "(At least to some degree)"
   ]
  },
  {
   "cell_type": "markdown",
   "metadata": {
    "slideshow": {
     "slide_type": "subslide"
    }
   },
   "source": [
    "## Goal Programming\n",
    "\n",
    "**Goal Programming is a strategy for handling _lexicographic costs_**\n",
    "\n",
    "* Let's consider a problem with _multiple cost functions_ $f_0(x), f_1(x), \\ldots$\n",
    "* Let $f_i$ be _strictly more important_ than $f_j$ iff $i < j$\n",
    "\n",
    "**Then _Goal Programming_ refers to this simple algorithm:**\n",
    "\n",
    "* Optimize $f_0(x)$ to obtain its optimal value $z^*_0$\n",
    "* Post a new constraint in the model in the form $f_0(x) \\leq z^*_0$\n",
    "* Move to the next cost function and repeat\n",
    "\n",
    "**The approach is very simple, but it works well in practice**\n",
    "\n",
    "A typical example: the Capacitated Vehicle Routing Problem\n",
    "\n",
    "* $f_0(x) = $ number of vehicles, $f_1(x) = $ length of the routes\n",
    "* Thanks to GP, we get an upped bound on each cost at each step\n",
    "* ...Which may provide a computational advantage"
   ]
  },
  {
   "cell_type": "markdown",
   "metadata": {
    "slideshow": {
     "slide_type": "subslide"
    }
   },
   "source": [
    "## Implementing Goal Programming\n",
    "\n",
    "**As a first step, we need to handle _upper bounds_ on the waiting times**\n",
    "\n",
    "```python\n",
    "def solve_bounded_waittime_problem(levels, codes_by_idx, codes, capacities,\n",
    "        ub_by_code={}, tlim=None):\n",
    "    mdl = cp_model.CpModel()    \n",
    "    eoh = get_horizon(levels)\n",
    "    rl, dl = {idx:0 for idx in levels}, {idx:eoh for idx in levels}\n",
    "    tasks, last = add_all_vars(mdl, levels, rl, dl)\n",
    "    add_all_precedences(mdl, levels, tasks)\n",
    "    add_cumulatives(mdl, tasks, {'visit': 3, 'ultrasound': 2, 'RX': 2})\n",
    "    add_all_no_overlap(mdl, levels, tasks)\n",
    "    obj_by_code = add_waittime_variables(mdl, levels, codes_by_idx, tasks, eoh)\n",
    "    \n",
    "    for code in ub_by_code: # <-- Enforce upper bounds\n",
    "        mdl.Add(obj_by_code[code] <= ub_by_code[code])\n",
    "\n",
    "    mdl.Minimize(obj_by_code[codes[-1]]) # <-- Focus by default on the last code\n",
    "    slv = cp_model.CpSolver()\n",
    "    if tlim is not None: slv.parameters.max_time_in_seconds = tlim\n",
    "    status = slv.Solve(mdl)    \n",
    "    return status, slv, tasks\n",
    "```"
   ]
  },
  {
   "cell_type": "markdown",
   "metadata": {
    "slideshow": {
     "slide_type": "subslide"
    }
   },
   "source": [
    "## Implementing Goal Programming\n",
    "\n",
    "**Then we need to code the approach in a function**\n",
    "\n",
    "```python\n",
    "def goal_programming(levels, codes_by_idx, codes, capacities, tlim=None, verbose=1):\n",
    "    wt_by_code, ttime = {}, 0\n",
    "    for i, code in enumerate(codes):\n",
    "        l_tlim = None if tlim is None else (tlim-ttime) / (len(codes)-i)\n",
    "        status, slv, tasks = solve_bounded_waittime_problem(levels, codes_by_idx,\n",
    "                          codes[:i+1], capacities, ub_by_code=wt_by_code, tlim=l_tlim)\n",
    "        ttime += slv.UserTime()\n",
    "        if verbose:\n",
    "            print_outcome(slv, levels, tasks, codes_by_idx, status, (i == len(codes)-1))\n",
    "        if status in (cp_model.OPTIMAL, cp_model.FEASIBLE):\n",
    "            wt_by_code[code] = int(slv.ObjectiveValue())\n",
    "            starts = {tidx:slv.Value(tasks[tidx].start) for tidx in tasks}\n",
    "        else:\n",
    "            wt_by_code, starts = None, None\n",
    "            break\n",
    "    if wt_by_code is not None:\n",
    "        wt_by_code['all'] = sum(wt_by_code[code] for code in codes)\n",
    "    return ttime, wt_by_code, starts\n",
    "```"
   ]
  },
  {
   "cell_type": "markdown",
   "metadata": {
    "slideshow": {
     "slide_type": "subslide"
    }
   },
   "source": [
    "## Implementing Goal Programming\n",
    "\n",
    "**Finally, we can test the approach**\n",
    "\n",
    "We choose a _priority for our codes_, then we call the `goal_programming` function"
   ]
  },
  {
   "cell_type": "code",
   "execution_count": 7,
   "metadata": {},
   "outputs": [
    {
     "name": "stdout",
     "output_type": "stream",
     "text": [
      "Solver status: optimal, time(CPU sec): 0.01, objective: 0.0\n",
      "Solver status: optimal, time(CPU sec): 0.00, objective: 0.0\n",
      "Solver status: optimal, time(CPU sec): 0.01, objective: 9.0\n",
      "Solver status: optimal, time(CPU sec): 0.03, objective: 3.0\n",
      "\n",
      "0(green): visit(0-1), RX(1-3), visit(3-4)\n",
      "9(green): visit(0-1)\n",
      "12(red): visit(0-1), RX(3-5), visit(5-6)\n",
      "6(green): visit(1-2), ultrasound(2-4), RX(4-6), lab(6-10), CT scan(10-14), visit(14-15), CT scan(15-19), visit(19-20)\n",
      "7(green): visit(1-2)\n",
      "8(green): visit(1-2), RX(2-4), prescription(4-8), visit(8-9)\n",
      "1(green): visit(2-3), lab(3-7), visit(7-8)\n",
      "10(green): visit(2-3), lab(3-7), CT scan(7-11), visit(11-12)\n",
      "11(green): visit(2-3), ultrasound(3-5), lab(5-9), prescription(9-13), visit(13-14)\n",
      "2(white): visit(3-4), otolaryngological visit(4-8), visit(8-9)\n"
     ]
    }
   ],
   "source": [
    "codes = ['red', 'yellow', 'green', 'white']\n",
    "npatients = 10\n",
    "levels, codes_by_idx = er.build_levels(fdata.iloc[:npatients])\n",
    "_, _, _ = er.goal_programming(levels, codes_by_idx, codes, capacities, tlim=10)"
   ]
  },
  {
   "cell_type": "markdown",
   "metadata": {},
   "source": [
    "* The priority is given by the code order in the list"
   ]
  },
  {
   "cell_type": "markdown",
   "metadata": {
    "slideshow": {
     "slide_type": "subslide"
    }
   },
   "source": [
    "## Evaluation\n",
    "\n",
    "**We can now evaluate the scalability of the approach**"
   ]
  },
  {
   "cell_type": "code",
   "execution_count": 8,
   "metadata": {},
   "outputs": [
    {
     "data": {
      "application/vnd.jupyter.widget-view+json": {
       "model_id": "13570207a7064ad7a2ed8d0772a9e64b",
       "version_major": 2,
       "version_minor": 0
      },
      "text/html": [
       "\n",
       "            <div style=\"display: inline-block;\">\n",
       "                <div class=\"jupyter-widgets widget-label\" style=\"text-align: center;\">\n",
       "                    Figure\n",
       "                </div>\n",
       "                <img src='data:image/png;base64,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' width=900.0/>\n",
       "            </div>\n",
       "        "
      ],
      "text/plain": [
       "Canvas(toolbar=Toolbar(toolitems=[('Home', 'Reset original view', 'home', 'home'), ('Back', 'Back to previous …"
      ]
     },
     "metadata": {},
     "output_type": "display_data"
    }
   ],
   "source": [
    "tlist, olist, plist = [], [], range(10, 20, 3)\n",
    "for npt in plist:\n",
    "    levels, codes_by_idx = er.build_levels(fdata.iloc[:npt])\n",
    "    t, o, _ = er.goal_programming(levels, codes_by_idx, codes, capacities, tlim=10, verbose=0)\n",
    "    tlist.append(t)\n",
    "    olist.append(o['all'])\n",
    "er.plot_scalability_evalulation(plist, np.log10(tlist), figsize=figsize)"
   ]
  },
  {
   "cell_type": "markdown",
   "metadata": {},
   "source": [
    "* We will use these value as a reference for some comparisons later"
   ]
  },
  {
   "cell_type": "markdown",
   "metadata": {
    "slideshow": {
     "slide_type": "subslide"
    }
   },
   "source": [
    "## Warm Starting\n",
    "\n",
    "**A drawback of GP is that search restarts from scratch at each iteration**\n",
    "\n",
    "* In Google ortools, we can do this by providing \"hints\"\n",
    "* A \"hint\" is a suggested assignment for a variable\n",
    "\n",
    "**First, we update our function to accept hints:**\n",
    "\n",
    "```python\n",
    "def goal_programming(levels, codes_by_idx, codes, capacities,\n",
    "        tlim=None, verbose=1, hints=None):\n",
    "        ...\n",
    "        status, slv, tasks = solve_bounded_waittime_problem(levels, codes_by_idx,\n",
    "                codes[:i+1], capacities, ub_by_code=wt_by_code,\n",
    "                tlim=l_tlim, hints=hints) # <-- here we pass hints\n",
    "        ...\n",
    "        if status in (cp_model.OPTIMAL, cp_model.FEASIBLE):\n",
    "            ...\n",
    "            starts = {tidx:slv.Value(tasks[tidx].start) for tidx in tasks}\n",
    "            hints = starts # <-- hints are the start in the last solution\n",
    "        ...\n",
    "```"
   ]
  },
  {
   "cell_type": "markdown",
   "metadata": {
    "slideshow": {
     "slide_type": "subslide"
    }
   },
   "source": [
    "## Warm Starting\n",
    "\n",
    "**Then, we need to take into account the hints in the model:**\n",
    "\n",
    "```python\n",
    "def solve_bounded_waittime_problem(levels, codes_by_idx, codes, capacities,\n",
    "        ub_by_code={}, tlim=None, hints=None):\n",
    "    ...\n",
    "    # Add hints\n",
    "    if hints is not None:\n",
    "        for (idx, k, i), stval in hints.items():\n",
    "            mdl.AddHint(tasks[idx,k,i].start, stval)\n",
    "    ...\n",
    "```\n",
    "\n",
    "* The solver will _try to assign_ to each value the corresponding hint\n",
    "* In case this proves impossible, it will search as usual\n",
    "* If properly done, this guarantees that we start from a known feasible solution\n",
    "\n",
    "**This is usually referred to as _warm starting_ in the optimization field**"
   ]
  },
  {
   "cell_type": "markdown",
   "metadata": {
    "slideshow": {
     "slide_type": "subslide"
    }
   },
   "source": [
    "## Warm Starting\n",
    "\n",
    "**Let's test this updated implementation**"
   ]
  },
  {
   "cell_type": "code",
   "execution_count": 9,
   "metadata": {},
   "outputs": [
    {
     "data": {
      "application/vnd.jupyter.widget-view+json": {
       "model_id": "b62bb2788b7240e1b3547a8e5b08d3a0",
       "version_major": 2,
       "version_minor": 0
      },
      "text/html": [
       "\n",
       "            <div style=\"display: inline-block;\">\n",
       "                <div class=\"jupyter-widgets widget-label\" style=\"text-align: center;\">\n",
       "                    Figure\n",
       "                </div>\n",
       "                <img src='data:image/png;base64,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' width=900.0/>\n",
       "            </div>\n",
       "        "
      ],
      "text/plain": [
       "Canvas(toolbar=Toolbar(toolitems=[('Home', 'Reset original view', 'home', 'home'), ('Back', 'Back to previous …"
      ]
     },
     "metadata": {},
     "output_type": "display_data"
    }
   ],
   "source": [
    "tlist2, plist2 = [], range(10, 23, 3)\n",
    "for npt in plist2:\n",
    "    levels, codes_by_idx = er.build_levels(fdata.iloc[:npt])\n",
    "    t, _, _ = er.goal_programming(levels, codes_by_idx, codes, capacities, tlim=10, verbose=0)\n",
    "    tlist2.append(t)\n",
    "er.plot_scalability_evalulation(plist2, np.log10(tlist2), figsize=figsize)"
   ]
  },
  {
   "cell_type": "markdown",
   "metadata": {},
   "source": [
    "It does not make much of a difference here, but _it will matter for larger problems_"
   ]
  },
  {
   "cell_type": "markdown",
   "metadata": {
    "slideshow": {
     "slide_type": "slide"
    }
   },
   "source": [
    "# Large Neighborhood Search"
   ]
  },
  {
   "cell_type": "markdown",
   "metadata": {
    "slideshow": {
     "slide_type": "subslide"
    }
   },
   "source": [
    "## Large Neighborhood Search\n",
    "\n",
    "**Exact optimization approaches (e.g. classical CP/SMT)...**\n",
    "\n",
    "* ...Enable _convenient modeling_ and are very effective on small problems\n",
    "* ...But have trouble dealing with large-scale optimization problems\n",
    "\n",
    "**Heuristic approaches (e.g. local search)...**\n",
    "\n",
    "* ...Can deal with large scale problems\n",
    "* ...But have trouble escaping local minima\n",
    "\n",
    "**The two approaches can be combined to obtain _Large Neighborhood Search_**\n",
    "\n",
    "* We operate by trying to improve an _incumbent solution_\n",
    "* Improving solutions are searched in a _large neighborhood_\n",
    "* Each neighborhood is explored via a complete search on a _restricted problem_\n",
    "* ...Typically: we fix all variables, except a small subset (_relaxed variables_)"
   ]
  },
  {
   "cell_type": "markdown",
   "metadata": {
    "slideshow": {
     "slide_type": "subslide"
    }
   },
   "source": [
    "## Large Neighborhood Search\n",
    "\n",
    "**Here's a visual scheme of how the approach works**\n",
    "\n",
    "<center><img src=\"assets/lns.png\" width=700px/></center>\n",
    "\n",
    "**LNS _combines the strengths_ of its component approaches**\n",
    "\n",
    "* It can efficiently handle large-scale problems (like local search)\n",
    "* It can escape local minima thanks to the use of large neighborhoods\n",
    "* It retains the modeling flexibility of CP, SMT, MILP, etc.\n",
    "\n",
    "**Choosing which variables to relax at each iteration...**\n",
    "\n",
    "* ...Can be a major design decision, and can be done using domain knowledge\n",
    "* ...But actually even a simple _random selection_ often works very well\n",
    "\n",
    "**LNS was covered in the first-year Combinatorial Optimization course**\n"
   ]
  },
  {
   "cell_type": "markdown",
   "metadata": {
    "slideshow": {
     "slide_type": "subslide"
    }
   },
   "source": [
    "## Variable Fixing in Scheduling\n",
    "\n",
    "**LNS can be very effective on _scheduling problems_...**\n",
    "\n",
    "* ...But it is not straightforward to implement\n",
    "* ...Since the classical \"variable\" fixing approach provides _too little flexibility_\n",
    "\n",
    "**Consider the following schedule for a resouce with capacity 2:**\n",
    "\n",
    "<center><img src=\"assets/pos_issue.png\" width=700px/></center>\n",
    "\n",
    "* Say the we relax the start of the green tasks, and keep the yellow ones _fixed_\n",
    "* ...Then we still _cannot_ make any improvement!\n",
    "\n",
    "**We need to retain some ability to _shift tasks in time_**\n",
    "\n",
    "* But we still need to keep them somewhat \"less free\"\n",
    "* ...Or there is no point in defining a neighborhood\n"
   ]
  },
  {
   "cell_type": "markdown",
   "metadata": {
    "slideshow": {
     "slide_type": "subslide"
    }
   },
   "source": [
    "## Partial Order Schedule\n",
    "\n",
    "**The solution is converting a fixed-start schedule into a _Partial Order Schedule_**\n",
    "\n",
    "A Partial Order Schedule is an _augmented task graph_\n",
    "\n",
    "<center><img src=\"assets/pos_example.png\" width=700px/></center>\n",
    "\n",
    "* The graph contains all the original precedence relations (in this case none)\n",
    "* ...Plus _additional precedences_, introduced to _prevent resource conflicts_\n",
    "\n",
    "**In the figure:**\n",
    "\n",
    "* As long as the black arcs (precedences) are respected\n",
    "* ...Tasks can be moved _without any resource conflict_"
   ]
  },
  {
   "cell_type": "markdown",
   "metadata": {
    "slideshow": {
     "slide_type": "subslide"
    }
   },
   "source": [
    "## Partial Order Scheduling\n",
    "\n",
    "**In general, a POS can be obtained by solving a _minimum flow problem_**\n",
    "\n",
    "<center><img src=\"assets/flow1.png\" width=700px/></center>\n",
    "\n",
    "* First, we introduce a fake \"source\" and \"sink\" task\n",
    "* Then, we build an arc for each pair of tasks such that $e_i \\leq s_j$\n",
    "  - The source can be connected only to the first tasks\n",
    "  - ...And the sink has an incoming arc for each last task\n",
    "* Then we say each task \"requires\" flow equal to its resource demand\n",
    "  - In this example, all requirements are 1"
   ]
  },
  {
   "cell_type": "markdown",
   "metadata": {
    "slideshow": {
     "slide_type": "subslide"
    }
   },
   "source": [
    "## Partial Order Scheduling\n",
    "\n",
    "**In general, a POS can be obtained by solving a _minimum flow problem_**\n",
    "\n",
    "<center><img src=\"assets/flow2.png\" width=700px/></center>\n",
    "\n",
    "* Finally, we route the minimum amount of flow that satisfies the requirements\n",
    "  - ...For example using some variant of the Ford-Fulkerson's method\n",
    "  - We will not look into details into this\n",
    "* The arcs with non-zero flow become part of the POS\n",
    "  - In the figure, these are the arcs in black\n",
    "  - You can check that the flow is actually minimum"
   ]
  },
  {
   "cell_type": "markdown",
   "metadata": {
    "slideshow": {
     "slide_type": "subslide"
    }
   },
   "source": [
    "## POS Conversion - Implementation\n",
    "\n",
    "**Since we have only unary demands, _our implementation can be simpler_**\n",
    "\n",
    "First, let's prepare a function to _collect and sort the tasks for each resource_:\n",
    "\n",
    "```python\n",
    "def sol_to_pos(levels, starts, capacities):\n",
    "    aplus, aminus = {}, {}\n",
    "    stasks = {r:[] for r in capacities}\n",
    "    for idx, k, i in starts:\n",
    "        ttype = levels[idx][k][i]\n",
    "        if ttype in capacities:\n",
    "            stasks[ttype].append((idx, k, i))\n",
    "            aplus[idx, k, i], aminus[idx, k, i] = [], []\n",
    "    for res in capacities:\n",
    "        stasks[res] = sorted(stasks[res], key=lambda t: starts[t]) # <-- sort by start\n",
    "    for res, cap in capacities.items():\n",
    "        for _ in range(cap):\n",
    "            stasks[res] = unit_flow(levels, stasks[res], starts, aplus, aminus)\n",
    "    return aplus, aminus\n",
    "```"
   ]
  },
  {
   "cell_type": "markdown",
   "metadata": {
    "slideshow": {
     "slide_type": "subslide"
    }
   },
   "source": [
    "## POS Conversion - Implementation\n",
    "\n",
    "**We store the POS as a collection of outgoing and ingoing arcs**\n",
    "\n",
    "This is a sparse representation for the _adjacency matrix_:\n",
    "\n",
    "```python\n",
    "def sol_to_pos(levels, starts, capacities):\n",
    "    aplus, aminus = {}, {}\n",
    "    ...\n",
    "    for idx, k, i in starts:\n",
    "        ...\n",
    "        if ttype in capacities:\n",
    "            ...\n",
    "            aplus[idx, k, i], aminus[idx, k, i] = [], []\n",
    "    ...\n",
    "    return aplus, aminus\n",
    "```\n",
    "\n",
    "* The chosen representation allows for efficient graph traversal\n",
    "* It also makes it easy to detect arcs implied via the transitive property"
   ]
  },
  {
   "cell_type": "markdown",
   "metadata": {
    "slideshow": {
     "slide_type": "subslide"
    }
   },
   "source": [
    "## POS Conversion - Implementation\n",
    "\n",
    "**Then, we collect the tasks for each resource:**\n",
    "\n",
    "```python\n",
    "def sol_to_pos(levels, starts, capacities):\n",
    "    ...\n",
    "    stasks = {r:[] for r in capacities}\n",
    "    for idx, k, i in starts:\n",
    "        ttype = levels[idx][k][i]\n",
    "        if ttype in capacities:\n",
    "            stasks[ttype].append((idx, k, i))\n",
    "            ...\n",
    "    for res in capacities:\n",
    "        stasks[res] = sorted(stasks[res], key=lambda t: starts[t])\n",
    "    ...\n",
    "```\n",
    "\n",
    "* We sort each collection by increasing start time"
   ]
  },
  {
   "cell_type": "markdown",
   "metadata": {
    "slideshow": {
     "slide_type": "subslide"
    }
   },
   "source": [
    "## POS Conversion - Implementation\n",
    "\n",
    "**Finally, we route _single units of flows_**\n",
    "\n",
    "```python\n",
    "def sol_to_pos(levels, starts, capacities):\n",
    "    ...\n",
    "    for res, cap in capacities.items():\n",
    "        for _ in range(cap):\n",
    "            stasks[res] = unit_flow(levels, stasks[res], starts, aplus, aminus)\n",
    "    return aplus, aminus\n",
    "```\n",
    "\n",
    "* Each unit corresponds to one unit of resource capacity\n",
    "* The flow represents how the resource is \"passed\" form one task to the next\n",
    "* We do not build explicitly the possible arcs\n",
    "* ...We just assume there is one whenever $\\mathit{start}_i + \\mathit{dur}_i \\leq \\mathit{start}_j$"
   ]
  },
  {
   "cell_type": "markdown",
   "metadata": {
    "slideshow": {
     "slide_type": "subslide"
    }
   },
   "source": [
    "## POS Conversion - Implementation\n",
    "\n",
    "**Here is the algorithm for routing each flow unit**\n",
    "\n",
    "```python\n",
    "def unit_flow(levels, stasks, starts, aplus, aminus):\n",
    "    nonprocessed = []\n",
    "    src, dur = None, 0\n",
    "    for dst in stasks:\n",
    "        if src is not None and starts[src] + dur <= starts[dst]:\n",
    "            aplus[src].append(dst) # Build an arc (forward star)\n",
    "            aminus[dst].append(src) # Build an arc (backward star)\n",
    "            src = None # Reset the source\n",
    "        if src is None:\n",
    "            src = dst # Set a new source\n",
    "            dur = get_dur(levels[src[0]][src[1]][src[2]])\n",
    "        else:\n",
    "            nonprocessed.append(dst) # Store as non-processed\n",
    "    return nonprocessed\n",
    "\n",
    "```"
   ]
  },
  {
   "cell_type": "markdown",
   "metadata": {
    "slideshow": {
     "slide_type": "subslide"
    }
   },
   "source": [
    "## POS Conversion - Implementation\n",
    "\n",
    "**Let's test the function**"
   ]
  },
  {
   "cell_type": "code",
   "execution_count": 10,
   "metadata": {},
   "outputs": [
    {
     "name": "stdout",
     "output_type": "stream",
     "text": [
      "Solver status: optimal, time(CPU sec): 0.00, objective: 0.0\n",
      "Solver status: optimal, time(CPU sec): 0.00, objective: 0.0\n",
      "Solver status: optimal, time(CPU sec): 0.00, objective: 0.0\n",
      "Solver status: optimal, time(CPU sec): 0.00, objective: 0.0\n",
      "\n",
      "0(green): visit(0-1), RX(1-3), visit(3-4)\n",
      "1(green): visit(0-1), lab(1-5), visit(5-6)\n",
      "2(white): visit(0-1), otolaryngological visit(1-5), visit(5-6)\n"
     ]
    },
    {
     "data": {
      "text/plain": [
       "{(0, 0, 0): [(0, 2, 0)],\n",
       " (0, 1, 0): [],\n",
       " (0, 2, 0): [(1, 2, 0)],\n",
       " (1, 0, 0): [(2, 2, 0)],\n",
       " (1, 2, 0): [],\n",
       " (2, 0, 0): [],\n",
       " (2, 2, 0): []}"
      ]
     },
     "execution_count": 10,
     "metadata": {},
     "output_type": "execute_result"
    }
   ],
   "source": [
    "codes = ['red', 'yellow', 'green', 'white']\n",
    "npatients = 3\n",
    "levels, codes_by_idx = er.build_levels(fdata.iloc[:npatients])\n",
    "_, _, starts = er.goal_programming(levels, codes_by_idx, codes, capacities, tlim=10)\n",
    "aplus, aminus = er.sol_to_pos(levels, starts, capacities)\n",
    "aplus"
   ]
  },
  {
   "cell_type": "markdown",
   "metadata": {
    "slideshow": {
     "slide_type": "subslide"
    }
   },
   "source": [
    "## POS Relaxation\n",
    "\n",
    "**A POS corresponds to a set of feasible schedules**\n",
    "\n",
    "Tasks can be freely shifted, and _no resource constraint is violated_\n",
    "\n",
    "* There are _no longer ordering decisions_ to be made\n",
    "* Typically, choosing one of the possible schedules becomes a poly-time problem\n",
    "\n",
    "However, this means that we cannot really make significant changes\n",
    "\n",
    "**How do we _relax_ a POS for LNS?**\n",
    "\n",
    "* We _disconnect_ a set of tasks from the precedence network\n",
    "* ...While preserving all transitive precedences\n",
    "\n",
    "In Practice, for each relaxed task:\n",
    "\n",
    "* First, we connect all task predecessors to the task successors\n",
    "* Then, we remove all the additional POS arcs linked to the relaxed tasks"
   ]
  },
  {
   "cell_type": "markdown",
   "metadata": {
    "slideshow": {
     "slide_type": "subslide"
    }
   },
   "source": [
    "## POS Relaxation - Implementation\n",
    "\n",
    "**Here's an implemented algorithm for removing/relaxing POS tasks**\n",
    "\n",
    "```python\n",
    "def remove_task_from_pos(aplus, aminus, task_key):\n",
    "    # Transfer transitive arcs\n",
    "    for src in aminus[task_key]:\n",
    "        for dst in aplus[task_key]:\n",
    "            aminus[dst].append(src)\n",
    "            aplus[src].append(dst)\n",
    "    # Remove ingoing arcs\n",
    "    for src in aminus[task_key]:\n",
    "        aplus[src].remove(task_key)\n",
    "    # Remove outgoing arcs\n",
    "    for dst in aplus[task_key]:\n",
    "        aminus[dst].remove(task_key)\n",
    "    # Remove the node from the arc\n",
    "    del aplus[task_key]\n",
    "    del aminus[task_key]\n",
    "```"
   ]
  },
  {
   "cell_type": "markdown",
   "metadata": {
    "slideshow": {
     "slide_type": "subslide"
    }
   },
   "source": [
    "## POS Relaxation - Implementation\n",
    "\n",
    "**In our LNS approach we will relax all tasks related to selected patients**\n",
    "\n",
    "```python\n",
    "def remove_patient_from_pos(aplus, aminus, target_idx):\n",
    "    aplus_res = copy.deepcopy(aplus)\n",
    "    aminus_res = copy.deepcopy(aminus)\n",
    "    for idx, k, i in aplus:\n",
    "        if idx == target_idx:\n",
    "            remove_task_from_pos(aplus_res, aminus_res, (idx, k, i))\n",
    "    return aplus_res, aminus_res\n",
    "```"
   ]
  },
  {
   "cell_type": "code",
   "execution_count": 11,
   "metadata": {},
   "outputs": [
    {
     "data": {
      "text/plain": [
       "{(0, 0, 0): [(0, 2, 0)],\n",
       " (0, 1, 0): [],\n",
       " (0, 2, 0): [(1, 2, 0)],\n",
       " (1, 0, 0): [],\n",
       " (1, 2, 0): []}"
      ]
     },
     "execution_count": 11,
     "metadata": {},
     "output_type": "execute_result"
    }
   ],
   "source": [
    "aplus2, aminus2 = er.remove_patient_from_pos(aplus, aminus, 2)\n",
    "aplus2"
   ]
  },
  {
   "cell_type": "markdown",
   "metadata": {
    "slideshow": {
     "slide_type": "subslide"
    }
   },
   "source": [
    "## Restricted Problem\n",
    "\n",
    "**We now need to take int account the additional precedences in the model**\n",
    "\n",
    "```python\n",
    "def solve_bounded_waittime_problem(levels, codes_by_idx, codes, capacities,\n",
    "        ub_by_code={}, tlim=None, hints=None, aplus=None):\n",
    "    ...\n",
    "    # Add extra precedences\n",
    "    if aplus is not None:\n",
    "        for (idx, k, i), out_arcs in aplus.items():\n",
    "            for idx2, k2, i2 in out_arcs:\n",
    "                mdl.Add(tasks[idx,k,i].end <= tasks[idx2,k2,i2].start)\n",
    "    ...\n",
    "```\n",
    "\n",
    "Even if we still need to assing _all the start times_...\n",
    "\n",
    "* Precedence constraints are efficient to propagate\n",
    "* They are effective at narrowing the variable domains\n",
    "* ...And in this case they prevent many resource conflicts\n",
    "\n",
    "**If many POS constraints are added, the problem is much easier to solve**"
   ]
  },
  {
   "cell_type": "markdown",
   "metadata": {
    "slideshow": {
     "slide_type": "subslide"
    }
   },
   "source": [
    "## LNS - Initial Solution\n",
    "\n",
    "**We are ready to define our LNS approach**\n",
    "\n",
    "First, we need an initial solution:"
   ]
  },
  {
   "cell_type": "code",
   "execution_count": 21,
   "metadata": {},
   "outputs": [
    {
     "name": "stdout",
     "output_type": "stream",
     "text": [
      "Initial solution in 3.01 sec, {'red': 12, 'yellow': 872, 'green': 2061, 'white': 19, 'all': 2964}\n"
     ]
    }
   ],
   "source": [
    "init_time = 3 # Time limit for the initial solution\n",
    "codes = ['red', 'yellow', 'green', 'white']\n",
    "npatients = 120\n",
    "\n",
    "levels, codes_by_idx = er.build_levels(fdata.iloc[:npatients])\n",
    "\n",
    "ttime, wt_by_code, starts = er.goal_programming(levels, codes_by_idx, codes, capacities=capacities,\n",
    "                           tlim=init_time, verbose=0)\n",
    "print(f'Initial solution in {ttime:.2f} sec, {wt_by_code}')"
   ]
  },
  {
   "cell_type": "markdown",
   "metadata": {},
   "source": [
    "* We can obtain this one as usual\n",
    "* It's better if it's of decent quality\n",
    "* ...But we don't want to spend more than a few seconds on this"
   ]
  },
  {
   "cell_type": "markdown",
   "metadata": {
    "slideshow": {
     "slide_type": "subslide"
    }
   },
   "source": [
    "## LNS - Baseline\n",
    "\n",
    "**As a baseline, let's see the solution quality we can obtain in 25 seconds**"
   ]
  },
  {
   "cell_type": "code",
   "execution_count": 19,
   "metadata": {},
   "outputs": [
    {
     "name": "stdout",
     "output_type": "stream",
     "text": [
      "Baseline solution in 25.02 sec, {'red': 12, 'yellow': 492, 'green': 2390, 'white': 42, 'all': 2936}\n"
     ]
    }
   ],
   "source": [
    "init_time = 25 # Time limit for the initial solution\n",
    "codes = ['red', 'yellow', 'green', 'white']\n",
    "npatients = 120\n",
    "\n",
    "levels, codes_by_idx = er.build_levels(fdata.iloc[:npatients])\n",
    "\n",
    "ttime, wt_by_code, starts = er.goal_programming(levels, codes_by_idx, codes, capacities=capacities,\n",
    "                           tlim=init_time, verbose=0)\n",
    "print(f'Baseline solution in {ttime:.2f} sec, {wt_by_code}')"
   ]
  },
  {
   "cell_type": "markdown",
   "metadata": {},
   "source": [
    "* We will focused on the _total weighting time_ for this evaluation\n",
    "* ...Since strictly keeping the code priorities with LNS would require further work\n",
    "* ...And things are already quite complicated as they are"
   ]
  },
  {
   "cell_type": "markdown",
   "metadata": {
    "slideshow": {
     "slide_type": "subslide"
    }
   },
   "source": [
    "## LNS - Upper bounds\n",
    "\n",
    "**In LNS we will repeatedly be seeking for an _improving_ solution**\n",
    "\n",
    "...So we need to modify our G.P. loop to take _upper bounds_ into account:\n",
    "\n",
    "```python\n",
    "def goal_programming(levels, codes_by_idx, codes, capacities,\n",
    "        tlim=None, verbose=1, hints=None, ub_by_code=None):\n",
    "    # Handle the upper bounds\n",
    "    if ub_by_code is None:\n",
    "        wt_by_code = {}\n",
    "    else:\n",
    "        wt_by_code = copy.deepcopy(ub_by_code)\n",
    "    ...\n",
    "    return ttime, wt_by_code, starts\n",
    "\n",
    "```\n",
    "\n",
    "* The bounds are then passed to the function that builds and solves the model\n",
    "* ...Which was already designed to deal with the bounds from Goal Programming"
   ]
  },
  {
   "cell_type": "markdown",
   "metadata": {
    "slideshow": {
     "slide_type": "subslide"
    }
   },
   "source": [
    "## LNS - Main Loop\n",
    "\n",
    "**Here is the main structure of our LNS implementation:**\n",
    "\n",
    "```python\n",
    "def scheduling_lns(levels, codes_by_idx, codes, capacities,\n",
    "        tlim, init_time, it_time, nb_size, verbose=1):\n",
    "    ... # Build initial solution\n",
    "    while tlim - ttime > 0:\n",
    "        aplus, aminus = sol_to_pos(levels, starts, capacities) # Obtain a POS\n",
    "        relaxed = np.random.choice(patients, nb_size, replace=False) # Relax patients\n",
    "        for idx in relaxed: aplus, aminus = remove_patient_from_pos(aplus, aminus, idx)\n",
    "        ub_by_code = copy.deepcopy(wt_by_code) # Require an improvement\n",
    "        ub_by_code['all'] -= 1\n",
    "        ... # Re-solve\n",
    "        ttime += max(itime, 0.1) # Update the time limit\n",
    "        ... # Update the best solution\n",
    "```\n",
    "\n",
    "The full implementation can be found in our support module"
   ]
  },
  {
   "cell_type": "markdown",
   "metadata": {
    "slideshow": {
     "slide_type": "subslide"
    }
   },
   "source": [
    "## Evaluation\n",
    "\n",
    "**Time to test! Waiting times are sorted by code, the last is the total**"
   ]
  },
  {
   "cell_type": "code",
   "execution_count": 22,
   "metadata": {
    "scrolled": true
   },
   "outputs": [
    {
     "name": "stdout",
     "output_type": "stream",
     "text": [
      "Initial solution in 3.01 sec, {'red': 12, 'yellow': 887, 'green': 2249, 'white': 84, 'all': 3232}\n",
      "Total time: 3.44, neighborhood explored in 0.43 sec, waiting times 12,837,2121,76,3046\n",
      "Total time: 4.17, neighborhood explored in 0.73 sec, waiting times 12,801,2045,75,2933\n",
      "Total time: 5.15, neighborhood explored in 0.98 sec, waiting times 12,790,2044,74,2920\n",
      "Total time: 5.99, neighborhood explored in 0.85 sec, waiting times 12,735,2032,74,2853\n",
      "Total time: 7.00, neighborhood explored in 1.01 sec, waiting times 12,725,2020,73,2830\n",
      "Total time: 7.36, neighborhood explored in 0.36 sec, waiting times 12,717,1994,73,2796\n",
      "Total time: 8.00, neighborhood explored in 0.64 sec, waiting times 12,696,1973,73,2754\n",
      "Total time: 8.93, neighborhood explored in 0.94 sec, waiting times 12,686,1957,73,2728\n",
      "Total time: 9.94, neighborhood explored in 1.01 sec, waiting times 12,683,1951,73,2719\n",
      "Total time: 10.96, neighborhood explored in 1.01 sec, waiting times 12,661,1947,73,2693\n",
      "Total time: 11.94, neighborhood explored in 0.99 sec, waiting times 12,655,1941,73,2681\n",
      "Total time: 12.85, neighborhood explored in 0.91 sec, waiting times 12,649,1940,72,2673\n",
      "Total time: 13.84, neighborhood explored in 0.99 sec, waiting times 12,644,1939,72,2667\n",
      "Total time: 14.85, neighborhood explored in 1.01 sec, waiting times 12,638,1931,72,2653\n",
      "Total time: 15.85, neighborhood explored in 0.99 sec, waiting times 12,629,1921,72,2634\n",
      "Total time: 16.86, neighborhood explored in 1.01 sec, waiting times 12,622,1920,72,2626\n",
      "Total time: 17.91, neighborhood explored in 0.53 sec, waiting times 12,614,1920,71,2617\n",
      "Total time: 18.67, neighborhood explored in 0.77 sec, waiting times 12,593,1912,71,2588\n",
      "Total time: 19.47, neighborhood explored in 0.80 sec, waiting times 12,591,1912,71,2586\n",
      "Total time: 20.22, neighborhood explored in 0.75 sec, waiting times 12,587,1912,71,2582\n",
      "Total time: 21.48, neighborhood explored in 1.00 sec, waiting times 12,586,1912,71,2581\n",
      "Total time: 22.75, neighborhood explored in 1.01 sec, waiting times 12,585,1910,71,2578\n",
      "Total time: 23.57, neighborhood explored in 0.81 sec, waiting times 12,567,1901,71,2551\n",
      "Total time: 24.36, neighborhood explored in 0.80 sec, waiting times 12,563,1901,70,2546\n",
      "Total time: 24.93, neighborhood explored in 0.56 sec, waiting times 12,562,1899,70,2543\n"
     ]
    }
   ],
   "source": [
    "# Configuration\n",
    "npatients, tlim, init_time, it_time, nb_size = 120, 25, 3, 1, 4\n",
    "codes = ['red', 'yellow', 'green', 'white']\n",
    "levels, codes_by_idx = er.build_levels(fdata.iloc[:npatients])\n",
    "er.scheduling_lns(levels, codes_by_idx, codes, capacities, tlim, init_time, it_time, nb_size);"
   ]
  },
  {
   "cell_type": "markdown",
   "metadata": {
    "slideshow": {
     "slide_type": "subslide"
    }
   },
   "source": [
    "## Considerations\n",
    "\n",
    "**LNS is the industrial optimizer's secret weapon**\n",
    "\n",
    "* It's flexible, robust, scalable, and not too difficult to implement\n",
    "  - Except for  scheduling problems, but you've now seen how to do it ;-)\n",
    "* It's usually possible to do better than LNS, but it's also considerably harder\n",
    "\n",
    "**Goal programming is not only about lexicographic costs**\n",
    "\n",
    "* It's about simplifying a problem via constraints\n",
    "* E.g. constraints may actually help in CP\n",
    "* Sometimes special optimization are possible:\n",
    "  - Include only some of the variables (e.g. red-codes only)\n",
    "  - Simplified problem formulation (e.g. fixed number of vehicles)\n",
    "\n",
    "**Do not underestimate warm starts**\n",
    "\n",
    "* Without our little trick at the beginning\n",
    "* ...The search for an initial solution with 100 patients would fail!"
   ]
  }
 ],
 "metadata": {
  "celltoolbar": "Slideshow",
  "kernelspec": {
   "display_name": "Python 3",
   "language": "python",
   "name": "python3"
  },
  "language_info": {
   "codemirror_mode": {
    "name": "ipython",
    "version": 3
   },
   "file_extension": ".py",
   "mimetype": "text/x-python",
   "name": "python",
   "nbconvert_exporter": "python",
   "pygments_lexer": "ipython3",
   "version": "3.6.9"
  },
  "rise": {
   "center": false,
   "transition": "fade"
  }
 },
 "nbformat": 4,
 "nbformat_minor": 4
}
