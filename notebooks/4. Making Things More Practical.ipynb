{
 "cells": [
  {
   "cell_type": "code",
   "execution_count": 1,
   "metadata": {
    "slideshow": {
     "slide_type": "skip"
    }
   },
   "outputs": [],
   "source": [
    "# ============================================================\n",
    "# Notebook setup\n",
    "# ============================================================\n",
    "\n",
    "%load_ext autoreload\n",
    "%autoreload 2\n",
    "\n",
    "# Control figure size\n",
    "interactive_figures = True\n",
    "if interactive_figures:\n",
    "    # Normal behavior\n",
    "    %matplotlib widget\n",
    "    figsize=(9, 3)\n",
    "else:\n",
    "    # PDF export behavior\n",
    "    figsize=(14, 5)\n",
    "\n",
    "from util import er\n",
    "import numpy as np\n",
    "from matplotlib import pyplot as plt\n",
    "import pandas as pd\n",
    "from tensorflow import keras\n",
    "from tensorflow.keras import layers, callbacks\n",
    "import tensorflow_probability as tfp\n",
    "from scipy import stats\n",
    "from sklearn import metrics\n",
    "from ortools.sat.python import cp_model\n",
    "import copy\n",
    "\n",
    "# Configuration\n",
    "data_folder = '/app/data'\n",
    "\n",
    "# Load data\n",
    "data = er.load_data(data_folder)\n",
    "data.sort_values(by='Triage', inplace=True);\n",
    "data.reset_index(inplace=True);\n",
    "data.drop(columns='index', inplace=True);\n",
    "\n",
    "# Discard abandons\n",
    "fdata = data[~data['TkCharge'].isnull()]\n",
    "\n",
    "# Fixed problem data\n",
    "capacities = {'visit': 3, 'ultrasound': 2, 'RX': 2}"
   ]
  },
  {
   "cell_type": "markdown",
   "metadata": {
    "slideshow": {
     "slide_type": "slide"
    }
   },
   "source": [
    "# Waiting Time"
   ]
  },
  {
   "cell_type": "markdown",
   "metadata": {
    "slideshow": {
     "slide_type": "subslide"
    }
   },
   "source": [
    "## Waiting Time\n",
    "\n",
    "**So far, we have assumed the makespan as our cost metric**\n",
    "\n",
    "In an ER center, we are likely more interested in the _waiting time_\n",
    "\n",
    "* This can be defined simply as the sum of the start times of the initial tasks\n",
    "\n",
    "$$\n",
    "w = \\sum_{i=1}^n s^{\\mathit{first}}_i\n",
    "$$\n",
    "\n",
    "* Where $s^{\\mathit{first}}_i$ is the start time of the first task of patient $i$\n",
    "\n",
    "**Patients are color-coded: it makes sense to _track different waiting times_**\n",
    "\n",
    "* Ideally, we should also accord priority to the more severe cases\n",
    "* ...But let's do one step at a time"
   ]
  },
  {
   "cell_type": "markdown",
   "metadata": {
    "slideshow": {
     "slide_type": "subslide"
    }
   },
   "source": [
    "## Waiting Time\n",
    "\n",
    "**We can _build waiting time variables_, similar to what we did for the makespan**\n",
    "\n",
    "```python\n",
    "def add_waittime_variables(mdl, levels, codes_by_idx, tasks, eoh):\n",
    "    codes = ['red', 'yellow', 'green', 'white']\n",
    "    fbc = {c: [] for c in codes}\n",
    "    for idx in levels.keys():\n",
    "        fbc[codes_by_idx[idx]].append(tasks[idx, 0, 0])\n",
    "\n",
    "    obj_by_code = {}\n",
    "    for code in codes:\n",
    "        obj_by_code[code] = mdl.NewIntVar(0, len(codes_by_idx)*eoh, f'wt_{code}')\n",
    "        if len(fbc[code]) > 0:\n",
    "            mdl.Add(obj_by_code[code] == sum(t.start for t in fbc[code]))\n",
    "    obj_by_code['all'] = mdl.NewIntVar(0, len(codes_by_idx) * eoh, 'wt_global')\n",
    "    mdl.Add(obj_by_code['all'] ==  sum(obj_by_code[c] for c in codes))\n",
    "    return obj_by_code\n",
    "```"
   ]
  },
  {
   "cell_type": "markdown",
   "metadata": {
    "slideshow": {
     "slide_type": "subslide"
    }
   },
   "source": [
    "## Waiting Time\n",
    "\n",
    "**First, we _collect the first task_ for each patient, by code:**\n",
    "\n",
    "```python\n",
    "def add_waittime_variables(mdl, levels, codes_by_idx, tasks, eoh):\n",
    "    ...\n",
    "    fbc = {c: [] for c in codes}\n",
    "    for idx in levels.keys():\n",
    "        fbc[codes_by_idx[idx]].append(tasks[idx, 0, 0])\n",
    "    ...\n",
    "```\n",
    "\n",
    "**Then, we _build and constrain_ the waiting time variables**\n",
    "\n",
    "```python\n",
    "def add_waittime_variables(mdl, levels, codes_by_idx, tasks, eoh):\n",
    "    ...\n",
    "    obj_by_code = {}\n",
    "    for code in codes:\n",
    "        obj_by_code[code] = mdl.NewIntVar(0, len(codes_by_idx)*eoh, f'wt_{code}')\n",
    "        if len(fbc[code]) > 0:\n",
    "            mdl.Add(obj_by_code[code] == sum(t.start for t in fbc[code]))\n",
    "    obj_by_code['all'] = mdl.NewIntVar(0, len(codes_by_idx) * eoh, f'wt_globai')\n",
    "    mdl.Add(obj_by_code['all'] ==  sum(obj_by_code[c] for c in codes))\n",
    "    ...\n",
    "```"
   ]
  },
  {
   "cell_type": "markdown",
   "metadata": {
    "slideshow": {
     "slide_type": "subslide"
    }
   },
   "source": [
    "## Waiting Time\n",
    "\n",
    "**We can formulate an _updated problem model_:**"
   ]
  },
  {
   "cell_type": "code",
   "execution_count": 2,
   "metadata": {},
   "outputs": [
    {
     "name": "stdout",
     "output_type": "stream",
     "text": [
      "Solver status: optimal, time(CPU sec): 0.01, objective: 2.0\n",
      "\n",
      "0(green): visit(0-1), RX(1-3), visit(3-4)\n",
      "1(green): visit(0-1), lab(1-5), visit(5-6)\n",
      "2(white): visit(0-1), otolaryngological visit(1-5), visit(5-6)\n",
      "6(green): visit(1-2), ultrasound(2-4), RX(4-6), lab(6-10), CT scan(10-14), visit(14-15), CT scan(15-19), visit(19-20)\n",
      "7(green): visit(1-2)\n"
     ]
    }
   ],
   "source": [
    "npatients = 5\n",
    "mdl = cp_model.CpModel()\n",
    "levels, codes_by_idx = er.build_levels(fdata.iloc[:npatients])\n",
    "eoh = er.get_horizon(levels)\n",
    "rl, dl = {idx:0 for idx in levels}, {idx:eoh for idx in levels}\n",
    "tasks, last = er.add_all_vars(mdl, levels, rl, dl)\n",
    "er.add_all_precedences(mdl, levels, tasks)\n",
    "er.add_cumulatives(mdl, tasks, capacities)\n",
    "er.add_all_no_overlap(mdl, levels, tasks)\n",
    "obj_by_code = er.add_waittime_variables(mdl, levels, codes_by_idx, tasks, eoh)\n",
    "mdl.Minimize(obj_by_code['all'])\n",
    "slv = cp_model.CpSolver()\n",
    "slv.parameters.max_time_in_seconds = 10\n",
    "status = slv.Solve(mdl)\n",
    "er.print_outcome(slv, levels, tasks, codes_by_idx, status)"
   ]
  },
  {
   "cell_type": "markdown",
   "metadata": {
    "slideshow": {
     "slide_type": "subslide"
    }
   },
   "source": [
    "## Evaluation\n",
    "\n",
    "**We will now try to _compare the complexity_ with that of the previous one**"
   ]
  },
  {
   "cell_type": "code",
   "execution_count": 5,
   "metadata": {},
   "outputs": [],
   "source": [
    "def solve_basic_waittime_problem(npatients, capacities):\n",
    "    mdl = cp_model.CpModel()\n",
    "    levels, codes_by_idx = er.build_levels(fdata.iloc[:npatients])\n",
    "    eoh = er.get_horizon(levels)\n",
    "    rl, dl = {idx:0 for idx in levels}, {idx:eoh for idx in levels}\n",
    "    tasks, last = er.add_all_vars(mdl, levels, rl, dl)\n",
    "    er.add_all_precedences(mdl, levels, tasks)\n",
    "    er.add_cumulatives(mdl, tasks, capacities)\n",
    "    er.add_all_no_overlap(mdl, levels, tasks)\n",
    "    obj_by_code = er.add_waittime_variables(mdl, levels, codes_by_idx, tasks, eoh)\n",
    "    mdl.Minimize(obj_by_code['all'])\n",
    "    slv = cp_model.CpSolver()\n",
    "    slv.parameters.max_time_in_seconds = 10 # time limit\n",
    "    status = slv.Solve(mdl)\n",
    "    return status, slv.UserTime()"
   ]
  },
  {
   "cell_type": "markdown",
   "metadata": {
    "slideshow": {
     "slide_type": "subslide"
    }
   },
   "source": [
    "## Evaluation"
   ]
  },
  {
   "cell_type": "code",
   "execution_count": 12,
   "metadata": {},
   "outputs": [
    {
     "data": {
      "image/png": "[encoded data removed]",
      "text/plain": [
       "<Figure size 1008x360 with 1 Axes>"
      ]
     },
     "metadata": {
      "needs_background": "light"
     },
     "output_type": "display_data"
    }
   ],
   "source": [
    "tlist, plist = [], range(10, 20, 3)\n",
    "for npt in plist:\n",
    "    s, t = solve_basic_waittime_problem(npt, capacities)\n",
    "    tlist.append(t)\n",
    "er.plot_scalability_evalulation(plist, np.log10(tlist), figsize=figsize)"
   ]
  },
  {
   "cell_type": "markdown",
   "metadata": {
    "slideshow": {
     "slide_type": "fragment"
    }
   },
   "source": [
    "_Sum-based_ objectives are much harder in CP and _max-based_ objectives\n",
    "\n",
    "- A bound on a max-based objective immediately propagates to all its terms\n",
    "- ...For sum-based objectives, this is not the case"
   ]
  },
  {
   "cell_type": "markdown",
   "metadata": {
    "slideshow": {
     "slide_type": "slide"
    }
   },
   "source": [
    "# Goal Programming"
   ]
  },
  {
   "cell_type": "markdown",
   "metadata": {
    "slideshow": {
     "slide_type": "subslide"
    }
   },
   "source": [
    "## Goal Programming\n",
    "\n",
    "**Any practical application of our method faces _two big issues_**\n",
    "\n",
    "First, we have limited _scalability_\n",
    "\n",
    "* The problem is computationally challenging\n",
    "* Note that we may still be getting good solutions quite early\n",
    "* ...But we need to compare multiple solution approaches to know that\n",
    "\n",
    "Second, we need to handle _patient priorities_\n",
    "\n",
    "* We need to make sure that (e.g.) red-coded patients are handled first\n",
    "* ...Then yellow, green, and finally white patients\n",
    "\n",
    "**We can actually address both with a single technique!**\n",
    "\n",
    "(At least to some degree)"
   ]
  },
  {
   "cell_type": "markdown",
   "metadata": {
    "slideshow": {
     "slide_type": "subslide"
    }
   },
   "source": [
    "## Goal Programming\n",
    "\n",
    "**Goal Programming is a strategy for handling _lexicographic costs_**\n",
    "\n",
    "* Let's consider a problem with _multiple cost functions_ $f_0(x), f_1(x), \\ldots$\n",
    "* Let $f_i$ be _strictly more important_ than $f_j$ iff $i < j$\n",
    "\n",
    "**Then _Goal Programming_ refers to this simple algorithm:**\n",
    "\n",
    "* Optimize $f_0(x)$ to obtain its optimal value $z^*_0$\n",
    "* Post a new constraint in the model in the form $f_0(x) \\leq z^*_0$\n",
    "* Move to the next cost function and repeat\n",
    "\n",
    "**The approach is very simple, but it works well in practice**\n",
    "\n",
    "A typical example: the Capacitated Vehicle Routing Problem\n",
    "\n",
    "* $f_0(x) = $ number of vehicles, $f_1(x) = $ length of the routes\n",
    "* Thanks to GP, we get an upped bound on each cost at each step\n",
    "* ...Which may provide a computational advantage"
   ]
  },
  {
   "cell_type": "markdown",
   "metadata": {
    "slideshow": {
     "slide_type": "subslide"
    }
   },
   "source": [
    "## Implementing Goal Programming\n",
    "\n",
    "**As a first step, we need to handle _upper bounds_ on the waiting times**\n",
    "\n",
    "```python\n",
    "def solve_bounded_waittime_problem(levels, codes_by_idx, codes, capacities,\n",
    "        ub_by_code={}, tlim=None):\n",
    "    mdl = cp_model.CpModel()    \n",
    "    eoh = get_horizon(levels)\n",
    "    rl, dl = {idx:0 for idx in levels}, {idx:eoh for idx in levels}\n",
    "    tasks, last = add_all_vars(mdl, levels, rl, dl)\n",
    "    add_all_precedences(mdl, levels, tasks)\n",
    "    add_cumulatives(mdl, tasks, {'visit': 3, 'ultrasound': 2, 'RX': 2})\n",
    "    add_all_no_overlap(mdl, levels, tasks)\n",
    "    obj_by_code = add_waittime_variables(mdl, levels, codes_by_idx, tasks, eoh)\n",
    "    \n",
    "    for code in ub_by_code: # <-- Enforce upper bounds\n",
    "        mdl.Add(obj_by_code[code] <= ub_by_code[code])\n",
    "\n",
    "    mdl.Minimize(obj_by_code[codes[-1]]) # <-- Focus by default on the last code\n",
    "    slv = cp_model.CpSolver()\n",
    "    if tlim is not None: slv.parameters.max_time_in_seconds = tlim\n",
    "    status = slv.Solve(mdl)    \n",
    "    return status, slv, tasks\n",
    "```"
   ]
  },
  {
   "cell_type": "markdown",
   "metadata": {
    "slideshow": {
     "slide_type": "subslide"
    }
   },
   "source": [
    "## Implementing Goal Programming\n",
    "\n",
    "**Then we need to code the approach in a function**\n",
    "\n",
    "```python\n",
    "def goal_programming(levels, codes_by_idx, codes, capacities, tlim=None, verbose=1):\n",
    "    wt_by_code, ttime = {}, 0\n",
    "    for i, code in enumerate(codes):\n",
    "        l_tlim = None if tlim is None else (tlim-ttime) / (len(codes)-i)\n",
    "        status, slv, tasks = solve_bounded_waittime_problem(levels, codes_by_idx,\n",
    "                          codes[:i+1], capacities, ub_by_code=wt_by_code, tlim=l_tlim)\n",
    "        ttime += slv.UserTime()\n",
    "        if verbose:\n",
    "            print_outcome(slv, levels, tasks, codes_by_idx, status, (i == len(codes)-1))\n",
    "        if status in (cp_model.OPTIMAL, cp_model.FEASIBLE):\n",
    "            wt_by_code[code] = int(slv.ObjectiveValue())\n",
    "            starts = {tidx:slv.Value(tasks[tidx].start) for tidx in tasks}\n",
    "        else:\n",
    "            wt_by_code, starts = None, None\n",
    "            break\n",
    "    if wt_by_code is not None:\n",
    "        wt_by_code['all'] = sum(wt_by_code[code] for code in codes)\n",
    "    return ttime, wt_by_code, starts\n",
    "```"
   ]
  },
  {
   "cell_type": "markdown",
   "metadata": {
    "slideshow": {
     "slide_type": "subslide"
    }
   },
   "source": [
    "## Implementing Goal Programming\n",
    "\n",
    "**Finally, we can test the approach**\n",
    "\n",
    "We choose a _priority for our codes_, then we call the `goal_programming` function"
   ]
  },
  {
   "cell_type": "code",
   "execution_count": 8,
   "metadata": {},
   "outputs": [
    {
     "name": "stdout",
     "output_type": "stream",
     "text": [
      "Solver status: optimal, time(CPU sec): 0.01, objective: 0.0\n",
      "Solver status: optimal, time(CPU sec): 0.01, objective: 0.0\n",
      "Solver status: optimal, time(CPU sec): 0.02, objective: 9.0\n",
      "Solver status: optimal, time(CPU sec): 0.04, objective: 3.0\n",
      "\n",
      "0(green): visit(0-1), RX(1-3), visit(3-4)\n",
      "9(green): visit(0-1)\n",
      "12(red): visit(0-1), RX(3-5), visit(5-6)\n",
      "6(green): visit(1-2), ultrasound(2-4), RX(4-6), lab(6-10), CT scan(10-14), visit(14-15), CT scan(15-19), visit(19-20)\n",
      "7(green): visit(1-2)\n",
      "8(green): visit(1-2), RX(2-4), prescription(4-8), visit(8-9)\n",
      "1(green): visit(2-3), lab(3-7), visit(7-8)\n",
      "10(green): visit(2-3), lab(3-7), CT scan(7-11), visit(11-12)\n",
      "11(green): visit(2-3), ultrasound(3-5), lab(5-9), prescription(9-13), visit(13-14)\n",
      "2(white): visit(3-4), otolaryngological visit(4-8), visit(8-9)\n"
     ]
    }
   ],
   "source": [
    "codes = ['red', 'yellow', 'green', 'white']\n",
    "npatients = 10\n",
    "levels, codes_by_idx = er.build_levels(fdata.iloc[:npatients])\n",
    "_, _, _ = er.goal_programming(levels, codes_by_idx, codes, capacities, tlim=10)"
   ]
  },
  {
   "cell_type": "markdown",
   "metadata": {},
   "source": [
    "* The priority is given by the code order in the list"
   ]
  },
  {
   "cell_type": "markdown",
   "metadata": {
    "slideshow": {
     "slide_type": "subslide"
    }
   },
   "source": [
    "## Evaluation\n",
    "\n",
    "**We can now evaluate the scalability of the approach**"
   ]
  },
  {
   "cell_type": "code",
   "execution_count": 13,
   "metadata": {},
   "outputs": [
    {
     "data": {
      "image/png": "[encoded data removed]",
      "text/plain": [
       "<Figure size 1008x360 with 1 Axes>"
      ]
     },
     "metadata": {
      "needs_background": "light"
     },
     "output_type": "display_data"
    }
   ],
   "source": [
    "tlist, olist, plist = [], [], range(10, 20, 3)\n",
    "for npt in plist:\n",
    "    levels, codes_by_idx = er.build_levels(fdata.iloc[:npt])\n",
    "    t, o, _ = er.goal_programming(levels, codes_by_idx, codes, capacities, tlim=10, verbose=0)\n",
    "    tlist.append(t)\n",
    "    olist.append(o['all'])\n",
    "er.plot_scalability_evalulation(plist, np.log10(tlist), figsize=figsize)"
   ]
  },
  {
   "cell_type": "markdown",
   "metadata": {},
   "source": [
    "* We will use these value as a reference for some comparisons later"
   ]
  },
  {
   "cell_type": "markdown",
   "metadata": {
    "slideshow": {
     "slide_type": "subslide"
    }
   },
   "source": [
    "## Warm Starting\n",
    "\n",
    "**A drawback of GP is that search restarts from scratch at each iteration**\n",
    "\n",
    "* This can be mitigated by _warm starting_ the solver\n",
    "* In Google ortools, this is done via so-called \"hints\"\n",
    "\n",
    "```python\n",
    "def goal_programming(levels, codes_by_idx, codes, capacities,\n",
    "        tlim=None, verbose=1, hints=None):\n",
    "        ...\n",
    "        status, slv, tasks = solve_bounded_waittime_problem(levels, codes_by_idx,\n",
    "                codes[:i+1], capacities, ub_by_code=wt_by_code,\n",
    "                tlim=l_tlim, hints=hints) # <-- here we pass hints\n",
    "        ...\n",
    "        if status in (cp_model.OPTIMAL, cp_model.FEASIBLE):\n",
    "            ...\n",
    "            starts = {tidx:slv.Value(tasks[tidx].start) for tidx in tasks}\n",
    "            hints = starts # <-- hints are the start in the last solution\n",
    "        ...\n",
    "```"
   ]
  },
  {
   "cell_type": "markdown",
   "metadata": {
    "slideshow": {
     "slide_type": "subslide"
    }
   },
   "source": [
    "## Warm Starting\n",
    "\n",
    "**And finally we need to take into account the hints in the model:**\n",
    "\n",
    "```python\n",
    "def solve_bounded_waittime_problem(levels, codes_by_idx, codes, capacities,\n",
    "        ub_by_code={}, tlim=None, hints=None):\n",
    "    ...\n",
    "    # Add hints\n",
    "    if hints is not None:\n",
    "        for (idx, k, i), stval in hints.items():\n",
    "            mdl.AddHint(tasks[idx,k,i].start, stval)\n",
    "    ...\n",
    "```\n",
    "\n",
    "* The solver will _try to assign_ to each value the corresponding hint\n",
    "* In case this proves impossible, it will search as usual\n",
    "* If properly done, this guarantees that we start from a known feasible solution\n",
    "\n",
    "This is usually referred to as _warm starting_ in the optimization field"
   ]
  },
  {
   "cell_type": "markdown",
   "metadata": {
    "slideshow": {
     "slide_type": "subslide"
    }
   },
   "source": [
    "## Warm Starting\n",
    "\n",
    "**Let's test this updated implementation**"
   ]
  },
  {
   "cell_type": "code",
   "execution_count": 14,
   "metadata": {},
   "outputs": [
    {
     "data": {
      "image/png": "[encoded data removed]",
      "text/plain": [
       "<Figure size 1008x360 with 1 Axes>"
      ]
     },
     "metadata": {
      "needs_background": "light"
     },
     "output_type": "display_data"
    }
   ],
   "source": [
    "tlist2, plist2 = [], range(10, 23, 3)\n",
    "for npt in plist2:\n",
    "    levels, codes_by_idx = er.build_levels(fdata.iloc[:npt])\n",
    "    t, _, _ = er.goal_programming(levels, codes_by_idx, codes, capacities, tlim=10, verbose=0)\n",
    "    tlist2.append(t)\n",
    "er.plot_scalability_evalulation(plist2, np.log10(tlist2), figsize=figsize)"
   ]
  },
  {
   "cell_type": "markdown",
   "metadata": {},
   "source": [
    "* It does not make much of a difference at this point, but it will matter later"
   ]
  },
  {
   "cell_type": "markdown",
   "metadata": {
    "slideshow": {
     "slide_type": "slide"
    }
   },
   "source": [
    "# Large Neighborhood Search"
   ]
  },
  {
   "cell_type": "markdown",
   "metadata": {
    "slideshow": {
     "slide_type": "subslide"
    }
   },
   "source": [
    "## Large Neighborhood Search\n",
    "\n",
    "**Exact optimization approaches (e.g. classical CP/SMT)...**\n",
    "\n",
    "* ...Enable _convenient modeling_ and are very effective on small problems\n",
    "* ...But have trouble dealing with large-scale optimization problems\n",
    "\n",
    "**Heuristic approaches (e.g. local search)...**\n",
    "\n",
    "* ...Can deal with large scale problems\n",
    "* ...But have trouble escaping local minima\n",
    "\n",
    "**The two approaches can be combined to obtain _Large Neighborhood Search_**\n",
    "\n",
    "* We operate by trying to improve an _incumbent solution_\n",
    "* Improving solutions are searched in a _large neighborhood_\n",
    "* Each neighborhood is explored via a complete search on a _restricted problem_\n",
    "* ...Typically: we fix all variables, except a small subset (_relaxed variables_)"
   ]
  },
  {
   "cell_type": "markdown",
   "metadata": {
    "slideshow": {
     "slide_type": "subslide"
    }
   },
   "source": [
    "## Large Neighborhood Search\n",
    "\n",
    "**Here's a visual scheme of how the approach works**\n",
    "\n",
    "<center><img src=\"assets/lns.png\" width=700px/></center>\n",
    "\n",
    "**LNS _combines the strengths_ of its component approaches**\n",
    "\n",
    "* It can efficiently handle large-scale problems (like local search)\n",
    "* It can escape local minima thanks to the use of large neighborhoods\n",
    "* It retains the modeling flexibility of CP, SMT, MILP, etc.\n",
    "\n",
    "**Choosing which variables to relax at each iteration...**\n",
    "\n",
    "* ...Can be a major design decision, and can be done using domain knowledge\n",
    "* ...But actually even a simple _random selection_ often works very well\n"
   ]
  },
  {
   "cell_type": "markdown",
   "metadata": {
    "slideshow": {
     "slide_type": "subslide"
    }
   },
   "source": [
    "## Variable Fixing in Scheduling\n",
    "\n",
    "**LNS can be very effective on _scheduling problems_...**\n",
    "\n",
    "* ...But it is not straightforward to implement\n",
    "* ...Since the classical \"variable\" fixing approach provides _too little flexibility_\n",
    "\n",
    "**Consider the following schedule for a resouce with capacity 2:**\n",
    "\n",
    "<center><img src=\"assets/pos_issue.png\" width=700px/></center>\n",
    "\n",
    "* Say the we choose to relax the green tasks, and keep the yellow ones fixed\n",
    "* ...Then we still cannot make any improvement!\n",
    "\n",
    "**We need to retain some ability to _shift tasks in time_**\n",
    "\n",
    "* But we still need to keep them somewhat \"fixed\"\n",
    "* ...Or there is no point in defining a neighborhood\n"
   ]
  },
  {
   "cell_type": "markdown",
   "metadata": {
    "slideshow": {
     "slide_type": "subslide"
    }
   },
   "source": [
    "## Partial Order Schedule\n",
    "\n",
    "**The solution is converting a fixed-start schedule into a _Partial Order Schedule_**\n",
    "\n",
    "A Partial Order Schedule is an _augmented task graph_\n",
    "\n",
    "<center><img src=\"assets/pos_example.png\" width=700px/></center>\n",
    "\n",
    "* The graph contains all the original precedence relations (in this case none)\n",
    "* ...Plus additional precedences, introduced to _prevent resource conflicts_\n",
    "\n",
    "**In the figure:**\n",
    "\n",
    "* As long as the black arcs (precedences) are respected\n",
    "* ...Tasks can be moved _without any resource conflict_"
   ]
  },
  {
   "cell_type": "markdown",
   "metadata": {
    "slideshow": {
     "slide_type": "subslide"
    }
   },
   "source": [
    "## Partial Order Scheduling\n",
    "\n",
    "**A POS can be obtained by solving a _minimum flow problem_**\n",
    "\n",
    "<center><img src=\"assets/flow1.png\" width=700px/></center>\n",
    "\n",
    "* First, we introduce a fake \"source\" and \"sink\" task\n",
    "* Then, we build an arc for each pair of tasks such that $e_i \\leq s_j$\n",
    "  - The source can be connected only to the first tasks\n",
    "  - ...And the sink has an incoming arc for each last task\n",
    "* Then we say each task \"requires\" flow equal to its resource demand\n",
    "  - In this example, all requirements are 1"
   ]
  },
  {
   "cell_type": "markdown",
   "metadata": {
    "slideshow": {
     "slide_type": "subslide"
    }
   },
   "source": [
    "## Partial Order Scheduling\n",
    "\n",
    "**A POS can be obtained by solving a minimum flow problem**\n",
    "\n",
    "<center><img src=\"assets/flow2.png\" width=700px/></center>\n",
    "\n",
    "* Finally, we route the minimum amount of flow that satisfies the requirements\n",
    "  - ...For example using some variant of the Ford-Fulkerson's method\n",
    "  - We will not look into details into this\n",
    "* The arcs with non-zero flow become part of the POS\n",
    "  - In the figure, these are the arcs in black\n",
    "  - You can check that the flow is actually minimum"
   ]
  },
  {
   "cell_type": "markdown",
   "metadata": {
    "slideshow": {
     "slide_type": "subslide"
    }
   },
   "source": [
    "## POS Conversion - Implementation\n",
    "\n",
    "**Since we have only unary demands, our implementation can be simpler**\n",
    "\n",
    "First, let's prepare a function to _collect and sort the tasks for each resource_:\n",
    "\n",
    "```python\n",
    "def sol_to_pos(levels, starts, capacities):\n",
    "    aplus, aminus = {}, {}\n",
    "    stasks = {r:[] for r in capacities}\n",
    "    for idx, k, i in starts:\n",
    "        ttype = levels[idx][k][i]\n",
    "        if ttype in capacities:\n",
    "            stasks[ttype].append((idx, k, i))\n",
    "            aplus[idx, k, i], aminus[idx, k, i] = [], []\n",
    "    for res in capacities:\n",
    "        stasks[res] = sorted(stasks[res], key=lambda t: starts[t]) # <-- sort by start\n",
    "    for res, cap in capacities.items():\n",
    "        for _ in range(cap):\n",
    "            stasks[res] = unit_flow(levels, stasks[res], starts, aplus, aminus)\n",
    "    return aplus, aminus\n",
    "```"
   ]
  },
  {
   "cell_type": "markdown",
   "metadata": {
    "slideshow": {
     "slide_type": "subslide"
    }
   },
   "source": [
    "## POS Conversion - Implementation\n",
    "\n",
    "**We store the POS as a collection of outgoing and ingoing arcs**\n",
    "\n",
    "This is called a _forward and backward star_ representation:\n",
    "\n",
    "```python\n",
    "def sol_to_pos(levels, starts, capacities):\n",
    "    aplus, aminus = {}, {}\n",
    "    ...\n",
    "    for idx, k, i in starts:\n",
    "        ...\n",
    "        if ttype in capacities:\n",
    "            ...\n",
    "            aplus[idx, k, i], aminus[idx, k, i] = [], []\n",
    "    ...\n",
    "    return aplus, aminus\n",
    "```\n",
    "\n",
    "* The chosen representation allows for efficient graph traversal\n",
    "* It also makes it easy to detect arcs implied via the transitive property"
   ]
  },
  {
   "cell_type": "markdown",
   "metadata": {
    "slideshow": {
     "slide_type": "subslide"
    }
   },
   "source": [
    "## POS Conversion - Implementation\n",
    "\n",
    "**Then, we collect the tasks for each resource:**\n",
    "\n",
    "```python\n",
    "def sol_to_pos(levels, starts, capacities):\n",
    "    ...\n",
    "    stasks = {r:[] for r in capacities}\n",
    "    for idx, k, i in starts:\n",
    "        ttype = levels[idx][k][i]\n",
    "        if ttype in capacities:\n",
    "            stasks[ttype].append((idx, k, i))\n",
    "            ...\n",
    "    for res in capacities:\n",
    "        stasks[res] = sorted(stasks[res], key=lambda t: starts[t])\n",
    "    ...\n",
    "```\n",
    "\n",
    "* We sort each collection by increasing start time"
   ]
  },
  {
   "cell_type": "markdown",
   "metadata": {
    "slideshow": {
     "slide_type": "subslide"
    }
   },
   "source": [
    "## POS Conversion - Implementation\n",
    "\n",
    "**Finally, we route single units of flows**\n",
    "\n",
    "```python\n",
    "def sol_to_pos(levels, starts, capacities):\n",
    "    ...\n",
    "    for res, cap in capacities.items():\n",
    "        for _ in range(cap):\n",
    "            stasks[res] = unit_flow(levels, stasks[res], starts, aplus, aminus)\n",
    "    return aplus, aminus\n",
    "```\n",
    "\n",
    "* Each unit corresponds to one unit of resource capacity\n",
    "* The flow represents how the resource is \"passed\" form one task to the next\n",
    "* We do not build explicitly the possible arcs: they are implied by the start times"
   ]
  },
  {
   "cell_type": "markdown",
   "metadata": {
    "slideshow": {
     "slide_type": "subslide"
    }
   },
   "source": [
    "## POS Conversion - Implementation\n",
    "\n",
    "**Here is the algorithm for routing each flow unit**\n",
    "\n",
    "```python\n",
    "def unit_flow(levels, stasks, starts, aplus, aminus):\n",
    "    nonprocessed = []\n",
    "    src, dur = None, 0\n",
    "    for dst in stasks:\n",
    "        if src is not None and starts[src] + dur <= starts[dst]:\n",
    "            aplus[src].append(dst) # Build an arc (forward star)\n",
    "            aminus[dst].append(src) # Build an arc (backward star)\n",
    "            src = None # Reset the source\n",
    "        if src is None:\n",
    "            src = dst # Set a new source\n",
    "            dur = get_dur(levels[src[0]][src[1]][src[2]])\n",
    "        else:\n",
    "            nonprocessed.append(dst) # Store as non-processed\n",
    "    return nonprocessed\n",
    "\n",
    "```"
   ]
  },
  {
   "cell_type": "markdown",
   "metadata": {
    "slideshow": {
     "slide_type": "subslide"
    }
   },
   "source": [
    "## POS Conversion - Implementation\n",
    "\n",
    "**Let's test the function**"
   ]
  },
  {
   "cell_type": "code",
   "execution_count": 15,
   "metadata": {},
   "outputs": [
    {
     "name": "stdout",
     "output_type": "stream",
     "text": [
      "Solver status: optimal, time(CPU sec): 0.00, objective: 0.0\n",
      "Solver status: optimal, time(CPU sec): 0.00, objective: 0.0\n",
      "Solver status: optimal, time(CPU sec): 0.00, objective: 0.0\n",
      "Solver status: optimal, time(CPU sec): 0.01, objective: 0.0\n",
      "\n",
      "0(green): visit(0-1), RX(1-3), visit(3-4)\n",
      "1(green): visit(0-1), lab(1-5), visit(5-6)\n",
      "2(white): visit(0-1), otolaryngological visit(1-5), visit(5-6)\n"
     ]
    },
    {
     "data": {
      "text/plain": [
       "{(0, 0, 0): [(0, 2, 0)],\n",
       " (0, 1, 0): [],\n",
       " (0, 2, 0): [(1, 2, 0)],\n",
       " (1, 0, 0): [(2, 2, 0)],\n",
       " (1, 2, 0): [],\n",
       " (2, 0, 0): [],\n",
       " (2, 2, 0): []}"
      ]
     },
     "execution_count": 15,
     "metadata": {},
     "output_type": "execute_result"
    }
   ],
   "source": [
    "codes = ['red', 'yellow', 'green', 'white']\n",
    "npatients = 3\n",
    "levels, codes_by_idx = er.build_levels(fdata.iloc[:npatients])\n",
    "_, _, starts = er.goal_programming(levels, codes_by_idx, codes, capacities, tlim=10)\n",
    "aplus, aminus = er.sol_to_pos(levels, starts, capacities)\n",
    "aplus"
   ]
  },
  {
   "cell_type": "markdown",
   "metadata": {
    "slideshow": {
     "slide_type": "subslide"
    }
   },
   "source": [
    "## POS Relaxation\n",
    "\n",
    "**A POS corresponds to a set of feasible schedules**\n",
    "\n",
    "* Tasks can be freely shifted, and no resource constraints is be violated\n",
    "* There are _no longer ordering decisions_ to be made\n",
    "* Typically, choosing one of the possible schedules becomes a poly-time problem\n",
    "\n",
    "However, this means that we cannot really make significant changes\n",
    "\n",
    "**For using a POS in LNS, we need to _relax_ it**\n",
    "\n",
    "Typically:\n",
    "\n",
    "* We choose a set of tasks to relax\n",
    "* ...And we disconnect them from the precedence network\n",
    "  * First, we connect all task predecessors to the task successors\n",
    "  * Then, we remove all the additional POS arcs linked to the relaxed tasks"
   ]
  },
  {
   "cell_type": "markdown",
   "metadata": {
    "slideshow": {
     "slide_type": "subslide"
    }
   },
   "source": [
    "## POS Relaxation - Implementation\n",
    "\n",
    "**Here's an implemented algorithm for removing/relaxing POS tasks**\n",
    "\n",
    "```python\n",
    "def remove_task_from_pos(aplus, aminus, task_key):\n",
    "    # Transfer transitive arcs\n",
    "    for src in aminus[task_key]:\n",
    "        for dst in aplus[task_key]:\n",
    "            aminus[dst].append(src)\n",
    "            aplus[src].append(dst)\n",
    "    # Remove ingoing arcs\n",
    "    for src in aminus[task_key]:\n",
    "        aplus[src].remove(task_key)\n",
    "    # Remove outgoing arcs\n",
    "    for dst in aplus[task_key]:\n",
    "        aminus[dst].remove(task_key)\n",
    "    # Remove the node from the arc\n",
    "    del aplus[task_key]\n",
    "    del aminus[task_key]\n",
    "```"
   ]
  },
  {
   "cell_type": "markdown",
   "metadata": {
    "slideshow": {
     "slide_type": "subslide"
    }
   },
   "source": [
    "## POS Relaxation - Implementation\n",
    "\n",
    "**In our LNS approach we will relax all tasks related to selected patients**\n",
    "\n",
    "```python\n",
    "def remove_patient_from_pos(aplus, aminus, target_idx):\n",
    "    aplus_res = copy.deepcopy(aplus)\n",
    "    aminus_res = copy.deepcopy(aminus)\n",
    "    for idx, k, i in aplus:\n",
    "        if idx == target_idx:\n",
    "            remove_task_from_pos(aplus_res, aminus_res, (idx, k, i))\n",
    "    return aplus_res, aminus_res\n",
    "```"
   ]
  },
  {
   "cell_type": "code",
   "execution_count": 16,
   "metadata": {},
   "outputs": [
    {
     "data": {
      "text/plain": [
       "{(0, 0, 0): [(0, 2, 0)],\n",
       " (0, 1, 0): [],\n",
       " (0, 2, 0): [(1, 2, 0)],\n",
       " (1, 0, 0): [],\n",
       " (1, 2, 0): []}"
      ]
     },
     "execution_count": 16,
     "metadata": {},
     "output_type": "execute_result"
    }
   ],
   "source": [
    "aplus2, aminus2 = er.remove_patient_from_pos(aplus, aminus, 2)\n",
    "aplus2"
   ]
  },
  {
   "cell_type": "markdown",
   "metadata": {
    "slideshow": {
     "slide_type": "subslide"
    }
   },
   "source": [
    "## Restricted Problem\n",
    "\n",
    "**We now need to take int account the additional precedences in the model**\n",
    "\n",
    "```python\n",
    "def solve_bounded_waittime_problem(levels, codes_by_idx, codes, capacities,\n",
    "        ub_by_code={}, tlim=None, hints=None, aplus=None):\n",
    "    ...\n",
    "    # Add extra precedences\n",
    "    if aplus is not None:\n",
    "        for (idx, k, i), out_arcs in aplus.items():\n",
    "            for idx2, k2, i2 in out_arcs:\n",
    "                mdl.Add(tasks[idx,k,i].end <= tasks[idx2,k2,i2].start)\n",
    "    ...\n",
    "```\n",
    "\n",
    "Even if we still need to assing _all the start times_...\n",
    "\n",
    "* Precedence constraints are efficient to propagate\n",
    "* They are effective at narrowing the variable domains\n",
    "* ...And in this case they prevent many resource conflicts\n",
    "\n",
    "**If many POS constraints are added, the problem is much easier to solve**"
   ]
  },
  {
   "cell_type": "markdown",
   "metadata": {
    "slideshow": {
     "slide_type": "subslide"
    }
   },
   "source": [
    "## LNS - Initial Solution\n",
    "\n",
    "**We are ready to define our LNS approach**\n",
    "\n",
    "First, we need an initial solution:"
   ]
  },
  {
   "cell_type": "code",
   "execution_count": 17,
   "metadata": {},
   "outputs": [
    {
     "name": "stdout",
     "output_type": "stream",
     "text": [
      "Initial solution in 5.01 sec, {'red': 5, 'yellow': 577, 'green': 1209, 'white': 10, 'all': 1801}\n"
     ]
    }
   ],
   "source": [
    "init_time = 5 # Time limit for the initial solution\n",
    "codes = ['red', 'yellow', 'green', 'white']\n",
    "npatients = 100\n",
    "\n",
    "levels, codes_by_idx = er.build_levels(fdata.iloc[:npatients])\n",
    "\n",
    "ttime, wt_by_code, starts = er.goal_programming(levels, codes_by_idx, codes, capacities=capacities,\n",
    "                           tlim=init_time, verbose=0)\n",
    "print(f'Initial solution in {ttime:.2f} sec, {wt_by_code}')"
   ]
  },
  {
   "cell_type": "markdown",
   "metadata": {},
   "source": [
    "* We can obtain this one as usual\n",
    "* It's better if it's of decent quality\n",
    "* ...But we don't want to spend more than a few seconds on this"
   ]
  },
  {
   "cell_type": "markdown",
   "metadata": {
    "slideshow": {
     "slide_type": "subslide"
    }
   },
   "source": [
    "## LNS - Baseline\n",
    "\n",
    "**As a baseline, let's see the solution quality we can obtain in 30 seconds**"
   ]
  },
  {
   "cell_type": "code",
   "execution_count": 22,
   "metadata": {},
   "outputs": [
    {
     "name": "stdout",
     "output_type": "stream",
     "text": [
      "Initial solution in 30.02 sec, {'red': 5, 'yellow': 307, 'green': 1343, 'white': 22, 'all': 1677}\n"
     ]
    }
   ],
   "source": [
    "init_time = 30 # Time limit for the initial solution\n",
    "codes = ['red', 'yellow', 'green', 'white']\n",
    "npatients = 100\n",
    "\n",
    "levels, codes_by_idx = er.build_levels(fdata.iloc[:npatients])\n",
    "\n",
    "ttime, wt_by_code, starts = er.goal_programming(levels, codes_by_idx, codes, capacities=capacities,\n",
    "                           tlim=init_time, verbose=0)\n",
    "print(f'Initial solution in {ttime:.2f} sec, {wt_by_code}')"
   ]
  },
  {
   "cell_type": "markdown",
   "metadata": {
    "slideshow": {
     "slide_type": "subslide"
    }
   },
   "source": [
    "## LNS - Upper bounds\n",
    "\n",
    "**In LNS we will repeatedly be seeking for an _improving_ solution**\n",
    "\n",
    "...So we need to modify our G.P. loop to take _upper bounds_ into account:\n",
    "\n",
    "```python\n",
    "def goal_programming(levels, codes_by_idx, codes, capacities,\n",
    "        tlim=None, verbose=1, hints=None, ub_by_code=None):\n",
    "    # Handle the upper bounds\n",
    "    if ub_by_code is None:\n",
    "        wt_by_code = {}\n",
    "    else:\n",
    "        wt_by_code = copy.deepcopy(ub_by_code)\n",
    "    ...\n",
    "    return ttime, wt_by_code, starts\n",
    "\n",
    "```"
   ]
  },
  {
   "cell_type": "markdown",
   "metadata": {},
   "source": [
    "* The bounds are then passed to the function that builds and solves the model\n",
    "* ...Which was already designed to deal with the bounds from Goal Programming"
   ]
  },
  {
   "cell_type": "markdown",
   "metadata": {
    "slideshow": {
     "slide_type": "subslide"
    }
   },
   "source": [
    "## LNS - Main Loop\n",
    "\n",
    "**Here is the main structure of our LNS implementation:**\n",
    "\n",
    "```python\n",
    "def scheduling_lns(levels, codes_by_idx, codes, capacities,\n",
    "        tlim, init_time, it_time, nb_size, verbose=1):\n",
    "    ... # Build initial solution\n",
    "    while tlim - ttime > 0:\n",
    "        aplus, aminus = sol_to_pos(levels, starts, capacities) # Obtain a POS\n",
    "        relaxed = np.random.choice(patients, nb_size, replace=False) # Relax patients\n",
    "        for idx in relaxed: aplus, aminus = remove_patient_from_pos(aplus, aminus, idx)\n",
    "        ub_by_code = copy.deepcopy(wt_by_code) # Require an improvement\n",
    "        ub_by_code['all'] -= 1\n",
    "        ... # Re-solve\n",
    "        ttime += max(itime, 0.1) # Update the time limit\n",
    "        ... # Update the best solution\n",
    "```\n",
    "\n",
    "The full implementation can be found in our support module"
   ]
  },
  {
   "cell_type": "markdown",
   "metadata": {
    "slideshow": {
     "slide_type": "subslide"
    }
   },
   "source": [
    "## Evaluation\n",
    "\n",
    "**Time to test! Waiting times are sorted by code, the last is the total**"
   ]
  },
  {
   "cell_type": "code",
   "execution_count": 23,
   "metadata": {
    "scrolled": true
   },
   "outputs": [
    {
     "name": "stdout",
     "output_type": "stream",
     "text": [
      "Initial solution in 2.90 sec, {'red': 5, 'yellow': 649, 'green': 1386, 'white': 10, 'all': 2050}\n",
      "Total time: 3.67, neighborhood explored in 0.77 sec, waiting times 5,630,1364,10,2009\n",
      "Total time: 4.45, neighborhood explored in 0.78 sec, waiting times 5,625,1364,10,2004\n",
      "Total time: 5.20, neighborhood explored in 0.75 sec, waiting times 5,622,1364,10,2001\n",
      "Total time: 5.98, neighborhood explored in 0.78 sec, waiting times 5,613,1361,10,1989\n",
      "Total time: 6.63, neighborhood explored in 0.65 sec, waiting times 5,605,1359,10,1979\n",
      "Total time: 7.28, neighborhood explored in 0.66 sec, waiting times 5,590,1338,10,1943\n",
      "Total time: 8.04, neighborhood explored in 0.76 sec, waiting times 5,583,1333,10,1931\n",
      "Total time: 8.82, neighborhood explored in 0.77 sec, waiting times 5,567,1330,10,1912\n",
      "Total time: 9.60, neighborhood explored in 0.78 sec, waiting times 5,557,1330,10,1902\n",
      "Total time: 10.25, neighborhood explored in 0.65 sec, waiting times 5,549,1328,10,1892\n",
      "Total time: 11.03, neighborhood explored in 0.78 sec, waiting times 5,529,1324,10,1868\n",
      "Total time: 11.66, neighborhood explored in 0.62 sec, waiting times 5,508,1322,10,1845\n",
      "Total time: 12.14, neighborhood explored in 0.48 sec, waiting times 5,497,1315,10,1827\n",
      "Total time: 12.92, neighborhood explored in 0.78 sec, waiting times 5,487,1305,10,1807\n",
      "Total time: 13.68, neighborhood explored in 0.76 sec, waiting times 5,482,1305,10,1802\n",
      "Total time: 14.43, neighborhood explored in 0.76 sec, waiting times 5,481,1305,10,1801\n",
      "Total time: 15.18, neighborhood explored in 0.75 sec, waiting times 5,469,1287,10,1771\n",
      "Total time: 15.94, neighborhood explored in 0.76 sec, waiting times 5,454,1287,10,1756\n",
      "Total time: 16.72, neighborhood explored in 0.78 sec, waiting times 5,445,1285,10,1745\n",
      "Total time: 17.49, neighborhood explored in 0.77 sec, waiting times 5,440,1284,10,1739\n",
      "Total time: 18.28, neighborhood explored in 0.78 sec, waiting times 5,437,1284,10,1736\n",
      "Total time: 19.05, neighborhood explored in 0.77 sec, waiting times 5,419,1284,10,1718\n",
      "Total time: 19.62, neighborhood explored in 0.57 sec, waiting times 5,414,1272,10,1701\n",
      "Total time: 20.38, neighborhood explored in 0.75 sec, waiting times 5,406,1265,10,1686\n",
      "Total time: 21.04, neighborhood explored in 0.66 sec, waiting times 5,402,1261,10,1678\n",
      "Total time: 21.72, neighborhood explored in 0.68 sec, waiting times 5,397,1251,10,1663\n",
      "Total time: 22.51, neighborhood explored in 0.80 sec, waiting times 5,390,1250,10,1655\n",
      "Total time: 23.27, neighborhood explored in 0.76 sec, waiting times 5,388,1250,10,1653\n",
      "Total time: 24.05, neighborhood explored in 0.77 sec, waiting times 5,384,1250,10,1649\n",
      "Total time: 24.81, neighborhood explored in 0.76 sec, waiting times 5,380,1250,10,1645\n",
      "Total time: 25.58, neighborhood explored in 0.77 sec, waiting times 5,378,1249,10,1642\n",
      "Total time: 26.37, neighborhood explored in 0.79 sec, waiting times 5,377,1248,10,1640\n",
      "Total time: 27.15, neighborhood explored in 0.78 sec, waiting times 5,376,1248,10,1639\n",
      "Total time: 27.92, neighborhood explored in 0.77 sec, waiting times 5,375,1248,10,1638\n",
      "Total time: 28.70, neighborhood explored in 0.78 sec, waiting times 5,373,1248,10,1636\n",
      "Total time: 29.72, neighborhood explored in 0.76 sec, waiting times 5,371,1247,10,1633\n"
     ]
    }
   ],
   "source": [
    "# Configuration\n",
    "tlim = 30\n",
    "init_time, it_time, nb_size = 3, 1, 4\n",
    "codes = ['red', 'yellow', 'green', 'white']\n",
    "npatients = 100\n",
    "levels, codes_by_idx = er.build_levels(fdata.iloc[:npatients])\n",
    "\n",
    "er.scheduling_lns(levels, codes_by_idx, codes, capacities, tlim, init_time, it_time, nb_size);"
   ]
  },
  {
   "cell_type": "markdown",
   "metadata": {
    "slideshow": {
     "slide_type": "subslide"
    }
   },
   "source": [
    "## Considerations\n",
    "\n",
    "**LNS is the industrial optimizer's secret weapon**\n",
    "\n",
    "* It's flexible, robust, scalable, and not too difficult to implement\n",
    "  - Except for  scheduling problems, but you've now seen how to do it ;-)\n",
    "* It's usually possible to do better than LNS, but it's also considerably harder\n",
    "\n",
    "**Goal programming is not only about lexicographic costs**\n",
    "\n",
    "* It's about simplifying a problem via constraints\n",
    "* E.g. constraints may actually help in CP\n",
    "* Sometimes special optimization are possible:\n",
    "  - Include only some of the variables (e.g. red-codes only)\n",
    "  - Simplified problem formulation (e.g. fixed number of vehicles)\n",
    "\n",
    "**Do not underestimate warm starts**\n",
    "\n",
    "* Without our little trick at the beginning\n",
    "* ...The search for an initial solution with 100 patients would fail!"
   ]
  }
 ],
 "metadata": {
  "celltoolbar": "Slideshow",
  "kernelspec": {
   "display_name": "Python 3",
   "language": "python",
   "name": "python3"
  },
  "language_info": {
   "codemirror_mode": {
    "name": "ipython",
    "version": 3
   },
   "file_extension": ".py",
   "mimetype": "text/x-python",
   "name": "python",
   "nbconvert_exporter": "python",
   "pygments_lexer": "ipython3",
   "version": "3.6.9"
  },
  "rise": {
   "center": false,
   "transition": "fade"
  }
 },
 "nbformat": 4,
 "nbformat_minor": 4
}
