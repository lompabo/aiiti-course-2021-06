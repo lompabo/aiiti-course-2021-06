{
 "cells": [
  {
   "cell_type": "code",
   "execution_count": 1,
   "metadata": {
    "slideshow": {
     "slide_type": "skip"
    }
   },
   "outputs": [],
   "source": [
    "# ============================================================\n",
    "# Notebook setup\n",
    "# ============================================================\n",
    "\n",
    "%load_ext autoreload\n",
    "%autoreload 2\n",
    "\n",
    "# Control figure size\n",
    "interactive_figures = True\n",
    "if interactive_figures:\n",
    "    # Normal behavior\n",
    "    %matplotlib widget\n",
    "    figsize=(9, 3)\n",
    "else:\n",
    "    # PDF export behavior\n",
    "    figsize=(14, 5)\n",
    "\n",
    "from util import er\n",
    "import numpy as np\n",
    "from matplotlib import pyplot as plt\n",
    "import pandas as pd\n",
    "from tensorflow import keras\n",
    "from tensorflow.keras import layers, callbacks\n",
    "import tensorflow_probability as tfp\n",
    "from scipy import stats\n",
    "from sklearn import metrics\n",
    "\n",
    "# Configuration\n",
    "data_folder = '/app/data'\n",
    "\n",
    "# Load data\n",
    "data = er.load_data(data_folder)\n",
    "data.sort_values(by='Triage', inplace=True);\n",
    "data.reset_index(inplace=True);\n",
    "data.drop(columns='index', inplace=True);"
   ]
  },
  {
   "cell_type": "markdown",
   "metadata": {
    "slideshow": {
     "slide_type": "slide"
    }
   },
   "source": [
    "# Resource Scheduling"
   ]
  },
  {
   "cell_type": "markdown",
   "metadata": {
    "slideshow": {
     "slide_type": "subslide"
    }
   },
   "source": [
    "## Resource Scheduling\n",
    "\n",
    "**As a second problem, we will consider scheduling the ER center operations**\n",
    "\n",
    "* ER centers run with a limited resources (e.g. staff, rooms, medical equipment)\n",
    "* Choosing _when to perform the activities_ can improve the center efficiency\n",
    "\n",
    "**\"Choosing when to do something\" = scheduling**\n",
    "\n",
    "We will consider a simplified form of the ER scheduling problem\n",
    "\n",
    "* Scheduling decisions should be _revised over time_, as patients arrive\n",
    "  * ...But we will solve the problem for _one time point only_\n",
    "* Decisions are subject to _many types of constraints_\n",
    "  * ...But we will consider _a small, representative subset_\n",
    "* The activities to be performed for each patient are _not known in general_\n",
    "  * ...But we will assume _they are provided_ by some kind of predictor"
   ]
  },
  {
   "cell_type": "markdown",
   "metadata": {
    "slideshow": {
     "slide_type": "subslide"
    }
   },
   "source": [
    "## The Dataset, Again\n",
    "\n",
    "**Let's check again our dataset**"
   ]
  },
  {
   "cell_type": "code",
   "execution_count": 2,
   "metadata": {},
   "outputs": [
    {
     "data": {
      "text/html": [
       "<div>\n",
       "<style scoped>\n",
       "    .dataframe tbody tr th:only-of-type {\n",
       "        vertical-align: middle;\n",
       "    }\n",
       "\n",
       "    .dataframe tbody tr th {\n",
       "        vertical-align: top;\n",
       "    }\n",
       "\n",
       "    .dataframe thead th {\n",
       "        text-align: right;\n",
       "    }\n",
       "</style>\n",
       "<table border=\"1\" class=\"dataframe\">\n",
       "  <thead>\n",
       "    <tr style=\"text-align: right;\">\n",
       "      <th></th>\n",
       "      <th>year</th>\n",
       "      <th>ID</th>\n",
       "      <th>Triage</th>\n",
       "      <th>TkCharge</th>\n",
       "      <th>Code</th>\n",
       "      <th>Outcome</th>\n",
       "      <th>Flow</th>\n",
       "    </tr>\n",
       "  </thead>\n",
       "  <tbody>\n",
       "    <tr>\n",
       "      <th>0</th>\n",
       "      <td>2018</td>\n",
       "      <td>1</td>\n",
       "      <td>2018-01-01 00:17:33</td>\n",
       "      <td>2018-01-01 04:15:36</td>\n",
       "      <td>green</td>\n",
       "      <td>admitted</td>\n",
       "      <td>[triage,visit,RX,visit]</td>\n",
       "    </tr>\n",
       "    <tr>\n",
       "      <th>1</th>\n",
       "      <td>2018</td>\n",
       "      <td>2</td>\n",
       "      <td>2018-01-01 00:20:33</td>\n",
       "      <td>2018-01-01 03:14:19</td>\n",
       "      <td>green</td>\n",
       "      <td>admitted</td>\n",
       "      <td>[triage,visit,lab,visit]</td>\n",
       "    </tr>\n",
       "    <tr>\n",
       "      <th>2</th>\n",
       "      <td>2018</td>\n",
       "      <td>3</td>\n",
       "      <td>2018-01-01 00:47:59</td>\n",
       "      <td>2018-01-01 04:32:30</td>\n",
       "      <td>white</td>\n",
       "      <td>admitted</td>\n",
       "      <td>[triage,visit,otolaryngological visit,visit]</td>\n",
       "    </tr>\n",
       "    <tr>\n",
       "      <th>3</th>\n",
       "      <td>2018</td>\n",
       "      <td>51239</td>\n",
       "      <td>2018-01-01 00:49:51</td>\n",
       "      <td>NaT</td>\n",
       "      <td>white</td>\n",
       "      <td>abandoned</td>\n",
       "      <td>[]</td>\n",
       "    </tr>\n",
       "    <tr>\n",
       "      <th>4</th>\n",
       "      <td>2018</td>\n",
       "      <td>51241</td>\n",
       "      <td>2018-01-01 01:00:40</td>\n",
       "      <td>NaT</td>\n",
       "      <td>green</td>\n",
       "      <td>abandoned</td>\n",
       "      <td>[]</td>\n",
       "    </tr>\n",
       "  </tbody>\n",
       "</table>\n",
       "</div>"
      ],
      "text/plain": [
       "   year     ID              Triage            TkCharge   Code    Outcome  \\\n",
       "0  2018      1 2018-01-01 00:17:33 2018-01-01 04:15:36  green   admitted   \n",
       "1  2018      2 2018-01-01 00:20:33 2018-01-01 03:14:19  green   admitted   \n",
       "2  2018      3 2018-01-01 00:47:59 2018-01-01 04:32:30  white   admitted   \n",
       "3  2018  51239 2018-01-01 00:49:51                 NaT  white  abandoned   \n",
       "4  2018  51241 2018-01-01 01:00:40                 NaT  green  abandoned   \n",
       "\n",
       "                                           Flow  \n",
       "0                       [triage,visit,RX,visit]  \n",
       "1                      [triage,visit,lab,visit]  \n",
       "2  [triage,visit,otolaryngological visit,visit]  \n",
       "3                                            []  \n",
       "4                                            []  "
      ]
     },
     "execution_count": 2,
     "metadata": {},
     "output_type": "execute_result"
    }
   ],
   "source": [
    "data.head()"
   ]
  },
  {
   "cell_type": "markdown",
   "metadata": {},
   "source": [
    "* We are interested in the individual patients (so, no binning)\n",
    "\n",
    "**We cannot take into accont abandons (we do not know their activity flow)**"
   ]
  },
  {
   "cell_type": "code",
   "execution_count": 3,
   "metadata": {},
   "outputs": [],
   "source": [
    "fdata = data[~data['TkCharge'].isnull()]"
   ]
  },
  {
   "cell_type": "markdown",
   "metadata": {
    "slideshow": {
     "slide_type": "subslide"
    }
   },
   "source": [
    "## Activity Flows\n",
    "\n",
    "**Let's examine one activity flow**"
   ]
  },
  {
   "cell_type": "code",
   "execution_count": 5,
   "metadata": {},
   "outputs": [
    {
     "data": {
      "text/plain": [
       "'[triage,visit,ultrasound,lab,RX,CT scan,visit,CT scan,visit]'"
      ]
     },
     "execution_count": 5,
     "metadata": {},
     "output_type": "execute_result"
    }
   ],
   "source": [
    "fdata['Flow'].loc[6]"
   ]
  },
  {
   "cell_type": "markdown",
   "metadata": {},
   "source": [
    "* Each \"flow\" is a string, listing the (historical) sequence of activities\n",
    "* The first activity is always \"triage\", and takes place _at the arrival time_\n",
    "  - As a consequence, we do not need to schedule \"triage\" activities\n",
    "* The second and last activities are always visits\n",
    "* Activities between pairs of \"visit\" can be performed in any sequence\n",
    "  - The doctor prescribes some exams and treatments\n",
    "  - These can be be performed in any order, before another visit"
   ]
  },
  {
   "cell_type": "markdown",
   "metadata": {
    "slideshow": {
     "slide_type": "subslide"
    }
   },
   "source": [
    "## Parsing Flows\n",
    "\n",
    "**We need to convert flows into a more practical data structure**\n",
    "\n",
    "In particular, we need to make explicit the existing precedence constraints:\n",
    "\n",
    "```python\n",
    "def flow_to_levels(fstring):\n",
    "    activities = fstring[1:-1].split(',')\n",
    "    levels = [[]]\n",
    "    for a in activities:\n",
    "        if a == 'triage': pass\n",
    "        elif a == 'visit':\n",
    "            if len(levels[-1]) == 0:\n",
    "                levels[-1].append(a)\n",
    "            else:\n",
    "                levels.append([a])\n",
    "            levels.append([])\n",
    "        else:\n",
    "            levels[-1].append(a)\n",
    "    return levels[:-1]\n",
    "```"
   ]
  },
  {
   "cell_type": "markdown",
   "metadata": {
    "slideshow": {
     "slide_type": "subslide"
    }
   },
   "source": [
    "## Parsing Flows\n",
    "\n",
    "**First, we extract the activity names**\n",
    "\n",
    "```python\n",
    "def flow_to_levels(fstring):\n",
    "    activities = fstring[1:-1].split(',')\n",
    "    ...\n",
    "```\n",
    "\n",
    "**Then we loop over all the activities**\n",
    "\n",
    "```python\n",
    "def flow_to_levels(fstring):\n",
    "    ...\n",
    "    for a in activities:\n",
    "        if a == 'triage': pass\n",
    "        ....\n",
    "```\n",
    "\n",
    "* We do not process the \"triage\" activity\n",
    "* ...Since when scheduling occurs it has already been performed"
   ]
  },
  {
   "cell_type": "markdown",
   "metadata": {
    "slideshow": {
     "slide_type": "subslide"
    }
   },
   "source": [
    "## Parsing Flows\n",
    "\n",
    "**We parse each flow into a layered structure**\n",
    "\n",
    "* Each layer (or level) contains activities that can be performed in any order\n",
    "* Activities in contiguous levels are connected by precedence constraints\n",
    "\n",
    "```python\n",
    "def flow_to_levels(fstring):\n",
    "    ...\n",
    "    for a in activities:\n",
    "        ...\n",
    "        elif a == 'visit':\n",
    "            ...\n",
    "        else:\n",
    "            ...\n",
    "```\n",
    "\n",
    "* Therefore, \"visit\" activities are have their own level\n",
    "* ...And require some special treatment"
   ]
  },
  {
   "cell_type": "markdown",
   "metadata": {
    "slideshow": {
     "slide_type": "subslide"
    }
   },
   "source": [
    "## Parsing Flows\n",
    "\n",
    "**When we encounter a \"visit\" activity:**\n",
    "\n",
    "```python\n",
    "def flow_to_levels(fstring):\n",
    "    ...\n",
    "    for a in activities:\n",
    "        ...\n",
    "        elif a == 'visit':\n",
    "            if len(levels[-1]) == 0:\n",
    "                levels[-1].append(a)\n",
    "            else:\n",
    "                levels.append([a])\n",
    "            levels.append([])\n",
    "        ...\n",
    "```\n",
    "\n",
    "* If the previous level is empty, we apppend the visit\n",
    "* If the previous level is not empty, we append a new level with the visit\n",
    "* In all cases, we prepare a new empty level"
   ]
  },
  {
   "cell_type": "markdown",
   "metadata": {
    "slideshow": {
     "slide_type": "subslide"
    }
   },
   "source": [
    "## Parsing Flows\n",
    "\n",
    "**When we encounter any other activity we store it in the last level**\n",
    "\n",
    "```python\n",
    "def flow_to_levels(fstring):\n",
    "    ...\n",
    "    for a in activities:\n",
    "        ...\n",
    "        else:\n",
    "            levels[-1].append(a)\n",
    "```\n",
    "\n",
    "**Add the end of the process we return all layers except the last**\n",
    "\n",
    "```python\n",
    "def flow_to_levels(fstring):\n",
    "    ...\n",
    "    return levels[:-1]\n",
    "```\n",
    "\n",
    "* The last level is always empty by construction"
   ]
  },
  {
   "cell_type": "markdown",
   "metadata": {
    "slideshow": {
     "slide_type": "subslide"
    }
   },
   "source": [
    "## Parsing Flows\n",
    "\n",
    "**Let's parse a handful of flows and see the results**"
   ]
  },
  {
   "cell_type": "code",
   "execution_count": 8,
   "metadata": {},
   "outputs": [
    {
     "data": {
      "text/plain": [
       "[['visit'],\n",
       " ['ultrasound', 'lab', 'RX', 'CT scan'],\n",
       " ['visit'],\n",
       " ['CT scan'],\n",
       " ['visit']]"
      ]
     },
     "execution_count": 8,
     "metadata": {},
     "output_type": "execute_result"
    }
   ],
   "source": [
    "npatients = 4\n",
    "levels, codes_by_idx = {}, {}\n",
    "for idx in fdata.index[:npatients]:\n",
    "    levels[idx] = er.flow_to_levels(fdata.loc[idx]['Flow'])\n",
    "    codes_by_idx[idx] = fdata.loc[idx]['Code']\n",
    "\n",
    "levels[6]"
   ]
  },
  {
   "cell_type": "markdown",
   "metadata": {},
   "source": [
    "* Patients are identified by their index in the original `DataFrame`\n",
    "* We also store the code for each patient"
   ]
  },
  {
   "cell_type": "markdown",
   "metadata": {
    "slideshow": {
     "slide_type": "subslide"
    }
   },
   "source": [
    "## Scheduling via CP/SAT\n",
    "\n",
    "**The current state-of-the-art for scheduling is Constraint Programming**\n",
    "\n",
    "...Or to be more precise a hybrid of CP and SMT called [Lazy Clause Generation](https://people.eng.unimelb.edu.au/pstuckey/COMP90046/resources/lazyj.pdf)\n",
    "\n",
    "* LCG relies on a SAT engine for DPLL search and conflict extraction\n",
    "* Some constraints are encoded directly into SAT formulas\n",
    "* Other constraints have an attached propagator, CP-style\n",
    "* The propagator can however also _explain failures_\n",
    "  - I.e. provide a logical implication in case of failure\n",
    "* Such explanations are used to build the implication graph\n",
    "\n",
    "Overall, we have the versatility of CP, but much more reliable performance"
   ]
  },
  {
   "cell_type": "markdown",
   "metadata": {
    "slideshow": {
     "slide_type": "subslide"
    }
   },
   "source": [
    "## Determining the Horizon\n",
    "\n",
    "**CP solvers (almost) always work with _finite domain variables_**\n",
    "\n",
    "Before building any variable we need to determine a _horizon_ for our schedule\n",
    "\n",
    "* The horizon must be larger than any possible schedule\n",
    "* A frequent choice: summing all activity durations\n",
    "\n",
    "**Indvidual durations can be obtained using this function**\n",
    "\n",
    "```python\n",
    "def get_dur(ttype):\n",
    "    durs = {'visit': 1, 'ultrasound': 2, 'RX': 2}\n",
    "    return durs[ttype] if ttype in durs else 4\n",
    "```\n",
    "\n",
    "* Our time unit will be 15 minutes\n",
    "* We assume that a visit takes 1 unit\n",
    "* A simple RX or ultrasound exam takes 2 units\n",
    "* All other activities take 4"
   ]
  },
  {
   "cell_type": "markdown",
   "metadata": {
    "slideshow": {
     "slide_type": "subslide"
    }
   },
   "source": [
    "## Determining the Horizon\n",
    "\n",
    "**The duration for a single patient can be obtained with:**\n",
    "\n",
    "```python\n",
    "def get_level_dur(levels):\n",
    "    res = 0\n",
    "    for lvl in levels: res += sum(get_dur(a) for a in lvl)\n",
    "    return res\n",
    "```\n",
    "\n",
    "**..And finally all durations with:**\n",
    "\n",
    "```python\n",
    "def get_horizon(levels):\n",
    "    eoh = sum(get_level_dur(l) for l in levels.values())\n",
    "    return eoh\n",
    "```"
   ]
  },
  {
   "cell_type": "code",
   "execution_count": 8,
   "metadata": {},
   "outputs": [
    {
     "data": {
      "text/plain": [
       "35"
      ]
     },
     "execution_count": 8,
     "metadata": {},
     "output_type": "execute_result"
    }
   ],
   "source": [
    "eoh = er.get_horizon(levels)\n",
    "eoh"
   ]
  },
  {
   "cell_type": "markdown",
   "metadata": {
    "slideshow": {
     "slide_type": "subslide"
    }
   },
   "source": [
    "## Model and Variables\n",
    "\n",
    "**We are going to use the [Google ortools](https://developers.google.com/optimization) CP/SAT solver**\n",
    "\n",
    "* It's currently the best performing CP solver with a permissive license\n",
    "* It provides a (reasonably) convenient Python interface\n",
    "* The same suite offers also an LP solver (Glop) and wrappers for MIP solvers\n",
    "\n",
    "**As in many of these tools, the first step is building a model object**"
   ]
  },
  {
   "cell_type": "code",
   "execution_count": 9,
   "metadata": {},
   "outputs": [],
   "source": [
    "from ortools.sat.python import cp_model\n",
    "mdl = cp_model.CpModel()"
   ]
  },
  {
   "cell_type": "markdown",
   "metadata": {},
   "source": [
    "**Then, our first priority is _choosing the main decision variables_**\n",
    "\n",
    "* We will introduce a _start_ and _end_ variable for each activity\n",
    "* ...So that we can decide their location on the time axis"
   ]
  },
  {
   "cell_type": "markdown",
   "metadata": {
    "slideshow": {
     "slide_type": "subslide"
    }
   },
   "source": [
    "## Model and Variables\n",
    "\n",
    "**We build all the variables for a single patient using:**\n",
    "\n",
    "```python\n",
    "import collections\n",
    "Task = collections.namedtuple('task', 'start end interval ttype')\n",
    "\n",
    "def levels_to_vars(mdl, levels, idx, tasks, last, rl, dl):\n",
    "    for k, lvl in enumerate(levels):\n",
    "        for i, a in enumerate(lvl):\n",
    "            dur = get_dur(a)\n",
    "            start = mdl.NewIntVar(rl, dl, f's_{idx}_{k}_{i}')\n",
    "            end = mdl.NewIntVar(rl, dl, f'e_{idx}_{k}_{i}')\n",
    "            interval = mdl.NewIntervalVar(start, dur, end, f'i_{idx}_{k}_{i}')\n",
    "            tasks[(idx,k,i)] = Task(start, end, interval, a)\n",
    "    last[idx] = Task(start, end, interval, a)\n",
    "```"
   ]
  },
  {
   "cell_type": "markdown",
   "metadata": {
    "slideshow": {
     "slide_type": "subslide"
    }
   },
   "source": [
    "## Model and Variables\n",
    "\n",
    "**For each activity, we:**\n",
    "\n",
    "```python\n",
    "...\n",
    "def levels_to_vars(mdl, levels, idx, tasks, last, rl, dl):\n",
    "    for k, lvl in enumerate(levels):\n",
    "        for i, a in enumerate(lvl):\n",
    "            dur = get_dur(a)\n",
    "            start = mdl.NewIntVar(rl, dl, f's_{idx}_{k}_{i}')\n",
    "            end = mdl.NewIntVar(rl, dl, f'e_{idx}_{k}_{i}')\n",
    "            ...\n",
    "    ...\n",
    "```\n",
    "\n",
    "* Extract the duration with `get_dur`\n",
    "* Build a two integer variables, respectively for the start and end\n",
    "* Both domains range from a _release date_ (i.e. `rl`) and a _deadline_ (i.e. `dl`)"
   ]
  },
  {
   "cell_type": "markdown",
   "metadata": {
    "slideshow": {
     "slide_type": "subslide"
    }
   },
   "source": [
    "## Model and Variables\n",
    "\n",
    "**Additionally, we make use of _interval variables_**\n",
    "\n",
    "```python\n",
    "...\n",
    "def levels_to_vars(mdl, levels, idx, tasks, last, rl, dl):\n",
    "    for k, lvl in enumerate(levels):\n",
    "        for i, a in enumerate(lvl):\n",
    "            ...\n",
    "            interval = mdl.NewIntervalVar(start, dur, end, f'i_{idx}_{k}_{i}')\n",
    "    ...\n",
    "```\n",
    "\n",
    "An interval variable represents an _uninterrupted time span_\n",
    "\n",
    "* It has a start, and end, and a duration\n",
    "* All can be either existing decision variables, or fixed values\n",
    "* In our case: start and end need to be decided, but the duration is fixed\n"
   ]
  },
  {
   "cell_type": "markdown",
   "metadata": {
    "slideshow": {
     "slide_type": "subslide"
    }
   },
   "source": [
    "## Model and Variables\n",
    "\n",
    "**We store the variables in dictionaries**\n",
    "\n",
    "...And use named tuples for convenience\n",
    "\n",
    "```python\n",
    "import collections\n",
    "Task = collections.namedtuple('task', 'start end interval ttype')\n",
    "\n",
    "def levels_to_vars(mdl, levels, idx, tasks, last, rl, dl):\n",
    "    for k, lvl in enumerate(levels):\n",
    "        for i, a in enumerate(lvl):\n",
    "            ...\n",
    "            tasks[(idx,k,i)] = Task(start, end, interval, a)\n",
    "    last[idx] = Task(start, end, interval, a)\n",
    "```\n",
    "\n",
    "* The `tasks` dictionary is filled with all tasks\n",
    "* The `last` dictionary contains the last task for each patient\n"
   ]
  },
  {
   "cell_type": "markdown",
   "metadata": {
    "slideshow": {
     "slide_type": "subslide"
    }
   },
   "source": [
    "## Model and Variables\n",
    "\n",
    "**We build all problem variables with:**\n",
    "\n",
    "```python\n",
    "def add_all_vars(mdl, levels, rl, dl):\n",
    "    tasks, last = {}, {}\n",
    "    for idx, lvl in levels.items():\n",
    "        levels_to_vars(mdl, lvl, idx, tasks, last, rl[idx], dl=dl[idx])\n",
    "    return tasks, last\n",
    "```\n",
    "\n",
    "**Let's build all variables (assuming a 0 release date)**"
   ]
  },
  {
   "cell_type": "code",
   "execution_count": 10,
   "metadata": {},
   "outputs": [
    {
     "data": {
      "text/plain": [
       "{0: task(start=s_0_2_0(0..35), end=e_0_2_0(0..35), interval=i_0_2_0(start = s_0_2_0, size = 1, end = e_0_2_0), ttype='visit'),\n",
       " 1: task(start=s_1_2_0(0..35), end=e_1_2_0(0..35), interval=i_1_2_0(start = s_1_2_0, size = 1, end = e_1_2_0), ttype='visit'),\n",
       " 2: task(start=s_2_2_0(0..35), end=e_2_2_0(0..35), interval=i_2_2_0(start = s_2_2_0, size = 1, end = e_2_2_0), ttype='visit'),\n",
       " 6: task(start=s_6_4_0(0..35), end=e_6_4_0(0..35), interval=i_6_4_0(start = s_6_4_0, size = 1, end = e_6_4_0), ttype='visit')}"
      ]
     },
     "execution_count": 10,
     "metadata": {},
     "output_type": "execute_result"
    }
   ],
   "source": [
    "rl, dl = {idx:0 for idx in levels}, {idx:eoh for idx in levels}\n",
    "tasks, last = er.add_all_vars(mdl, levels, rl, dl)\n",
    "last"
   ]
  },
  {
   "cell_type": "markdown",
   "metadata": {
    "slideshow": {
     "slide_type": "subslide"
    }
   },
   "source": [
    "## A First Solution Attempt\n",
    "\n",
    "**Debugging declarative models can be difficult**\n",
    "\n",
    "* So, it's a good idea to start making some tests as soon as possible\n",
    "* For this reason, we will immediately try to solve our simple model\n",
    "\n",
    "For this, we need to call:\n",
    "\n",
    "```python\n",
    "slv = cp_model.CpSolver()\n",
    "status = slv.Solve(mdl)\n",
    "```\n",
    "\n",
    "* I.e. we build a `CpSolver` object\n",
    "* ...Then we invoke the `Solve` method\n",
    "* ...And then check the resulting status and solution\n",
    "\n",
    "Of course, at this stage the solution will not be very meaningful"
   ]
  },
  {
   "cell_type": "markdown",
   "metadata": {
    "slideshow": {
     "slide_type": "subslide"
    }
   },
   "source": [
    "## A First Solution Attempt\n",
    "\n",
    "**Let's see our first full program and the solution**\n",
    "\n",
    "Since we are still debugging, we will consider only the first two patients"
   ]
  },
  {
   "cell_type": "code",
   "execution_count": 13,
   "metadata": {},
   "outputs": [
    {
     "name": "stdout",
     "output_type": "stream",
     "text": [
      "Solver status: optimal, time(CPU sec): 0.00, objective: 0.0\n",
      "\n",
      "0(green): visit(0-1), RX(0-2), visit(0-1)\n",
      "1(green): visit(0-1), lab(0-4), visit(0-1)\n"
     ]
    }
   ],
   "source": [
    "mdl = cp_model.CpModel()\n",
    "\n",
    "levels, codes_by_idx = er.build_levels(fdata.iloc[:2])\n",
    "eoh = er.get_horizon(levels)\n",
    "rl, dl = {idx:0 for idx in levels}, {idx:eoh for idx in levels}\n",
    "tasks, last = er.add_all_vars(mdl, levels, rl, dl)\n",
    "\n",
    "slv = cp_model.CpSolver()\n",
    "status = slv.Solve(mdl)\n",
    "er.print_outcome(slv, levels, tasks, codes_by_idx, status)"
   ]
  },
  {
   "cell_type": "markdown",
   "metadata": {},
   "source": [
    "* The format is `name(start-end)`\n",
    "* The current decisions make no sense, since we are missing all constraints"
   ]
  },
  {
   "cell_type": "markdown",
   "metadata": {
    "slideshow": {
     "slide_type": "subslide"
    }
   },
   "source": [
    "## Precedence Constraints\n",
    "\n",
    "**Once the variables are fine, it's time to _deal with the constraints_**\n",
    "\n",
    "We will start from the precedence constraints:\n",
    "\n",
    "```python\n",
    "def add_precedences(mdl, levels, idx, tasks):\n",
    "    for k, lvl in enumerate(levels[:-1]): # patients\n",
    "        for i, _ in enumerate(lvl): # levels for a patient\n",
    "            for j, _ in enumerate(levels[k+1]): # activities in a level\n",
    "                mdl.Add(tasks[idx,k,i].end <= tasks[idx,k+1,j].start)\n",
    "```\n",
    "\n",
    "* Each constraint is a simple inequality, i.e.: ${\\rm end}_{idx,k,i} \\leq {\\rm start}_{idx,k,i}$\n",
    "\n",
    "**We add all constraints with:**\n",
    "\n",
    "```python\n",
    "def add_all_precedences(mdl, levels, tasks):\n",
    "    for idx, lvl in levels.items():\n",
    "        add_precedences(mdl, lvl, idx, tasks)\n",
    "```"
   ]
  },
  {
   "cell_type": "markdown",
   "metadata": {
    "slideshow": {
     "slide_type": "subslide"
    }
   },
   "source": [
    "## Testing the Precedence Constraints\n",
    "\n",
    "**Let's test the effect of adding precedence constraints**"
   ]
  },
  {
   "cell_type": "code",
   "execution_count": 14,
   "metadata": {},
   "outputs": [
    {
     "name": "stdout",
     "output_type": "stream",
     "text": [
      "Solver status: optimal, time(CPU sec): 0.00, objective: 0.0\n",
      "\n",
      "0(green): visit(0-1), RX(1-3), visit(9-10)\n",
      "1(green): visit(0-1), lab(1-5), visit(9-10)\n"
     ]
    }
   ],
   "source": [
    "mdl = cp_model.CpModel()\n",
    "\n",
    "levels, codes_by_idx = er.build_levels(fdata.iloc[:2])\n",
    "eoh = er.get_horizon(levels)\n",
    "rl, dl = {idx:0 for idx in levels}, {idx:eoh for idx in levels}\n",
    "tasks, last = er.add_all_vars(mdl, levels, rl, dl)\n",
    "er.add_all_precedences(mdl, levels, tasks)\n",
    "\n",
    "slv = cp_model.CpSolver()\n",
    "status = slv.Solve(mdl)\n",
    "er.print_outcome(slv, levels, tasks, codes_by_idx, status)"
   ]
  },
  {
   "cell_type": "markdown",
   "metadata": {
    "slideshow": {
     "slide_type": "fragment"
    }
   },
   "source": [
    "* Precedence relations are respected, bu the start times are unnecessarily large\n",
    "* ...That's because we haven't told the model that early scheduling is a good idea"
   ]
  },
  {
   "cell_type": "markdown",
   "metadata": {
    "slideshow": {
     "slide_type": "subslide"
    }
   },
   "source": [
    "## Cost Function\n",
    "\n",
    "**For now, we will use the schedule _makespan_ as a cost function**\n",
    "\n",
    "The makespan is simply _the end time of the last task_ in the schedule\n",
    "\n",
    "```python\n",
    "def add_makespan_variables(mdl, levels, codes_by_idx, last, eoh):\n",
    "    codes = ['red', 'yellow', 'green', 'white']\n",
    "    last_by_code = {c: [] for c in codes}\n",
    "    for idx in levels.keys():\n",
    "        last_by_code[codes_by_idx[idx]].append(last[idx])\n",
    "\n",
    "    obj_by_code = {}   \n",
    "    for code in codes:\n",
    "        obj_by_code[code] = mdl.NewIntVar(0, eoh, f'{code}_mk')\n",
    "        if len(last_by_code[code]) > 0:\n",
    "            mdl.AddMaxEquality(obj_by_code[code], [t.end for t in last_by_code[code]])\n",
    "    obj_by_code['all'] = mdl.NewIntVar(0, eoh, f'global_mk')\n",
    "    mdl.AddMaxEquality(obj_by_code['all'], [obj_by_code[c] for c in codes])\n",
    "    return obj_by_code\n",
    "```"
   ]
  },
  {
   "cell_type": "markdown",
   "metadata": {
    "slideshow": {
     "slide_type": "subslide"
    }
   },
   "source": [
    "## Cost Function\n",
    "\n",
    "**First, we group by code the end variables of all tasks**\n",
    "\n",
    "```python\n",
    "def add_makespan_variables(mdl, levels, codes_by_idx, last, eoh):\n",
    "    codes = ['red', 'yellow', 'green', 'white']\n",
    "    last_by_code = {c: [] for c in codes}\n",
    "    for idx in levels.keys():\n",
    "        last_by_code[codes_by_idx[idx]].append(last[idx])\n",
    "    ...\n",
    "```\n",
    "\n",
    "**Then, we introduce makespan variables for each group, and a global one**\n",
    "\n",
    "```python\n",
    "def add_makespan_variables(mdl, levels, codes_by_idx, last, eoh):\n",
    "    ...\n",
    "    obj_by_code = {}   \n",
    "    for code in codes:\n",
    "        obj_by_code[code] = mdl.NewIntVar(0, eoh, f'{code}_mk')\n",
    "        ...\n",
    "    obj_by_code['all'] = mdl.NewIntVar(0, eoh, f'global_mk')\n",
    "    ...\n",
    "```"
   ]
  },
  {
   "cell_type": "markdown",
   "metadata": {
    "slideshow": {
     "slide_type": "subslide"
    }
   },
   "source": [
    "## Cost Function\n",
    "\n",
    "**Finally, we constrain the makespan variables**\n",
    "\n",
    "```python\n",
    "def add_makespan_variables(mdl, levels, codes_by_idx, last, eoh):\n",
    "    ...\n",
    "    for code in codes:\n",
    "        ...\n",
    "        if len(last_by_code[code]) > 0:\n",
    "            mdl.AddMaxEquality(obj_by_code[code], [t.end for t in last_by_code[code]])\n",
    "    ...\n",
    "    mdl.AddMaxEquality(obj_by_code['all'], [obj_by_code[c] for c in codes])\n",
    "```"
   ]
  },
  {
   "cell_type": "markdown",
   "metadata": {},
   "source": [
    "* The group makespans are simply maxima of end variables\n",
    "* Due to precedence contraints, only the last tasks can determine the makespan\n",
    "  - This trick reduces a bit the size of the constraints itself\n",
    "* The global makespa is the largest of the group makespans"
   ]
  },
  {
   "cell_type": "markdown",
   "metadata": {
    "slideshow": {
     "slide_type": "subslide"
    }
   },
   "source": [
    "## Testing the Cost Function\n",
    "\n",
    "**Time to test the cost function**"
   ]
  },
  {
   "cell_type": "code",
   "execution_count": 15,
   "metadata": {},
   "outputs": [
    {
     "name": "stdout",
     "output_type": "stream",
     "text": [
      "Solver status: optimal, time(CPU sec): 0.00, objective: 6.0\n",
      "\n",
      "0(green): visit(0-1), RX(1-3), visit(3-4)\n",
      "1(green): visit(0-1), lab(1-5), visit(5-6)\n"
     ]
    }
   ],
   "source": [
    "mdl = cp_model.CpModel()\n",
    "\n",
    "levels, codes_by_idx = er.build_levels(fdata.iloc[:2])\n",
    "eoh = er.get_horizon(levels)\n",
    "rl, dl = {idx:0 for idx in levels}, {idx:eoh for idx in levels}\n",
    "tasks, last = er.add_all_vars(mdl, levels, rl, dl)\n",
    "er.add_all_precedences(mdl, levels, tasks)\n",
    "mkspans = er.add_makespan_variables(mdl, levels, codes_by_idx, last, eoh)\n",
    "mdl.Minimize(mkspans['all'])\n",
    "\n",
    "slv = cp_model.CpSolver()\n",
    "status = slv.Solve(mdl)\n",
    "er.print_outcome(slv, levels, tasks, codes_by_idx, status)"
   ]
  },
  {
   "cell_type": "markdown",
   "metadata": {},
   "source": [
    "* Much better! However, some visits occurs at the same time\n",
    "* This is not a problem, as long as _the overall room capacity is not exceeded_"
   ]
  },
  {
   "cell_type": "markdown",
   "metadata": {
    "slideshow": {
     "slide_type": "subslide"
    }
   },
   "source": [
    "## Capacity Constraints\n",
    "\n",
    "**Capacity restrictions over time can be handled via two constraints**\n",
    "\n",
    "The _no-overlap constraint_ enforces a unary capacity\n",
    "\n",
    "* Tasks subject to the constraint cannot overlap in time\n",
    "\n",
    "The _cumulative constraint_ enforces a non-unary capacity\n",
    "\n",
    "* Each task is assumed to have a finite _demand_ for some resource capacity\n",
    "* Overlaps are possible, as long as capacity is not exceeded\n",
    "\n",
    "**We will asumme that a few resources have limited capacity**\n",
    "\n",
    "* No more than: 3 visits, 2 ultrasounds, 2 RX at a time"
   ]
  },
  {
   "cell_type": "code",
   "execution_count": 16,
   "metadata": {},
   "outputs": [],
   "source": [
    "capacities = {'visit': 3, 'ultrasound': 2, 'RX': 2}"
   ]
  },
  {
   "cell_type": "markdown",
   "metadata": {},
   "source": [
    "* When debugging we will need to lower the capacities to observe changes"
   ]
  },
  {
   "cell_type": "markdown",
   "metadata": {
    "slideshow": {
     "slide_type": "subslide"
    }
   },
   "source": [
    "## Capacity Constraints\n",
    "\n",
    "**We build the cumulative constraints using:**\n",
    "\n",
    "```python\n",
    "def add_cumulatives(mdl, tasks, capacities):\n",
    "    res_intervals = {r: [] for r in capacities.keys()}\n",
    "    for task in tasks.values():\n",
    "        if task.ttype in capacities.keys():\n",
    "            res_intervals[task.ttype].append(task.interval)\n",
    "\n",
    "    for rtype, cap in capacities.items():\n",
    "        intervals = res_intervals[rtype]\n",
    "        mdl.AddCumulative(intervals, [1]*len(intervals), cap)\n",
    "```\n",
    "\n",
    "* First we collect all tasks that use of one the limited capacity resources\n",
    "  - In particular, we retrieve their _interval_ variables\n",
    "* Then, we post a cumulative constraint for each resource\n",
    "  - The `[1]*len(intervals)` list corresponds to the task demands"
   ]
  },
  {
   "cell_type": "markdown",
   "metadata": {
    "slideshow": {
     "slide_type": "subslide"
    }
   },
   "source": [
    "## Testing the Resource Constraints\n",
    "\n",
    "**Let's test the resource constraints (lowering the visit capacity to 1)**"
   ]
  },
  {
   "cell_type": "code",
   "execution_count": 17,
   "metadata": {},
   "outputs": [
    {
     "name": "stdout",
     "output_type": "stream",
     "text": [
      "Solver status: optimal, time(CPU sec): 0.00, objective: 6.0\n",
      "\n",
      "1(green): visit(0-1), lab(1-5), visit(5-6)\n",
      "0(green): visit(1-2), RX(2-4), visit(4-5)\n"
     ]
    }
   ],
   "source": [
    "mdl = cp_model.CpModel()\n",
    "\n",
    "levels, codes_by_idx = er.build_levels(fdata.iloc[:2])\n",
    "eoh = er.get_horizon(levels)\n",
    "rl, dl = {idx:0 for idx in levels}, {idx:eoh for idx in levels}\n",
    "tasks, last = er.add_all_vars(mdl, levels, rl, dl)\n",
    "er.add_all_precedences(mdl, levels, tasks)\n",
    "er.add_cumulatives(mdl, tasks, {'visit': 1, 'ultrasound': 2, 'RX': 2})\n",
    "mkspans = er.add_makespan_variables(mdl, levels, codes_by_idx, last, eoh)\n",
    "mdl.Minimize(mkspans['all'])\n",
    "\n",
    "slv = cp_model.CpSolver()\n",
    "status = slv.Solve(mdl)\n",
    "er.print_outcome(slv, levels, tasks, codes_by_idx, status)"
   ]
  },
  {
   "cell_type": "markdown",
   "metadata": {
    "slideshow": {
     "slide_type": "fragment"
    }
   },
   "source": [
    "* Everything seems fine on this small example\n",
    "* ...But we are still missing an obvious constraint"
   ]
  },
  {
   "cell_type": "markdown",
   "metadata": {
    "slideshow": {
     "slide_type": "subslide"
    }
   },
   "source": [
    "## Testing the Resource Constraints\n",
    "\n",
    "**Let's include a different set of patients**"
   ]
  },
  {
   "cell_type": "code",
   "execution_count": 18,
   "metadata": {},
   "outputs": [
    {
     "name": "stdout",
     "output_type": "stream",
     "text": [
      "Solver status: optimal, time(CPU sec): 0.00, objective: 11.0\n",
      "\n",
      "6(green): visit(0-1), ultrasound(1-3), lab(1-5), RX(1-3), CT scan(1-5), visit(5-6), CT scan(6-10), visit(10-11)\n",
      "2(white): visit(1-2), otolaryngological visit(2-6), visit(6-7)\n"
     ]
    }
   ],
   "source": [
    "mdl = cp_model.CpModel()\n",
    "levels, codes_by_idx = er.build_levels(fdata.iloc[2:4])\n",
    "eoh = er.get_horizon(levels)\n",
    "rl, dl = {idx:0 for idx in levels}, {idx:eoh for idx in levels}\n",
    "tasks, last = er.add_all_vars(mdl, levels, rl, dl)\n",
    "er.add_all_precedences(mdl, levels, tasks)\n",
    "er.add_cumulatives(mdl, tasks, {'visit': 1, 'ultrasound': 2, 'RX': 2})\n",
    "mkspans = er.add_makespan_variables(mdl, levels, codes_by_idx, last, eoh)\n",
    "mdl.Minimize(mkspans['all'])\n",
    "slv = cp_model.CpSolver()\n",
    "status = slv.Solve(mdl)\n",
    "er.print_outcome(slv, levels, tasks, codes_by_idx, status)"
   ]
  },
  {
   "cell_type": "markdown",
   "metadata": {
    "slideshow": {
     "slide_type": "fragment"
    }
   },
   "source": [
    "* A sigle patient cannot undergo multiple treatments at the same time"
   ]
  },
  {
   "cell_type": "markdown",
   "metadata": {
    "slideshow": {
     "slide_type": "subslide"
    }
   },
   "source": [
    "## No-Overlap Constraints\n",
    "\n",
    "**We can view each patient as a _unary resource_ (i.e. with unary capacity)**\n",
    "\n",
    "We can therefore handle the restriction via a no-overlap constraint:\n",
    "\n",
    "```python\n",
    "def add_no_overlap(mdl, levels, idx, tasks):\n",
    "    intervals = []\n",
    "    for k, lvl in enumerate(levels):\n",
    "        for i, _ in enumerate(lvl):\n",
    "            intervals.append(tasks[idx, k, i].interval)\n",
    "    mdl.AddNoOverlap(intervals)\n",
    "```\n",
    "\n",
    "* The no-overlap constraint works with interval variables\n",
    "\n",
    "**To post all the constraints we use:**\n",
    "\n",
    "```python\n",
    "def add_all_no_overlap(mdl, levels, tasks):\n",
    "    for idx, lvl in levels.items():\n",
    "        add_no_overlap(mdl, lvl, idx, tasks)\n",
    "```"
   ]
  },
  {
   "cell_type": "markdown",
   "metadata": {
    "slideshow": {
     "slide_type": "subslide"
    }
   },
   "source": [
    "## Testing the No-Overlap Constraints\n",
    "\n",
    "**We can now test the new constraints**"
   ]
  },
  {
   "cell_type": "code",
   "execution_count": 19,
   "metadata": {},
   "outputs": [
    {
     "name": "stdout",
     "output_type": "stream",
     "text": [
      "Solver status: optimal, time(CPU sec): 0.00, objective: 19.0\n",
      "\n",
      "6(green): visit(0-1), ultrasound(1-3), RX(3-5), lab(5-9), CT scan(9-13), visit(13-14), CT scan(14-18), visit(18-19)\n",
      "2(white): visit(1-2), otolaryngological visit(2-6), visit(6-7)\n"
     ]
    }
   ],
   "source": [
    "mdl = cp_model.CpModel()\n",
    "levels, codes_by_idx = er.build_levels(fdata.iloc[2:4])\n",
    "eoh = er.get_horizon(levels)\n",
    "rl, dl = {idx:0 for idx in levels}, {idx:eoh for idx in levels}\n",
    "tasks, last = er.add_all_vars(mdl, levels, rl, dl)\n",
    "er.add_all_precedences(mdl, levels, tasks)\n",
    "er.add_cumulatives(mdl, tasks, {'visit': 1, 'ultrasound': 2, 'RX': 2})\n",
    "er.add_all_no_overlap(mdl, levels, tasks)\n",
    "mkspans = er.add_makespan_variables(mdl, levels, codes_by_idx, last, eoh)\n",
    "mdl.Minimize(mkspans['all'])\n",
    "slv = cp_model.CpSolver()\n",
    "status = slv.Solve(mdl)\n",
    "er.print_outcome(slv, levels, tasks, codes_by_idx, status)"
   ]
  },
  {
   "cell_type": "markdown",
   "metadata": {
    "slideshow": {
     "slide_type": "subslide"
    }
   },
   "source": [
    "## Scaling Up\n",
    "\n",
    "**Let's scale up the problem and see how far we can go**\n",
    "\n",
    "First, we wrap the code for solving the problem in a function"
   ]
  },
  {
   "cell_type": "code",
   "execution_count": 21,
   "metadata": {},
   "outputs": [],
   "source": [
    "def solve_basic_problem(npatients, verbose=0):\n",
    "    mdl = cp_model.CpModel()\n",
    "    levels, codes_by_idx = er.build_levels(fdata.iloc[:npatients])\n",
    "    eoh = er.get_horizon(levels)\n",
    "    rl, dl = {idx:0 for idx in levels}, {idx:eoh for idx in levels}\n",
    "    tasks, last = er.add_all_vars(mdl, levels, rl, dl)\n",
    "    er.add_all_precedences(mdl, levels, tasks)\n",
    "    er.add_cumulatives(mdl, tasks, {'visit': 3, 'ultrasound': 2, 'RX': 2})\n",
    "    er.add_all_no_overlap(mdl, levels, tasks)\n",
    "    mkspans = er.add_makespan_variables(mdl, levels, codes_by_idx, last, eoh)\n",
    "    mdl.Minimize(mkspans['all'])\n",
    "    slv = cp_model.CpSolver()\n",
    "    slv.parameters.max_time_in_seconds = 10\n",
    "    status = slv.Solve(mdl)\n",
    "    return status, slv.UserTime()"
   ]
  },
  {
   "cell_type": "markdown",
   "metadata": {
    "slideshow": {
     "slide_type": "subslide"
    }
   },
   "source": [
    "## Scaling Up\n",
    "\n",
    "**Then we can run a simple scalability evaluation**"
   ]
  },
  {
   "cell_type": "code",
   "execution_count": 23,
   "metadata": {},
   "outputs": [
    {
     "data": {
      "image/png": "[encoded data removed]",
      "text/plain": [
       "<Figure size 1008x360 with 1 Axes>"
      ]
     },
     "metadata": {
      "needs_background": "light"
     },
     "output_type": "display_data"
    }
   ],
   "source": [
    "tlist, plist = [], range(10, 34, 2)\n",
    "for npt in plist:\n",
    "    s, t = solve_basic_problem(npt)\n",
    "    tlist.append(t)\n",
    "er.plot_scalability_evalulation(plist, np.log10(tlist), figsize=figsize)"
   ]
  },
  {
   "cell_type": "markdown",
   "metadata": {
    "slideshow": {
     "slide_type": "subslide"
    }
   },
   "source": [
    "## Considerations\n",
    "\n",
    "**The world is not made of pure ML problems**\n",
    "\n",
    "* For heavily constrained problems with a well understood structure\n",
    "* ...Combinatorial optimization approaches can be a much better choice\n",
    "\n",
    "**About the scary \"intractable\" thing**\n",
    "\n",
    "* Yes, many practical combinatorial optimization problems are NP-hard, but\n",
    "* ...All that matters is if you can solve _your problem size_\n",
    "* ...High quality solutions can be obtained _way before_ optimality is proven\n",
    "\n",
    "**This is not only about Emergency Rooms**\n",
    "\n",
    "* Most production scheduling problems have more or less the same structure\n",
    "* They are ubiquitous (in manufacturing) and often solved with poor approaches"
   ]
  }
 ],
 "metadata": {
  "celltoolbar": "Slideshow",
  "kernelspec": {
   "display_name": "Python 3",
   "language": "python",
   "name": "python3"
  },
  "language_info": {
   "codemirror_mode": {
    "name": "ipython",
    "version": 3
   },
   "file_extension": ".py",
   "mimetype": "text/x-python",
   "name": "python",
   "nbconvert_exporter": "python",
   "pygments_lexer": "ipython3",
   "version": "3.6.9"
  },
  "rise": {
   "center": false,
   "transition": "fade"
  }
 },
 "nbformat": 4,
 "nbformat_minor": 4
}
