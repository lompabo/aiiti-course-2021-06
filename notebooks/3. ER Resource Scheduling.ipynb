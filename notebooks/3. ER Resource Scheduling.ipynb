{
 "cells": [
  {
   "cell_type": "code",
   "execution_count": 1,
   "metadata": {
    "slideshow": {
     "slide_type": "skip"
    }
   },
   "outputs": [],
   "source": [
    "# ============================================================\n",
    "# Notebook setup\n",
    "# ============================================================\n",
    "\n",
    "%load_ext autoreload\n",
    "%autoreload 2\n",
    "\n",
    "# Control figure size\n",
    "interactive_figures = True\n",
    "if interactive_figures:\n",
    "    # Normal behavior\n",
    "    %matplotlib widget\n",
    "    figsize=(9, 3)\n",
    "else:\n",
    "    # PDF export behavior\n",
    "    figsize=(14, 5)\n",
    "\n",
    "from util import er\n",
    "import numpy as np\n",
    "from matplotlib import pyplot as plt\n",
    "import pandas as pd\n",
    "from tensorflow import keras\n",
    "from tensorflow.keras import layers, callbacks\n",
    "import tensorflow_probability as tfp\n",
    "from scipy import stats\n",
    "from sklearn import metrics\n",
    "\n",
    "# Configuration\n",
    "data_folder = '/app/data'\n",
    "\n",
    "# Load data\n",
    "data = er.load_data(data_folder)\n",
    "data.sort_values(by='Triage', inplace=True);\n",
    "data.reset_index(inplace=True);\n",
    "data.drop(columns='index', inplace=True);"
   ]
  },
  {
   "cell_type": "markdown",
   "metadata": {
    "slideshow": {
     "slide_type": "slide"
    }
   },
   "source": [
    "# Resource Scheduling"
   ]
  },
  {
   "cell_type": "markdown",
   "metadata": {
    "slideshow": {
     "slide_type": "subslide"
    }
   },
   "source": [
    "## Resource Scheduling\n",
    "\n",
    "**As a second problem, we will consider scheduling the ER center operations**\n",
    "\n",
    "* ER centers run with a limited resources (e.g. staff, rooms, medical equipment)\n",
    "* Choosing _when to perform the activities_ can improve the center efficiency\n",
    "\n",
    "**\"Choosing when to do something\" = scheduling**\n",
    "\n",
    "We will consider a simplified form of the ER scheduling problem\n",
    "\n",
    "* Scheduling decisions should be _revised over time_, as patients arrive\n",
    "  * ...But we will solve the problem for _one time point only_\n",
    "* Decisions are subject to _many types of constraints_\n",
    "  * ...But we will consider _a small, representative subset_\n",
    "* The activities to be performed for each patient are _not known in general_\n",
    "  * ...But we will assume _they are provided_ by some kind of predictor"
   ]
  },
  {
   "cell_type": "markdown",
   "metadata": {
    "slideshow": {
     "slide_type": "subslide"
    }
   },
   "source": [
    "## The Dataset, Again\n",
    "\n",
    "**Let's check again our dataset**"
   ]
  },
  {
   "cell_type": "code",
   "execution_count": 2,
   "metadata": {},
   "outputs": [
    {
     "data": {
      "text/html": [
       "<div>\n",
       "<style scoped>\n",
       "    .dataframe tbody tr th:only-of-type {\n",
       "        vertical-align: middle;\n",
       "    }\n",
       "\n",
       "    .dataframe tbody tr th {\n",
       "        vertical-align: top;\n",
       "    }\n",
       "\n",
       "    .dataframe thead th {\n",
       "        text-align: right;\n",
       "    }\n",
       "</style>\n",
       "<table border=\"1\" class=\"dataframe\">\n",
       "  <thead>\n",
       "    <tr style=\"text-align: right;\">\n",
       "      <th></th>\n",
       "      <th>year</th>\n",
       "      <th>ID</th>\n",
       "      <th>Triage</th>\n",
       "      <th>TkCharge</th>\n",
       "      <th>Code</th>\n",
       "      <th>Outcome</th>\n",
       "      <th>Flow</th>\n",
       "    </tr>\n",
       "  </thead>\n",
       "  <tbody>\n",
       "    <tr>\n",
       "      <th>0</th>\n",
       "      <td>2018</td>\n",
       "      <td>1</td>\n",
       "      <td>2018-01-01 00:17:33</td>\n",
       "      <td>2018-01-01 04:15:36</td>\n",
       "      <td>green</td>\n",
       "      <td>admitted</td>\n",
       "      <td>[triage,visit,RX,visit]</td>\n",
       "    </tr>\n",
       "    <tr>\n",
       "      <th>1</th>\n",
       "      <td>2018</td>\n",
       "      <td>2</td>\n",
       "      <td>2018-01-01 00:20:33</td>\n",
       "      <td>2018-01-01 03:14:19</td>\n",
       "      <td>green</td>\n",
       "      <td>admitted</td>\n",
       "      <td>[triage,visit,lab,visit]</td>\n",
       "    </tr>\n",
       "    <tr>\n",
       "      <th>2</th>\n",
       "      <td>2018</td>\n",
       "      <td>3</td>\n",
       "      <td>2018-01-01 00:47:59</td>\n",
       "      <td>2018-01-01 04:32:30</td>\n",
       "      <td>white</td>\n",
       "      <td>admitted</td>\n",
       "      <td>[triage,visit,otolaryngological visit,visit]</td>\n",
       "    </tr>\n",
       "    <tr>\n",
       "      <th>3</th>\n",
       "      <td>2018</td>\n",
       "      <td>51239</td>\n",
       "      <td>2018-01-01 00:49:51</td>\n",
       "      <td>NaT</td>\n",
       "      <td>white</td>\n",
       "      <td>abandoned</td>\n",
       "      <td>[]</td>\n",
       "    </tr>\n",
       "    <tr>\n",
       "      <th>4</th>\n",
       "      <td>2018</td>\n",
       "      <td>51241</td>\n",
       "      <td>2018-01-01 01:00:40</td>\n",
       "      <td>NaT</td>\n",
       "      <td>green</td>\n",
       "      <td>abandoned</td>\n",
       "      <td>[]</td>\n",
       "    </tr>\n",
       "  </tbody>\n",
       "</table>\n",
       "</div>"
      ],
      "text/plain": [
       "   year     ID              Triage            TkCharge   Code    Outcome  \\\n",
       "0  2018      1 2018-01-01 00:17:33 2018-01-01 04:15:36  green   admitted   \n",
       "1  2018      2 2018-01-01 00:20:33 2018-01-01 03:14:19  green   admitted   \n",
       "2  2018      3 2018-01-01 00:47:59 2018-01-01 04:32:30  white   admitted   \n",
       "3  2018  51239 2018-01-01 00:49:51                 NaT  white  abandoned   \n",
       "4  2018  51241 2018-01-01 01:00:40                 NaT  green  abandoned   \n",
       "\n",
       "                                           Flow  \n",
       "0                       [triage,visit,RX,visit]  \n",
       "1                      [triage,visit,lab,visit]  \n",
       "2  [triage,visit,otolaryngological visit,visit]  \n",
       "3                                            []  \n",
       "4                                            []  "
      ]
     },
     "execution_count": 2,
     "metadata": {},
     "output_type": "execute_result"
    }
   ],
   "source": [
    "data.head()"
   ]
  },
  {
   "cell_type": "markdown",
   "metadata": {},
   "source": [
    "* We are interested in the individual patients (so, no binning)\n",
    "\n",
    "**We cannot take into accont abandons (we do not know their activity flow)**"
   ]
  },
  {
   "cell_type": "code",
   "execution_count": 3,
   "metadata": {},
   "outputs": [],
   "source": [
    "fdata = data[~data['TkCharge'].isnull()]"
   ]
  },
  {
   "cell_type": "markdown",
   "metadata": {
    "slideshow": {
     "slide_type": "subslide"
    }
   },
   "source": [
    "## Activity Flows\n",
    "\n",
    "**Let's examine one activity flow**"
   ]
  },
  {
   "cell_type": "code",
   "execution_count": 5,
   "metadata": {},
   "outputs": [
    {
     "data": {
      "text/plain": [
       "'[triage,visit,ultrasound,lab,RX,CT scan,visit,CT scan,visit]'"
      ]
     },
     "execution_count": 5,
     "metadata": {},
     "output_type": "execute_result"
    }
   ],
   "source": [
    "fdata['Flow'].loc[6]"
   ]
  },
  {
   "cell_type": "markdown",
   "metadata": {},
   "source": [
    "* Each \"flow\" is a string, listing the (historical) sequence of activities\n",
    "* The first activity is always \"triage\", and takes place _at the arrival time_\n",
    "  - As a consequence, we do not need to schedule \"triage\" activities\n",
    "* The second and last activities are always visits\n",
    "* Activities between pairs of \"visit\" can be performed in any sequence\n",
    "  - The doctor prescribes some exams and treatments\n",
    "  - These can be be performed in any order, before another visit"
   ]
  },
  {
   "cell_type": "markdown",
   "metadata": {
    "slideshow": {
     "slide_type": "subslide"
    }
   },
   "source": [
    "## Parsing Flows\n",
    "\n",
    "**We need to convert flows into a more practical data structure**\n",
    "\n",
    "In particular, we need to make explicit the existing precedence constraints:\n",
    "\n",
    "```python\n",
    "def flow_to_levels(fstring):\n",
    "    activities = fstring[1:-1].split(',')\n",
    "    levels = [[]]\n",
    "    for a in activities:\n",
    "        if a == 'triage': pass\n",
    "        elif a == 'visit':\n",
    "            if len(levels[-1]) == 0:\n",
    "                levels[-1].append(a)\n",
    "            else:\n",
    "                levels.append([a])\n",
    "            levels.append([])\n",
    "        else:\n",
    "            levels[-1].append(a)\n",
    "    return levels[:-1]\n",
    "```"
   ]
  },
  {
   "cell_type": "markdown",
   "metadata": {
    "slideshow": {
     "slide_type": "subslide"
    }
   },
   "source": [
    "## Parsing Flows\n",
    "\n",
    "**First, we extract the activity names**\n",
    "\n",
    "```python\n",
    "def flow_to_levels(fstring):\n",
    "    activities = fstring[1:-1].split(',')\n",
    "    ...\n",
    "```\n",
    "\n",
    "**Then we loop over all the activities**\n",
    "\n",
    "```python\n",
    "def flow_to_levels(fstring):\n",
    "    ...\n",
    "    for a in activities:\n",
    "        if a == 'triage': pass\n",
    "        ....\n",
    "```\n",
    "\n",
    "* We do not process the \"triage\" activity\n",
    "* ...Since when scheduling occurs it has already been performed"
   ]
  },
  {
   "cell_type": "markdown",
   "metadata": {
    "slideshow": {
     "slide_type": "subslide"
    }
   },
   "source": [
    "## Parsing Flows\n",
    "\n",
    "**We parse each flow into a layered structure**\n",
    "\n",
    "* Each layer (or level) contains activities that can be performed in any order\n",
    "* Activities in contiguous levels are connected by precedence constraints\n",
    "\n",
    "```python\n",
    "def flow_to_levels(fstring):\n",
    "    ...\n",
    "    for a in activities:\n",
    "        ...\n",
    "        elif a == 'visit':\n",
    "            ...\n",
    "        else:\n",
    "            ...\n",
    "```\n",
    "\n",
    "* Therefore, \"visit\" activities are have their own level\n",
    "* ...And require some special treatment"
   ]
  },
  {
   "cell_type": "markdown",
   "metadata": {
    "slideshow": {
     "slide_type": "subslide"
    }
   },
   "source": [
    "## Parsing Flows\n",
    "\n",
    "**When we encounter a \"visit\" activity:**\n",
    "\n",
    "```python\n",
    "def flow_to_levels(fstring):\n",
    "    ...\n",
    "    for a in activities:\n",
    "        ...\n",
    "        elif a == 'visit':\n",
    "            if len(levels[-1]) == 0:\n",
    "                levels[-1].append(a)\n",
    "            else:\n",
    "                levels.append([a])\n",
    "            levels.append([])\n",
    "        ...\n",
    "```\n",
    "\n",
    "* If the previous level is empty, we apppend the visit\n",
    "* If the previous level is not empty, we append a new level with the visit\n",
    "* In all cases, we prepare a new empty level"
   ]
  },
  {
   "cell_type": "markdown",
   "metadata": {
    "slideshow": {
     "slide_type": "subslide"
    }
   },
   "source": [
    "## Parsing Flows\n",
    "\n",
    "**When we encounter any other activity we store it in the last level**\n",
    "\n",
    "```python\n",
    "def flow_to_levels(fstring):\n",
    "    ...\n",
    "    for a in activities:\n",
    "        ...\n",
    "        else:\n",
    "            levels[-1].append(a)\n",
    "```\n",
    "\n",
    "**Add the end of the process we return all layers except the last**\n",
    "\n",
    "```python\n",
    "def flow_to_levels(fstring):\n",
    "    ...\n",
    "    return levels[:-1]\n",
    "```\n",
    "\n",
    "* The last level is always empty by construction"
   ]
  },
  {
   "cell_type": "markdown",
   "metadata": {
    "slideshow": {
     "slide_type": "subslide"
    }
   },
   "source": [
    "## Parsing Flows\n",
    "\n",
    "**Let's parse a handful of flows and see the results**"
   ]
  },
  {
   "cell_type": "code",
   "execution_count": 8,
   "metadata": {},
   "outputs": [
    {
     "data": {
      "text/plain": [
       "[['visit'],\n",
       " ['ultrasound', 'lab', 'RX', 'CT scan'],\n",
       " ['visit'],\n",
       " ['CT scan'],\n",
       " ['visit']]"
      ]
     },
     "execution_count": 8,
     "metadata": {},
     "output_type": "execute_result"
    }
   ],
   "source": [
    "npatients = 4\n",
    "levels, codes_by_idx = {}, {}\n",
    "for idx in fdata.index[:npatients]:\n",
    "    levels[idx] = er.flow_to_levels(fdata.loc[idx]['Flow'])\n",
    "    codes_by_idx[idx] = fdata.loc[idx]['Code']\n",
    "\n",
    "levels[6]"
   ]
  },
  {
   "cell_type": "markdown",
   "metadata": {},
   "source": [
    "* Patients are identified by their index in the original `DataFrame`\n",
    "* We also store the code for each patient"
   ]
  },
  {
   "cell_type": "markdown",
   "metadata": {
    "slideshow": {
     "slide_type": "subslide"
    }
   },
   "source": [
    "## Scheduling via CP/SAT\n",
    "\n",
    "**The current state-of-the-art for scheduling is Constraint Programming**\n",
    "\n",
    "...Or to be more precise a hybrid of CP and SMT called [Lazy Clause Generation](https://people.eng.unimelb.edu.au/pstuckey/COMP90046/resources/lazyj.pdf)\n",
    "\n",
    "* LCG relies on a SAT engine for DPLL search and conflict extraction\n",
    "* Some constraints are encoded directly into SAT formulas\n",
    "* Other constraints have an attached propagator, CP-style\n",
    "* The propagator can however also _explain failures_\n",
    "  - I.e. provide a logical implication in case of failure\n",
    "* Such explanations are used to build the implication graph\n",
    "\n",
    "Overall, we have the versatility of CP, but much more reliable performance"
   ]
  },
  {
   "cell_type": "markdown",
   "metadata": {
    "slideshow": {
     "slide_type": "subslide"
    }
   },
   "source": [
    "## Determining the Horizon\n",
    "\n",
    "**CP solvers (almost) always work with _finite domain variables_**\n",
    "\n",
    "Before building any variable we need to determine a _horizon_ for our schedule\n",
    "\n",
    "* The horizon must be larger than any possible schedule\n",
    "* A frequent choice: summing all activity durations\n",
    "\n",
    "**Indvidual durations can be obtained using this function**\n",
    "\n",
    "```python\n",
    "def get_dur(ttype):\n",
    "    durs = {'visit': 1, 'ultrasound': 2, 'RX': 2}\n",
    "    return durs[ttype] if ttype in durs else 4\n",
    "```\n",
    "\n",
    "* Our time unit will be 15 minutes\n",
    "* We assume that a visit takes 1 unit\n",
    "* A simple RX or ultrasound exam takes 2 units\n",
    "* All other activities take 4"
   ]
  },
  {
   "cell_type": "markdown",
   "metadata": {
    "slideshow": {
     "slide_type": "subslide"
    }
   },
   "source": [
    "## Determining the Horizon\n",
    "\n",
    "**The duration for a single patient can be obtained with:**\n",
    "\n",
    "```python\n",
    "def get_level_dur(levels):\n",
    "    res = 0\n",
    "    for lvl in levels: res += sum(get_dur(a) for a in lvl)\n",
    "    return res\n",
    "```\n",
    "\n",
    "**..And finally all durations with:**\n",
    "\n",
    "```python\n",
    "def get_horizon(levels):\n",
    "    eoh = sum(get_level_dur(l) for l in levels.values())\n",
    "    return eoh\n",
    "```"
   ]
  },
  {
   "cell_type": "code",
   "execution_count": 9,
   "metadata": {},
   "outputs": [
    {
     "data": {
      "text/plain": [
       "35"
      ]
     },
     "execution_count": 9,
     "metadata": {},
     "output_type": "execute_result"
    }
   ],
   "source": [
    "eoh = er.get_horizon(levels)\n",
    "eoh"
   ]
  },
  {
   "cell_type": "markdown",
   "metadata": {
    "slideshow": {
     "slide_type": "subslide"
    }
   },
   "source": [
    "## Model and Variables\n",
    "\n",
    "**We are going to use the [Google ortools](https://developers.google.com/optimization) CP/SAT solver**\n",
    "\n",
    "* It's currently the best performing CP solver with a permissive license\n",
    "* It provides a (reasonably) convenient Python interface\n",
    "* The same suite offers also an LP solver (Glop) and wrappers for MIP solvers\n",
    "\n",
    "**As in many of these tools, the first step is building a model object**"
   ]
  },
  {
   "cell_type": "code",
   "execution_count": 10,
   "metadata": {},
   "outputs": [],
   "source": [
    "from ortools.sat.python import cp_model\n",
    "mdl = cp_model.CpModel()"
   ]
  },
  {
   "cell_type": "markdown",
   "metadata": {},
   "source": [
    "**Then, our first priority is _choosing the main decision variables_**\n",
    "\n",
    "* We will introduce a _start_ and _end_ variable for each activity\n",
    "* ...So that we can decide their location on the time axis"
   ]
  },
  {
   "cell_type": "markdown",
   "metadata": {
    "slideshow": {
     "slide_type": "subslide"
    }
   },
   "source": [
    "## Model and Variables\n",
    "\n",
    "**We build all the variables for a single patient using:**\n",
    "\n",
    "```python\n",
    "import collections\n",
    "Task = collections.namedtuple('task', 'start end interval ttype')\n",
    "\n",
    "def levels_to_vars(mdl, levels, idx, tasks, last, rl, dl):\n",
    "    for k, lvl in enumerate(levels):\n",
    "        for i, a in enumerate(lvl):\n",
    "            dur = get_dur(a)\n",
    "            start = mdl.NewIntVar(rl, dl, f's_{idx}_{k}_{i}')\n",
    "            end = mdl.NewIntVar(rl, dl, f'e_{idx}_{k}_{i}')\n",
    "            interval = mdl.NewIntervalVar(start, dur, end, f'i_{idx}_{k}_{i}')\n",
    "            tasks[(idx,k,i)] = Task(start, end, interval, a)\n",
    "    last[idx] = Task(start, end, interval, a)\n",
    "```"
   ]
  },
  {
   "cell_type": "markdown",
   "metadata": {
    "slideshow": {
     "slide_type": "subslide"
    }
   },
   "source": [
    "## Model and Variables\n",
    "\n",
    "**For each activity, we:**\n",
    "\n",
    "```python\n",
    "...\n",
    "def levels_to_vars(mdl, levels, idx, tasks, last, rl, dl):\n",
    "    for k, lvl in enumerate(levels):\n",
    "        for i, a in enumerate(lvl):\n",
    "            dur = get_dur(a)\n",
    "            start = mdl.NewIntVar(rl, dl, f's_{idx}_{k}_{i}')\n",
    "            end = mdl.NewIntVar(rl, dl, f'e_{idx}_{k}_{i}')\n",
    "            ...\n",
    "    ...\n",
    "```\n",
    "\n",
    "* Extract the duration with `get_dur`\n",
    "* Build a two integer variables, respectively for the start and end\n",
    "* Both domains range from a _release date_ (i.e. `rl`) and a _deadline_ (i.e. `dl`)"
   ]
  },
  {
   "cell_type": "markdown",
   "metadata": {
    "slideshow": {
     "slide_type": "subslide"
    }
   },
   "source": [
    "## Model and Variables\n",
    "\n",
    "**Additionally, we make use of _interval variables_**\n",
    "\n",
    "```python\n",
    "...\n",
    "def levels_to_vars(mdl, levels, idx, tasks, last, rl, dl):\n",
    "    for k, lvl in enumerate(levels):\n",
    "        for i, a in enumerate(lvl):\n",
    "            ...\n",
    "            interval = mdl.NewIntervalVar(start, dur, end, f'i_{idx}_{k}_{i}')\n",
    "    ...\n",
    "```\n",
    "\n",
    "An interval variable represents an _uninterrupted time span_\n",
    "\n",
    "* It has a start, and end, and a duration\n",
    "* All can be either existing decision variables, or fixed values\n",
    "* In our case: start and end need to be decided, but the duration is fixed\n"
   ]
  },
  {
   "cell_type": "markdown",
   "metadata": {
    "slideshow": {
     "slide_type": "subslide"
    }
   },
   "source": [
    "## Model and Variables\n",
    "\n",
    "**We store the variables in dictionaries**\n",
    "\n",
    "...And use named tuples for convenience\n",
    "\n",
    "```python\n",
    "import collections\n",
    "Task = collections.namedtuple('task', 'start end interval ttype')\n",
    "\n",
    "def levels_to_vars(mdl, levels, idx, tasks, last, rl, dl):\n",
    "    for k, lvl in enumerate(levels):\n",
    "        for i, a in enumerate(lvl):\n",
    "            ...\n",
    "            tasks[(idx,k,i)] = Task(start, end, interval, a)\n",
    "    last[idx] = Task(start, end, interval, a)\n",
    "```\n",
    "\n",
    "* The `tasks` dictionary is filled with all tasks\n",
    "* The `last` dictionary contains the last task for each patient\n"
   ]
  },
  {
   "cell_type": "markdown",
   "metadata": {
    "slideshow": {
     "slide_type": "subslide"
    }
   },
   "source": [
    "## Model and Variables\n",
    "\n",
    "**We build all problem variables with:**\n",
    "\n",
    "```python\n",
    "def add_all_vars(mdl, levels, rl, dl):\n",
    "    tasks, last = {}, {}\n",
    "    for idx, lvl in levels.items():\n",
    "        levels_to_vars(mdl, lvl, idx, tasks, last, rl[idx], dl=dl[idx])\n",
    "    return tasks, last\n",
    "```\n",
    "\n",
    "**Let's build all variables (assuming a 0 release date)**"
   ]
  },
  {
   "cell_type": "code",
   "execution_count": 12,
   "metadata": {},
   "outputs": [
    {
     "data": {
      "text/plain": [
       "{0: task(start=s_0_2_0(0..35), end=e_0_2_0(0..35), interval=i_0_2_0(start = s_0_2_0, size = 1, end = e_0_2_0), ttype='visit'),\n",
       " 1: task(start=s_1_2_0(0..35), end=e_1_2_0(0..35), interval=i_1_2_0(start = s_1_2_0, size = 1, end = e_1_2_0), ttype='visit'),\n",
       " 2: task(start=s_2_2_0(0..35), end=e_2_2_0(0..35), interval=i_2_2_0(start = s_2_2_0, size = 1, end = e_2_2_0), ttype='visit'),\n",
       " 6: task(start=s_6_4_0(0..35), end=e_6_4_0(0..35), interval=i_6_4_0(start = s_6_4_0, size = 1, end = e_6_4_0), ttype='visit')}"
      ]
     },
     "execution_count": 12,
     "metadata": {},
     "output_type": "execute_result"
    }
   ],
   "source": [
    "rl, dl = {idx:0 for idx in levels}, {idx:eoh for idx in levels}\n",
    "tasks, last = er.add_all_vars(mdl, levels, rl, dl)\n",
    "last"
   ]
  },
  {
   "cell_type": "markdown",
   "metadata": {
    "slideshow": {
     "slide_type": "subslide"
    }
   },
   "source": [
    "## A First Solution Attempt\n",
    "\n",
    "**Debugging declarative models can be difficult**\n",
    "\n",
    "* So, it's a good idea to start making some tests as soon as possible\n",
    "* For this reason, we will immediately try to solve our simple model\n",
    "\n",
    "For this, we need to call:\n",
    "\n",
    "```python\n",
    "slv = cp_model.CpSolver()\n",
    "status = slv.Solve(mdl)\n",
    "```\n",
    "\n",
    "* I.e. we build a `CpSolver` object\n",
    "* ...Then we invoke the `Solve` method\n",
    "* ...And then check the resulting status and solution\n",
    "\n",
    "Of course, at this stage the solution will not be very meaningful"
   ]
  },
  {
   "cell_type": "markdown",
   "metadata": {
    "slideshow": {
     "slide_type": "subslide"
    }
   },
   "source": [
    "## A First Solution Attempt\n",
    "\n",
    "**Let's see our first full program and the solution**\n",
    "\n",
    "Since we are still debugging, we will consider only the first two patients"
   ]
  },
  {
   "cell_type": "code",
   "execution_count": 14,
   "metadata": {},
   "outputs": [
    {
     "name": "stdout",
     "output_type": "stream",
     "text": [
      "Solver status: optimal, time(CPU sec): 0.00, objective: 0.0\n",
      "\n",
      "0(green): visit(0-1), RX(0-2), visit(0-1)\n",
      "1(green): visit(0-1), lab(0-4), visit(0-1)\n"
     ]
    }
   ],
   "source": [
    "mdl = cp_model.CpModel()\n",
    "\n",
    "levels, codes_by_idx = er.build_levels(fdata.iloc[:2])\n",
    "eoh = er.get_horizon(levels)\n",
    "rl, dl = {idx:0 for idx in levels}, {idx:eoh for idx in levels}\n",
    "tasks, last = er.add_all_vars(mdl, levels, rl, dl)\n",
    "\n",
    "slv = cp_model.CpSolver()\n",
    "status = slv.Solve(mdl)\n",
    "er.print_outcome(slv, levels, tasks, codes_by_idx, status)"
   ]
  },
  {
   "cell_type": "markdown",
   "metadata": {},
   "source": [
    "* The format is `name(start-end)`\n",
    "* The current decisions make no sense, since we are missing all constraints"
   ]
  },
  {
   "cell_type": "markdown",
   "metadata": {
    "slideshow": {
     "slide_type": "subslide"
    }
   },
   "source": [
    "## Precedence Constraints\n",
    "\n",
    "**Once the variables are fine, it's time to _deal with the constraints_**\n",
    "\n",
    "We will start from the precedence constraints:\n",
    "\n",
    "```python\n",
    "def add_precedences(mdl, levels, idx, tasks):\n",
    "    for k, lvl in enumerate(levels[:-1]): # levels for a patient\n",
    "        for i, _ in enumerate(lvl): # activities\n",
    "            for j, _ in enumerate(levels[k+1]): # activities in next layer\n",
    "                mdl.Add(tasks[idx,k,i].end <= tasks[idx,k+1,j].start)\n",
    "```\n",
    "\n",
    "* Each constraint is a simple inequality, i.e.: ${\\rm end}_{idx,k,i} \\leq {\\rm start}_{idx,k,i}$\n",
    "\n",
    "**We add all constraints with:**\n",
    "\n",
    "```python\n",
    "def add_all_precedences(mdl, levels, tasks):\n",
    "    for idx, lvl in levels.items():\n",
    "        add_precedences(mdl, lvl, idx, tasks)\n",
    "```"
   ]
  },
  {
   "cell_type": "markdown",
   "metadata": {
    "slideshow": {
     "slide_type": "subslide"
    }
   },
   "source": [
    "## Testing the Precedence Constraints\n",
    "\n",
    "**Let's test the effect of adding precedence constraints**"
   ]
  },
  {
   "cell_type": "code",
   "execution_count": 15,
   "metadata": {},
   "outputs": [
    {
     "name": "stdout",
     "output_type": "stream",
     "text": [
      "Solver status: optimal, time(CPU sec): 0.00, objective: 0.0\n",
      "\n",
      "0(green): visit(0-1), RX(1-3), visit(9-10)\n",
      "1(green): visit(0-1), lab(1-5), visit(9-10)\n"
     ]
    }
   ],
   "source": [
    "mdl = cp_model.CpModel()\n",
    "\n",
    "levels, codes_by_idx = er.build_levels(fdata.iloc[:2])\n",
    "eoh = er.get_horizon(levels)\n",
    "rl, dl = {idx:0 for idx in levels}, {idx:eoh for idx in levels}\n",
    "tasks, last = er.add_all_vars(mdl, levels, rl, dl)\n",
    "er.add_all_precedences(mdl, levels, tasks)\n",
    "\n",
    "slv = cp_model.CpSolver()\n",
    "status = slv.Solve(mdl)\n",
    "er.print_outcome(slv, levels, tasks, codes_by_idx, status)"
   ]
  },
  {
   "cell_type": "markdown",
   "metadata": {
    "slideshow": {
     "slide_type": "fragment"
    }
   },
   "source": [
    "* Precedence relations are respected, bu the start times are unnecessarily large\n",
    "* ...That's because we haven't told the model that early scheduling is a good idea"
   ]
  },
  {
   "cell_type": "markdown",
   "metadata": {
    "slideshow": {
     "slide_type": "subslide"
    }
   },
   "source": [
    "## Cost Function\n",
    "\n",
    "**For now, we will use the schedule _makespan_ as a cost function**\n",
    "\n",
    "The makespan is simply _the end time of the last task_ in the schedule\n",
    "\n",
    "```python\n",
    "def add_makespan_variables(mdl, levels, codes_by_idx, last, eoh):\n",
    "    codes = ['red', 'yellow', 'green', 'white']\n",
    "    last_by_code = {c: [] for c in codes}\n",
    "    for idx in levels.keys():\n",
    "        last_by_code[codes_by_idx[idx]].append(last[idx])\n",
    "\n",
    "    obj_by_code = {}   \n",
    "    for code in codes:\n",
    "        obj_by_code[code] = mdl.NewIntVar(0, eoh, f'{code}_mk')\n",
    "        if len(last_by_code[code]) > 0:\n",
    "            mdl.AddMaxEquality(obj_by_code[code], [t.end for t in last_by_code[code]])\n",
    "    obj_by_code['all'] = mdl.NewIntVar(0, eoh, f'global_mk')\n",
    "    mdl.AddMaxEquality(obj_by_code['all'], [obj_by_code[c] for c in codes])\n",
    "    return obj_by_code\n",
    "```"
   ]
  },
  {
   "cell_type": "markdown",
   "metadata": {
    "slideshow": {
     "slide_type": "subslide"
    }
   },
   "source": [
    "## Cost Function\n",
    "\n",
    "**First, we group by code the end variables of all tasks**\n",
    "\n",
    "```python\n",
    "def add_makespan_variables(mdl, levels, codes_by_idx, last, eoh):\n",
    "    codes = ['red', 'yellow', 'green', 'white']\n",
    "    last_by_code = {c: [] for c in codes}\n",
    "    for idx in levels.keys():\n",
    "        last_by_code[codes_by_idx[idx]].append(last[idx])\n",
    "    ...\n",
    "```\n",
    "\n",
    "**Then, we introduce makespan variables for each group, and a global one**\n",
    "\n",
    "```python\n",
    "def add_makespan_variables(mdl, levels, codes_by_idx, last, eoh):\n",
    "    ...\n",
    "    obj_by_code = {}   \n",
    "    for code in codes:\n",
    "        obj_by_code[code] = mdl.NewIntVar(0, eoh, f'{code}_mk')\n",
    "        ...\n",
    "    obj_by_code['all'] = mdl.NewIntVar(0, eoh, f'global_mk')\n",
    "    ...\n",
    "```"
   ]
  },
  {
   "cell_type": "markdown",
   "metadata": {
    "slideshow": {
     "slide_type": "subslide"
    }
   },
   "source": [
    "## Cost Function\n",
    "\n",
    "**Finally, we constrain the makespan variables**\n",
    "\n",
    "```python\n",
    "def add_makespan_variables(mdl, levels, codes_by_idx, last, eoh):\n",
    "    ...\n",
    "    for code in codes:\n",
    "        ...\n",
    "        if len(last_by_code[code]) > 0:\n",
    "            mdl.AddMaxEquality(obj_by_code[code], [t.end for t in last_by_code[code]])\n",
    "    ...\n",
    "    mdl.AddMaxEquality(obj_by_code['all'], [obj_by_code[c] for c in codes])\n",
    "```"
   ]
  },
  {
   "cell_type": "markdown",
   "metadata": {},
   "source": [
    "* The group makespans are simply maxima of end variables\n",
    "* Due to precedence contraints, only the last tasks can determine the makespan\n",
    "  - This trick reduces a bit the size of the constraints itself\n",
    "* The global makespa is the largest of the group makespans"
   ]
  },
  {
   "cell_type": "markdown",
   "metadata": {
    "slideshow": {
     "slide_type": "subslide"
    }
   },
   "source": [
    "## Testing the Cost Function\n",
    "\n",
    "**Time to test the cost function**"
   ]
  },
  {
   "cell_type": "code",
   "execution_count": 17,
   "metadata": {},
   "outputs": [
    {
     "name": "stdout",
     "output_type": "stream",
     "text": [
      "Solver status: optimal, time(CPU sec): 0.00, objective: 6.0\n",
      "\n",
      "0(green): visit(0-1), RX(1-3), visit(3-4)\n",
      "1(green): visit(0-1), lab(1-5), visit(5-6)\n"
     ]
    }
   ],
   "source": [
    "mdl = cp_model.CpModel()\n",
    "\n",
    "levels, codes_by_idx = er.build_levels(fdata.iloc[:2])\n",
    "eoh = er.get_horizon(levels)\n",
    "rl, dl = {idx:0 for idx in levels}, {idx:eoh for idx in levels}\n",
    "tasks, last = er.add_all_vars(mdl, levels, rl, dl)\n",
    "er.add_all_precedences(mdl, levels, tasks)\n",
    "mkspans = er.add_makespan_variables(mdl, levels, codes_by_idx, last, eoh)\n",
    "mdl.Minimize(mkspans['all'])\n",
    "\n",
    "slv = cp_model.CpSolver()\n",
    "status = slv.Solve(mdl)\n",
    "er.print_outcome(slv, levels, tasks, codes_by_idx, status)"
   ]
  },
  {
   "cell_type": "markdown",
   "metadata": {},
   "source": [
    "* Much better! However, some visits occurs at the same time\n",
    "* This is not a problem, as long as _the overall room capacity is not exceeded_"
   ]
  },
  {
   "cell_type": "markdown",
   "metadata": {
    "slideshow": {
     "slide_type": "subslide"
    }
   },
   "source": [
    "## Capacity Constraints\n",
    "\n",
    "**Capacity restrictions over time can be handled via two constraints**\n",
    "\n",
    "The _no-overlap constraint_ enforces a unary capacity\n",
    "\n",
    "* Tasks subject to the constraint cannot overlap in time\n",
    "\n",
    "The _cumulative constraint_ enforces a non-unary capacity\n",
    "\n",
    "* Each task is assumed to have a finite _demand_ for some resource capacity\n",
    "* Overlaps are possible, as long as capacity is not exceeded\n",
    "\n",
    "**We will asumme that a few resources have limited capacity**\n",
    "\n",
    "* No more than: 3 visits, 2 ultrasounds, 2 RX at a time"
   ]
  },
  {
   "cell_type": "code",
   "execution_count": 18,
   "metadata": {},
   "outputs": [],
   "source": [
    "capacities = {'visit': 3, 'ultrasound': 2, 'RX': 2}"
   ]
  },
  {
   "cell_type": "markdown",
   "metadata": {},
   "source": [
    "* When debugging we will need to lower the capacities to observe changes"
   ]
  },
  {
   "cell_type": "markdown",
   "metadata": {
    "slideshow": {
     "slide_type": "subslide"
    }
   },
   "source": [
    "## Capacity Constraints\n",
    "\n",
    "**We build the cumulative constraints using:**\n",
    "\n",
    "```python\n",
    "def add_cumulatives(mdl, tasks, capacities):\n",
    "    res_intervals = {r: [] for r in capacities.keys()}\n",
    "    for task in tasks.values():\n",
    "        if task.ttype in capacities.keys():\n",
    "            res_intervals[task.ttype].append(task.interval)\n",
    "\n",
    "    for rtype, cap in capacities.items():\n",
    "        intervals = res_intervals[rtype]\n",
    "        mdl.AddCumulative(intervals, [1]*len(intervals), cap)\n",
    "```\n",
    "\n",
    "* First we collect all tasks that use of one the limited capacity resources\n",
    "  - In particular, we retrieve their _interval_ variables\n",
    "* Then, we post a cumulative constraint for each resource\n",
    "  - The `[1]*len(intervals)` list corresponds to the task demands"
   ]
  },
  {
   "cell_type": "markdown",
   "metadata": {
    "slideshow": {
     "slide_type": "subslide"
    }
   },
   "source": [
    "## Testing the Resource Constraints\n",
    "\n",
    "**Let's test the resource constraints (lowering the visit capacity to 1)**"
   ]
  },
  {
   "cell_type": "code",
   "execution_count": 19,
   "metadata": {},
   "outputs": [
    {
     "name": "stdout",
     "output_type": "stream",
     "text": [
      "Solver status: optimal, time(CPU sec): 0.00, objective: 6.0\n",
      "\n",
      "1(green): visit(0-1), lab(1-5), visit(5-6)\n",
      "0(green): visit(1-2), RX(2-4), visit(4-5)\n"
     ]
    }
   ],
   "source": [
    "mdl = cp_model.CpModel()\n",
    "\n",
    "levels, codes_by_idx = er.build_levels(fdata.iloc[:2])\n",
    "eoh = er.get_horizon(levels)\n",
    "rl, dl = {idx:0 for idx in levels}, {idx:eoh for idx in levels}\n",
    "tasks, last = er.add_all_vars(mdl, levels, rl, dl)\n",
    "er.add_all_precedences(mdl, levels, tasks)\n",
    "er.add_cumulatives(mdl, tasks, {'visit': 1, 'ultrasound': 2, 'RX': 2})\n",
    "mkspans = er.add_makespan_variables(mdl, levels, codes_by_idx, last, eoh)\n",
    "mdl.Minimize(mkspans['all'])\n",
    "\n",
    "slv = cp_model.CpSolver()\n",
    "status = slv.Solve(mdl)\n",
    "er.print_outcome(slv, levels, tasks, codes_by_idx, status)"
   ]
  },
  {
   "cell_type": "markdown",
   "metadata": {
    "slideshow": {
     "slide_type": "fragment"
    }
   },
   "source": [
    "* Everything seems fine on this small example\n",
    "* ...But we are still missing an obvious constraint"
   ]
  },
  {
   "cell_type": "markdown",
   "metadata": {
    "slideshow": {
     "slide_type": "subslide"
    }
   },
   "source": [
    "## Testing the Resource Constraints\n",
    "\n",
    "**Let's include a different set of patients**"
   ]
  },
  {
   "cell_type": "code",
   "execution_count": 20,
   "metadata": {},
   "outputs": [
    {
     "name": "stdout",
     "output_type": "stream",
     "text": [
      "Solver status: optimal, time(CPU sec): 0.00, objective: 11.0\n",
      "\n",
      "6(green): visit(0-1), ultrasound(1-3), lab(1-5), RX(1-3), CT scan(1-5), visit(5-6), CT scan(6-10), visit(10-11)\n",
      "2(white): visit(1-2), otolaryngological visit(2-6), visit(6-7)\n"
     ]
    }
   ],
   "source": [
    "mdl = cp_model.CpModel()\n",
    "levels, codes_by_idx = er.build_levels(fdata.iloc[2:4])\n",
    "eoh = er.get_horizon(levels)\n",
    "rl, dl = {idx:0 for idx in levels}, {idx:eoh for idx in levels}\n",
    "tasks, last = er.add_all_vars(mdl, levels, rl, dl)\n",
    "er.add_all_precedences(mdl, levels, tasks)\n",
    "er.add_cumulatives(mdl, tasks, {'visit': 1, 'ultrasound': 2, 'RX': 2})\n",
    "mkspans = er.add_makespan_variables(mdl, levels, codes_by_idx, last, eoh)\n",
    "mdl.Minimize(mkspans['all'])\n",
    "slv = cp_model.CpSolver()\n",
    "status = slv.Solve(mdl)\n",
    "er.print_outcome(slv, levels, tasks, codes_by_idx, status)"
   ]
  },
  {
   "cell_type": "markdown",
   "metadata": {
    "slideshow": {
     "slide_type": "fragment"
    }
   },
   "source": [
    "* A sigle patient cannot undergo multiple treatments at the same time"
   ]
  },
  {
   "cell_type": "markdown",
   "metadata": {
    "slideshow": {
     "slide_type": "subslide"
    }
   },
   "source": [
    "## No-Overlap Constraints\n",
    "\n",
    "**We can view each patient as a _unary resource_ (i.e. with unary capacity)**\n",
    "\n",
    "We can therefore handle the restriction via a no-overlap constraint:\n",
    "\n",
    "```python\n",
    "def add_no_overlap(mdl, levels, idx, tasks):\n",
    "    intervals = []\n",
    "    for k, lvl in enumerate(levels):\n",
    "        for i, _ in enumerate(lvl):\n",
    "            intervals.append(tasks[idx, k, i].interval)\n",
    "    mdl.AddNoOverlap(intervals)\n",
    "```\n",
    "\n",
    "* The no-overlap constraint works with interval variables\n",
    "\n",
    "**To post all the constraints we use:**\n",
    "\n",
    "```python\n",
    "def add_all_no_overlap(mdl, levels, tasks):\n",
    "    for idx, lvl in levels.items():\n",
    "        add_no_overlap(mdl, lvl, idx, tasks)\n",
    "```"
   ]
  },
  {
   "cell_type": "markdown",
   "metadata": {
    "slideshow": {
     "slide_type": "subslide"
    }
   },
   "source": [
    "## Testing the No-Overlap Constraints\n",
    "\n",
    "**We can now test the new constraints**"
   ]
  },
  {
   "cell_type": "code",
   "execution_count": 21,
   "metadata": {},
   "outputs": [
    {
     "name": "stdout",
     "output_type": "stream",
     "text": [
      "Solver status: optimal, time(CPU sec): 0.01, objective: 19.0\n",
      "\n",
      "6(green): visit(0-1), ultrasound(1-3), RX(3-5), lab(5-9), CT scan(9-13), visit(13-14), CT scan(14-18), visit(18-19)\n",
      "2(white): visit(1-2), otolaryngological visit(2-6), visit(6-7)\n"
     ]
    }
   ],
   "source": [
    "mdl = cp_model.CpModel()\n",
    "levels, codes_by_idx = er.build_levels(fdata.iloc[2:4])\n",
    "eoh = er.get_horizon(levels)\n",
    "rl, dl = {idx:0 for idx in levels}, {idx:eoh for idx in levels}\n",
    "tasks, last = er.add_all_vars(mdl, levels, rl, dl)\n",
    "er.add_all_precedences(mdl, levels, tasks)\n",
    "er.add_cumulatives(mdl, tasks, {'visit': 1, 'ultrasound': 2, 'RX': 2})\n",
    "er.add_all_no_overlap(mdl, levels, tasks)\n",
    "mkspans = er.add_makespan_variables(mdl, levels, codes_by_idx, last, eoh)\n",
    "mdl.Minimize(mkspans['all'])\n",
    "slv = cp_model.CpSolver()\n",
    "status = slv.Solve(mdl)\n",
    "er.print_outcome(slv, levels, tasks, codes_by_idx, status)"
   ]
  },
  {
   "cell_type": "markdown",
   "metadata": {
    "slideshow": {
     "slide_type": "subslide"
    }
   },
   "source": [
    "## Scaling Up\n",
    "\n",
    "**Let's scale up the problem and see how far we can go**\n",
    "\n",
    "First, we wrap the code for solving the problem in a function"
   ]
  },
  {
   "cell_type": "code",
   "execution_count": 22,
   "metadata": {},
   "outputs": [],
   "source": [
    "def solve_basic_problem(npatients, verbose=0):\n",
    "    mdl = cp_model.CpModel()\n",
    "    levels, codes_by_idx = er.build_levels(fdata.iloc[:npatients])\n",
    "    eoh = er.get_horizon(levels)\n",
    "    rl, dl = {idx:0 for idx in levels}, {idx:eoh for idx in levels}\n",
    "    tasks, last = er.add_all_vars(mdl, levels, rl, dl)\n",
    "    er.add_all_precedences(mdl, levels, tasks)\n",
    "    er.add_cumulatives(mdl, tasks, {'visit': 3, 'ultrasound': 2, 'RX': 2})\n",
    "    er.add_all_no_overlap(mdl, levels, tasks)\n",
    "    mkspans = er.add_makespan_variables(mdl, levels, codes_by_idx, last, eoh)\n",
    "    mdl.Minimize(mkspans['all'])\n",
    "    slv = cp_model.CpSolver()\n",
    "    slv.parameters.max_time_in_seconds = 10\n",
    "    status = slv.Solve(mdl)\n",
    "    return status, slv.UserTime()"
   ]
  },
  {
   "cell_type": "markdown",
   "metadata": {
    "slideshow": {
     "slide_type": "subslide"
    }
   },
   "source": [
    "## Scaling Up\n",
    "\n",
    "**Then we can run a simple scalability evaluation**"
   ]
  },
  {
   "cell_type": "code",
   "execution_count": 23,
   "metadata": {},
   "outputs": [
    {
     "data": {
      "application/vnd.jupyter.widget-view+json": {
       "model_id": "bfd65ea48abb46b58eb11f78085f2949",
       "version_major": 2,
       "version_minor": 0
      },
      "text/html": [
       "\n",
       "            <div style=\"display: inline-block;\">\n",
       "                <div class=\"jupyter-widgets widget-label\" style=\"text-align: center;\">\n",
       "                    Figure\n",
       "                </div>\n",
       "                <img src='data:image/png;base64,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' width=900.0/>\n",
       "            </div>\n",
       "        "
      ],
      "text/plain": [
       "Canvas(toolbar=Toolbar(toolitems=[('Home', 'Reset original view', 'home', 'home'), ('Back', 'Back to previous …"
      ]
     },
     "metadata": {},
     "output_type": "display_data"
    }
   ],
   "source": [
    "tlist, plist = [], range(10, 34, 2)\n",
    "for npt in plist:\n",
    "    s, t = solve_basic_problem(npt)\n",
    "    tlist.append(t)\n",
    "er.plot_scalability_evalulation(plist, np.log10(tlist), figsize=figsize)"
   ]
  },
  {
   "cell_type": "markdown",
   "metadata": {
    "slideshow": {
     "slide_type": "subslide"
    }
   },
   "source": [
    "## Considerations\n",
    "\n",
    "**The world is not made of pure ML problems**\n",
    "\n",
    "* For heavily constrained problems with a well understood structure\n",
    "* ...Combinatorial optimization approaches can be a much better choice\n",
    "\n",
    "**About the scary \"intractable\" thing**\n",
    "\n",
    "* Yes, many practical combinatorial optimization problems are NP-hard, but\n",
    "* ...All that matters is if you can solve _your problem size_\n",
    "* ...High quality solutions can be obtained _way before_ optimality is proven\n",
    "\n",
    "**This is not only about Emergency Rooms**\n",
    "\n",
    "* Most production scheduling problems have more or less the same structure\n",
    "* They are ubiquitous (in manufacturing) and often solved with poor approaches"
   ]
  }
 ],
 "metadata": {
  "celltoolbar": "Slideshow",
  "kernelspec": {
   "display_name": "Python 3",
   "language": "python",
   "name": "python3"
  },
  "language_info": {
   "codemirror_mode": {
    "name": "ipython",
    "version": 3
   },
   "file_extension": ".py",
   "mimetype": "text/x-python",
   "name": "python",
   "nbconvert_exporter": "python",
   "pygments_lexer": "ipython3",
   "version": "3.6.9"
  },
  "rise": {
   "center": false,
   "transition": "fade"
  }
 },
 "nbformat": 4,
 "nbformat_minor": 4
}
